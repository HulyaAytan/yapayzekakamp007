{
 "cells": [
  {
   "cell_type": "code",
   "execution_count": 3,
   "id": "1c1b13ed",
   "metadata": {},
   "outputs": [
    {
     "name": "stdout",
     "output_type": "stream",
     "text": [
      "Requirement already satisfied: snscrape in c:\\users\\t\\anaconda3\\lib\\site-packages (0.4.3.20220106)\n",
      "Requirement already satisfied: lxml in c:\\users\\t\\anaconda3\\lib\\site-packages (from snscrape) (4.8.0)\n",
      "Requirement already satisfied: beautifulsoup4 in c:\\users\\t\\anaconda3\\lib\\site-packages (from snscrape) (4.11.1)\n",
      "Requirement already satisfied: requests[socks] in c:\\users\\t\\anaconda3\\lib\\site-packages (from snscrape) (2.27.1)\n",
      "Requirement already satisfied: filelock in c:\\users\\t\\anaconda3\\lib\\site-packages (from snscrape) (3.6.0)\n",
      "Requirement already satisfied: soupsieve>1.2 in c:\\users\\t\\anaconda3\\lib\\site-packages (from beautifulsoup4->snscrape) (2.3.1)\n",
      "Requirement already satisfied: urllib3<1.27,>=1.21.1 in c:\\users\\t\\anaconda3\\lib\\site-packages (from requests[socks]->snscrape) (1.26.9)\n",
      "Requirement already satisfied: certifi>=2017.4.17 in c:\\users\\t\\anaconda3\\lib\\site-packages (from requests[socks]->snscrape) (2021.10.8)\n",
      "Requirement already satisfied: idna<4,>=2.5 in c:\\users\\t\\anaconda3\\lib\\site-packages (from requests[socks]->snscrape) (3.3)\n",
      "Requirement already satisfied: charset-normalizer~=2.0.0 in c:\\users\\t\\anaconda3\\lib\\site-packages (from requests[socks]->snscrape) (2.0.4)\n",
      "Requirement already satisfied: PySocks!=1.5.7,>=1.5.6 in c:\\users\\t\\anaconda3\\lib\\site-packages (from requests[socks]->snscrape) (1.7.1)\n",
      "Note: you may need to restart the kernel to use updated packages.\n"
     ]
    }
   ],
   "source": [
    "pip install snscrape"
   ]
  },
  {
   "cell_type": "code",
   "execution_count": 4,
   "id": "8d5e27a1",
   "metadata": {},
   "outputs": [],
   "source": [
    "import snscrape.modules.twitter as sntwitter #twittern yerine istediğimiz platformu koyabiliriz "
   ]
  },
  {
   "cell_type": "code",
   "execution_count": 5,
   "id": "f75a824e",
   "metadata": {},
   "outputs": [],
   "source": [
    "import pandas as pd"
   ]
  },
  {
   "cell_type": "code",
   "execution_count": 7,
   "id": "ed16aaa4",
   "metadata": {},
   "outputs": [
    {
     "name": "stderr",
     "output_type": "stream",
     "text": [
      "C:\\Users\\T\\AppData\\Local\\Temp\\ipykernel_10996\\343223117.py:6: FutureWarning: username is deprecated, use user.username instead\n",
      "  tweets.append([tweet.date,tweet.id,tweet.content,tweet.username])\n"
     ]
    }
   ],
   "source": [
    "tweets=[]\n",
    "\n",
    "for i,tweet in enumerate (sntwitter.TwitterSearchScraper('from:elonmusk').get_items()):\n",
    "    if i>1000: #kaçtane tweet çekmek istiyorsak\n",
    "        break\n",
    "    tweets.append([tweet.date,tweet.id,tweet.content,tweet.username])"
   ]
  },
  {
   "cell_type": "code",
   "execution_count": 8,
   "id": "cb2598d0",
   "metadata": {},
   "outputs": [],
   "source": [
    "df=pd.DataFrame(tweets,columns=[\"date\",\"Tweet_id\",\"Text\",'Username'])"
   ]
  },
  {
   "cell_type": "code",
   "execution_count": 9,
   "id": "0200185c",
   "metadata": {},
   "outputs": [
    {
     "data": {
      "text/html": [
       "<div>\n",
       "<style scoped>\n",
       "    .dataframe tbody tr th:only-of-type {\n",
       "        vertical-align: middle;\n",
       "    }\n",
       "\n",
       "    .dataframe tbody tr th {\n",
       "        vertical-align: top;\n",
       "    }\n",
       "\n",
       "    .dataframe thead th {\n",
       "        text-align: right;\n",
       "    }\n",
       "</style>\n",
       "<table border=\"1\" class=\"dataframe\">\n",
       "  <thead>\n",
       "    <tr style=\"text-align: right;\">\n",
       "      <th></th>\n",
       "      <th>date</th>\n",
       "      <th>Tweet_id</th>\n",
       "      <th>Text</th>\n",
       "      <th>Username</th>\n",
       "    </tr>\n",
       "  </thead>\n",
       "  <tbody>\n",
       "    <tr>\n",
       "      <th>0</th>\n",
       "      <td>2022-11-12 07:47:20+00:00</td>\n",
       "      <td>1591336830389067778</td>\n",
       "      <td>@WholeMarsBlog FSD V11 rolled out at 11:11pm P...</td>\n",
       "      <td>elonmusk</td>\n",
       "    </tr>\n",
       "    <tr>\n",
       "      <th>1</th>\n",
       "      <td>2022-11-12 07:36:39+00:00</td>\n",
       "      <td>1591334141140045824</td>\n",
       "      <td>🪦🤖</td>\n",
       "      <td>elonmusk</td>\n",
       "    </tr>\n",
       "    <tr>\n",
       "      <th>2</th>\n",
       "      <td>2022-11-12 07:04:19+00:00</td>\n",
       "      <td>1591326005272141826</td>\n",
       "      <td>Twitter is</td>\n",
       "      <td>elonmusk</td>\n",
       "    </tr>\n",
       "    <tr>\n",
       "      <th>3</th>\n",
       "      <td>2022-11-12 06:55:42+00:00</td>\n",
       "      <td>1591323837077278721</td>\n",
       "      <td>@KimDotcom @sama Not sure I have much to add</td>\n",
       "      <td>elonmusk</td>\n",
       "    </tr>\n",
       "    <tr>\n",
       "      <th>4</th>\n",
       "      <td>2022-11-12 06:47:53+00:00</td>\n",
       "      <td>1591321867029094400</td>\n",
       "      <td>@sama https://t.co/Im1hBlUihz</td>\n",
       "      <td>elonmusk</td>\n",
       "    </tr>\n",
       "  </tbody>\n",
       "</table>\n",
       "</div>"
      ],
      "text/plain": [
       "                       date             Tweet_id  \\\n",
       "0 2022-11-12 07:47:20+00:00  1591336830389067778   \n",
       "1 2022-11-12 07:36:39+00:00  1591334141140045824   \n",
       "2 2022-11-12 07:04:19+00:00  1591326005272141826   \n",
       "3 2022-11-12 06:55:42+00:00  1591323837077278721   \n",
       "4 2022-11-12 06:47:53+00:00  1591321867029094400   \n",
       "\n",
       "                                                Text  Username  \n",
       "0  @WholeMarsBlog FSD V11 rolled out at 11:11pm P...  elonmusk  \n",
       "1                                                 🪦🤖  elonmusk  \n",
       "2                                         Twitter is  elonmusk  \n",
       "3       @KimDotcom @sama Not sure I have much to add  elonmusk  \n",
       "4                      @sama https://t.co/Im1hBlUihz  elonmusk  "
      ]
     },
     "execution_count": 9,
     "metadata": {},
     "output_type": "execute_result"
    }
   ],
   "source": [
    "df.head()"
   ]
  },
  {
   "cell_type": "code",
   "execution_count": 11,
   "id": "e06e76e5",
   "metadata": {},
   "outputs": [
    {
     "data": {
      "text/plain": [
       "'Twitter is'"
      ]
     },
     "execution_count": 11,
     "metadata": {},
     "output_type": "execute_result"
    }
   ],
   "source": [
    "df.Text[2]"
   ]
  },
  {
   "cell_type": "code",
   "execution_count": 18,
   "id": "e4456443",
   "metadata": {},
   "outputs": [
    {
     "name": "stderr",
     "output_type": "stream",
     "text": [
      "C:\\Users\\T\\AppData\\Local\\Temp\\ipykernel_10996\\1409733210.py:6: FutureWarning: username is deprecated, use user.username instead\n",
      "  tweets2.append([tweet.date,tweet.id,tweet.content,tweet.username])\n"
     ]
    }
   ],
   "source": [
    "tweets2=[]\n",
    "\n",
    "for i,tweet in enumerate (sntwitter.TwitterSearchScraper('togg').get_items()):\n",
    "    if i>1000: #kaçtane tweet çekmek istiyorsak\n",
    "        break\n",
    "    tweets2.append([tweet.date,tweet.id,tweet.content,tweet.username])"
   ]
  },
  {
   "cell_type": "code",
   "execution_count": 19,
   "id": "60fadab7",
   "metadata": {},
   "outputs": [],
   "source": [
    "df2=pd.DataFrame(tweets2,columns=[\"date\",\"Tweet_id\",\"Text\",'Username'])"
   ]
  },
  {
   "cell_type": "code",
   "execution_count": 20,
   "id": "f82cde1e",
   "metadata": {},
   "outputs": [
    {
     "data": {
      "text/html": [
       "<div>\n",
       "<style scoped>\n",
       "    .dataframe tbody tr th:only-of-type {\n",
       "        vertical-align: middle;\n",
       "    }\n",
       "\n",
       "    .dataframe tbody tr th {\n",
       "        vertical-align: top;\n",
       "    }\n",
       "\n",
       "    .dataframe thead th {\n",
       "        text-align: right;\n",
       "    }\n",
       "</style>\n",
       "<table border=\"1\" class=\"dataframe\">\n",
       "  <thead>\n",
       "    <tr style=\"text-align: right;\">\n",
       "      <th></th>\n",
       "      <th>date</th>\n",
       "      <th>Tweet_id</th>\n",
       "      <th>Text</th>\n",
       "      <th>Username</th>\n",
       "    </tr>\n",
       "  </thead>\n",
       "  <tbody>\n",
       "    <tr>\n",
       "      <th>0</th>\n",
       "      <td>2022-11-12 17:53:58+00:00</td>\n",
       "      <td>1591489493982642176</td>\n",
       "      <td>Togg alacağım için satılık https://t.co/mn8qkh...</td>\n",
       "      <td>dilaraelfgokcan</td>\n",
       "    </tr>\n",
       "    <tr>\n",
       "      <th>1</th>\n",
       "      <td>2022-11-12 17:53:53+00:00</td>\n",
       "      <td>1591489472537202688</td>\n",
       "      <td>Mercedes yedek parça.\\n#TOGG yerli değil diyen...</td>\n",
       "      <td>___DEVLET___</td>\n",
       "    </tr>\n",
       "    <tr>\n",
       "      <th>2</th>\n",
       "      <td>2022-11-12 17:53:45+00:00</td>\n",
       "      <td>1591489439980814339</td>\n",
       "      <td>@ankara_kusu Asgari üceret 5500 toğğ bir milyo...</td>\n",
       "      <td>Alizcan00</td>\n",
       "    </tr>\n",
       "    <tr>\n",
       "      <th>3</th>\n",
       "      <td>2022-11-12 17:53:41+00:00</td>\n",
       "      <td>1591489422683475976</td>\n",
       "      <td>@tcbuyuksehir Siz yarın togg fabrikası önünde ...</td>\n",
       "      <td>karakulesez</td>\n",
       "    </tr>\n",
       "    <tr>\n",
       "      <th>4</th>\n",
       "      <td>2022-11-12 17:53:25+00:00</td>\n",
       "      <td>1591489356602437632</td>\n",
       "      <td>Bu dayı bedava togg almak için elinden geleni ...</td>\n",
       "      <td>fidan_cenker</td>\n",
       "    </tr>\n",
       "  </tbody>\n",
       "</table>\n",
       "</div>"
      ],
      "text/plain": [
       "                       date             Tweet_id  \\\n",
       "0 2022-11-12 17:53:58+00:00  1591489493982642176   \n",
       "1 2022-11-12 17:53:53+00:00  1591489472537202688   \n",
       "2 2022-11-12 17:53:45+00:00  1591489439980814339   \n",
       "3 2022-11-12 17:53:41+00:00  1591489422683475976   \n",
       "4 2022-11-12 17:53:25+00:00  1591489356602437632   \n",
       "\n",
       "                                                Text         Username  \n",
       "0  Togg alacağım için satılık https://t.co/mn8qkh...  dilaraelfgokcan  \n",
       "1  Mercedes yedek parça.\\n#TOGG yerli değil diyen...     ___DEVLET___  \n",
       "2  @ankara_kusu Asgari üceret 5500 toğğ bir milyo...        Alizcan00  \n",
       "3  @tcbuyuksehir Siz yarın togg fabrikası önünde ...      karakulesez  \n",
       "4  Bu dayı bedava togg almak için elinden geleni ...     fidan_cenker  "
      ]
     },
     "execution_count": 20,
     "metadata": {},
     "output_type": "execute_result"
    }
   ],
   "source": [
    "df2.head()"
   ]
  },
  {
   "cell_type": "code",
   "execution_count": 24,
   "id": "7a3e5e74",
   "metadata": {},
   "outputs": [
    {
     "name": "stdout",
     "output_type": "stream",
     "text": [
      "                       date             Tweet_id  \\\n",
      "0 2022-11-12 17:53:58+00:00  1591489493982642176   \n",
      "\n",
      "                                                Text         Username  \n",
      "0  Togg alacağım için satılık https://t.co/mn8qkh...  dilaraelfgokcan  \n"
     ]
    }
   ],
   "source": [
    "print(df2.head(1))"
   ]
  },
  {
   "cell_type": "code",
   "execution_count": null,
   "id": "3729aad2",
   "metadata": {},
   "outputs": [
    {
     "name": "stderr",
     "output_type": "stream",
     "text": [
      "C:\\Users\\T\\AppData\\Local\\Temp\\ipykernel_10996\\2072766200.py:4: FutureWarning: username is deprecated, use user.username instead\n",
      "  tweets3.append([tweet.date,tweet.id,tweet.content,tweet.username])\n"
     ]
    }
   ],
   "source": [
    "tweets3=[]\n",
    "\n",
    "for i,tweet in enumerate (sntwitter.TwitterSearchScraper('togg since:2022-10-01 until:2022-11-12').get_items()):\n",
    "    tweets3.append([tweet.date,tweet.id,tweet.content,tweet.username])"
   ]
  },
  {
   "cell_type": "code",
   "execution_count": null,
   "id": "e7480289",
   "metadata": {},
   "outputs": [],
   "source": [
    "df3=pd.DataFrame(tweets3,columns=[\"date\",\"Tweet_id\",\"Text\",'Username'])"
   ]
  },
  {
   "cell_type": "code",
   "execution_count": null,
   "id": "196e70b8",
   "metadata": {},
   "outputs": [],
   "source": [
    "df3.head()"
   ]
  },
  {
   "cell_type": "code",
   "execution_count": null,
   "id": "6801f145",
   "metadata": {},
   "outputs": [],
   "source": [
    "df3.shape"
   ]
  },
  {
   "cell_type": "code",
   "execution_count": null,
   "id": "60a0fc4b",
   "metadata": {},
   "outputs": [],
   "source": [
    "tweets3=[]\n",
    "\n",
    "for i,tweet in enumerate (sntwitter.TwitterSearchScraper('togg near:\"Los Angeles\" within:10km').get_items()):\n",
    "    tweets3.append([tweet.date,tweet.id,tweet.content,tweet.username])"
   ]
  },
  {
   "cell_type": "code",
   "execution_count": null,
   "id": "42bc685d",
   "metadata": {},
   "outputs": [],
   "source": [
    "df3=pd.DataFrame(tweets3,columns=[\"date\",\"Tweet_id\",\"Text\",'Username'])"
   ]
  },
  {
   "cell_type": "code",
   "execution_count": null,
   "id": "be4234b7",
   "metadata": {},
   "outputs": [],
   "source": [
    "df3.head()"
   ]
  },
  {
   "cell_type": "code",
   "execution_count": null,
   "id": "ca3d0d11",
   "metadata": {},
   "outputs": [],
   "source": [
    "tweets3=[]\n",
    "\n",
    "for i,tweet in enumerate (sntwitter.TwitterSearchScraper('togg geocode: near:\"34.052535,-118.243683, 100km').get_items()):\n",
    "    tweets3.append([tweet.date,tweet.id,tweet.content,tweet.username])"
   ]
  },
  {
   "cell_type": "code",
   "execution_count": null,
   "id": "0dd17f59",
   "metadata": {},
   "outputs": [],
   "source": [
    "df3=pd.DataFrame(tweets3,columns=[\"date\",\"Tweet_id\",\"Text\",'Username'])"
   ]
  },
  {
   "cell_type": "code",
   "execution_count": null,
   "id": "0071a0d1",
   "metadata": {},
   "outputs": [],
   "source": [
    "df3.head()"
   ]
  },
  {
   "cell_type": "code",
   "execution_count": null,
   "id": "043bfcc6",
   "metadata": {},
   "outputs": [],
   "source": [
    "df3.shape"
   ]
  },
  {
   "cell_type": "code",
   "execution_count": null,
   "id": "a360f30f",
   "metadata": {},
   "outputs": [],
   "source": []
  }
 ],
 "metadata": {
  "kernelspec": {
   "display_name": "Python 3 (ipykernel)",
   "language": "python",
   "name": "python3"
  },
  "language_info": {
   "codemirror_mode": {
    "name": "ipython",
    "version": 3
   },
   "file_extension": ".py",
   "mimetype": "text/x-python",
   "name": "python",
   "nbconvert_exporter": "python",
   "pygments_lexer": "ipython3",
   "version": "3.9.12"
  }
 },
 "nbformat": 4,
 "nbformat_minor": 5
}
