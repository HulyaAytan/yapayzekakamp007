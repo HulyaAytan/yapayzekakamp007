{
 "cells": [
  {
   "cell_type": "markdown",
   "id": "6acae913",
   "metadata": {
    "id": "6acae913"
   },
   "source": [
    "# COVID-19 Dataset"
   ]
  },
  {
   "cell_type": "markdown",
   "id": "66f152a3",
   "metadata": {
    "id": "66f152a3"
   },
   "source": [
    "The dataset was provided by the Mexican government. This dataset contains an enormous number of anonymized patient-related information including pre-conditions. The raw dataset consists of 21 unique features and 1,048,576 unique patients. In the Boolean features, 1 means \"yes\" and 2 means \"no\". values as 97 and 99 are missing data.\n",
    "\n",
    "sex: female or male\n",
    "age: of the patient.\n",
    "classification: covid test findings. Values 1-3 mean that the patient was diagnosed with covid in different\n",
    "degrees. 4 or higher means that the patient is not a carrier of covid or that the test is inconclusive.\n",
    "patient type: hospitalized or not hospitalized.\n",
    "pneumonia: whether the patient already have air sacs inflammation or not.\n",
    "pregnancy: whether the patient is pregnant or not.\n",
    "diabetes: whether the patient has diabetes or not.\n",
    "copd: Indicates whether the patient has Chronic obstructive pulmonary disease or not.\n",
    "asthma: whether the patient has asthma or not.\n",
    "inmsupr: whether the patient is immunosuppressed or not.\n",
    "hypertension: whether the patient has hypertension or not.\n",
    "cardiovascular: whether the patient has heart or blood vessels related disease.\n",
    "renal chronic: whether the patient has chronic renal disease or not.\n",
    "other disease: whether the patient has other disease or not.\n",
    "obesity: whether the patient is obese or not.\n",
    "tobacco: whether the patient is a tobacco user.\n",
    "usmr: Indicates whether the patient treated medical units of the first, second or third level.\n",
    "medical unit: type of institution of the National Health System that provided the care.\n",
    "intubed: whether the patient was connected to the ventilator.\n",
    "icu: Indicates whether the patient had been admitted to an Intensive Care Unit.\n",
    "death: indicates whether the patient died or recovered."
   ]
  },
  {
   "cell_type": "markdown",
   "id": "6fc9b1c5",
   "metadata": {
    "id": "6fc9b1c5"
   },
   "source": [
    "The main goal of this project is to build a machine learning model that, given a Covid-19 patient's current symptom, status, and medical history, will predict whether the patient is in high risk or no"
   ]
  },
  {
   "cell_type": "markdown",
   "id": "26f4fed8",
   "metadata": {
    "id": "26f4fed8"
   },
   "source": [
    "### Import Libraries and Load Data"
   ]
  },
  {
   "cell_type": "code",
   "execution_count": 1,
   "id": "0c432422",
   "metadata": {
    "id": "0c432422"
   },
   "outputs": [],
   "source": [
    "import pandas as pd\n",
    "import numpy as np\n",
    "import matplotlib.pyplot as plt\n",
    "%matplotlib inline\n",
    "import seaborn as sns\n",
    "import warnings\n",
    "warnings.filterwarnings(\"ignore\")\n",
    "pd.set_option(\"display.max_columns\",100)\n",
    "\n",
    "#Classification\n",
    "from sklearn.naive_bayes import MultinomialNB, GaussianNB, BernoulliNB\n",
    "from sklearn.neighbors import KNeighborsClassifier\n",
    "from sklearn.svm import SVC\n",
    "from sklearn.tree import DecisionTreeClassifier\n",
    "from sklearn.linear_model import LogisticRegression\n",
    "from sklearn.ensemble import GradientBoostingClassifier, AdaBoostClassifier, RandomForestClassifier\n",
    "from xgboost import XGBClassifier\n",
    "from sklearn.metrics import classification_report,accuracy_score,confusion_matrix,precision_score,recall_score,f1_score\n",
    "\n",
    "from sklearn.model_selection import train_test_split\n",
    "from sklearn.metrics import mean_squared_error,r2_score,mean_absolute_error\n",
    "from sklearn.preprocessing import normalize,scale"
   ]
  },
  {
   "cell_type": "code",
   "execution_count": 2,
   "id": "2f5c3dd1",
   "metadata": {
    "id": "2f5c3dd1"
   },
   "outputs": [],
   "source": [
    "df = pd.read_csv(\"Covid Data.csv\")"
   ]
  },
  {
   "cell_type": "code",
   "execution_count": 3,
   "id": "053cf781",
   "metadata": {
    "colab": {
     "base_uri": "https://localhost:8080/",
     "height": 270
    },
    "id": "053cf781",
    "outputId": "a1d92df0-26d2-4c25-fce1-57716d818833"
   },
   "outputs": [
    {
     "data": {
      "text/html": [
       "\n",
       "  <div id=\"df-175af966-5f61-4bcc-9814-629e6dff5af2\">\n",
       "    <div class=\"colab-df-container\">\n",
       "      <div>\n",
       "<style scoped>\n",
       "    .dataframe tbody tr th:only-of-type {\n",
       "        vertical-align: middle;\n",
       "    }\n",
       "\n",
       "    .dataframe tbody tr th {\n",
       "        vertical-align: top;\n",
       "    }\n",
       "\n",
       "    .dataframe thead th {\n",
       "        text-align: right;\n",
       "    }\n",
       "</style>\n",
       "<table border=\"1\" class=\"dataframe\">\n",
       "  <thead>\n",
       "    <tr style=\"text-align: right;\">\n",
       "      <th></th>\n",
       "      <th>USMER</th>\n",
       "      <th>MEDICAL_UNIT</th>\n",
       "      <th>SEX</th>\n",
       "      <th>PATIENT_TYPE</th>\n",
       "      <th>DATE_DIED</th>\n",
       "      <th>INTUBED</th>\n",
       "      <th>PNEUMONIA</th>\n",
       "      <th>AGE</th>\n",
       "      <th>PREGNANT</th>\n",
       "      <th>DIABETES</th>\n",
       "      <th>COPD</th>\n",
       "      <th>ASTHMA</th>\n",
       "      <th>INMSUPR</th>\n",
       "      <th>HIPERTENSION</th>\n",
       "      <th>OTHER_DISEASE</th>\n",
       "      <th>CARDIOVASCULAR</th>\n",
       "      <th>OBESITY</th>\n",
       "      <th>RENAL_CHRONIC</th>\n",
       "      <th>TOBACCO</th>\n",
       "      <th>CLASIFFICATION_FINAL</th>\n",
       "      <th>ICU</th>\n",
       "    </tr>\n",
       "  </thead>\n",
       "  <tbody>\n",
       "    <tr>\n",
       "      <th>0</th>\n",
       "      <td>2</td>\n",
       "      <td>1</td>\n",
       "      <td>1</td>\n",
       "      <td>1</td>\n",
       "      <td>03/05/2020</td>\n",
       "      <td>97</td>\n",
       "      <td>1</td>\n",
       "      <td>65</td>\n",
       "      <td>2</td>\n",
       "      <td>2</td>\n",
       "      <td>2</td>\n",
       "      <td>2</td>\n",
       "      <td>2</td>\n",
       "      <td>1</td>\n",
       "      <td>2</td>\n",
       "      <td>2</td>\n",
       "      <td>2</td>\n",
       "      <td>2.0</td>\n",
       "      <td>2.0</td>\n",
       "      <td>3.0</td>\n",
       "      <td>97.0</td>\n",
       "    </tr>\n",
       "    <tr>\n",
       "      <th>1</th>\n",
       "      <td>2</td>\n",
       "      <td>1</td>\n",
       "      <td>2</td>\n",
       "      <td>1</td>\n",
       "      <td>03/06/2020</td>\n",
       "      <td>97</td>\n",
       "      <td>1</td>\n",
       "      <td>72</td>\n",
       "      <td>97</td>\n",
       "      <td>2</td>\n",
       "      <td>2</td>\n",
       "      <td>2</td>\n",
       "      <td>2</td>\n",
       "      <td>1</td>\n",
       "      <td>2</td>\n",
       "      <td>2</td>\n",
       "      <td>1</td>\n",
       "      <td>1.0</td>\n",
       "      <td>2.0</td>\n",
       "      <td>5.0</td>\n",
       "      <td>97.0</td>\n",
       "    </tr>\n",
       "    <tr>\n",
       "      <th>2</th>\n",
       "      <td>2</td>\n",
       "      <td>1</td>\n",
       "      <td>2</td>\n",
       "      <td>2</td>\n",
       "      <td>09/06/2020</td>\n",
       "      <td>1</td>\n",
       "      <td>2</td>\n",
       "      <td>55</td>\n",
       "      <td>97</td>\n",
       "      <td>1</td>\n",
       "      <td>2</td>\n",
       "      <td>2</td>\n",
       "      <td>2</td>\n",
       "      <td>2</td>\n",
       "      <td>2</td>\n",
       "      <td>2</td>\n",
       "      <td>2</td>\n",
       "      <td>2.0</td>\n",
       "      <td>2.0</td>\n",
       "      <td>3.0</td>\n",
       "      <td>2.0</td>\n",
       "    </tr>\n",
       "    <tr>\n",
       "      <th>3</th>\n",
       "      <td>2</td>\n",
       "      <td>1</td>\n",
       "      <td>1</td>\n",
       "      <td>1</td>\n",
       "      <td>12/06/2020</td>\n",
       "      <td>97</td>\n",
       "      <td>2</td>\n",
       "      <td>53</td>\n",
       "      <td>2</td>\n",
       "      <td>2</td>\n",
       "      <td>2</td>\n",
       "      <td>2</td>\n",
       "      <td>2</td>\n",
       "      <td>2</td>\n",
       "      <td>2</td>\n",
       "      <td>2</td>\n",
       "      <td>2</td>\n",
       "      <td>2.0</td>\n",
       "      <td>2.0</td>\n",
       "      <td>7.0</td>\n",
       "      <td>97.0</td>\n",
       "    </tr>\n",
       "    <tr>\n",
       "      <th>4</th>\n",
       "      <td>2</td>\n",
       "      <td>1</td>\n",
       "      <td>2</td>\n",
       "      <td>1</td>\n",
       "      <td>21/06/2020</td>\n",
       "      <td>97</td>\n",
       "      <td>2</td>\n",
       "      <td>68</td>\n",
       "      <td>97</td>\n",
       "      <td>1</td>\n",
       "      <td>2</td>\n",
       "      <td>2</td>\n",
       "      <td>2</td>\n",
       "      <td>1</td>\n",
       "      <td>2</td>\n",
       "      <td>2</td>\n",
       "      <td>2</td>\n",
       "      <td>2.0</td>\n",
       "      <td>2.0</td>\n",
       "      <td>3.0</td>\n",
       "      <td>97.0</td>\n",
       "    </tr>\n",
       "  </tbody>\n",
       "</table>\n",
       "</div>\n",
       "      <button class=\"colab-df-convert\" onclick=\"convertToInteractive('df-175af966-5f61-4bcc-9814-629e6dff5af2')\"\n",
       "              title=\"Convert this dataframe to an interactive table.\"\n",
       "              style=\"display:none;\">\n",
       "        \n",
       "  <svg xmlns=\"http://www.w3.org/2000/svg\" height=\"24px\"viewBox=\"0 0 24 24\"\n",
       "       width=\"24px\">\n",
       "    <path d=\"M0 0h24v24H0V0z\" fill=\"none\"/>\n",
       "    <path d=\"M18.56 5.44l.94 2.06.94-2.06 2.06-.94-2.06-.94-.94-2.06-.94 2.06-2.06.94zm-11 1L8.5 8.5l.94-2.06 2.06-.94-2.06-.94L8.5 2.5l-.94 2.06-2.06.94zm10 10l.94 2.06.94-2.06 2.06-.94-2.06-.94-.94-2.06-.94 2.06-2.06.94z\"/><path d=\"M17.41 7.96l-1.37-1.37c-.4-.4-.92-.59-1.43-.59-.52 0-1.04.2-1.43.59L10.3 9.45l-7.72 7.72c-.78.78-.78 2.05 0 2.83L4 21.41c.39.39.9.59 1.41.59.51 0 1.02-.2 1.41-.59l7.78-7.78 2.81-2.81c.8-.78.8-2.07 0-2.86zM5.41 20L4 18.59l7.72-7.72 1.47 1.35L5.41 20z\"/>\n",
       "  </svg>\n",
       "      </button>\n",
       "      \n",
       "  <style>\n",
       "    .colab-df-container {\n",
       "      display:flex;\n",
       "      flex-wrap:wrap;\n",
       "      gap: 12px;\n",
       "    }\n",
       "\n",
       "    .colab-df-convert {\n",
       "      background-color: #E8F0FE;\n",
       "      border: none;\n",
       "      border-radius: 50%;\n",
       "      cursor: pointer;\n",
       "      display: none;\n",
       "      fill: #1967D2;\n",
       "      height: 32px;\n",
       "      padding: 0 0 0 0;\n",
       "      width: 32px;\n",
       "    }\n",
       "\n",
       "    .colab-df-convert:hover {\n",
       "      background-color: #E2EBFA;\n",
       "      box-shadow: 0px 1px 2px rgba(60, 64, 67, 0.3), 0px 1px 3px 1px rgba(60, 64, 67, 0.15);\n",
       "      fill: #174EA6;\n",
       "    }\n",
       "\n",
       "    [theme=dark] .colab-df-convert {\n",
       "      background-color: #3B4455;\n",
       "      fill: #D2E3FC;\n",
       "    }\n",
       "\n",
       "    [theme=dark] .colab-df-convert:hover {\n",
       "      background-color: #434B5C;\n",
       "      box-shadow: 0px 1px 3px 1px rgba(0, 0, 0, 0.15);\n",
       "      filter: drop-shadow(0px 1px 2px rgba(0, 0, 0, 0.3));\n",
       "      fill: #FFFFFF;\n",
       "    }\n",
       "  </style>\n",
       "\n",
       "      <script>\n",
       "        const buttonEl =\n",
       "          document.querySelector('#df-175af966-5f61-4bcc-9814-629e6dff5af2 button.colab-df-convert');\n",
       "        buttonEl.style.display =\n",
       "          google.colab.kernel.accessAllowed ? 'block' : 'none';\n",
       "\n",
       "        async function convertToInteractive(key) {\n",
       "          const element = document.querySelector('#df-175af966-5f61-4bcc-9814-629e6dff5af2');\n",
       "          const dataTable =\n",
       "            await google.colab.kernel.invokeFunction('convertToInteractive',\n",
       "                                                     [key], {});\n",
       "          if (!dataTable) return;\n",
       "\n",
       "          const docLinkHtml = 'Like what you see? Visit the ' +\n",
       "            '<a target=\"_blank\" href=https://colab.research.google.com/notebooks/data_table.ipynb>data table notebook</a>'\n",
       "            + ' to learn more about interactive tables.';\n",
       "          element.innerHTML = '';\n",
       "          dataTable['output_type'] = 'display_data';\n",
       "          await google.colab.output.renderOutput(dataTable, element);\n",
       "          const docLink = document.createElement('div');\n",
       "          docLink.innerHTML = docLinkHtml;\n",
       "          element.appendChild(docLink);\n",
       "        }\n",
       "      </script>\n",
       "    </div>\n",
       "  </div>\n",
       "  "
      ],
      "text/plain": [
       "   USMER  MEDICAL_UNIT  SEX  PATIENT_TYPE   DATE_DIED  INTUBED  PNEUMONIA  \\\n",
       "0      2             1    1             1  03/05/2020       97          1   \n",
       "1      2             1    2             1  03/06/2020       97          1   \n",
       "2      2             1    2             2  09/06/2020        1          2   \n",
       "3      2             1    1             1  12/06/2020       97          2   \n",
       "4      2             1    2             1  21/06/2020       97          2   \n",
       "\n",
       "   AGE  PREGNANT  DIABETES  COPD  ASTHMA  INMSUPR  HIPERTENSION  \\\n",
       "0   65         2         2     2       2        2             1   \n",
       "1   72        97         2     2       2        2             1   \n",
       "2   55        97         1     2       2        2             2   \n",
       "3   53         2         2     2       2        2             2   \n",
       "4   68        97         1     2       2        2             1   \n",
       "\n",
       "   OTHER_DISEASE  CARDIOVASCULAR  OBESITY  RENAL_CHRONIC  TOBACCO  \\\n",
       "0              2               2        2            2.0      2.0   \n",
       "1              2               2        1            1.0      2.0   \n",
       "2              2               2        2            2.0      2.0   \n",
       "3              2               2        2            2.0      2.0   \n",
       "4              2               2        2            2.0      2.0   \n",
       "\n",
       "   CLASIFFICATION_FINAL   ICU  \n",
       "0                   3.0  97.0  \n",
       "1                   5.0  97.0  \n",
       "2                   3.0   2.0  \n",
       "3                   7.0  97.0  \n",
       "4                   3.0  97.0  "
      ]
     },
     "execution_count": 3,
     "metadata": {},
     "output_type": "execute_result"
    }
   ],
   "source": [
    "df.head()"
   ]
  },
  {
   "cell_type": "markdown",
   "id": "d88028af",
   "metadata": {
    "id": "d88028af"
   },
   "source": [
    "## EDA - Exploratory Data Analysis"
   ]
  },
  {
   "cell_type": "code",
   "execution_count": 4,
   "id": "e708785d",
   "metadata": {
    "colab": {
     "base_uri": "https://localhost:8080/"
    },
    "id": "e708785d",
    "outputId": "0fc0ff3b-befd-42e7-c89d-7a547305dc3a"
   },
   "outputs": [
    {
     "data": {
      "text/plain": [
       "(115228, 21)"
      ]
     },
     "execution_count": 4,
     "metadata": {},
     "output_type": "execute_result"
    }
   ],
   "source": [
    "df.shape"
   ]
  },
  {
   "cell_type": "code",
   "execution_count": 5,
   "id": "c8d715bf",
   "metadata": {
    "colab": {
     "base_uri": "https://localhost:8080/"
    },
    "id": "c8d715bf",
    "outputId": "70bd6c17-3029-41d0-ec3d-85f1b2c5116b"
   },
   "outputs": [
    {
     "name": "stdout",
     "output_type": "stream",
     "text": [
      "<class 'pandas.core.frame.DataFrame'>\n",
      "RangeIndex: 115228 entries, 0 to 115227\n",
      "Data columns (total 21 columns):\n",
      " #   Column                Non-Null Count   Dtype  \n",
      "---  ------                --------------   -----  \n",
      " 0   USMER                 115228 non-null  int64  \n",
      " 1   MEDICAL_UNIT          115228 non-null  int64  \n",
      " 2   SEX                   115228 non-null  int64  \n",
      " 3   PATIENT_TYPE          115228 non-null  int64  \n",
      " 4   DATE_DIED             115228 non-null  object \n",
      " 5   INTUBED               115228 non-null  int64  \n",
      " 6   PNEUMONIA             115228 non-null  int64  \n",
      " 7   AGE                   115228 non-null  int64  \n",
      " 8   PREGNANT              115228 non-null  int64  \n",
      " 9   DIABETES              115228 non-null  int64  \n",
      " 10  COPD                  115228 non-null  int64  \n",
      " 11  ASTHMA                115228 non-null  int64  \n",
      " 12  INMSUPR               115228 non-null  int64  \n",
      " 13  HIPERTENSION          115228 non-null  int64  \n",
      " 14  OTHER_DISEASE         115228 non-null  int64  \n",
      " 15  CARDIOVASCULAR        115228 non-null  int64  \n",
      " 16  OBESITY               115228 non-null  int64  \n",
      " 17  RENAL_CHRONIC         115227 non-null  float64\n",
      " 18  TOBACCO               115227 non-null  float64\n",
      " 19  CLASIFFICATION_FINAL  115227 non-null  float64\n",
      " 20  ICU                   115227 non-null  float64\n",
      "dtypes: float64(4), int64(16), object(1)\n",
      "memory usage: 18.5+ MB\n"
     ]
    }
   ],
   "source": [
    "df.info()"
   ]
  },
  {
   "cell_type": "code",
   "execution_count": 6,
   "id": "52c4a1ab",
   "metadata": {
    "colab": {
     "base_uri": "https://localhost:8080/"
    },
    "id": "52c4a1ab",
    "outputId": "68784ebe-5b2a-4679-b9db-6d78a3d033e1"
   },
   "outputs": [
    {
     "data": {
      "text/plain": [
       "USMER                   0\n",
       "MEDICAL_UNIT            0\n",
       "SEX                     0\n",
       "PATIENT_TYPE            0\n",
       "DATE_DIED               0\n",
       "INTUBED                 0\n",
       "PNEUMONIA               0\n",
       "AGE                     0\n",
       "PREGNANT                0\n",
       "DIABETES                0\n",
       "COPD                    0\n",
       "ASTHMA                  0\n",
       "INMSUPR                 0\n",
       "HIPERTENSION            0\n",
       "OTHER_DISEASE           0\n",
       "CARDIOVASCULAR          0\n",
       "OBESITY                 0\n",
       "RENAL_CHRONIC           1\n",
       "TOBACCO                 1\n",
       "CLASIFFICATION_FINAL    1\n",
       "ICU                     1\n",
       "dtype: int64"
      ]
     },
     "execution_count": 6,
     "metadata": {},
     "output_type": "execute_result"
    }
   ],
   "source": [
    "df.isnull().sum()"
   ]
  },
  {
   "cell_type": "code",
   "execution_count": 7,
   "id": "108cfa77",
   "metadata": {
    "colab": {
     "base_uri": "https://localhost:8080/"
    },
    "id": "108cfa77",
    "outputId": "3c6c9e9e-91f3-42ec-aade-b97d0cd46710"
   },
   "outputs": [
    {
     "data": {
      "text/plain": [
       "Index(['USMER', 'MEDICAL_UNIT', 'SEX', 'PATIENT_TYPE', 'DATE_DIED', 'INTUBED',\n",
       "       'PNEUMONIA', 'AGE', 'PREGNANT', 'DIABETES', 'COPD', 'ASTHMA', 'INMSUPR',\n",
       "       'HIPERTENSION', 'OTHER_DISEASE', 'CARDIOVASCULAR', 'OBESITY',\n",
       "       'RENAL_CHRONIC', 'TOBACCO', 'CLASIFFICATION_FINAL', 'ICU'],\n",
       "      dtype='object')"
      ]
     },
     "execution_count": 7,
     "metadata": {},
     "output_type": "execute_result"
    }
   ],
   "source": [
    "df.columns"
   ]
  },
  {
   "cell_type": "code",
   "execution_count": 8,
   "id": "5c21f317",
   "metadata": {
    "colab": {
     "base_uri": "https://localhost:8080/"
    },
    "id": "5c21f317",
    "outputId": "acb4ab38-a6b1-4ba8-b554-84dcae8fd0a3"
   },
   "outputs": [
    {
     "data": {
      "text/plain": [
       "2    60641\n",
       "1    54587\n",
       "Name: USMER, dtype: int64"
      ]
     },
     "execution_count": 8,
     "metadata": {},
     "output_type": "execute_result"
    }
   ],
   "source": [
    "#usmr: Indicates whether the patient treated medical units of the first, second or third level.\n",
    "df['USMER'].value_counts()"
   ]
  },
  {
   "cell_type": "code",
   "execution_count": 9,
   "id": "dae076b5",
   "metadata": {
    "colab": {
     "base_uri": "https://localhost:8080/"
    },
    "id": "dae076b5",
    "outputId": "4e4d7a78-a661-4298-a1ef-2034664c1f9d"
   },
   "outputs": [
    {
     "data": {
      "text/plain": [
       "4    95733\n",
       "3    19175\n",
       "2      169\n",
       "1      151\n",
       "Name: MEDICAL_UNIT, dtype: int64"
      ]
     },
     "execution_count": 9,
     "metadata": {},
     "output_type": "execute_result"
    }
   ],
   "source": [
    "#medical unit: type of institution of the National Health System that provided the care.\n",
    "df['MEDICAL_UNIT'].value_counts()\n",
    "#categorical features 1 to 13"
   ]
  },
  {
   "cell_type": "code",
   "execution_count": 10,
   "id": "eaede679",
   "metadata": {
    "colab": {
     "base_uri": "https://localhost:8080/"
    },
    "id": "eaede679",
    "outputId": "0f7203cd-3c70-4d6b-ae98-032c6775ae5e"
   },
   "outputs": [
    {
     "data": {
      "text/plain": [
       "1    58987\n",
       "2    56241\n",
       "Name: PATIENT_TYPE, dtype: int64"
      ]
     },
     "execution_count": 10,
     "metadata": {},
     "output_type": "execute_result"
    }
   ],
   "source": [
    "#patient type: hospitalized or not hospitalized.\n",
    "df['PATIENT_TYPE'].value_counts()"
   ]
  },
  {
   "cell_type": "code",
   "execution_count": 11,
   "id": "c7374e56",
   "metadata": {
    "colab": {
     "base_uri": "https://localhost:8080/"
    },
    "id": "c7374e56",
    "outputId": "18815cd1-ca6b-48c5-8a92-aeece72355a6"
   },
   "outputs": [
    {
     "data": {
      "text/plain": [
       "9999-99-99    73821\n",
       "07/07/2020      552\n",
       "16/06/2020      541\n",
       "06/07/2020      537\n",
       "13/07/2020      536\n",
       "              ...  \n",
       "20/10/2020        1\n",
       "18/10/2020        1\n",
       "16/10/2020        1\n",
       "14/10/2020        1\n",
       "12/10/2020        1\n",
       "Name: DATE_DIED, Length: 337, dtype: int64"
      ]
     },
     "execution_count": 11,
     "metadata": {},
     "output_type": "execute_result"
    }
   ],
   "source": [
    "df['DATE_DIED'].value_counts()"
   ]
  },
  {
   "cell_type": "markdown",
   "id": "9BCXjVe5lnLM",
   "metadata": {
    "id": "9BCXjVe5lnLM"
   },
   "source": [
    "# There is 971633 \"9999-99-99\" in the \"DATE_DIED\" column which means alive patients.\n",
    "# returned to this column to \"DEATH\" patient alive or death "
   ]
  },
  {
   "cell_type": "code",
   "execution_count": 12,
   "id": "20aafdd4",
   "metadata": {
    "id": "20aafdd4"
   },
   "outputs": [],
   "source": [
    "df[\"DEATH\"] = [2 if each==\"9999-99-99\" else 1 for each in df.DATE_DIED]"
   ]
  },
  {
   "cell_type": "code",
   "execution_count": 13,
   "id": "239b0ccd",
   "metadata": {
    "id": "239b0ccd"
   },
   "outputs": [],
   "source": [
    "df.drop(columns=[\"DATE_DIED\"], inplace=True)"
   ]
  },
  {
   "cell_type": "code",
   "execution_count": 14,
   "id": "59ac41ce",
   "metadata": {
    "colab": {
     "base_uri": "https://localhost:8080/"
    },
    "id": "59ac41ce",
    "outputId": "51ff71ed-20a6-4787-aa42-d1337a59dcaa"
   },
   "outputs": [
    {
     "data": {
      "text/plain": [
       "97    58987\n",
       "2     38548\n",
       "1     16740\n",
       "99      953\n",
       "Name: INTUBED, dtype: int64"
      ]
     },
     "execution_count": 14,
     "metadata": {},
     "output_type": "execute_result"
    }
   ],
   "source": [
    "df['INTUBED'].value_counts() "
   ]
  },
  {
   "cell_type": "code",
   "execution_count": 15,
   "id": "0041a678",
   "metadata": {
    "id": "0041a678"
   },
   "outputs": [],
   "source": [
    "# too many missing values\n",
    "df.drop(columns=[\"INTUBED\"], inplace=True)"
   ]
  },
  {
   "cell_type": "code",
   "execution_count": 16,
   "id": "1d441906",
   "metadata": {
    "colab": {
     "base_uri": "https://localhost:8080/"
    },
    "id": "1d441906",
    "outputId": "6ba93807-7ba7-42a6-dd70-bd61b6b42c06"
   },
   "outputs": [
    {
     "data": {
      "text/plain": [
       "2     78849\n",
       "1     35620\n",
       "99      759\n",
       "Name: PNEUMONIA, dtype: int64"
      ]
     },
     "execution_count": 16,
     "metadata": {},
     "output_type": "execute_result"
    }
   ],
   "source": [
    "df['PNEUMONIA'].value_counts() #99 represents nan values"
   ]
  },
  {
   "cell_type": "code",
   "execution_count": 17,
   "id": "a5d13c4f",
   "metadata": {
    "id": "a5d13c4f"
   },
   "outputs": [],
   "source": [
    "df = df.loc[(df.PNEUMONIA == 1) | (df.PNEUMONIA == 2)]"
   ]
  },
  {
   "cell_type": "code",
   "execution_count": 18,
   "id": "f800e5da",
   "metadata": {
    "colab": {
     "base_uri": "https://localhost:8080/"
    },
    "id": "f800e5da",
    "outputId": "95923c31-b80b-4310-8dcc-35f38a815e78"
   },
   "outputs": [
    {
     "data": {
      "text/plain": [
       "46     2514\n",
       "48     2500\n",
       "47     2406\n",
       "49     2390\n",
       "45     2385\n",
       "       ... \n",
       "100      10\n",
       "101       1\n",
       "107       1\n",
       "102       1\n",
       "103       1\n",
       "Name: AGE, Length: 105, dtype: int64"
      ]
     },
     "execution_count": 18,
     "metadata": {},
     "output_type": "execute_result"
    }
   ],
   "source": [
    "df['AGE'].value_counts()"
   ]
  },
  {
   "cell_type": "code",
   "execution_count": 19,
   "id": "5fdc4371",
   "metadata": {
    "colab": {
     "base_uri": "https://localhost:8080/",
     "height": 316
    },
    "id": "5fdc4371",
    "outputId": "0127c198-31ac-4f2b-f43f-9a3348ecccb1"
   },
   "outputs": [
    {
     "data": {
      "text/plain": [
       "Text(0.5, 1.0, 'Age Distribution')"
      ]
     },
     "execution_count": 19,
     "metadata": {},
     "output_type": "execute_result"
    },
    {
     "data": {
      "image/png": "[encoded data removed]",
      "text/plain": [
       "<Figure size 432x288 with 1 Axes>"
      ]
     },
     "metadata": {
      "needs_background": "light"
     },
     "output_type": "display_data"
    }
   ],
   "source": [
    "sns.histplot(x=df.AGE)\n",
    "plt.title(\"Age Distribution\", color=\"red\", fontsize=18)"
   ]
  },
  {
   "cell_type": "code",
   "execution_count": 20,
   "id": "2ca4f0ed",
   "metadata": {
    "id": "2ca4f0ed"
   },
   "outputs": [],
   "source": [
    "# Patients age interval mostly in 20-60"
   ]
  },
  {
   "cell_type": "code",
   "execution_count": 21,
   "id": "773e9148",
   "metadata": {
    "colab": {
     "base_uri": "https://localhost:8080/",
     "height": 299
    },
    "id": "773e9148",
    "outputId": "d4a72c36-d54c-4661-f145-a327cfcb1d42"
   },
   "outputs": [
    {
     "data": {
      "image/png": "[encoded data removed]",
      "text/plain": [
       "<Figure size 432x288 with 1 Axes>"
      ]
     },
     "metadata": {
      "needs_background": "light"
     },
     "output_type": "display_data"
    }
   ],
   "source": [
    "sns.boxplot(x=\"DEATH\", y=\"AGE\",data=df)\n",
    "plt.title(\"Age-DEATH\",fontsize=18, color=\"red\");"
   ]
  },
  {
   "cell_type": "code",
   "execution_count": 22,
   "id": "b6acba10",
   "metadata": {
    "id": "b6acba10"
   },
   "outputs": [],
   "source": [
    "# 1 (patients died) age interval older compared to 2 (alive) patients."
   ]
  },
  {
   "cell_type": "code",
   "execution_count": 23,
   "id": "d7965177",
   "metadata": {
    "colab": {
     "base_uri": "https://localhost:8080/"
    },
    "id": "d7965177",
    "outputId": "545601dd-3174-40ca-cdbf-edcc7c73725d"
   },
   "outputs": [
    {
     "data": {
      "text/plain": [
       "97    62653\n",
       "2     51203\n",
       "1       555\n",
       "98       58\n",
       "Name: PREGNANT, dtype: int64"
      ]
     },
     "execution_count": 23,
     "metadata": {},
     "output_type": "execute_result"
    }
   ],
   "source": [
    "df['PREGNANT'].value_counts()"
   ]
  },
  {
   "cell_type": "code",
   "execution_count": 24,
   "id": "33f24c80",
   "metadata": {
    "id": "33f24c80"
   },
   "outputs": [],
   "source": [
    "#will leave 1 on \"PREGNANT\" and change others to 2\n",
    "df['PREGNANT'] = df['PREGNANT'].apply(lambda x: x if x == 1 else 2)"
   ]
  },
  {
   "cell_type": "code",
   "execution_count": 25,
   "id": "ed9a3ed3",
   "metadata": {
    "colab": {
     "base_uri": "https://localhost:8080/"
    },
    "id": "ed9a3ed3",
    "outputId": "9e144378-c96e-4799-eed4-b15ad2fa1f1f"
   },
   "outputs": [
    {
     "data": {
      "text/plain": [
       "2     89605\n",
       "1     24709\n",
       "98      155\n",
       "Name: DIABETES, dtype: int64"
      ]
     },
     "execution_count": 25,
     "metadata": {},
     "output_type": "execute_result"
    }
   ],
   "source": [
    "df['DIABETES'].value_counts()"
   ]
  },
  {
   "cell_type": "code",
   "execution_count": 26,
   "id": "e5877f0b",
   "metadata": {
    "id": "e5877f0b"
   },
   "outputs": [],
   "source": [
    "df = df[(df.DIABETES == 1) | (df.DIABETES == 2)] #only take 1 and 2 "
   ]
  },
  {
   "cell_type": "code",
   "execution_count": 27,
   "id": "6d36c516",
   "metadata": {
    "colab": {
     "base_uri": "https://localhost:8080/"
    },
    "id": "6d36c516",
    "outputId": "878c3b5e-9530-4be4-8315-f25b1bf14874"
   },
   "outputs": [
    {
     "data": {
      "text/plain": [
       "2     111124\n",
       "1       3165\n",
       "98        25\n",
       "Name: COPD, dtype: int64"
      ]
     },
     "execution_count": 27,
     "metadata": {},
     "output_type": "execute_result"
    }
   ],
   "source": [
    "#copd: Indicates whether the patient has Chronic obstructive pulmonary disease or not.\n",
    "df['COPD'].value_counts()"
   ]
  },
  {
   "cell_type": "code",
   "execution_count": 28,
   "id": "1a92bd28",
   "metadata": {
    "id": "1a92bd28"
   },
   "outputs": [],
   "source": [
    "df = df[(df.COPD == 1) | (df.COPD == 2)]"
   ]
  },
  {
   "cell_type": "code",
   "execution_count": 29,
   "id": "21fa7849",
   "metadata": {
    "colab": {
     "base_uri": "https://localhost:8080/"
    },
    "id": "21fa7849",
    "outputId": "55b94c9d-d78b-488d-c4cd-dde9406b1ec5"
   },
   "outputs": [
    {
     "data": {
      "text/plain": [
       "2     111177\n",
       "1       3100\n",
       "98        12\n",
       "Name: ASTHMA, dtype: int64"
      ]
     },
     "execution_count": 29,
     "metadata": {},
     "output_type": "execute_result"
    }
   ],
   "source": [
    "df['ASTHMA'].value_counts()"
   ]
  },
  {
   "cell_type": "code",
   "execution_count": 30,
   "id": "588ab2bb",
   "metadata": {
    "id": "588ab2bb"
   },
   "outputs": [],
   "source": [
    "df = df[(df.ASTHMA == 1) | (df.ASTHMA == 2)]"
   ]
  },
  {
   "cell_type": "code",
   "execution_count": 31,
   "id": "b3716444",
   "metadata": {
    "colab": {
     "base_uri": "https://localhost:8080/"
    },
    "id": "b3716444",
    "outputId": "ba74c53f-42bd-46ec-b91f-f8700d46c8de"
   },
   "outputs": [
    {
     "data": {
      "text/plain": [
       "2     111710\n",
       "1       2554\n",
       "98        13\n",
       "Name: INMSUPR, dtype: int64"
      ]
     },
     "execution_count": 31,
     "metadata": {},
     "output_type": "execute_result"
    }
   ],
   "source": [
    "#inmsupr: whether the patient is immunosuppressed or not.\n",
    "df['INMSUPR'].value_counts()"
   ]
  },
  {
   "cell_type": "code",
   "execution_count": 32,
   "id": "278b7f42",
   "metadata": {
    "id": "278b7f42"
   },
   "outputs": [],
   "source": [
    "df = df[(df.INMSUPR == 1) | (df.INMSUPR == 2)]"
   ]
  },
  {
   "cell_type": "code",
   "execution_count": 33,
   "id": "eeb492e2",
   "metadata": {
    "colab": {
     "base_uri": "https://localhost:8080/"
    },
    "id": "eeb492e2",
    "outputId": "3f8e9c7a-e021-4c52-d375-2c98fb834fd7"
   },
   "outputs": [
    {
     "data": {
      "text/plain": [
       "2     83211\n",
       "1     31049\n",
       "98        4\n",
       "Name: HIPERTENSION, dtype: int64"
      ]
     },
     "execution_count": 33,
     "metadata": {},
     "output_type": "execute_result"
    }
   ],
   "source": [
    "df['HIPERTENSION'].value_counts()"
   ]
  },
  {
   "cell_type": "code",
   "execution_count": 34,
   "id": "a092b7de",
   "metadata": {
    "id": "a092b7de"
   },
   "outputs": [],
   "source": [
    "df = df[(df.HIPERTENSION == 1) | (df.HIPERTENSION == 2)]"
   ]
  },
  {
   "cell_type": "code",
   "execution_count": 35,
   "id": "4fc6003b",
   "metadata": {
    "colab": {
     "base_uri": "https://localhost:8080/"
    },
    "id": "4fc6003b",
    "outputId": "9248661b-03fd-4a3d-938c-8f02c63c1a79"
   },
   "outputs": [
    {
     "data": {
      "text/plain": [
       "2     107803\n",
       "1       6421\n",
       "98        36\n",
       "Name: OTHER_DISEASE, dtype: int64"
      ]
     },
     "execution_count": 35,
     "metadata": {},
     "output_type": "execute_result"
    }
   ],
   "source": [
    "df['OTHER_DISEASE'].value_counts()"
   ]
  },
  {
   "cell_type": "code",
   "execution_count": 36,
   "id": "5f9ba0f7",
   "metadata": {
    "id": "5f9ba0f7"
   },
   "outputs": [],
   "source": [
    "df = df[(df.OTHER_DISEASE == 1) | (df.OTHER_DISEASE == 2)]"
   ]
  },
  {
   "cell_type": "code",
   "execution_count": 37,
   "id": "86267206",
   "metadata": {
    "colab": {
     "base_uri": "https://localhost:8080/"
    },
    "id": "86267206",
    "outputId": "c25dc13c-a4dc-4ea4-a5c3-977ecdd7ae0b"
   },
   "outputs": [
    {
     "data": {
      "text/plain": [
       "2     110529\n",
       "1       3685\n",
       "98        10\n",
       "Name: CARDIOVASCULAR, dtype: int64"
      ]
     },
     "execution_count": 37,
     "metadata": {},
     "output_type": "execute_result"
    }
   ],
   "source": [
    "df['CARDIOVASCULAR'].value_counts()"
   ]
  },
  {
   "cell_type": "code",
   "execution_count": 38,
   "id": "730d4892",
   "metadata": {
    "id": "730d4892"
   },
   "outputs": [],
   "source": [
    "df = df[(df.CARDIOVASCULAR == 1) | (df.CARDIOVASCULAR == 2)]"
   ]
  },
  {
   "cell_type": "code",
   "execution_count": 39,
   "id": "3385e9cf",
   "metadata": {
    "colab": {
     "base_uri": "https://localhost:8080/"
    },
    "id": "3385e9cf",
    "outputId": "8b90e1ab-e8c7-4caf-c1ab-b44102b6e53f"
   },
   "outputs": [
    {
     "data": {
      "text/plain": [
       "2     92701\n",
       "1     21510\n",
       "98        3\n",
       "Name: OBESITY, dtype: int64"
      ]
     },
     "execution_count": 39,
     "metadata": {},
     "output_type": "execute_result"
    }
   ],
   "source": [
    "df['OBESITY'].value_counts()"
   ]
  },
  {
   "cell_type": "code",
   "execution_count": 40,
   "id": "6f6096a5",
   "metadata": {
    "id": "6f6096a5"
   },
   "outputs": [],
   "source": [
    "df = df[(df.OBESITY == 1) | (df.OBESITY == 2)]"
   ]
  },
  {
   "cell_type": "code",
   "execution_count": 41,
   "id": "30250fa4",
   "metadata": {
    "colab": {
     "base_uri": "https://localhost:8080/"
    },
    "id": "30250fa4",
    "outputId": "4a710d91-699c-4097-9fc8-312456c7394c"
   },
   "outputs": [
    {
     "data": {
      "text/plain": [
       "2.0     109230\n",
       "1.0       4972\n",
       "98.0         8\n",
       "Name: RENAL_CHRONIC, dtype: int64"
      ]
     },
     "execution_count": 41,
     "metadata": {},
     "output_type": "execute_result"
    }
   ],
   "source": [
    "df['RENAL_CHRONIC'].value_counts()"
   ]
  },
  {
   "cell_type": "code",
   "execution_count": 42,
   "id": "06e3d03c",
   "metadata": {
    "id": "06e3d03c"
   },
   "outputs": [],
   "source": [
    "df = df[(df.RENAL_CHRONIC == 1) | (df.RENAL_CHRONIC == 2)]"
   ]
  },
  {
   "cell_type": "code",
   "execution_count": 43,
   "id": "fb67ebe9",
   "metadata": {
    "colab": {
     "base_uri": "https://localhost:8080/"
    },
    "id": "fb67ebe9",
    "outputId": "d00f0997-b9f3-4ccd-ebb3-530d31c516a4"
   },
   "outputs": [
    {
     "data": {
      "text/plain": [
       "2.0     105436\n",
       "1.0       8741\n",
       "98.0        25\n",
       "Name: TOBACCO, dtype: int64"
      ]
     },
     "execution_count": 43,
     "metadata": {},
     "output_type": "execute_result"
    }
   ],
   "source": [
    "df['TOBACCO'].value_counts()"
   ]
  },
  {
   "cell_type": "code",
   "execution_count": 44,
   "id": "9d5ce13c",
   "metadata": {
    "id": "9d5ce13c"
   },
   "outputs": [],
   "source": [
    "df = df[(df.TOBACCO == 1) | (df.TOBACCO == 2)]"
   ]
  },
  {
   "cell_type": "code",
   "execution_count": 45,
   "id": "e2cab6b4",
   "metadata": {
    "colab": {
     "base_uri": "https://localhost:8080/"
    },
    "id": "e2cab6b4",
    "outputId": "d4f97c45-fdc6-4ba6-92c7-26562ff73e1d"
   },
   "outputs": [
    {
     "data": {
      "text/plain": [
       "3.0    90269\n",
       "7.0    15512\n",
       "6.0     5505\n",
       "2.0     1236\n",
       "5.0     1109\n",
       "1.0      354\n",
       "4.0      192\n",
       "Name: CLASIFFICATION_FINAL, dtype: int64"
      ]
     },
     "execution_count": 45,
     "metadata": {},
     "output_type": "execute_result"
    }
   ],
   "source": [
    "#classification: covid test findings. Values 1-3 mean that the patient was diagnosed with covid in different\n",
    "df['CLASIFFICATION_FINAL'].value_counts()"
   ]
  },
  {
   "cell_type": "code",
   "execution_count": 46,
   "id": "ccc3dfd5",
   "metadata": {
    "id": "ccc3dfd5"
   },
   "outputs": [],
   "source": [
    "df['haveCovid']  = df['CLASIFFICATION_FINAL'] .apply(lambda x: 1 if x < 4 else 2) "
   ]
  },
  {
   "cell_type": "code",
   "execution_count": 47,
   "id": "25ee1841",
   "metadata": {
    "id": "25ee1841"
   },
   "outputs": [],
   "source": [
    "df.drop(columns=[\"CLASIFFICATION_FINAL\"], inplace=True)"
   ]
  },
  {
   "cell_type": "code",
   "execution_count": 48,
   "id": "c1c1e202",
   "metadata": {
    "colab": {
     "base_uri": "https://localhost:8080/"
    },
    "id": "c1c1e202",
    "outputId": "587fd28c-feb5-413c-ab85-45f9310a558e"
   },
   "outputs": [
    {
     "data": {
      "text/plain": [
       "97.0    58548\n",
       "2.0     53314\n",
       "1.0      1771\n",
       "99.0      544\n",
       "Name: ICU, dtype: int64"
      ]
     },
     "execution_count": 48,
     "metadata": {},
     "output_type": "execute_result"
    }
   ],
   "source": [
    "#icu: Indicates whether the patient had been admitted to an Intensive Care Unit.\n",
    "df[\"ICU\"].value_counts()"
   ]
  },
  {
   "cell_type": "code",
   "execution_count": 49,
   "id": "fbb79df2",
   "metadata": {
    "id": "fbb79df2"
   },
   "outputs": [],
   "source": [
    "#too many missing values\n",
    "df.drop(columns=[\"ICU\"], inplace=True)"
   ]
  },
  {
   "cell_type": "code",
   "execution_count": 50,
   "id": "95e7cc9f",
   "metadata": {
    "colab": {
     "base_uri": "https://localhost:8080/"
    },
    "id": "95e7cc9f",
    "outputId": "40bbd5ac-c306-488d-fbef-afa017571add"
   },
   "outputs": [
    {
     "name": "stdout",
     "output_type": "stream",
     "text": [
      "<class 'pandas.core.frame.DataFrame'>\n",
      "Int64Index: 114177 entries, 0 to 115226\n",
      "Data columns (total 19 columns):\n",
      " #   Column          Non-Null Count   Dtype  \n",
      "---  ------          --------------   -----  \n",
      " 0   USMER           114177 non-null  int64  \n",
      " 1   MEDICAL_UNIT    114177 non-null  int64  \n",
      " 2   SEX             114177 non-null  int64  \n",
      " 3   PATIENT_TYPE    114177 non-null  int64  \n",
      " 4   PNEUMONIA       114177 non-null  int64  \n",
      " 5   AGE             114177 non-null  int64  \n",
      " 6   PREGNANT        114177 non-null  int64  \n",
      " 7   DIABETES        114177 non-null  int64  \n",
      " 8   COPD            114177 non-null  int64  \n",
      " 9   ASTHMA          114177 non-null  int64  \n",
      " 10  INMSUPR         114177 non-null  int64  \n",
      " 11  HIPERTENSION    114177 non-null  int64  \n",
      " 12  OTHER_DISEASE   114177 non-null  int64  \n",
      " 13  CARDIOVASCULAR  114177 non-null  int64  \n",
      " 14  OBESITY         114177 non-null  int64  \n",
      " 15  RENAL_CHRONIC   114177 non-null  float64\n",
      " 16  TOBACCO         114177 non-null  float64\n",
      " 17  DEATH           114177 non-null  int64  \n",
      " 18  haveCovid       114177 non-null  int64  \n",
      "dtypes: float64(2), int64(17)\n",
      "memory usage: 17.4 MB\n"
     ]
    }
   ],
   "source": [
    "df.info()"
   ]
  },
  {
   "cell_type": "code",
   "execution_count": 51,
   "id": "c5a6d881",
   "metadata": {
    "colab": {
     "base_uri": "https://localhost:8080/"
    },
    "id": "c5a6d881",
    "outputId": "b4857770-00f1-42fa-984f-7f3bbdd0c0a0"
   },
   "outputs": [
    {
     "data": {
      "text/plain": [
       "USMER             0.123462\n",
       "MEDICAL_UNIT     -0.256712\n",
       "SEX              -0.126611\n",
       "PATIENT_TYPE     -0.644276\n",
       "PNEUMONIA         0.446104\n",
       "AGE              -0.529364\n",
       "PREGNANT         -0.044318\n",
       "DIABETES          0.277610\n",
       "COPD              0.128122\n",
       "ASTHMA           -0.038834\n",
       "INMSUPR           0.078243\n",
       "HIPERTENSION      0.290546\n",
       "OTHER_DISEASE     0.073427\n",
       "CARDIOVASCULAR    0.109055\n",
       "OBESITY           0.034120\n",
       "RENAL_CHRONIC     0.167995\n",
       "TOBACCO           0.024400\n",
       "DEATH             1.000000\n",
       "haveCovid        -0.198761\n",
       "Name: DEATH, dtype: float64"
      ]
     },
     "execution_count": 51,
     "metadata": {},
     "output_type": "execute_result"
    }
   ],
   "source": [
    "df.corr()['DEATH'] "
   ]
  },
  {
   "cell_type": "code",
   "execution_count": 52,
   "id": "9be2e2fe",
   "metadata": {
    "id": "9be2e2fe"
   },
   "outputs": [],
   "source": [
    "#drop the low correlational features\n",
    "df.drop(columns=[\"SEX\",\"PREGNANT\",\"ASTHMA\",\"INMSUPR\",\"OTHER_DISEASE\",\"TOBACCO\",\"CARDIOVASCULAR\",\"OBESITY\",\"COPD\"],inplace=True)"
   ]
  },
  {
   "cell_type": "code",
   "execution_count": 53,
   "id": "0e90c74c",
   "metadata": {
    "id": "0e90c74c"
   },
   "outputs": [],
   "source": [
    "#get dummies converts a categorical variable to binary dummy variables\n",
    "df = pd.get_dummies(df,columns=[\"MEDICAL_UNIT\"],drop_first=True) "
   ]
  },
  {
   "cell_type": "code",
   "execution_count": 54,
   "id": "94598418",
   "metadata": {
    "id": "94598418"
   },
   "outputs": [],
   "source": [
    "#Scaling the numeric feature\n",
    "from sklearn.preprocessing import StandardScaler ,MinMaxScaler \n",
    "df[['AGE']] = MinMaxScaler().fit_transform(df[['AGE']])"
   ]
  },
  {
   "cell_type": "code",
   "execution_count": 55,
   "id": "a15f4a36",
   "metadata": {
    "colab": {
     "base_uri": "https://localhost:8080/",
     "height": 206
    },
    "id": "a15f4a36",
    "outputId": "32ff4ef7-af73-4885-afc8-ce5f617f7b2a"
   },
   "outputs": [
    {
     "data": {
      "text/html": [
       "\n",
       "  <div id=\"df-d9aba9cc-3c8d-4d71-b5d5-9e93fd05c15e\">\n",
       "    <div class=\"colab-df-container\">\n",
       "      <div>\n",
       "<style scoped>\n",
       "    .dataframe tbody tr th:only-of-type {\n",
       "        vertical-align: middle;\n",
       "    }\n",
       "\n",
       "    .dataframe tbody tr th {\n",
       "        vertical-align: top;\n",
       "    }\n",
       "\n",
       "    .dataframe thead th {\n",
       "        text-align: right;\n",
       "    }\n",
       "</style>\n",
       "<table border=\"1\" class=\"dataframe\">\n",
       "  <thead>\n",
       "    <tr style=\"text-align: right;\">\n",
       "      <th></th>\n",
       "      <th>USMER</th>\n",
       "      <th>PATIENT_TYPE</th>\n",
       "      <th>PNEUMONIA</th>\n",
       "      <th>AGE</th>\n",
       "      <th>DIABETES</th>\n",
       "      <th>HIPERTENSION</th>\n",
       "      <th>RENAL_CHRONIC</th>\n",
       "      <th>DEATH</th>\n",
       "      <th>haveCovid</th>\n",
       "      <th>MEDICAL_UNIT_2</th>\n",
       "      <th>MEDICAL_UNIT_3</th>\n",
       "      <th>MEDICAL_UNIT_4</th>\n",
       "    </tr>\n",
       "  </thead>\n",
       "  <tbody>\n",
       "    <tr>\n",
       "      <th>0</th>\n",
       "      <td>2</td>\n",
       "      <td>1</td>\n",
       "      <td>1</td>\n",
       "      <td>0.607477</td>\n",
       "      <td>2</td>\n",
       "      <td>1</td>\n",
       "      <td>2.0</td>\n",
       "      <td>1</td>\n",
       "      <td>1</td>\n",
       "      <td>0</td>\n",
       "      <td>0</td>\n",
       "      <td>0</td>\n",
       "    </tr>\n",
       "    <tr>\n",
       "      <th>1</th>\n",
       "      <td>2</td>\n",
       "      <td>1</td>\n",
       "      <td>1</td>\n",
       "      <td>0.672897</td>\n",
       "      <td>2</td>\n",
       "      <td>1</td>\n",
       "      <td>1.0</td>\n",
       "      <td>1</td>\n",
       "      <td>2</td>\n",
       "      <td>0</td>\n",
       "      <td>0</td>\n",
       "      <td>0</td>\n",
       "    </tr>\n",
       "    <tr>\n",
       "      <th>2</th>\n",
       "      <td>2</td>\n",
       "      <td>2</td>\n",
       "      <td>2</td>\n",
       "      <td>0.514019</td>\n",
       "      <td>1</td>\n",
       "      <td>2</td>\n",
       "      <td>2.0</td>\n",
       "      <td>1</td>\n",
       "      <td>1</td>\n",
       "      <td>0</td>\n",
       "      <td>0</td>\n",
       "      <td>0</td>\n",
       "    </tr>\n",
       "    <tr>\n",
       "      <th>3</th>\n",
       "      <td>2</td>\n",
       "      <td>1</td>\n",
       "      <td>2</td>\n",
       "      <td>0.495327</td>\n",
       "      <td>2</td>\n",
       "      <td>2</td>\n",
       "      <td>2.0</td>\n",
       "      <td>1</td>\n",
       "      <td>2</td>\n",
       "      <td>0</td>\n",
       "      <td>0</td>\n",
       "      <td>0</td>\n",
       "    </tr>\n",
       "    <tr>\n",
       "      <th>4</th>\n",
       "      <td>2</td>\n",
       "      <td>1</td>\n",
       "      <td>2</td>\n",
       "      <td>0.635514</td>\n",
       "      <td>1</td>\n",
       "      <td>1</td>\n",
       "      <td>2.0</td>\n",
       "      <td>1</td>\n",
       "      <td>1</td>\n",
       "      <td>0</td>\n",
       "      <td>0</td>\n",
       "      <td>0</td>\n",
       "    </tr>\n",
       "  </tbody>\n",
       "</table>\n",
       "</div>\n",
       "      <button class=\"colab-df-convert\" onclick=\"convertToInteractive('df-d9aba9cc-3c8d-4d71-b5d5-9e93fd05c15e')\"\n",
       "              title=\"Convert this dataframe to an interactive table.\"\n",
       "              style=\"display:none;\">\n",
       "        \n",
       "  <svg xmlns=\"http://www.w3.org/2000/svg\" height=\"24px\"viewBox=\"0 0 24 24\"\n",
       "       width=\"24px\">\n",
       "    <path d=\"M0 0h24v24H0V0z\" fill=\"none\"/>\n",
       "    <path d=\"M18.56 5.44l.94 2.06.94-2.06 2.06-.94-2.06-.94-.94-2.06-.94 2.06-2.06.94zm-11 1L8.5 8.5l.94-2.06 2.06-.94-2.06-.94L8.5 2.5l-.94 2.06-2.06.94zm10 10l.94 2.06.94-2.06 2.06-.94-2.06-.94-.94-2.06-.94 2.06-2.06.94z\"/><path d=\"M17.41 7.96l-1.37-1.37c-.4-.4-.92-.59-1.43-.59-.52 0-1.04.2-1.43.59L10.3 9.45l-7.72 7.72c-.78.78-.78 2.05 0 2.83L4 21.41c.39.39.9.59 1.41.59.51 0 1.02-.2 1.41-.59l7.78-7.78 2.81-2.81c.8-.78.8-2.07 0-2.86zM5.41 20L4 18.59l7.72-7.72 1.47 1.35L5.41 20z\"/>\n",
       "  </svg>\n",
       "      </button>\n",
       "      \n",
       "  <style>\n",
       "    .colab-df-container {\n",
       "      display:flex;\n",
       "      flex-wrap:wrap;\n",
       "      gap: 12px;\n",
       "    }\n",
       "\n",
       "    .colab-df-convert {\n",
       "      background-color: #E8F0FE;\n",
       "      border: none;\n",
       "      border-radius: 50%;\n",
       "      cursor: pointer;\n",
       "      display: none;\n",
       "      fill: #1967D2;\n",
       "      height: 32px;\n",
       "      padding: 0 0 0 0;\n",
       "      width: 32px;\n",
       "    }\n",
       "\n",
       "    .colab-df-convert:hover {\n",
       "      background-color: #E2EBFA;\n",
       "      box-shadow: 0px 1px 2px rgba(60, 64, 67, 0.3), 0px 1px 3px 1px rgba(60, 64, 67, 0.15);\n",
       "      fill: #174EA6;\n",
       "    }\n",
       "\n",
       "    [theme=dark] .colab-df-convert {\n",
       "      background-color: #3B4455;\n",
       "      fill: #D2E3FC;\n",
       "    }\n",
       "\n",
       "    [theme=dark] .colab-df-convert:hover {\n",
       "      background-color: #434B5C;\n",
       "      box-shadow: 0px 1px 3px 1px rgba(0, 0, 0, 0.15);\n",
       "      filter: drop-shadow(0px 1px 2px rgba(0, 0, 0, 0.3));\n",
       "      fill: #FFFFFF;\n",
       "    }\n",
       "  </style>\n",
       "\n",
       "      <script>\n",
       "        const buttonEl =\n",
       "          document.querySelector('#df-d9aba9cc-3c8d-4d71-b5d5-9e93fd05c15e button.colab-df-convert');\n",
       "        buttonEl.style.display =\n",
       "          google.colab.kernel.accessAllowed ? 'block' : 'none';\n",
       "\n",
       "        async function convertToInteractive(key) {\n",
       "          const element = document.querySelector('#df-d9aba9cc-3c8d-4d71-b5d5-9e93fd05c15e');\n",
       "          const dataTable =\n",
       "            await google.colab.kernel.invokeFunction('convertToInteractive',\n",
       "                                                     [key], {});\n",
       "          if (!dataTable) return;\n",
       "\n",
       "          const docLinkHtml = 'Like what you see? Visit the ' +\n",
       "            '<a target=\"_blank\" href=https://colab.research.google.com/notebooks/data_table.ipynb>data table notebook</a>'\n",
       "            + ' to learn more about interactive tables.';\n",
       "          element.innerHTML = '';\n",
       "          dataTable['output_type'] = 'display_data';\n",
       "          await google.colab.output.renderOutput(dataTable, element);\n",
       "          const docLink = document.createElement('div');\n",
       "          docLink.innerHTML = docLinkHtml;\n",
       "          element.appendChild(docLink);\n",
       "        }\n",
       "      </script>\n",
       "    </div>\n",
       "  </div>\n",
       "  "
      ],
      "text/plain": [
       "   USMER  PATIENT_TYPE  PNEUMONIA       AGE  DIABETES  HIPERTENSION  \\\n",
       "0      2             1          1  0.607477         2             1   \n",
       "1      2             1          1  0.672897         2             1   \n",
       "2      2             2          2  0.514019         1             2   \n",
       "3      2             1          2  0.495327         2             2   \n",
       "4      2             1          2  0.635514         1             1   \n",
       "\n",
       "   RENAL_CHRONIC  DEATH  haveCovid  MEDICAL_UNIT_2  MEDICAL_UNIT_3  \\\n",
       "0            2.0      1          1               0               0   \n",
       "1            1.0      1          2               0               0   \n",
       "2            2.0      1          1               0               0   \n",
       "3            2.0      1          2               0               0   \n",
       "4            2.0      1          1               0               0   \n",
       "\n",
       "   MEDICAL_UNIT_4  \n",
       "0               0  \n",
       "1               0  \n",
       "2               0  \n",
       "3               0  \n",
       "4               0  "
      ]
     },
     "execution_count": 55,
     "metadata": {},
     "output_type": "execute_result"
    }
   ],
   "source": [
    "df.head()"
   ]
  },
  {
   "cell_type": "markdown",
   "id": "f2951c9b",
   "metadata": {
    "id": "f2951c9b"
   },
   "source": [
    "## Apply Model"
   ]
  },
  {
   "cell_type": "code",
   "execution_count": 56,
   "id": "76e24d1e",
   "metadata": {
    "id": "76e24d1e"
   },
   "outputs": [],
   "source": [
    "# Function to call all Classification Algorithms\n",
    "def classification_funct(dataset,column_to_be_studied):\n",
    "    #importing Classification libraries\n",
    "    from sklearn.naive_bayes import GaussianNB\n",
    "    from sklearn.naive_bayes import BernoulliNB\n",
    "    from sklearn.svm import SVC\n",
    "    from sklearn.neighbors import KNeighborsClassifier\n",
    "    from sklearn.tree import DecisionTreeClassifier\n",
    "    from sklearn.ensemble import RandomForestClassifier\n",
    "    from sklearn.linear_model import LogisticRegression\n",
    "    from xgboost import XGBClassifier\n",
    "    \n",
    "    from sklearn.model_selection import train_test_split\n",
    "    \n",
    "    from sklearn.metrics import accuracy_score,precision_score,recall_score,f1_score\n",
    "    from sklearn.metrics import confusion_matrix,classification_report\n",
    "       \n",
    "    # assign x and y, split data\n",
    "    dataset=dataset[dataset[column_to_be_studied].notnull()]\n",
    "    x,y=dataset.drop(column_to_be_studied,axis=1),dataset[[column_to_be_studied]]    \n",
    "  \n",
    "    x_train,x_test,y_train,y_test=train_test_split(x,y,test_size=0.2,random_state=42)\n",
    "    \n",
    "    # create an instance of each classification algorithm \n",
    "    D=DecisionTreeClassifier()\n",
    "    R=RandomForestClassifier()\n",
    "    Log=LogisticRegression()\n",
    "    XGB=XGBClassifier()\n",
    "\n",
    "    algos=[D,R,Log,XGB]\n",
    "    algo_names=['DecisionTreeClassifier','RandomForestClassifier','LogisticRegression','XGBClassifier']\n",
    "   \n",
    "    accuracy_scored=[]\n",
    "    precision_scored=[]\n",
    "    recall_scored=[]\n",
    "    f1_scored=[]\n",
    "    \n",
    "    for item in algos:\n",
    "        item.fit(x_train,y_train)\n",
    "        item.predict(x_test)\n",
    "        accuracy_scored.append(accuracy_score(y_test,item.predict(x_test)))\n",
    "        precision_scored.append(precision_score(y_test,item.predict(x_test)))\n",
    "        recall_scored.append(recall_score(y_test,item.predict(x_test)))\n",
    "        f1_scored.append(f1_score(y_test,item.predict(x_test)))\n",
    "    \n",
    "    # create dataframe with results\n",
    "    result=pd.DataFrame(columns=['f1_score','recall_score','precision_score','accuracy_score'],index=algo_names)\n",
    "    result['f1_score']=f1_scored\n",
    "    result['recall_score']=recall_scored\n",
    "    result['precision_score']=precision_scored\n",
    "    result['accuracy_score']=accuracy_scored\n",
    "    return result.sort_values('accuracy_score',ascending=False)"
   ]
  },
  {
   "cell_type": "code",
   "execution_count": 57,
   "id": "da0bc91e",
   "metadata": {
    "colab": {
     "base_uri": "https://localhost:8080/",
     "height": 175
    },
    "id": "da0bc91e",
    "outputId": "90c7f2db-cd4c-49a5-bf18-1f343faf665c"
   },
   "outputs": [
    {
     "data": {
      "text/html": [
       "\n",
       "  <div id=\"df-ab088bf8-fba9-4890-a0fa-bcadb13236a1\">\n",
       "    <div class=\"colab-df-container\">\n",
       "      <div>\n",
       "<style scoped>\n",
       "    .dataframe tbody tr th:only-of-type {\n",
       "        vertical-align: middle;\n",
       "    }\n",
       "\n",
       "    .dataframe tbody tr th {\n",
       "        vertical-align: top;\n",
       "    }\n",
       "\n",
       "    .dataframe thead th {\n",
       "        text-align: right;\n",
       "    }\n",
       "</style>\n",
       "<table border=\"1\" class=\"dataframe\">\n",
       "  <thead>\n",
       "    <tr style=\"text-align: right;\">\n",
       "      <th></th>\n",
       "      <th>f1_score</th>\n",
       "      <th>recall_score</th>\n",
       "      <th>precision_score</th>\n",
       "      <th>accuracy_score</th>\n",
       "    </tr>\n",
       "  </thead>\n",
       "  <tbody>\n",
       "    <tr>\n",
       "      <th>XGBClassifier</th>\n",
       "      <td>0.817188</td>\n",
       "      <td>0.832591</td>\n",
       "      <td>0.802344</td>\n",
       "      <td>0.864556</td>\n",
       "    </tr>\n",
       "    <tr>\n",
       "      <th>LogisticRegression</th>\n",
       "      <td>0.806725</td>\n",
       "      <td>0.820667</td>\n",
       "      <td>0.793248</td>\n",
       "      <td>0.857024</td>\n",
       "    </tr>\n",
       "    <tr>\n",
       "      <th>RandomForestClassifier</th>\n",
       "      <td>0.806512</td>\n",
       "      <td>0.826328</td>\n",
       "      <td>0.787625</td>\n",
       "      <td>0.855842</td>\n",
       "    </tr>\n",
       "    <tr>\n",
       "      <th>DecisionTreeClassifier</th>\n",
       "      <td>0.807578</td>\n",
       "      <td>0.834277</td>\n",
       "      <td>0.782535</td>\n",
       "      <td>0.855448</td>\n",
       "    </tr>\n",
       "  </tbody>\n",
       "</table>\n",
       "</div>\n",
       "      <button class=\"colab-df-convert\" onclick=\"convertToInteractive('df-ab088bf8-fba9-4890-a0fa-bcadb13236a1')\"\n",
       "              title=\"Convert this dataframe to an interactive table.\"\n",
       "              style=\"display:none;\">\n",
       "        \n",
       "  <svg xmlns=\"http://www.w3.org/2000/svg\" height=\"24px\"viewBox=\"0 0 24 24\"\n",
       "       width=\"24px\">\n",
       "    <path d=\"M0 0h24v24H0V0z\" fill=\"none\"/>\n",
       "    <path d=\"M18.56 5.44l.94 2.06.94-2.06 2.06-.94-2.06-.94-.94-2.06-.94 2.06-2.06.94zm-11 1L8.5 8.5l.94-2.06 2.06-.94-2.06-.94L8.5 2.5l-.94 2.06-2.06.94zm10 10l.94 2.06.94-2.06 2.06-.94-2.06-.94-.94-2.06-.94 2.06-2.06.94z\"/><path d=\"M17.41 7.96l-1.37-1.37c-.4-.4-.92-.59-1.43-.59-.52 0-1.04.2-1.43.59L10.3 9.45l-7.72 7.72c-.78.78-.78 2.05 0 2.83L4 21.41c.39.39.9.59 1.41.59.51 0 1.02-.2 1.41-.59l7.78-7.78 2.81-2.81c.8-.78.8-2.07 0-2.86zM5.41 20L4 18.59l7.72-7.72 1.47 1.35L5.41 20z\"/>\n",
       "  </svg>\n",
       "      </button>\n",
       "      \n",
       "  <style>\n",
       "    .colab-df-container {\n",
       "      display:flex;\n",
       "      flex-wrap:wrap;\n",
       "      gap: 12px;\n",
       "    }\n",
       "\n",
       "    .colab-df-convert {\n",
       "      background-color: #E8F0FE;\n",
       "      border: none;\n",
       "      border-radius: 50%;\n",
       "      cursor: pointer;\n",
       "      display: none;\n",
       "      fill: #1967D2;\n",
       "      height: 32px;\n",
       "      padding: 0 0 0 0;\n",
       "      width: 32px;\n",
       "    }\n",
       "\n",
       "    .colab-df-convert:hover {\n",
       "      background-color: #E2EBFA;\n",
       "      box-shadow: 0px 1px 2px rgba(60, 64, 67, 0.3), 0px 1px 3px 1px rgba(60, 64, 67, 0.15);\n",
       "      fill: #174EA6;\n",
       "    }\n",
       "\n",
       "    [theme=dark] .colab-df-convert {\n",
       "      background-color: #3B4455;\n",
       "      fill: #D2E3FC;\n",
       "    }\n",
       "\n",
       "    [theme=dark] .colab-df-convert:hover {\n",
       "      background-color: #434B5C;\n",
       "      box-shadow: 0px 1px 3px 1px rgba(0, 0, 0, 0.15);\n",
       "      filter: drop-shadow(0px 1px 2px rgba(0, 0, 0, 0.3));\n",
       "      fill: #FFFFFF;\n",
       "    }\n",
       "  </style>\n",
       "\n",
       "      <script>\n",
       "        const buttonEl =\n",
       "          document.querySelector('#df-ab088bf8-fba9-4890-a0fa-bcadb13236a1 button.colab-df-convert');\n",
       "        buttonEl.style.display =\n",
       "          google.colab.kernel.accessAllowed ? 'block' : 'none';\n",
       "\n",
       "        async function convertToInteractive(key) {\n",
       "          const element = document.querySelector('#df-ab088bf8-fba9-4890-a0fa-bcadb13236a1');\n",
       "          const dataTable =\n",
       "            await google.colab.kernel.invokeFunction('convertToInteractive',\n",
       "                                                     [key], {});\n",
       "          if (!dataTable) return;\n",
       "\n",
       "          const docLinkHtml = 'Like what you see? Visit the ' +\n",
       "            '<a target=\"_blank\" href=https://colab.research.google.com/notebooks/data_table.ipynb>data table notebook</a>'\n",
       "            + ' to learn more about interactive tables.';\n",
       "          element.innerHTML = '';\n",
       "          dataTable['output_type'] = 'display_data';\n",
       "          await google.colab.output.renderOutput(dataTable, element);\n",
       "          const docLink = document.createElement('div');\n",
       "          docLink.innerHTML = docLinkHtml;\n",
       "          element.appendChild(docLink);\n",
       "        }\n",
       "      </script>\n",
       "    </div>\n",
       "  </div>\n",
       "  "
      ],
      "text/plain": [
       "                        f1_score  recall_score  precision_score  \\\n",
       "XGBClassifier           0.817188      0.832591         0.802344   \n",
       "LogisticRegression      0.806725      0.820667         0.793248   \n",
       "RandomForestClassifier  0.806512      0.826328         0.787625   \n",
       "DecisionTreeClassifier  0.807578      0.834277         0.782535   \n",
       "\n",
       "                        accuracy_score  \n",
       "XGBClassifier                 0.864556  \n",
       "LogisticRegression            0.857024  \n",
       "RandomForestClassifier        0.855842  \n",
       "DecisionTreeClassifier        0.855448  "
      ]
     },
     "execution_count": 57,
     "metadata": {},
     "output_type": "execute_result"
    }
   ],
   "source": [
    "classification_funct(df,\"DEATH\")"
   ]
  }
 ],
 "metadata": {
  "accelerator": "GPU",
  "colab": {
   "machine_shape": "hm",
   "provenance": []
  },
  "gpuClass": "premium",
  "kernelspec": {
   "display_name": "Python 3 (ipykernel)",
   "language": "python",
   "name": "python3"
  },
  "language_info": {
   "codemirror_mode": {
    "name": "ipython",
    "version": 3
   },
   "file_extension": ".py",
   "mimetype": "text/x-python",
   "name": "python",
   "nbconvert_exporter": "python",
   "pygments_lexer": "ipython3",
   "version": "3.9.12"
  }
 },
 "nbformat": 4,
 "nbformat_minor": 5
}
