{
 "cells": [
  {
   "cell_type": "code",
   "execution_count": 1,
   "id": "6b4c1056",
   "metadata": {},
   "outputs": [],
   "source": [
    "import pandas as pd\n",
    "import numpy as np\n",
    "import scipy as sp\n",
    "import seaborn as sns\n",
    "from sklearn.model_selection import train_test_split\n",
    "from sklearn.feature_extraction.text import CountVectorizer, TfidfVectorizer\n",
    "from textblob import TextBlob, Word\n",
    "from nltk.stem.snowball import SnowballStemmer\n",
    "from wordcloud import WordCloud\n",
    "import nltk\n",
    "from nltk.tokenize import sent_tokenize,word_tokenize\n",
    "import matplotlib.pyplot as plt\n",
    "import warnings\n",
    "warnings.filterwarnings(\"ignore\")\n",
    "%matplotlib inline"
   ]
  },
  {
   "cell_type": "code",
   "execution_count": 2,
   "id": "1bf93bbf",
   "metadata": {},
   "outputs": [],
   "source": [
    "df=pd.read_csv(\"restaurant.csv\")"
   ]
  },
  {
   "cell_type": "code",
   "execution_count": 3,
   "id": "bd524bfc",
   "metadata": {},
   "outputs": [
    {
     "data": {
      "text/html": [
       "<div>\n",
       "<style scoped>\n",
       "    .dataframe tbody tr th:only-of-type {\n",
       "        vertical-align: middle;\n",
       "    }\n",
       "\n",
       "    .dataframe tbody tr th {\n",
       "        vertical-align: top;\n",
       "    }\n",
       "\n",
       "    .dataframe thead th {\n",
       "        text-align: right;\n",
       "    }\n",
       "</style>\n",
       "<table border=\"1\" class=\"dataframe\">\n",
       "  <thead>\n",
       "    <tr style=\"text-align: right;\">\n",
       "      <th></th>\n",
       "      <th>Unnamed: 0</th>\n",
       "      <th>review_id</th>\n",
       "      <th>user_id</th>\n",
       "      <th>business_id</th>\n",
       "      <th>stars</th>\n",
       "      <th>useful</th>\n",
       "      <th>funny</th>\n",
       "      <th>cool</th>\n",
       "      <th>text</th>\n",
       "      <th>date</th>\n",
       "    </tr>\n",
       "  </thead>\n",
       "  <tbody>\n",
       "    <tr>\n",
       "      <th>0</th>\n",
       "      <td>2370338</td>\n",
       "      <td>_WTGv5XnA-qb_XD1D7Z0jg</td>\n",
       "      <td>6PgdGb3HrZdsfl2GiULo8w</td>\n",
       "      <td>RESDUcs7fIiihp38-d6_6g</td>\n",
       "      <td>5</td>\n",
       "      <td>0</td>\n",
       "      <td>1</td>\n",
       "      <td>0</td>\n",
       "      <td>After getting food poisoning at the Palms hote...</td>\n",
       "      <td>2012-12-04 03:10:18</td>\n",
       "    </tr>\n",
       "    <tr>\n",
       "      <th>1</th>\n",
       "      <td>2370357</td>\n",
       "      <td>JlNnsvMPLK_1-X2hwzK24w</td>\n",
       "      <td>IS9yw8P2uAPBX6FNLLX4KA</td>\n",
       "      <td>RESDUcs7fIiihp38-d6_6g</td>\n",
       "      <td>4</td>\n",
       "      <td>39</td>\n",
       "      <td>21</td>\n",
       "      <td>29</td>\n",
       "      <td>\"A feast worthy of Gods\"\\n\\nBaccarnal Buffet i...</td>\n",
       "      <td>2014-01-17 00:50:50</td>\n",
       "    </tr>\n",
       "    <tr>\n",
       "      <th>2</th>\n",
       "      <td>2370373</td>\n",
       "      <td>hBkoWffORRb6aqKhC_Li2A</td>\n",
       "      <td>uZdFsE_aHbFBChgN6Xa8tw</td>\n",
       "      <td>RESDUcs7fIiihp38-d6_6g</td>\n",
       "      <td>4</td>\n",
       "      <td>1</td>\n",
       "      <td>1</td>\n",
       "      <td>1</td>\n",
       "      <td>The crab legs are better than the ones at Wick...</td>\n",
       "      <td>2015-06-08 18:03:09</td>\n",
       "    </tr>\n",
       "    <tr>\n",
       "      <th>3</th>\n",
       "      <td>2370411</td>\n",
       "      <td>rbkxvrgZg5kdCL2a66QYmA</td>\n",
       "      <td>8ZWJNAEWsymXDzKx3B0tTQ</td>\n",
       "      <td>RESDUcs7fIiihp38-d6_6g</td>\n",
       "      <td>1</td>\n",
       "      <td>0</td>\n",
       "      <td>0</td>\n",
       "      <td>0</td>\n",
       "      <td>Not worth it! Too salty food and expensive! Th...</td>\n",
       "      <td>2016-12-19 16:15:29</td>\n",
       "    </tr>\n",
       "    <tr>\n",
       "      <th>4</th>\n",
       "      <td>2370500</td>\n",
       "      <td>5tw_pedoHVi9bgeiBNsISg</td>\n",
       "      <td>E0sm4Ve7ifanFYeQMcV8Eg</td>\n",
       "      <td>RESDUcs7fIiihp38-d6_6g</td>\n",
       "      <td>5</td>\n",
       "      <td>0</td>\n",
       "      <td>0</td>\n",
       "      <td>0</td>\n",
       "      <td>I would give this infinite stars if I could. M...</td>\n",
       "      <td>2015-07-28 07:13:17</td>\n",
       "    </tr>\n",
       "  </tbody>\n",
       "</table>\n",
       "</div>"
      ],
      "text/plain": [
       "   Unnamed: 0               review_id                 user_id  \\\n",
       "0     2370338  _WTGv5XnA-qb_XD1D7Z0jg  6PgdGb3HrZdsfl2GiULo8w   \n",
       "1     2370357  JlNnsvMPLK_1-X2hwzK24w  IS9yw8P2uAPBX6FNLLX4KA   \n",
       "2     2370373  hBkoWffORRb6aqKhC_Li2A  uZdFsE_aHbFBChgN6Xa8tw   \n",
       "3     2370411  rbkxvrgZg5kdCL2a66QYmA  8ZWJNAEWsymXDzKx3B0tTQ   \n",
       "4     2370500  5tw_pedoHVi9bgeiBNsISg  E0sm4Ve7ifanFYeQMcV8Eg   \n",
       "\n",
       "              business_id  stars  useful  funny  cool  \\\n",
       "0  RESDUcs7fIiihp38-d6_6g      5       0      1     0   \n",
       "1  RESDUcs7fIiihp38-d6_6g      4      39     21    29   \n",
       "2  RESDUcs7fIiihp38-d6_6g      4       1      1     1   \n",
       "3  RESDUcs7fIiihp38-d6_6g      1       0      0     0   \n",
       "4  RESDUcs7fIiihp38-d6_6g      5       0      0     0   \n",
       "\n",
       "                                                text                 date  \n",
       "0  After getting food poisoning at the Palms hote...  2012-12-04 03:10:18  \n",
       "1  \"A feast worthy of Gods\"\\n\\nBaccarnal Buffet i...  2014-01-17 00:50:50  \n",
       "2  The crab legs are better than the ones at Wick...  2015-06-08 18:03:09  \n",
       "3  Not worth it! Too salty food and expensive! Th...  2016-12-19 16:15:29  \n",
       "4  I would give this infinite stars if I could. M...  2015-07-28 07:13:17  "
      ]
     },
     "execution_count": 3,
     "metadata": {},
     "output_type": "execute_result"
    }
   ],
   "source": [
    "df.head()"
   ]
  },
  {
   "cell_type": "code",
   "execution_count": 4,
   "id": "79c71fd0",
   "metadata": {},
   "outputs": [
    {
     "name": "stdout",
     "output_type": "stream",
     "text": [
      "<class 'pandas.core.frame.DataFrame'>\n",
      "RangeIndex: 10417 entries, 0 to 10416\n",
      "Data columns (total 10 columns):\n",
      " #   Column       Non-Null Count  Dtype \n",
      "---  ------       --------------  ----- \n",
      " 0   Unnamed: 0   10417 non-null  int64 \n",
      " 1   review_id    10417 non-null  object\n",
      " 2   user_id      10417 non-null  object\n",
      " 3   business_id  10417 non-null  object\n",
      " 4   stars        10417 non-null  int64 \n",
      " 5   useful       10417 non-null  int64 \n",
      " 6   funny        10417 non-null  int64 \n",
      " 7   cool         10417 non-null  int64 \n",
      " 8   text         10417 non-null  object\n",
      " 9   date         10417 non-null  object\n",
      "dtypes: int64(5), object(5)\n",
      "memory usage: 814.0+ KB\n"
     ]
    }
   ],
   "source": [
    "df.info()"
   ]
  },
  {
   "cell_type": "code",
   "execution_count": 5,
   "id": "894bd5d4",
   "metadata": {},
   "outputs": [],
   "source": [
    "df=df[['stars','text']]"
   ]
  },
  {
   "cell_type": "code",
   "execution_count": 6,
   "id": "b5a13880",
   "metadata": {},
   "outputs": [
    {
     "name": "stdout",
     "output_type": "stream",
     "text": [
      "<class 'pandas.core.frame.DataFrame'>\n",
      "RangeIndex: 10417 entries, 0 to 10416\n",
      "Data columns (total 2 columns):\n",
      " #   Column  Non-Null Count  Dtype \n",
      "---  ------  --------------  ----- \n",
      " 0   stars   10417 non-null  int64 \n",
      " 1   text    10417 non-null  object\n",
      "dtypes: int64(1), object(1)\n",
      "memory usage: 162.9+ KB\n"
     ]
    }
   ],
   "source": [
    "df.info()"
   ]
  },
  {
   "cell_type": "markdown",
   "id": "14d01248",
   "metadata": {},
   "source": [
    "#NLP Projesinde 7 altın kural\n",
    "1- Hepsini küçük harfe çevir.\n",
    "2- Noktalama işaretlerini kaldır.\n",
    "3- Rakamları kaldır.\n",
    "4- Satır sonu ve Enter veya \\n \\r kaldir\n",
    "5- Stopwords kaldır gereksiz kelimeleri kaldır.\n",
    "6- Tokenize et.Kelimeleri tek tek ayır array yada listeye at.\n",
    "7- Lemma ve Stemma ile eklerini kaldır köklerini bul.\n",
    "8- Vectorize ile yazıları rakama çevir"
   ]
  },
  {
   "cell_type": "code",
   "execution_count": 7,
   "id": "8878ed92",
   "metadata": {},
   "outputs": [],
   "source": [
    "df['text']=df['text'].str.lower() #küçük harfe çevirdik"
   ]
  },
  {
   "cell_type": "code",
   "execution_count": 8,
   "id": "5b8c0b5c",
   "metadata": {},
   "outputs": [],
   "source": [
    "df['text']=df['text'].str.replace('[^\\w\\s]','') #noktalama işaretlerini kaldirdik"
   ]
  },
  {
   "cell_type": "code",
   "execution_count": 9,
   "id": "4883bc11",
   "metadata": {},
   "outputs": [],
   "source": [
    "df['text']=df['text'].str.replace('\\d+','') #rakamlari kaldirdik"
   ]
  },
  {
   "cell_type": "code",
   "execution_count": 10,
   "id": "2a2a6dc1",
   "metadata": {},
   "outputs": [],
   "source": [
    "df['text']=df['text'].str.replace('\\n',' ').replace('\\r',' ') #Enter ve yeni satir kodlarini kaldirdik"
   ]
  },
  {
   "cell_type": "code",
   "execution_count": 11,
   "id": "ef7781a4",
   "metadata": {},
   "outputs": [],
   "source": [
    "df.loc[df['stars']==3,\"sentiment\"]=\"neutral\"\n",
    "df.loc[df['stars']<3,\"sentiment\"]=\"negative\"\n",
    "df.loc[df['stars']>3,\"sentiment\"]=\"positive\""
   ]
  },
  {
   "cell_type": "code",
   "execution_count": 12,
   "id": "3bed0d2f",
   "metadata": {},
   "outputs": [
    {
     "data": {
      "text/html": [
       "<div>\n",
       "<style scoped>\n",
       "    .dataframe tbody tr th:only-of-type {\n",
       "        vertical-align: middle;\n",
       "    }\n",
       "\n",
       "    .dataframe tbody tr th {\n",
       "        vertical-align: top;\n",
       "    }\n",
       "\n",
       "    .dataframe thead th {\n",
       "        text-align: right;\n",
       "    }\n",
       "</style>\n",
       "<table border=\"1\" class=\"dataframe\">\n",
       "  <thead>\n",
       "    <tr style=\"text-align: right;\">\n",
       "      <th></th>\n",
       "      <th>stars</th>\n",
       "      <th>sentiment</th>\n",
       "      <th>text</th>\n",
       "    </tr>\n",
       "  </thead>\n",
       "  <tbody>\n",
       "    <tr>\n",
       "      <th>0</th>\n",
       "      <td>5</td>\n",
       "      <td>positive</td>\n",
       "      <td>after getting food poisoning at the palms hote...</td>\n",
       "    </tr>\n",
       "    <tr>\n",
       "      <th>1</th>\n",
       "      <td>4</td>\n",
       "      <td>positive</td>\n",
       "      <td>a feast worthy of gods  baccarnal buffet in ca...</td>\n",
       "    </tr>\n",
       "    <tr>\n",
       "      <th>2</th>\n",
       "      <td>4</td>\n",
       "      <td>positive</td>\n",
       "      <td>the crab legs are better than the ones at wick...</td>\n",
       "    </tr>\n",
       "    <tr>\n",
       "      <th>3</th>\n",
       "      <td>1</td>\n",
       "      <td>negative</td>\n",
       "      <td>not worth it too salty food and expensive this...</td>\n",
       "    </tr>\n",
       "    <tr>\n",
       "      <th>4</th>\n",
       "      <td>5</td>\n",
       "      <td>positive</td>\n",
       "      <td>i would give this infinite stars if i could my...</td>\n",
       "    </tr>\n",
       "    <tr>\n",
       "      <th>...</th>\n",
       "      <td>...</td>\n",
       "      <td>...</td>\n",
       "      <td>...</td>\n",
       "    </tr>\n",
       "    <tr>\n",
       "      <th>10412</th>\n",
       "      <td>5</td>\n",
       "      <td>positive</td>\n",
       "      <td>best buffet ever irma was great served us bett...</td>\n",
       "    </tr>\n",
       "    <tr>\n",
       "      <th>10413</th>\n",
       "      <td>4</td>\n",
       "      <td>positive</td>\n",
       "      <td>hollllllyyyy moleyyyy   this buffet was one fo...</td>\n",
       "    </tr>\n",
       "    <tr>\n",
       "      <th>10414</th>\n",
       "      <td>5</td>\n",
       "      <td>positive</td>\n",
       "      <td>the selection is amazing and all the food is e...</td>\n",
       "    </tr>\n",
       "    <tr>\n",
       "      <th>10415</th>\n",
       "      <td>4</td>\n",
       "      <td>positive</td>\n",
       "      <td>one of the best buffets ive had in vegas my on...</td>\n",
       "    </tr>\n",
       "    <tr>\n",
       "      <th>10416</th>\n",
       "      <td>4</td>\n",
       "      <td>positive</td>\n",
       "      <td>i got a chance to go to the bacchanal buffett ...</td>\n",
       "    </tr>\n",
       "  </tbody>\n",
       "</table>\n",
       "<p>10417 rows × 3 columns</p>\n",
       "</div>"
      ],
      "text/plain": [
       "       stars sentiment                                               text\n",
       "0          5  positive  after getting food poisoning at the palms hote...\n",
       "1          4  positive  a feast worthy of gods  baccarnal buffet in ca...\n",
       "2          4  positive  the crab legs are better than the ones at wick...\n",
       "3          1  negative  not worth it too salty food and expensive this...\n",
       "4          5  positive  i would give this infinite stars if i could my...\n",
       "...      ...       ...                                                ...\n",
       "10412      5  positive  best buffet ever irma was great served us bett...\n",
       "10413      4  positive  hollllllyyyy moleyyyy   this buffet was one fo...\n",
       "10414      5  positive  the selection is amazing and all the food is e...\n",
       "10415      4  positive  one of the best buffets ive had in vegas my on...\n",
       "10416      4  positive  i got a chance to go to the bacchanal buffett ...\n",
       "\n",
       "[10417 rows x 3 columns]"
      ]
     },
     "execution_count": 12,
     "metadata": {},
     "output_type": "execute_result"
    }
   ],
   "source": [
    "df=df[['stars','sentiment','text']]\n",
    "df"
   ]
  },
  {
   "cell_type": "code",
   "execution_count": 13,
   "id": "86cea859",
   "metadata": {},
   "outputs": [
    {
     "name": "stdout",
     "output_type": "stream",
     "text": [
      "Requirement already satisfied: langdetect in c:\\users\\t\\anaconda3\\lib\\site-packages (1.0.9)\n",
      "Requirement already satisfied: six in c:\\users\\t\\anaconda3\\lib\\site-packages (from langdetect) (1.16.0)\n"
     ]
    }
   ],
   "source": [
    "!pip install langdetect"
   ]
  },
  {
   "cell_type": "code",
   "execution_count": 14,
   "id": "141be035",
   "metadata": {},
   "outputs": [],
   "source": [
    "from langdetect import detect\n",
    "\n",
    "def detect_english(text):\n",
    "    try:\n",
    "        return detect(text) == 'en'\n",
    "    except:\n",
    "        return False"
   ]
  },
  {
   "cell_type": "code",
   "execution_count": 15,
   "id": "2ddf9484",
   "metadata": {},
   "outputs": [],
   "source": [
    "df = df[df['text'].apply(detect_english)]"
   ]
  },
  {
   "cell_type": "code",
   "execution_count": 16,
   "id": "25aca1c5",
   "metadata": {},
   "outputs": [
    {
     "data": {
      "text/plain": [
       "(10373, 3)"
      ]
     },
     "execution_count": 16,
     "metadata": {},
     "output_type": "execute_result"
    }
   ],
   "source": [
    "df.shape #42 adet ing olmayan veriyi sildi"
   ]
  },
  {
   "cell_type": "code",
   "execution_count": 17,
   "id": "5a529248",
   "metadata": {},
   "outputs": [],
   "source": [
    "df.reset_index(drop=True,inplace=True) #indexleri düzeltiyoruz"
   ]
  },
  {
   "cell_type": "code",
   "execution_count": 18,
   "id": "b03baa20",
   "metadata": {},
   "outputs": [
    {
     "data": {
      "text/html": [
       "<div>\n",
       "<style scoped>\n",
       "    .dataframe tbody tr th:only-of-type {\n",
       "        vertical-align: middle;\n",
       "    }\n",
       "\n",
       "    .dataframe tbody tr th {\n",
       "        vertical-align: top;\n",
       "    }\n",
       "\n",
       "    .dataframe thead th {\n",
       "        text-align: right;\n",
       "    }\n",
       "</style>\n",
       "<table border=\"1\" class=\"dataframe\">\n",
       "  <thead>\n",
       "    <tr style=\"text-align: right;\">\n",
       "      <th></th>\n",
       "      <th>stars</th>\n",
       "      <th>sentiment</th>\n",
       "      <th>text</th>\n",
       "    </tr>\n",
       "  </thead>\n",
       "  <tbody>\n",
       "    <tr>\n",
       "      <th>0</th>\n",
       "      <td>5</td>\n",
       "      <td>positive</td>\n",
       "      <td>after getting food poisoning at the palms hote...</td>\n",
       "    </tr>\n",
       "    <tr>\n",
       "      <th>1</th>\n",
       "      <td>4</td>\n",
       "      <td>positive</td>\n",
       "      <td>a feast worthy of gods  baccarnal buffet in ca...</td>\n",
       "    </tr>\n",
       "    <tr>\n",
       "      <th>2</th>\n",
       "      <td>4</td>\n",
       "      <td>positive</td>\n",
       "      <td>the crab legs are better than the ones at wick...</td>\n",
       "    </tr>\n",
       "    <tr>\n",
       "      <th>3</th>\n",
       "      <td>1</td>\n",
       "      <td>negative</td>\n",
       "      <td>not worth it too salty food and expensive this...</td>\n",
       "    </tr>\n",
       "    <tr>\n",
       "      <th>4</th>\n",
       "      <td>5</td>\n",
       "      <td>positive</td>\n",
       "      <td>i would give this infinite stars if i could my...</td>\n",
       "    </tr>\n",
       "  </tbody>\n",
       "</table>\n",
       "</div>"
      ],
      "text/plain": [
       "   stars sentiment                                               text\n",
       "0      5  positive  after getting food poisoning at the palms hote...\n",
       "1      4  positive  a feast worthy of gods  baccarnal buffet in ca...\n",
       "2      4  positive  the crab legs are better than the ones at wick...\n",
       "3      1  negative  not worth it too salty food and expensive this...\n",
       "4      5  positive  i would give this infinite stars if i could my..."
      ]
     },
     "execution_count": 18,
     "metadata": {},
     "output_type": "execute_result"
    }
   ],
   "source": [
    "df.head()"
   ]
  },
  {
   "cell_type": "code",
   "execution_count": 19,
   "id": "56637774",
   "metadata": {},
   "outputs": [],
   "source": [
    "x=df.text \n",
    "y=df.sentiment"
   ]
  },
  {
   "cell_type": "code",
   "execution_count": 20,
   "id": "cf6e5056",
   "metadata": {},
   "outputs": [
    {
     "name": "stdout",
     "output_type": "stream",
     "text": [
      "Requirement already satisfied: xgboost==0.90 in c:\\users\\t\\anaconda3\\lib\\site-packages (0.90)\n",
      "Requirement already satisfied: scipy in c:\\users\\t\\anaconda3\\lib\\site-packages (from xgboost==0.90) (1.7.3)\n",
      "Requirement already satisfied: numpy in c:\\users\\t\\anaconda3\\lib\\site-packages (from xgboost==0.90) (1.21.5)\n",
      "Note: you may need to restart the kernel to use updated packages.\n"
     ]
    }
   ],
   "source": [
    "pip install xgboost==0.90"
   ]
  },
  {
   "cell_type": "code",
   "execution_count": 21,
   "id": "acacf9bc",
   "metadata": {},
   "outputs": [],
   "source": [
    "def tokenize_test(vect,x,y):\n",
    "    from sklearn.naive_bayes import GaussianNB\n",
    "    from sklearn.naive_bayes import BernoulliNB\n",
    "    from sklearn.naive_bayes import MultinomialNB\n",
    "    from sklearn.svm import SVC\n",
    "    from sklearn.neighbors import KNeighborsClassifier\n",
    "    from sklearn.tree import DecisionTreeClassifier\n",
    "    from sklearn.ensemble import RandomForestClassifier\n",
    "    from sklearn.linear_model import LogisticRegression\n",
    "    from xgboost import XGBClassifier\n",
    "    \n",
    "    from sklearn.metrics import accuracy_score,precision_score,recall_score,f1_score\n",
    "    from sklearn.metrics import confusion_matrix,classification_report\n",
    "    \n",
    "    x_train,x_test,y_train,y_test=train_test_split(x,y,test_size=0.2,random_state=60)\n",
    "    \n",
    "    print(x_train.shape,x_test.shape,y_train.shape,y_test.shape)\n",
    "    \n",
    "    g=GaussianNB()\n",
    "    b=BernoulliNB()\n",
    "    m=MultinomialNB()\n",
    "    SVC=SVC()\n",
    "    KN=KNeighborsClassifier()\n",
    "    D=DecisionTreeClassifier()\n",
    "    R=RandomForestClassifier()\n",
    "    Log=LogisticRegression()\n",
    "    XGBC=XGBClassifier()\n",
    "    \n",
    "    algos=[g,b,m,SVC,KN,D,R,Log,XGBC]\n",
    "    algo_names=['GaussianNB','BernoulliNB','MultinomialNB','SVC','KNeighborsClassifier','DecisionTreeClassifier','RandomForestClassifier','LogisticRegression','XGBClassifier']\n",
    "    \n",
    "   \n",
    "    \n",
    "    accuracy_scored=[]    \n",
    "        \n",
    "    x_train_dtm=vect.fit_transform(x_train).toarray()\n",
    "    x_test_dtm=vect.transform(x_test).toarray()\n",
    "    \n",
    "    for item in algos:\n",
    "        item.fit(x_train_dtm,y_train)\n",
    "        accuracy_scored.append(accuracy_score(y_test,item.predict(x_test_dtm)))\n",
    "    result=pd.DataFrame(accuracy_scored,columns=['accuracy_score'],index=algo_names)\n",
    "    result.accuracy_score=accuracy_scored\n",
    "    return result.sort_values('accuracy_score',ascending=False)"
   ]
  },
  {
   "cell_type": "code",
   "execution_count": null,
   "id": "a0ab49e3",
   "metadata": {},
   "outputs": [
    {
     "name": "stdout",
     "output_type": "stream",
     "text": [
      "(8298,) (2075,) (8298,) (2075,)\n"
     ]
    }
   ],
   "source": [
    "vect=CountVectorizer()\n",
    "tokenize_test(vect,x,y)"
   ]
  },
  {
   "cell_type": "code",
   "execution_count": null,
   "id": "7267d1b0",
   "metadata": {},
   "outputs": [],
   "source": [
    "def wc(data,bgcolor):\n",
    "    from PIL import Image\n",
    "    mask = np.array(Image.open(\"cloud.png\"))\n",
    "    wc=WordCloud(background_color=bgcolor, width=800, height=400,mask=mask,max_words=100).generate(' '.join(data))\n",
    "    plt.figure( figsize=(20,10) )\n",
    "    plt.imshow(wc)\n",
    "    plt.axis('off')\n",
    "    plt.show()"
   ]
  },
  {
   "cell_type": "code",
   "execution_count": null,
   "id": "1c0676a4",
   "metadata": {},
   "outputs": [],
   "source": [
    "negative_data=df[df['sentiment']==\"negative\"]['text']\n",
    "positive_data=df[df['sentiment']==\"positive\"]['text']\n",
    "neutral_data=df[df['sentiment']==\"neutral\"]['text']"
   ]
  },
  {
   "cell_type": "code",
   "execution_count": null,
   "id": "30c0ff05",
   "metadata": {},
   "outputs": [],
   "source": [
    "wc(negative_data,'white')"
   ]
  },
  {
   "cell_type": "code",
   "execution_count": null,
   "id": "23d98c75",
   "metadata": {},
   "outputs": [],
   "source": [
    "wc(positive_data,'white')"
   ]
  },
  {
   "cell_type": "code",
   "execution_count": null,
   "id": "197c5dba",
   "metadata": {},
   "outputs": [],
   "source": [
    "wc(neutral_data,'white')"
   ]
  },
  {
   "cell_type": "code",
   "execution_count": null,
   "id": "e53fd17f",
   "metadata": {},
   "outputs": [],
   "source": []
  },
  {
   "cell_type": "code",
   "execution_count": null,
   "id": "bdfe7f8b",
   "metadata": {},
   "outputs": [],
   "source": []
  },
  {
   "cell_type": "code",
   "execution_count": null,
   "id": "c69ac215",
   "metadata": {},
   "outputs": [],
   "source": []
  },
  {
   "cell_type": "code",
   "execution_count": null,
   "id": "950c1d85",
   "metadata": {},
   "outputs": [],
   "source": []
  },
  {
   "cell_type": "code",
   "execution_count": null,
   "id": "a6bbd566",
   "metadata": {},
   "outputs": [],
   "source": []
  },
  {
   "cell_type": "code",
   "execution_count": null,
   "id": "15b6cbc7",
   "metadata": {},
   "outputs": [],
   "source": []
  },
  {
   "cell_type": "code",
   "execution_count": null,
   "id": "c2c113f0",
   "metadata": {},
   "outputs": [],
   "source": []
  },
  {
   "cell_type": "code",
   "execution_count": null,
   "id": "417c9672",
   "metadata": {},
   "outputs": [],
   "source": []
  },
  {
   "cell_type": "code",
   "execution_count": null,
   "id": "490f6346",
   "metadata": {},
   "outputs": [],
   "source": []
  },
  {
   "cell_type": "code",
   "execution_count": null,
   "id": "cf13a82a",
   "metadata": {},
   "outputs": [],
   "source": [
    "from sklearn.model_selection import train_test_split"
   ]
  },
  {
   "cell_type": "code",
   "execution_count": null,
   "id": "d0fd6c5f",
   "metadata": {},
   "outputs": [],
   "source": [
    "from sklearn.feature_extraction.text import CountVectorizer,TfidfVectorizer"
   ]
  },
  {
   "cell_type": "code",
   "execution_count": null,
   "id": "e2295bc7",
   "metadata": {},
   "outputs": [],
   "source": [
    "#vect=CountVectorizer(lowercase=True,stop_words=\"english\") #yukarıda küçük harfe çevirdik buradada çevirebiliyoruz,stopwordsları attık\n",
    "#x_yeni=vect.fit_transform(x)     #x teki her bir kelimeyi sütun olarak al  "
   ]
  },
  {
   "cell_type": "code",
   "execution_count": null,
   "id": "57a2138c",
   "metadata": {},
   "outputs": [],
   "source": [
    "x_train,x_test,y_train,y_test=train_test_split(x_yeni,y,random_state=42)"
   ]
  },
  {
   "cell_type": "code",
   "execution_count": null,
   "id": "9c5873ae",
   "metadata": {},
   "outputs": [],
   "source": [
    "from sklearn.naive_bayes import MultinomialNB"
   ]
  },
  {
   "cell_type": "code",
   "execution_count": null,
   "id": "7736bac7",
   "metadata": {},
   "outputs": [],
   "source": [
    "mb=MultinomialNB()"
   ]
  },
  {
   "cell_type": "code",
   "execution_count": null,
   "id": "1ad9f34f",
   "metadata": {},
   "outputs": [],
   "source": [
    "mb.fit(x_train,y_train)"
   ]
  },
  {
   "cell_type": "code",
   "execution_count": null,
   "id": "e67c9b0b",
   "metadata": {},
   "outputs": [],
   "source": [
    "from sklearn.metrics import accuracy_score"
   ]
  },
  {
   "cell_type": "code",
   "execution_count": null,
   "id": "1f9446e6",
   "metadata": {},
   "outputs": [],
   "source": [
    "tahmin=mb.predict(x_test)"
   ]
  },
  {
   "cell_type": "code",
   "execution_count": null,
   "id": "8c80b70c",
   "metadata": {},
   "outputs": [],
   "source": [
    "accuracy_score(y_test,tahmin)"
   ]
  },
  {
   "cell_type": "code",
   "execution_count": null,
   "id": "4360f478",
   "metadata": {},
   "outputs": [],
   "source": [
    "from sklearn.tree import DecisionTreeClassifier"
   ]
  },
  {
   "cell_type": "code",
   "execution_count": null,
   "id": "02b3f9d3",
   "metadata": {},
   "outputs": [],
   "source": [
    "d=DecisionTreeClassifier()"
   ]
  },
  {
   "cell_type": "code",
   "execution_count": null,
   "id": "a1384905",
   "metadata": {},
   "outputs": [],
   "source": [
    "d.fit(x_train,y_train)"
   ]
  },
  {
   "cell_type": "code",
   "execution_count": null,
   "id": "47c2edea",
   "metadata": {},
   "outputs": [],
   "source": [
    "tahmin2=d.predict(x_test)"
   ]
  },
  {
   "cell_type": "code",
   "execution_count": null,
   "id": "2ce29298",
   "metadata": {},
   "outputs": [],
   "source": [
    "accuracy_score(tahmin2,y_test)"
   ]
  }
 ],
 "metadata": {
  "kernelspec": {
   "display_name": "Python 3 (ipykernel)",
   "language": "python",
   "name": "python3"
  },
  "language_info": {
   "codemirror_mode": {
    "name": "ipython",
    "version": 3
   },
   "file_extension": ".py",
   "mimetype": "text/x-python",
   "name": "python",
   "nbconvert_exporter": "python",
   "pygments_lexer": "ipython3",
   "version": "3.9.12"
  }
 },
 "nbformat": 4,
 "nbformat_minor": 5
}
