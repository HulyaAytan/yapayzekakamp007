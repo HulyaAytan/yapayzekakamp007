{
 "cells": [
  {
   "cell_type": "code",
   "execution_count": null,
   "id": "25082fbe",
   "metadata": {},
   "outputs": [],
   "source": []
  },
  {
   "cell_type": "markdown",
   "id": "63da2de5",
   "metadata": {},
   "source": [
    "## Import Libraries"
   ]
  },
  {
   "cell_type": "code",
   "execution_count": 3,
   "id": "b3e3fe9b",
   "metadata": {},
   "outputs": [],
   "source": [
    "# Importing necessary libraries\n",
    "\n",
    "# Building deep learning models\n",
    "import tensorflow as tf \n",
    "from tensorflow import keras \n",
    "# For separating train and test sets\n",
    "from sklearn.model_selection import train_test_split\n",
    "\n",
    "# For visualizations\n",
    "import matplotlib.pyplot as plt\n",
    "import matplotlib.image as img\n",
    "import PIL.Image as Image\n",
    "import cv2\n",
    "\n",
    "import os\n",
    "import numpy as np\n",
    "import pathlib"
   ]
  },
  {
   "cell_type": "code",
   "execution_count": 4,
   "id": "d802597c",
   "metadata": {},
   "outputs": [
    {
     "data": {
      "text/plain": [
       "WindowsPath('../input/rice-image-dataset/Rice_Image_Dataset')"
      ]
     },
     "execution_count": 4,
     "metadata": {},
     "output_type": "execute_result"
    }
   ],
   "source": [
    "data_dir = \"../input/rice-image-dataset/Rice_Image_Dataset\" # Datasets path\n",
    "data_dir = pathlib.Path(data_dir)\n",
    "data_dir"
   ]
  },
  {
   "cell_type": "code",
   "execution_count": 5,
   "id": "f37bd401",
   "metadata": {},
   "outputs": [],
   "source": [
    "arborio = list(data_dir.glob('Arborio/*'))[:600]\n",
    "basmati = list(data_dir.glob('Basmati/*'))[:600]\n",
    "ipsala = list(data_dir.glob('Ipsala/*'))[:600]\n",
    "jasmine = list(data_dir.glob('Jasmine/*'))[:600]\n",
    "karacadag = list(data_dir.glob('Karacadag/*'))[:600]"
   ]
  },
  {
   "cell_type": "code",
   "execution_count": 6,
   "id": "e1aa7a03",
   "metadata": {},
   "outputs": [
    {
     "ename": "IndexError",
     "evalue": "list index out of range",
     "output_type": "error",
     "traceback": [
      "\u001b[1;31m---------------------------------------------------------------------------\u001b[0m",
      "\u001b[1;31mIndexError\u001b[0m                                Traceback (most recent call last)",
      "Input \u001b[1;32mIn [6]\u001b[0m, in \u001b[0;36m<cell line: 3>\u001b[1;34m()\u001b[0m\n\u001b[0;32m      1\u001b[0m fig, ax \u001b[38;5;241m=\u001b[39m plt\u001b[38;5;241m.\u001b[39msubplots(ncols\u001b[38;5;241m=\u001b[39m\u001b[38;5;241m5\u001b[39m, figsize\u001b[38;5;241m=\u001b[39m(\u001b[38;5;241m20\u001b[39m,\u001b[38;5;241m5\u001b[39m))\n\u001b[0;32m      2\u001b[0m fig\u001b[38;5;241m.\u001b[39msuptitle(\u001b[38;5;124m'\u001b[39m\u001b[38;5;124mRice Category\u001b[39m\u001b[38;5;124m'\u001b[39m)\n\u001b[1;32m----> 3\u001b[0m arborio_image \u001b[38;5;241m=\u001b[39m img\u001b[38;5;241m.\u001b[39mimread(\u001b[43marborio\u001b[49m\u001b[43m[\u001b[49m\u001b[38;5;241;43m0\u001b[39;49m\u001b[43m]\u001b[49m)\n\u001b[0;32m      4\u001b[0m basmati_image \u001b[38;5;241m=\u001b[39m img\u001b[38;5;241m.\u001b[39mimread(basmati[\u001b[38;5;241m0\u001b[39m])\n\u001b[0;32m      5\u001b[0m ipsala_image \u001b[38;5;241m=\u001b[39m img\u001b[38;5;241m.\u001b[39mimread(ipsala[\u001b[38;5;241m0\u001b[39m])\n",
      "\u001b[1;31mIndexError\u001b[0m: list index out of range"
     ]
    },
    {
     "data": {
      "image/png": "[encoded data removed]",
      "text/plain": [
       "<Figure size 1440x360 with 5 Axes>"
      ]
     },
     "metadata": {
      "needs_background": "light"
     },
     "output_type": "display_data"
    }
   ],
   "source": [
    "fig, ax = plt.subplots(ncols=5, figsize=(20,5))\n",
    "fig.suptitle('Rice Category')\n",
    "arborio_image = img.imread(arborio[0])\n",
    "basmati_image = img.imread(basmati[0])\n",
    "ipsala_image = img.imread(ipsala[0])\n",
    "jasmine_image = img.imread(jasmine[0])\n",
    "karacadag_image = img.imread(karacadag[0])\n",
    "\n",
    "ax[0].set_title('arborio')\n",
    "ax[1].set_title('basmati')\n",
    "ax[2].set_title('ipsala')\n",
    "ax[3].set_title('jasmine')\n",
    "ax[4].set_title('karacadag')\n",
    "\n",
    "\n",
    "ax[0].imshow(arborio_image)\n",
    "ax[1].imshow(basmati_image)\n",
    "ax[2].imshow(ipsala_image)\n",
    "ax[3].imshow(jasmine_image)\n",
    "ax[4].imshow(karacadag_image)"
   ]
  },
  {
   "cell_type": "code",
   "execution_count": null,
   "id": "75d59272",
   "metadata": {},
   "outputs": [],
   "source": []
  },
  {
   "cell_type": "code",
   "execution_count": null,
   "id": "525602d1",
   "metadata": {},
   "outputs": [],
   "source": []
  },
  {
   "cell_type": "code",
   "execution_count": null,
   "id": "79040905",
   "metadata": {},
   "outputs": [],
   "source": []
  },
  {
   "cell_type": "code",
   "execution_count": null,
   "id": "0fe59af9",
   "metadata": {},
   "outputs": [],
   "source": []
  },
  {
   "cell_type": "code",
   "execution_count": null,
   "id": "390752ee",
   "metadata": {},
   "outputs": [],
   "source": []
  },
  {
   "cell_type": "code",
   "execution_count": null,
   "id": "340591eb",
   "metadata": {},
   "outputs": [],
   "source": []
  }
 ],
 "metadata": {
  "kernelspec": {
   "display_name": "Python 3 (ipykernel)",
   "language": "python",
   "name": "python3"
  },
  "language_info": {
   "codemirror_mode": {
    "name": "ipython",
    "version": 3
   },
   "file_extension": ".py",
   "mimetype": "text/x-python",
   "name": "python",
   "nbconvert_exporter": "python",
   "pygments_lexer": "ipython3",
   "version": "3.9.12"
  }
 },
 "nbformat": 4,
 "nbformat_minor": 5
}
