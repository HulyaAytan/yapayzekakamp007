{
 "cells": [
  {
   "cell_type": "code",
   "execution_count": 1,
   "metadata": {
    "id": "1DoZGoyzaFNz"
   },
   "outputs": [],
   "source": [
    "!apt-get install openjdk-8-jdk-headless -qq > /dev/null\n",
    "!wget -q http://archive.apache.org/dist/spark/spark-3.1.1/spark-3.1.1-bin-hadoop3.2.tgz\n",
    "!tar xf spark-3.1.1-bin-hadoop3.2.tgz\n",
    "!pip install -q findspark"
   ]
  },
  {
   "cell_type": "code",
   "execution_count": 2,
   "metadata": {
    "id": "W9G-8EK-aMeB"
   },
   "outputs": [],
   "source": [
    "import os\n",
    "os.environ[\"JAVA_HOME\"] = \"/usr/lib/jvm/java-8-openjdk-amd64\"\n",
    "os.environ[\"SPARK_HOME\"] = \"/content/spark-3.1.1-bin-hadoop3.2\""
   ]
  },
  {
   "cell_type": "code",
   "execution_count": 94,
   "metadata": {
    "colab": {
     "base_uri": "https://localhost:8080/",
     "height": 219
    },
    "id": "voAHDr0gabap",
    "outputId": "fad8679c-2906-455b-aa41-95599706e34f"
   },
   "outputs": [
    {
     "data": {
      "text/html": [
       "\n",
       "            <div>\n",
       "                <p><b>SparkSession - in-memory</b></p>\n",
       "                \n",
       "        <div>\n",
       "            <p><b>SparkContext</b></p>\n",
       "\n",
       "            <p><a href=\"http://8dbb776ade73:4040\">Spark UI</a></p>\n",
       "\n",
       "            <dl>\n",
       "              <dt>Version</dt>\n",
       "                <dd><code>v3.1.1</code></dd>\n",
       "              <dt>Master</dt>\n",
       "                <dd><code>local[*]</code></dd>\n",
       "              <dt>AppName</dt>\n",
       "                <dd><code>pyspark-shell</code></dd>\n",
       "            </dl>\n",
       "        </div>\n",
       "        \n",
       "            </div>\n",
       "        "
      ],
      "text/plain": [
       "<pyspark.sql.session.SparkSession at 0x7f517f0cbc10>"
      ]
     },
     "execution_count": 94,
     "metadata": {},
     "output_type": "execute_result"
    }
   ],
   "source": [
    "import findspark\n",
    "findspark.init()\n",
    "from pyspark.sql import SparkSession\n",
    "spark = SparkSession.builder.master(\"local[*]\").getOrCreate()\n",
    "spark.conf.set(\"spark.sql.repl.eagerEval.enabled\", True) # Property used to format output tables better\n",
    "spark"
   ]
  },
  {
   "cell_type": "code",
   "execution_count": 23,
   "metadata": {
    "colab": {
     "base_uri": "https://localhost:8080/",
     "height": 529
    },
    "id": "ostQdBvaacoB",
    "outputId": "b66ca170-2849-48cc-a8e0-647c3e7edd1b"
   },
   "outputs": [
    {
     "data": {
      "text/html": [
       "<table border='1'>\n",
       "<tr><th>_c0</th><th>Names</th><th>Age</th><th>Total_Purchase</th><th>Account_Manager</th><th>Years</th><th>Num_Sites</th><th>Churn</th></tr>\n",
       "<tr><td>0</td><td>Cameron Williams</td><td>42.0</td><td>11066.8</td><td>0</td><td>7.22</td><td>8.0</td><td>1</td></tr>\n",
       "<tr><td>1</td><td>Kevin Mueller</td><td>41.0</td><td>11916.22</td><td>0</td><td>6.5</td><td>11.0</td><td>1</td></tr>\n",
       "<tr><td>2</td><td>Eric Lozano</td><td>38.0</td><td>12884.75</td><td>0</td><td>6.67</td><td>12.0</td><td>1</td></tr>\n",
       "<tr><td>3</td><td>Phillip White</td><td>42.0</td><td>8010.76</td><td>0</td><td>6.71</td><td>10.0</td><td>1</td></tr>\n",
       "<tr><td>4</td><td>Cynthia Norton</td><td>37.0</td><td>9191.58</td><td>0</td><td>5.56</td><td>9.0</td><td>1</td></tr>\n",
       "<tr><td>5</td><td>Jessica Williams</td><td>48.0</td><td>10356.02</td><td>0</td><td>5.12</td><td>8.0</td><td>1</td></tr>\n",
       "<tr><td>6</td><td>Eric Butler</td><td>44.0</td><td>11331.58</td><td>1</td><td>5.23</td><td>11.0</td><td>1</td></tr>\n",
       "<tr><td>7</td><td>Zachary Walsh</td><td>32.0</td><td>9885.12</td><td>1</td><td>6.92</td><td>9.0</td><td>1</td></tr>\n",
       "<tr><td>8</td><td>Ashlee Carr</td><td>43.0</td><td>14062.6</td><td>1</td><td>5.46</td><td>11.0</td><td>1</td></tr>\n",
       "<tr><td>9</td><td>Jennifer Lynch</td><td>40.0</td><td>8066.94</td><td>1</td><td>7.11</td><td>11.0</td><td>1</td></tr>\n",
       "<tr><td>10</td><td>Paula Harris</td><td>30.0</td><td>11575.37</td><td>1</td><td>5.22</td><td>8.0</td><td>1</td></tr>\n",
       "<tr><td>11</td><td>Bruce Phillips</td><td>45.0</td><td>8771.02</td><td>1</td><td>6.64</td><td>11.0</td><td>1</td></tr>\n",
       "<tr><td>12</td><td>Craig Garner</td><td>45.0</td><td>8988.67</td><td>1</td><td>4.84</td><td>11.0</td><td>1</td></tr>\n",
       "<tr><td>13</td><td>Nicole Olson</td><td>40.0</td><td>8283.32</td><td>1</td><td>5.1</td><td>13.0</td><td>1</td></tr>\n",
       "<tr><td>14</td><td>Harold Griffin</td><td>41.0</td><td>6569.87</td><td>1</td><td>4.3</td><td>11.0</td><td>1</td></tr>\n",
       "<tr><td>15</td><td>James Wright</td><td>38.0</td><td>10494.82</td><td>1</td><td>6.81</td><td>12.0</td><td>1</td></tr>\n",
       "<tr><td>16</td><td>Doris Wilkins</td><td>45.0</td><td>8213.41</td><td>1</td><td>7.35</td><td>11.0</td><td>1</td></tr>\n",
       "<tr><td>17</td><td>Katherine Carpenter</td><td>43.0</td><td>11226.88</td><td>0</td><td>8.08</td><td>12.0</td><td>1</td></tr>\n",
       "<tr><td>18</td><td>Lindsay Martin</td><td>53.0</td><td>5515.09</td><td>0</td><td>6.85</td><td>8.0</td><td>1</td></tr>\n",
       "<tr><td>19</td><td>Kathy Curry</td><td>46.0</td><td>8046.4</td><td>1</td><td>5.69</td><td>8.0</td><td>1</td></tr>\n",
       "</table>\n",
       "only showing top 20 rows\n"
      ],
      "text/plain": [
       "+---+-------------------+----+--------------+---------------+-----+---------+-----+\n",
       "|_c0|              Names| Age|Total_Purchase|Account_Manager|Years|Num_Sites|Churn|\n",
       "+---+-------------------+----+--------------+---------------+-----+---------+-----+\n",
       "|  0|   Cameron Williams|42.0|       11066.8|              0| 7.22|      8.0|    1|\n",
       "|  1|      Kevin Mueller|41.0|      11916.22|              0|  6.5|     11.0|    1|\n",
       "|  2|        Eric Lozano|38.0|      12884.75|              0| 6.67|     12.0|    1|\n",
       "|  3|      Phillip White|42.0|       8010.76|              0| 6.71|     10.0|    1|\n",
       "|  4|     Cynthia Norton|37.0|       9191.58|              0| 5.56|      9.0|    1|\n",
       "|  5|   Jessica Williams|48.0|      10356.02|              0| 5.12|      8.0|    1|\n",
       "|  6|        Eric Butler|44.0|      11331.58|              1| 5.23|     11.0|    1|\n",
       "|  7|      Zachary Walsh|32.0|       9885.12|              1| 6.92|      9.0|    1|\n",
       "|  8|        Ashlee Carr|43.0|       14062.6|              1| 5.46|     11.0|    1|\n",
       "|  9|     Jennifer Lynch|40.0|       8066.94|              1| 7.11|     11.0|    1|\n",
       "| 10|       Paula Harris|30.0|      11575.37|              1| 5.22|      8.0|    1|\n",
       "| 11|     Bruce Phillips|45.0|       8771.02|              1| 6.64|     11.0|    1|\n",
       "| 12|       Craig Garner|45.0|       8988.67|              1| 4.84|     11.0|    1|\n",
       "| 13|       Nicole Olson|40.0|       8283.32|              1|  5.1|     13.0|    1|\n",
       "| 14|     Harold Griffin|41.0|       6569.87|              1|  4.3|     11.0|    1|\n",
       "| 15|       James Wright|38.0|      10494.82|              1| 6.81|     12.0|    1|\n",
       "| 16|      Doris Wilkins|45.0|       8213.41|              1| 7.35|     11.0|    1|\n",
       "| 17|Katherine Carpenter|43.0|      11226.88|              0| 8.08|     12.0|    1|\n",
       "| 18|     Lindsay Martin|53.0|       5515.09|              0| 6.85|      8.0|    1|\n",
       "| 19|        Kathy Curry|46.0|        8046.4|              1| 5.69|      8.0|    1|\n",
       "+---+-------------------+----+--------------+---------------+-----+---------+-----+\n",
       "only showing top 20 rows"
      ]
     },
     "execution_count": 23,
     "metadata": {},
     "output_type": "execute_result"
    }
   ],
   "source": [
    "# Load the csv into a dataframe\n",
    "churn_df = spark.read.csv(\"churn.csv\", header=True, inferSchema=True)\n",
    "churn_df"
   ]
  },
  {
   "cell_type": "code",
   "execution_count": 24,
   "metadata": {
    "id": "WeH8giw7ia4-"
   },
   "outputs": [],
   "source": [
    "df=churn_df.withColumnRenamed(\"_c0\",\"Index\")"
   ]
  },
  {
   "cell_type": "code",
   "execution_count": 25,
   "metadata": {
    "colab": {
     "base_uri": "https://localhost:8080/"
    },
    "id": "z7o2Q5rga0vB",
    "outputId": "fdcd2b3a-00b6-4bbe-8138-04713420ad74"
   },
   "outputs": [
    {
     "name": "stdout",
     "output_type": "stream",
     "text": [
      "root\n",
      " |-- Index: integer (nullable = true)\n",
      " |-- Names: string (nullable = true)\n",
      " |-- Age: double (nullable = true)\n",
      " |-- Total_Purchase: double (nullable = true)\n",
      " |-- Account_Manager: integer (nullable = true)\n",
      " |-- Years: double (nullable = true)\n",
      " |-- Num_Sites: double (nullable = true)\n",
      " |-- Churn: integer (nullable = true)\n",
      "\n"
     ]
    }
   ],
   "source": [
    "\n",
    "df.printSchema()\n"
   ]
  },
  {
   "cell_type": "code",
   "execution_count": 26,
   "metadata": {
    "colab": {
     "base_uri": "https://localhost:8080/",
     "height": 161
    },
    "id": "9IToTdY-rtak",
    "outputId": "7ac9f0aa-5aff-4afb-8050-c36be57686e1"
   },
   "outputs": [
    {
     "data": {
      "text/html": [
       "<table border='1'>\n",
       "<tr><th>Index</th><th>Names</th><th>Age</th><th>Total_Purchase</th><th>Account_Manager</th><th>Years</th><th>Num_Sites</th><th>Churn</th></tr>\n",
       "<tr><td>0</td><td>Cameron Williams</td><td>42.0</td><td>11066.8</td><td>0</td><td>7.22</td><td>8.0</td><td>1</td></tr>\n",
       "<tr><td>1</td><td>Kevin Mueller</td><td>41.0</td><td>11916.22</td><td>0</td><td>6.5</td><td>11.0</td><td>1</td></tr>\n",
       "<tr><td>2</td><td>Eric Lozano</td><td>38.0</td><td>12884.75</td><td>0</td><td>6.67</td><td>12.0</td><td>1</td></tr>\n",
       "<tr><td>3</td><td>Phillip White</td><td>42.0</td><td>8010.76</td><td>0</td><td>6.71</td><td>10.0</td><td>1</td></tr>\n",
       "<tr><td>4</td><td>Cynthia Norton</td><td>37.0</td><td>9191.58</td><td>0</td><td>5.56</td><td>9.0</td><td>1</td></tr>\n",
       "</table>\n"
      ],
      "text/plain": [
       "+-----+----------------+----+--------------+---------------+-----+---------+-----+\n",
       "|Index|           Names| Age|Total_Purchase|Account_Manager|Years|Num_Sites|Churn|\n",
       "+-----+----------------+----+--------------+---------------+-----+---------+-----+\n",
       "|    0|Cameron Williams|42.0|       11066.8|              0| 7.22|      8.0|    1|\n",
       "|    1|   Kevin Mueller|41.0|      11916.22|              0|  6.5|     11.0|    1|\n",
       "|    2|     Eric Lozano|38.0|      12884.75|              0| 6.67|     12.0|    1|\n",
       "|    3|   Phillip White|42.0|       8010.76|              0| 6.71|     10.0|    1|\n",
       "|    4|  Cynthia Norton|37.0|       9191.58|              0| 5.56|      9.0|    1|\n",
       "+-----+----------------+----+--------------+---------------+-----+---------+-----+"
      ]
     },
     "execution_count": 26,
     "metadata": {},
     "output_type": "execute_result"
    }
   ],
   "source": [
    "df.limit(5)"
   ]
  },
  {
   "cell_type": "code",
   "execution_count": 27,
   "metadata": {
    "colab": {
     "base_uri": "https://localhost:8080/"
    },
    "id": "ycV5mSd_bN1p",
    "outputId": "4a4f72ee-2ab3-41cf-eaff-ce0c898b98f7"
   },
   "outputs": [
    {
     "name": "stdout",
     "output_type": "stream",
     "text": [
      "+-------+------------------+-------------+-----------------+-----------------+------------------+-----------------+------------------+-------------------+\n",
      "|summary|             Index|        Names|              Age|   Total_Purchase|   Account_Manager|            Years|         Num_Sites|              Churn|\n",
      "+-------+------------------+-------------+-----------------+-----------------+------------------+-----------------+------------------+-------------------+\n",
      "|  count|               900|          900|              900|              900|               900|              900|               900|                900|\n",
      "|   mean|             449.5|         null|41.81666666666667|10062.82403333334|0.4811111111111111| 5.27315555555555| 8.587777777777777|0.16666666666666666|\n",
      "| stddev|259.95191863111916|         null|6.127560416916251|2408.644531858096|0.4999208935073339|1.274449013194616|1.7648355920350969| 0.3728852122772358|\n",
      "|    min|                 0|   Aaron King|             22.0|            100.0|                 0|              1.0|               3.0|                  0|\n",
      "|    max|               899|Zachary Walsh|             65.0|         18026.01|                 1|             9.15|              14.0|                  1|\n",
      "+-------+------------------+-------------+-----------------+-----------------+------------------+-----------------+------------------+-------------------+\n",
      "\n"
     ]
    }
   ],
   "source": [
    "df.describe().show()"
   ]
  },
  {
   "cell_type": "code",
   "execution_count": 28,
   "metadata": {
    "colab": {
     "base_uri": "https://localhost:8080/"
    },
    "id": "8AlBv36wcvfz",
    "outputId": "84caec6c-c821-40ad-9a53-c765140a22ae"
   },
   "outputs": [
    {
     "data": {
      "text/plain": [
       "['Index',\n",
       " 'Names',\n",
       " 'Age',\n",
       " 'Total_Purchase',\n",
       " 'Account_Manager',\n",
       " 'Years',\n",
       " 'Num_Sites',\n",
       " 'Churn']"
      ]
     },
     "execution_count": 28,
     "metadata": {},
     "output_type": "execute_result"
    }
   ],
   "source": [
    "df.columns"
   ]
  },
  {
   "cell_type": "code",
   "execution_count": 29,
   "metadata": {
    "id": "PwaJwFTmm3cg"
   },
   "outputs": [],
   "source": [
    "from pyspark.ml.feature import VectorAssembler"
   ]
  },
  {
   "cell_type": "code",
   "execution_count": 30,
   "metadata": {
    "id": "gVJY6RaddF1S"
   },
   "outputs": [],
   "source": [
    "assembler=VectorAssembler(inputCols=['Age','Total_Purchase','Account_Manager','Years','Num_Sites'],outputCol=\"features\") #numarical columns combined into a column as feature"
   ]
  },
  {
   "cell_type": "code",
   "execution_count": 32,
   "metadata": {
    "id": "5KwpnHDxl8Oe"
   },
   "outputs": [],
   "source": [
    "output=assembler.transform(df)"
   ]
  },
  {
   "cell_type": "code",
   "execution_count": 33,
   "metadata": {
    "id": "vnrCB1_9tm-J"
   },
   "outputs": [],
   "source": [
    "df_final=output.select(\"features\",\"churn\")"
   ]
  },
  {
   "cell_type": "code",
   "execution_count": 34,
   "metadata": {
    "colab": {
     "base_uri": "https://localhost:8080/"
    },
    "id": "P7HB-A7AuAtB",
    "outputId": "f8451256-328a-4605-8586-d1a1048bc23e"
   },
   "outputs": [
    {
     "name": "stdout",
     "output_type": "stream",
     "text": [
      "+--------------------+-----+\n",
      "|            features|churn|\n",
      "+--------------------+-----+\n",
      "|[42.0,11066.8,0.0...|    1|\n",
      "|[41.0,11916.22,0....|    1|\n",
      "|[38.0,12884.75,0....|    1|\n",
      "|[42.0,8010.76,0.0...|    1|\n",
      "|[37.0,9191.58,0.0...|    1|\n",
      "|[48.0,10356.02,0....|    1|\n",
      "|[44.0,11331.58,1....|    1|\n",
      "|[32.0,9885.12,1.0...|    1|\n",
      "|[43.0,14062.6,1.0...|    1|\n",
      "|[40.0,8066.94,1.0...|    1|\n",
      "|[30.0,11575.37,1....|    1|\n",
      "|[45.0,8771.02,1.0...|    1|\n",
      "|[45.0,8988.67,1.0...|    1|\n",
      "|[40.0,8283.32,1.0...|    1|\n",
      "|[41.0,6569.87,1.0...|    1|\n",
      "|[38.0,10494.82,1....|    1|\n",
      "|[45.0,8213.41,1.0...|    1|\n",
      "|[43.0,11226.88,0....|    1|\n",
      "|[53.0,5515.09,0.0...|    1|\n",
      "|[46.0,8046.4,1.0,...|    1|\n",
      "+--------------------+-----+\n",
      "only showing top 20 rows\n",
      "\n"
     ]
    }
   ],
   "source": [
    "df_final.show()"
   ]
  },
  {
   "cell_type": "code",
   "execution_count": 35,
   "metadata": {
    "id": "6WnqX4Y_uE9J"
   },
   "outputs": [],
   "source": [
    "train,test=df_final.randomSplit([0.7,0.3],seed=42)"
   ]
  },
  {
   "cell_type": "code",
   "execution_count": 36,
   "metadata": {
    "id": "Hi8oUzjDuoUJ"
   },
   "outputs": [],
   "source": [
    "from pyspark.ml.classification import LogisticRegression"
   ]
  },
  {
   "cell_type": "code",
   "execution_count": 37,
   "metadata": {
    "id": "PkY2e8kXu_CC"
   },
   "outputs": [],
   "source": [
    "lr=LogisticRegression(labelCol=\"churn\")"
   ]
  },
  {
   "cell_type": "code",
   "execution_count": 38,
   "metadata": {
    "id": "ACOVgdqgvLJi"
   },
   "outputs": [],
   "source": [
    "lrm=lr.fit(train)"
   ]
  },
  {
   "cell_type": "code",
   "execution_count": 39,
   "metadata": {
    "id": "1tw4PNbnvUKj"
   },
   "outputs": [],
   "source": [
    "lrm_summary=lrm.summary"
   ]
  },
  {
   "cell_type": "code",
   "execution_count": 40,
   "metadata": {
    "colab": {
     "base_uri": "https://localhost:8080/"
    },
    "id": "0wMxfnjPvmsq",
    "outputId": "99906cb3-b81d-4f74-9f77-cea34ae3dd75"
   },
   "outputs": [
    {
     "name": "stdout",
     "output_type": "stream",
     "text": [
      "+--------------------+-----+--------------------+--------------------+----------+\n",
      "|            features|churn|       rawPrediction|         probability|prediction|\n",
      "+--------------------+-----+--------------------+--------------------+----------+\n",
      "|[22.0,11254.38,1....|  0.0|[4.55979933582600...|[0.98964420615385...|       0.0|\n",
      "|[25.0,9672.03,0.0...|  0.0|[4.67536684163721...|[0.99076399423917...|       0.0|\n",
      "|[26.0,8939.61,0.0...|  0.0|[6.28230375013810...|[0.99813439726403...|       0.0|\n",
      "|[27.0,8628.8,1.0,...|  0.0|[5.32554193456119...|[0.99515784712679...|       0.0|\n",
      "|[28.0,8670.98,0.0...|  0.0|[7.59026142971801...|[0.99949490632507...|       0.0|\n",
      "|[28.0,11128.95,1....|  0.0|[4.09748998252342...|[0.98365719925299...|       0.0|\n",
      "|[29.0,5900.78,1.0...|  0.0|[4.06733654772172...|[0.98316532508264...|       0.0|\n",
      "|[29.0,8688.17,1.0...|  1.0|[2.71962043931940...|[0.93817452170582...|       0.0|\n",
      "|[29.0,9378.24,0.0...|  0.0|[4.73007501034927...|[0.99125140444539...|       0.0|\n",
      "|[29.0,12711.15,0....|  0.0|[5.26411609277401...|[0.99485266780093...|       0.0|\n",
      "|[29.0,13240.01,1....|  0.0|[6.47472517182256...|[0.99846045122220...|       0.0|\n",
      "|[29.0,13255.05,1....|  0.0|[4.04666635370144...|[0.98281976833493...|       0.0|\n",
      "|[30.0,7960.64,1.0...|  1.0|[3.13526560315970...|[0.95832420374187...|       0.0|\n",
      "|[30.0,8677.28,1.0...|  0.0|[4.06908068623305...|[0.98319416847383...|       0.0|\n",
      "|[30.0,10744.14,1....|  1.0|[1.77952212081391...|[0.85563784748119...|       0.0|\n",
      "|[30.0,10960.52,1....|  0.0|[2.40247371653413...|[0.91701574236027...|       0.0|\n",
      "|[30.0,11575.37,1....|  1.0|[3.89386102662958...|[0.98003995912315...|       0.0|\n",
      "|[31.0,5387.75,0.0...|  0.0|[2.66975039133111...|[0.93521791040227...|       0.0|\n",
      "|[31.0,8688.21,0.0...|  0.0|[6.48214911148481...|[0.99847182101653...|       0.0|\n",
      "|[31.0,10058.87,1....|  0.0|[4.34147214764123...|[0.98714992332491...|       0.0|\n",
      "+--------------------+-----+--------------------+--------------------+----------+\n",
      "only showing top 20 rows\n",
      "\n"
     ]
    }
   ],
   "source": [
    "lrm_summary.predictions.show()"
   ]
  },
  {
   "cell_type": "code",
   "execution_count": 41,
   "metadata": {
    "colab": {
     "base_uri": "https://localhost:8080/"
    },
    "id": "sMgoWFtBvueZ",
    "outputId": "150e007f-2e32-4d5a-94b0-4f78bcef16ea"
   },
   "outputs": [
    {
     "name": "stdout",
     "output_type": "stream",
     "text": [
      "+-------+------------------+-------------------+\n",
      "|summary|             churn|         prediction|\n",
      "+-------+------------------+-------------------+\n",
      "|  count|               667|                667|\n",
      "|   mean|0.1634182908545727|0.12293853073463268|\n",
      "| stddev|0.3700243606477147|0.32861306618408714|\n",
      "|    min|               0.0|                0.0|\n",
      "|    max|               1.0|                1.0|\n",
      "+-------+------------------+-------------------+\n",
      "\n"
     ]
    }
   ],
   "source": [
    "lrm_summary.predictions.describe().show()"
   ]
  },
  {
   "cell_type": "code",
   "execution_count": 42,
   "metadata": {
    "id": "ANAX7QMywDRi"
   },
   "outputs": [],
   "source": [
    "from pyspark.ml.evaluation import BinaryClassificationEvaluator"
   ]
  },
  {
   "cell_type": "code",
   "execution_count": 43,
   "metadata": {
    "id": "gobvzPDUwcES"
   },
   "outputs": [],
   "source": [
    "pred_labels=lrm.evaluate(test)"
   ]
  },
  {
   "cell_type": "code",
   "execution_count": 44,
   "metadata": {
    "colab": {
     "base_uri": "https://localhost:8080/"
    },
    "id": "wP9h2nI_wi06",
    "outputId": "f23c4187-2334-488f-ebc7-847062272b13"
   },
   "outputs": [
    {
     "name": "stdout",
     "output_type": "stream",
     "text": [
      "+--------------------+-----+--------------------+--------------------+----------+\n",
      "|            features|churn|       rawPrediction|         probability|prediction|\n",
      "+--------------------+-----+--------------------+--------------------+----------+\n",
      "|[26.0,8787.39,1.0...|    1|[0.79106193949545...|[0.68805930409057...|       0.0|\n",
      "|[28.0,9090.43,1.0...|    0|[1.61026634613434...|[0.83344836179841...|       0.0|\n",
      "|[28.0,11204.23,0....|    0|[1.97148327271884...|[0.87777034205971...|       0.0|\n",
      "|[28.0,11245.38,0....|    0|[3.75330942021012...|[0.97709680745324...|       0.0|\n",
      "|[29.0,9617.59,0.0...|    0|[4.42202740353912...|[0.98813266624674...|       0.0|\n",
      "|[29.0,10203.18,1....|    0|[3.71080374825935...|[0.97612604829734...|       0.0|\n",
      "|[29.0,11274.46,1....|    0|[4.39058453619493...|[0.98775823543341...|       0.0|\n",
      "|[30.0,6744.87,0.0...|    0|[3.55749176407943...|[0.97228005685650...|       0.0|\n",
      "|[30.0,8403.78,1.0...|    0|[5.76304532016813...|[0.99686830825215...|       0.0|\n",
      "|[30.0,8874.83,0.0...|    0|[3.22709689469612...|[0.96184134424013...|       0.0|\n",
      "|[30.0,10183.98,1....|    0|[2.87524782249733...|[0.94660919659143...|       0.0|\n",
      "|[30.0,12788.37,0....|    0|[2.55636640166318...|[0.92800005264384...|       0.0|\n",
      "|[30.0,13473.35,0....|    0|[2.76977896436194...|[0.94102072009296...|       0.0|\n",
      "|[31.0,5304.6,0.0,...|    0|[3.48758663311625...|[0.97033250021324...|       0.0|\n",
      "|[31.0,7073.61,0.0...|    0|[3.16501294068728...|[0.95949621486576...|       0.0|\n",
      "|[31.0,8829.83,1.0...|    0|[4.33951378016708...|[0.98712505781289...|       0.0|\n",
      "|[31.0,9574.89,0.0...|    0|[3.31876911386954...|[0.96506711887334...|       0.0|\n",
      "|[31.0,11743.24,0....|    0|[6.54958198634204...|[0.99857133048568...|       0.0|\n",
      "|[32.0,6367.22,1.0...|    0|[3.02498338043787...|[0.95369011614944...|       0.0|\n",
      "|[32.0,7896.65,0.0...|    0|[3.45646201541652...|[0.96942326851500...|       0.0|\n",
      "+--------------------+-----+--------------------+--------------------+----------+\n",
      "only showing top 20 rows\n",
      "\n"
     ]
    }
   ],
   "source": [
    "pred_labels.predictions.show()"
   ]
  },
  {
   "cell_type": "code",
   "execution_count": 45,
   "metadata": {
    "id": "RZQUjHRLwtbb"
   },
   "outputs": [],
   "source": [
    "eval=BinaryClassificationEvaluator(rawPredictionCol=\"prediction\",labelCol=\"churn\")\n"
   ]
  },
  {
   "cell_type": "code",
   "execution_count": 46,
   "metadata": {
    "id": "NPamAxCKzIgY"
   },
   "outputs": [],
   "source": [
    "auc=eval.evaluate(pred_labels.predictions)"
   ]
  },
  {
   "cell_type": "code",
   "execution_count": 47,
   "metadata": {
    "colab": {
     "base_uri": "https://localhost:8080/"
    },
    "id": "ZKUN56GRzXaT",
    "outputId": "37a7d2be-b5f4-499b-d690-3674cc3d1d90"
   },
   "outputs": [
    {
     "data": {
      "text/plain": [
       "0.7456808943089431"
      ]
     },
     "execution_count": 47,
     "metadata": {},
     "output_type": "execute_result"
    }
   ],
   "source": [
    "auc"
   ]
  },
  {
   "cell_type": "markdown",
   "metadata": {
    "id": "9Gukk7sCz_-h"
   },
   "source": [
    "ROC eğrisi (alıcı çalışma özelliği eğrisi), tüm sınıflandırma eşiklerinde bir sınıflandırma modelinin performansını gösteren grafiktir.\n",
    "AUC, ROC Eğrisi altındaki \"Alan\" anlamına gelir. Yani AUC, ROC eğrisinin tamamı (integral kalkülüs) altında bulunan (0,0) ile (1,1) arasındaki iki boyutlu alanın tamamını ölçer.\n",
    "AUC değeri 0 ile 1 arasında değişir. Tahminleri% 100 yanlış olan bir modelin AUC'si 0.0'dır; tahminleri% 100 doğru olan AUC'nin AUC'si 1.0'dır.\n",
    "auc=area under the curve"
   ]
  },
  {
   "cell_type": "code",
   "execution_count": 60,
   "metadata": {
    "id": "ijBD7p9qzYgz"
   },
   "outputs": [],
   "source": [
    "from pyspark.ml.classification import GBTClassifier"
   ]
  },
  {
   "cell_type": "code",
   "execution_count": 69,
   "metadata": {
    "id": "Q--2dedX2M1O"
   },
   "outputs": [],
   "source": [
    "gbt = GBTClassifier(labelCol=\"churn\", maxIter=20)"
   ]
  },
  {
   "cell_type": "code",
   "execution_count": 70,
   "metadata": {
    "id": "exnQSNpk2TWF"
   },
   "outputs": [],
   "source": [
    "gbtm=gbt.fit(train)"
   ]
  },
  {
   "cell_type": "code",
   "execution_count": 71,
   "metadata": {
    "id": "0GLtNm-Q2ewF"
   },
   "outputs": [],
   "source": [
    "pred = gbtm.transform(test)"
   ]
  },
  {
   "cell_type": "code",
   "execution_count": 72,
   "metadata": {
    "colab": {
     "base_uri": "https://localhost:8080/"
    },
    "id": "Jfh6K6XW2mil",
    "outputId": "c62c7247-a798-415a-ee6d-23302fe3b22b"
   },
   "outputs": [
    {
     "name": "stdout",
     "output_type": "stream",
     "text": [
      "+--------------------+-----+--------------------+--------------------+----------+\n",
      "|            features|churn|       rawPrediction|         probability|prediction|\n",
      "+--------------------+-----+--------------------+--------------------+----------+\n",
      "|[26.0,8787.39,1.0...|    1|[-0.2682540984401...|[0.36900023787308...|       1.0|\n",
      "|[28.0,9090.43,1.0...|    0|[-0.5994739924844...|[0.23166241699189...|       1.0|\n",
      "|[28.0,11204.23,0....|    0|[-0.6295577638867...|[0.22112618676346...|       1.0|\n",
      "|[28.0,11245.38,0....|    0|[1.24815436878047...|[0.92388264328542...|       0.0|\n",
      "|[29.0,9617.59,0.0...|    0|[1.23681826060691...|[0.92227285185462...|       0.0|\n",
      "|[29.0,10203.18,1....|    0|[1.37726661364395...|[0.94016885949743...|       0.0|\n",
      "|[29.0,11274.46,1....|    0|[1.44774276996281...|[0.94762281932138...|       0.0|\n",
      "|[30.0,6744.87,0.0...|    0|[0.75969148469085...|[0.82044760172677...|       0.0|\n",
      "|[30.0,8403.78,1.0...|    0|[1.46226387468729...|[0.94904569751174...|       0.0|\n",
      "|[30.0,8874.83,0.0...|    0|[-0.0196549281815...|[0.49017380121658...|       1.0|\n",
      "|[30.0,10183.98,1....|    0|[0.58367539637279...|[0.76266582528679...|       0.0|\n",
      "|[30.0,12788.37,0....|    0|[1.07708270587762...|[0.89605737783592...|       0.0|\n",
      "|[30.0,13473.35,0....|    0|[1.18460873366970...|[0.91444966172981...|       0.0|\n",
      "|[31.0,5304.6,0.0,...|    0|[0.58676631369527...|[0.76378296104039...|       0.0|\n",
      "|[31.0,7073.61,0.0...|    0|[0.67857447333683...|[0.79529593610732...|       0.0|\n",
      "|[31.0,8829.83,1.0...|    0|[1.44153268829095...|[0.94700292088703...|       0.0|\n",
      "|[31.0,9574.89,0.0...|    0|[1.55593435373725...|[0.95737967142076...|       0.0|\n",
      "|[31.0,11743.24,0....|    0|[0.82089332465036...|[0.83777790050116...|       0.0|\n",
      "|[32.0,6367.22,1.0...|    0|[0.92954715578683...|[0.86519134775967...|       0.0|\n",
      "|[32.0,7896.65,0.0...|    0|[1.53952395682094...|[0.95602017093393...|       0.0|\n",
      "+--------------------+-----+--------------------+--------------------+----------+\n",
      "only showing top 20 rows\n",
      "\n"
     ]
    }
   ],
   "source": [
    "pred.show() "
   ]
  },
  {
   "cell_type": "code",
   "execution_count": 81,
   "metadata": {
    "colab": {
     "base_uri": "https://localhost:8080/"
    },
    "id": "LEbWDnJ_4uD_",
    "outputId": "c04be0a1-f8fa-485b-e044-db29dc4897c5"
   },
   "outputs": [
    {
     "name": "stdout",
     "output_type": "stream",
     "text": [
      "Accuracy: 0.7048399390243902\n"
     ]
    }
   ],
   "source": [
    "print('Accuracy:', eval.evaluate(pred))"
   ]
  },
  {
   "cell_type": "code",
   "execution_count": 82,
   "metadata": {
    "id": "jdofGECG8lU0"
   },
   "outputs": [],
   "source": [
    "from pyspark.ml.evaluation import MulticlassClassificationEvaluator"
   ]
  },
  {
   "cell_type": "code",
   "execution_count": 83,
   "metadata": {
    "id": "Ivo2j5kE7oaP"
   },
   "outputs": [],
   "source": [
    "eval_accuracy = MulticlassClassificationEvaluator(labelCol=\"churn\", predictionCol=\"prediction\", metricName=\"accuracy\")"
   ]
  },
  {
   "cell_type": "code",
   "execution_count": 84,
   "metadata": {
    "id": "qw7WkSkl81zd"
   },
   "outputs": [],
   "source": [
    "acc = eval_accuracy.evaluate(pred)"
   ]
  },
  {
   "cell_type": "code",
   "execution_count": 86,
   "metadata": {
    "colab": {
     "base_uri": "https://localhost:8080/"
    },
    "id": "alUw380i9DhY",
    "outputId": "0c5e6e49-b73f-48bf-c821-5e34b4ca4194"
   },
   "outputs": [
    {
     "name": "stdout",
     "output_type": "stream",
     "text": [
      "Prediction Accuracy:  0.8454935622317596\n"
     ]
    }
   ],
   "source": [
    "print(\"Prediction Accuracy: \", acc)"
   ]
  },
  {
   "cell_type": "code",
   "execution_count": 89,
   "metadata": {
    "id": "7bodDJ_59hQB"
   },
   "outputs": [],
   "source": [
    "from sklearn.metrics import confusion_matrix"
   ]
  },
  {
   "cell_type": "code",
   "execution_count": 90,
   "metadata": {
    "id": "yKXZQrj_9G2n"
   },
   "outputs": [],
   "source": [
    "y_pred=pred.select(\"prediction\").collect()\n",
    "y_orig=pred.select(\"churn\").collect()"
   ]
  },
  {
   "cell_type": "code",
   "execution_count": 91,
   "metadata": {
    "colab": {
     "base_uri": "https://localhost:8080/"
    },
    "id": "0IO7_SC09TyH",
    "outputId": "82effec4-d8f1-4dfd-a55e-afcb609b4d64"
   },
   "outputs": [
    {
     "name": "stdout",
     "output_type": "stream",
     "text": [
      "Confusion Matrix:\n",
      "[[177  15]\n",
      " [ 21  20]]\n"
     ]
    }
   ],
   "source": [
    "cm = confusion_matrix(y_orig, y_pred)\n",
    "print(\"Confusion Matrix:\")\n",
    "print(cm)"
   ]
  },
  {
   "cell_type": "markdown",
   "metadata": {
    "id": "0_WrMmb0_kxT"
   },
   "source": [
    "doğru tahminlerin sayısı:177+20=197"
   ]
  },
  {
   "cell_type": "code",
   "execution_count": null,
   "metadata": {
    "id": "jzxsL-bC9qxH"
   },
   "outputs": [],
   "source": []
  }
 ],
 "metadata": {
  "colab": {
   "provenance": []
  },
  "kernelspec": {
   "display_name": "Python 3 (ipykernel)",
   "language": "python",
   "name": "python3"
  },
  "language_info": {
   "codemirror_mode": {
    "name": "ipython",
    "version": 3
   },
   "file_extension": ".py",
   "mimetype": "text/x-python",
   "name": "python",
   "nbconvert_exporter": "python",
   "pygments_lexer": "ipython3",
   "version": "3.9.12"
  }
 },
 "nbformat": 4,
 "nbformat_minor": 1
}
