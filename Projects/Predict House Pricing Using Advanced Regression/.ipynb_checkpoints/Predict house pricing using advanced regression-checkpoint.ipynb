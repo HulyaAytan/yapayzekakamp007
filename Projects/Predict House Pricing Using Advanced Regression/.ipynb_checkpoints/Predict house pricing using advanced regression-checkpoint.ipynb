{
 "cells": [
  {
   "cell_type": "code",
   "execution_count": null,
   "id": "7690bf9e",
   "metadata": {},
   "outputs": [],
   "source": [
    "import pandas as pd\n",
    "pd.set_option(\"display.max_columns\",100) #sütunların hepsini görmek için\n",
    "import numpy as np\n",
    "\n",
    "from scipy import stats\n",
    "import matplotlib.pyplot as plt\n",
    "%matplotlib inline\n",
    "import seaborn as sns\n",
    "\n",
    "\n",
    "from sklearn.metrics import r2_score, mean_squared_error,mean_absolute_error\n",
    "from sklearn.linear_model import LinearRegression, ElasticNet, Ridge, Lasso\n",
    "from sklearn.tree import ExtraTreeRegressor\n",
    "from sklearn.ensemble import GradientBoostingRegressor\n",
    "from xgboost import XGBRegressor\n",
    "\n",
    "from sklearn.model_selection import train_test_split\n",
    "\n",
    "import warnings\n",
    "warnings.filterwarnings('ignore') #uyarıları gösterme"
   ]
  },
  {
   "cell_type": "code",
   "execution_count": null,
   "id": "e1656f59",
   "metadata": {},
   "outputs": [],
   "source": [
    "df1=pd.read_csv('train.csv')"
   ]
  },
  {
   "cell_type": "code",
   "execution_count": null,
   "id": "af66ce71",
   "metadata": {},
   "outputs": [],
   "source": [
    "df1.head()"
   ]
  },
  {
   "cell_type": "code",
   "execution_count": null,
   "id": "75bebaea",
   "metadata": {},
   "outputs": [],
   "source": [
    "#SalePrice - the property's sale price in dollars. This is the target variable that you're trying to predict."
   ]
  },
  {
   "cell_type": "code",
   "execution_count": null,
   "id": "f55b862f",
   "metadata": {},
   "outputs": [],
   "source": [
    "df1.shape "
   ]
  },
  {
   "cell_type": "code",
   "execution_count": null,
   "id": "7e09a223",
   "metadata": {},
   "outputs": [],
   "source": [
    "df2=pd.read_csv('test.csv')"
   ]
  },
  {
   "cell_type": "code",
   "execution_count": null,
   "id": "bf87f2c4",
   "metadata": {},
   "outputs": [],
   "source": [
    "df2.head()"
   ]
  },
  {
   "cell_type": "code",
   "execution_count": null,
   "id": "4762b8ea",
   "metadata": {},
   "outputs": [],
   "source": [
    "df2.shape"
   ]
  },
  {
   "cell_type": "code",
   "execution_count": null,
   "id": "d5e86b4b",
   "metadata": {},
   "outputs": [],
   "source": [
    "df=df1.append(df2) #test ve train tablolarını birleştirdim"
   ]
  },
  {
   "cell_type": "code",
   "execution_count": null,
   "id": "7550a841",
   "metadata": {},
   "outputs": [],
   "source": [
    "df.shape"
   ]
  },
  {
   "cell_type": "code",
   "execution_count": null,
   "id": "00ccb025",
   "metadata": {},
   "outputs": [],
   "source": [
    "df.info()"
   ]
  },
  {
   "cell_type": "code",
   "execution_count": null,
   "id": "1e171928",
   "metadata": {},
   "outputs": [],
   "source": [
    "df.isnull().sum().sort_values(ascending=False).head(30)"
   ]
  },
  {
   "cell_type": "code",
   "execution_count": null,
   "id": "1e87d158",
   "metadata": {},
   "outputs": [],
   "source": [
    "df.tail()"
   ]
  },
  {
   "cell_type": "code",
   "execution_count": null,
   "id": "ac7e3c5d",
   "metadata": {},
   "outputs": [],
   "source": [
    "Veri Tipleri Neler?\n",
    "Sayısal olan verilerdeki boşlukları mean ile doldurabilirim \n",
    "Yukarıdaki veri tipleri ve boş değer tablolarına bakarak sırasıyla sayısal değerleri dolduralım."
   ]
  },
  {
   "cell_type": "code",
   "execution_count": null,
   "id": "bb407efc",
   "metadata": {},
   "outputs": [],
   "source": [
    "df[df.select_dtypes(include=[np.number]).columns]"
   ]
  },
  {
   "cell_type": "code",
   "execution_count": null,
   "id": "5fd696a4",
   "metadata": {},
   "outputs": [],
   "source": [
    "#LotFrontage:486 boş veri var    2433 non-null   float6\n",
    "#LotFrontage:Linear feet of street connected to property\n",
    "df[\"LotFrontage\"]=df[\"LotFrontage\"].fillna(df[\"LotFrontage\"].mean())"
   ]
  },
  {
   "cell_type": "code",
   "execution_count": null,
   "id": "e73ba033",
   "metadata": {},
   "outputs": [],
   "source": [
    "GarageYrBlt:159    2760 non-null   float64\n",
    "df[\"GarageYrBlt\"]=df[\"GarageYrBlt\"].fillna(0)"
   ]
  },
  {
   "cell_type": "code",
   "execution_count": null,
   "id": "64bc073f",
   "metadata": {},
   "outputs": [],
   "source": [
    "# MasVnrArea:23     2896 non-null   float64\n",
    "#MasVnrArea: Masonry veneer area in square feet\n",
    "df[\"MasVnrArea\"]=df[\"MasVnrArea\"].fillna(df[\"MasVnrArea\"].mean())"
   ]
  },
  {
   "cell_type": "code",
   "execution_count": null,
   "id": "d5069d32",
   "metadata": {},
   "outputs": [],
   "source": [
    "#BsmtHalfBath:2   2917 non-null   float64\n",
    "#BsmtHalfBath: Basement half bathrooms\n",
    "df[\"BsmtHalfBath\"]=df[\"BsmtHalfBath\"].fillna(0))"
   ]
  },
  {
   "cell_type": "code",
   "execution_count": null,
   "id": "1bb355aa",
   "metadata": {},
   "outputs": [],
   "source": [
    "#BsmtFullBath:2  2917 non-null   float64\n",
    "#BsmtFullBath: Basement full bathrooms\n",
    "df[\"BsmtFullBath\"]=df[\"BsmtFullBath\"].fillna(0)"
   ]
  },
  {
   "cell_type": "code",
   "execution_count": null,
   "id": "7d681243",
   "metadata": {},
   "outputs": [],
   "source": [
    "#BsmtFinSF1:1     2918 non-null   float64\n",
    "#BsmtFinSF1: Type 1 finished square feet\n",
    "df[\"BsmtFinSF1\"]=df[\"BsmtFinSF1\"].fillna(0)"
   ]
  },
  {
   "cell_type": "code",
   "execution_count": null,
   "id": "cceaf036",
   "metadata": {},
   "outputs": [],
   "source": [
    "#BsmtFinSF2:1     2918 non-null   float64\n",
    "#BsmtFinSF2: Type 2 finished square feet\n",
    "df[\"BsmtFinSF2\"]=df[\"BsmtFinSF2\"].fillna(0)    "
   ]
  },
  {
   "cell_type": "code",
   "execution_count": null,
   "id": "b36d325e",
   "metadata": {},
   "outputs": [],
   "source": [
    "#GarageCars:1     2918 non-null   float64\n",
    "df['GarageCars']=df['GarageCars'].fillna(0)"
   ]
  },
  {
   "cell_type": "code",
   "execution_count": null,
   "id": "7cc23b6d",
   "metadata": {},
   "outputs": [],
   "source": [
    "#TotalBsmtSF:1   2918 non-null   float64\n",
    "df[\"TotalBsmtSF\"]=df[\"TotalBsmtSF\"].fillna(0)"
   ]
  },
  {
   "cell_type": "code",
   "execution_count": null,
   "id": "99c76ace",
   "metadata": {},
   "outputs": [],
   "source": [
    "#year_feature = [feature for feature in numercial_features if 'Yr' in feature or 'Year' in feature]\n",
    "#year_feature"
   ]
  },
  {
   "cell_type": "code",
   "execution_count": null,
   "id": "e97db88e",
   "metadata": {},
   "outputs": [],
   "source": [
    "for col in ('GarageYrBlt', 'GarageArea', 'GarageCars','BsmtFinSF1', 'BsmtFinSF2', 'BsmtUnfSF','TotalBsmtSF', 'BsmtFullBath', 'BsmtHalfBath'):\n",
    "    df[col] = df[col].fillna(0)"
   ]
  },
  {
   "cell_type": "code",
   "execution_count": null,
   "id": "a82bfb4f",
   "metadata": {},
   "outputs": [],
   "source": [
    "  Alley           0\n",
    "MasVnrType      0\n",
    "BsmtQual        0\n",
    "BsmtCond        0\n",
    "BsmtExposure    0\n",
    "BsmtFinType1    0\n",
    "BsmtFinType2    0\n",
    "FireplaceQu     0\n",
    "GarageType      0\n",
    "GarageFinish    0\n",
    "GarageQual      0\n",
    "GarageCond      0\n",
    "PoolQC          0\n",
    "Fence           0\n",
    "MiscFeature   0"
   ]
  },
  {
   "cell_type": "code",
   "execution_count": null,
   "id": "43426db2",
   "metadata": {},
   "outputs": [],
   "source": []
  },
  {
   "cell_type": "code",
   "execution_count": null,
   "id": "854d3a3d",
   "metadata": {},
   "outputs": [],
   "source": [
    "for col in ('GarageYrBlt', 'GarageArea', 'GarageCars','BsmtFinSF1', 'BsmtFinSF2', 'BsmtUnfSF','TotalBsmtSF', 'BsmtFullBath', 'BsmtHalfBath'):\n",
    "    df[col] = df[col].fillna(0)"
   ]
  },
  {
   "cell_type": "code",
   "execution_count": null,
   "id": "0fe634ae",
   "metadata": {},
   "outputs": [],
   "source": [
    "df[\"GarageYrAge\"]=(2022-df[\"GarageYrBlt\"])"
   ]
  },
  {
   "cell_type": "code",
   "execution_count": null,
   "id": "ca963dfc",
   "metadata": {},
   "outputs": [],
   "source": [
    "YearBuilt      2919 non-null   int64   \n",
    "df[\"Age\"]=(2022-df[\"YearBuilt\"])"
   ]
  },
  {
   "cell_type": "code",
   "execution_count": null,
   "id": "91dce582",
   "metadata": {},
   "outputs": [],
   "source": [
    "YearRemodAdd\n",
    "df[\"Renovated\"]=(2022-df[\"YearRemodAdd\"])**2"
   ]
  },
  {
   "cell_type": "code",
   "execution_count": null,
   "id": "3123fe01",
   "metadata": {},
   "outputs": [],
   "source": [
    "MoSold:satıldığı ay         2919 non-null   int64  \n",
    "YrSold:satıldığı yıl         2919 non-null   int64 \n",
    " df[\"YrSold\"] = df[\"YrSold\"].where(df.YrSold >= df.YearBuilt, df.YearBuilt)"
   ]
  }
 ],
 "metadata": {
  "kernelspec": {
   "display_name": "Python 3 (ipykernel)",
   "language": "python",
   "name": "python3"
  },
  "language_info": {
   "codemirror_mode": {
    "name": "ipython",
    "version": 3
   },
   "file_extension": ".py",
   "mimetype": "text/x-python",
   "name": "python",
   "nbconvert_exporter": "python",
   "pygments_lexer": "ipython3",
   "version": "3.9.12"
  }
 },
 "nbformat": 4,
 "nbformat_minor": 5
}
