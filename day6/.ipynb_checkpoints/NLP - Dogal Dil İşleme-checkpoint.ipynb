{
 "cells": [
  {
   "cell_type": "markdown",
   "id": "5c3f427f",
   "metadata": {},
   "source": [
    "# Natural Language Processing  - Doğal Dil İşleme"
   ]
  },
  {
   "cell_type": "code",
   "execution_count": 1,
   "id": "2b06d618",
   "metadata": {},
   "outputs": [
    {
     "name": "stdout",
     "output_type": "stream",
     "text": [
      "Requirement already satisfied: nltk in c:\\users\\t\\anaconda3\\lib\\site-packages (3.7)\n",
      "Requirement already satisfied: joblib in c:\\users\\t\\anaconda3\\lib\\site-packages (from nltk) (1.1.0)\n",
      "Requirement already satisfied: click in c:\\users\\t\\anaconda3\\lib\\site-packages (from nltk) (8.0.4)\n",
      "Requirement already satisfied: regex>=2021.8.3 in c:\\users\\t\\anaconda3\\lib\\site-packages (from nltk) (2022.3.15)\n",
      "Requirement already satisfied: tqdm in c:\\users\\t\\anaconda3\\lib\\site-packages (from nltk) (4.64.0)\n",
      "Requirement already satisfied: colorama in c:\\users\\t\\anaconda3\\lib\\site-packages (from click->nltk) (0.4.4)\n",
      "Note: you may need to restart the kernel to use updated packages.\n"
     ]
    }
   ],
   "source": [
    "pip install nltk"
   ]
  },
  {
   "cell_type": "code",
   "execution_count": 2,
   "id": "76e571b1",
   "metadata": {},
   "outputs": [],
   "source": [
    "#natural language toolkit"
   ]
  },
  {
   "cell_type": "code",
   "execution_count": 3,
   "id": "2fe52f3d",
   "metadata": {},
   "outputs": [],
   "source": [
    "import nltk"
   ]
  },
  {
   "cell_type": "code",
   "execution_count": 4,
   "id": "57606c6b",
   "metadata": {},
   "outputs": [
    {
     "name": "stderr",
     "output_type": "stream",
     "text": [
      "[nltk_data] Downloading package punkt to\n",
      "[nltk_data]     C:\\Users\\T\\AppData\\Roaming\\nltk_data...\n",
      "[nltk_data]   Package punkt is already up-to-date!\n"
     ]
    },
    {
     "data": {
      "text/plain": [
       "True"
      ]
     },
     "execution_count": 4,
     "metadata": {},
     "output_type": "execute_result"
    }
   ],
   "source": [
    "nltk.download(\"punkt\")"
   ]
  },
  {
   "cell_type": "code",
   "execution_count": 5,
   "id": "f09bc510",
   "metadata": {},
   "outputs": [],
   "source": [
    "cumle=\"Yaylaya gitmişti yayla zamanı Gülizar döndü de Döndü dönmedi. \""
   ]
  },
  {
   "cell_type": "code",
   "execution_count": 6,
   "id": "e2c9fc45",
   "metadata": {},
   "outputs": [
    {
     "data": {
      "text/plain": [
       "'YAYLAYA GITMIŞTI YAYLA ZAMANI GÜLIZAR DÖNDÜ DE DÖNDÜ DÖNMEDI. '"
      ]
     },
     "execution_count": 6,
     "metadata": {},
     "output_type": "execute_result"
    }
   ],
   "source": [
    "cumle.upper()"
   ]
  },
  {
   "cell_type": "code",
   "execution_count": 7,
   "id": "32a7c80b",
   "metadata": {},
   "outputs": [
    {
     "data": {
      "text/plain": [
       "['Yaylaya',\n",
       " 'gitmişti',\n",
       " 'yayla',\n",
       " 'zamanı',\n",
       " 'Gülizar',\n",
       " 'döndü',\n",
       " 'de',\n",
       " 'Döndü',\n",
       " 'dönmedi.']"
      ]
     },
     "execution_count": 7,
     "metadata": {},
     "output_type": "execute_result"
    }
   ],
   "source": [
    "cumle.split()"
   ]
  },
  {
   "cell_type": "code",
   "execution_count": 8,
   "id": "10afb2bf",
   "metadata": {},
   "outputs": [],
   "source": [
    "from nltk.tokenize import sent_tokenize #Cümleleri ayırıyor"
   ]
  },
  {
   "cell_type": "code",
   "execution_count": 9,
   "id": "d5f26ca7",
   "metadata": {},
   "outputs": [],
   "source": [
    "text=\"I love phyton. Zafer lives in a small village. Please call e back.\""
   ]
  },
  {
   "cell_type": "code",
   "execution_count": 10,
   "id": "8adc2781",
   "metadata": {},
   "outputs": [
    {
     "data": {
      "text/plain": [
       "['I love phyton', ' Zafer lives in a small village', ' Please call e back', '']"
      ]
     },
     "execution_count": 10,
     "metadata": {},
     "output_type": "execute_result"
    }
   ],
   "source": [
    "text.split(\".\")"
   ]
  },
  {
   "cell_type": "code",
   "execution_count": 11,
   "id": "7f37cd8a",
   "metadata": {},
   "outputs": [
    {
     "data": {
      "text/plain": [
       "['I',\n",
       " 'love',\n",
       " 'phyton.',\n",
       " 'Zafer',\n",
       " 'lives',\n",
       " 'in',\n",
       " 'a',\n",
       " 'small',\n",
       " 'village.',\n",
       " 'Please',\n",
       " 'call',\n",
       " 'e',\n",
       " 'back.']"
      ]
     },
     "execution_count": 11,
     "metadata": {},
     "output_type": "execute_result"
    }
   ],
   "source": [
    "text.split()"
   ]
  },
  {
   "cell_type": "code",
   "execution_count": 12,
   "id": "f936c2cc",
   "metadata": {},
   "outputs": [
    {
     "data": {
      "text/plain": [
       "['I love phyton.', 'Zafer lives in a small village.', 'Please call e back.']"
      ]
     },
     "execution_count": 12,
     "metadata": {},
     "output_type": "execute_result"
    }
   ],
   "source": [
    "sent_tokenize(text)"
   ]
  },
  {
   "cell_type": "code",
   "execution_count": 13,
   "id": "87a429ce",
   "metadata": {},
   "outputs": [],
   "source": [
    "from nltk.tokenize import word_tokenize"
   ]
  },
  {
   "cell_type": "code",
   "execution_count": 14,
   "id": "83103619",
   "metadata": {},
   "outputs": [
    {
     "data": {
      "text/plain": [
       "['I',\n",
       " 'love',\n",
       " 'phyton',\n",
       " '.',\n",
       " 'Zafer',\n",
       " 'lives',\n",
       " 'in',\n",
       " 'a',\n",
       " 'small',\n",
       " 'village',\n",
       " '.',\n",
       " 'Please',\n",
       " 'call',\n",
       " 'e',\n",
       " 'back',\n",
       " '.']"
      ]
     },
     "execution_count": 14,
     "metadata": {},
     "output_type": "execute_result"
    }
   ],
   "source": [
    "word_tokenize(text) #kelimelerine ayırdı"
   ]
  },
  {
   "cell_type": "code",
   "execution_count": 15,
   "id": "d2adb108",
   "metadata": {},
   "outputs": [],
   "source": [
    "from nltk.tokenize import TreebankWordTokenizer"
   ]
  },
  {
   "cell_type": "code",
   "execution_count": 16,
   "id": "bb6c2652",
   "metadata": {},
   "outputs": [
    {
     "data": {
      "text/plain": [
       "['I',\n",
       " 'love',\n",
       " 'phyton.',\n",
       " 'Zafer',\n",
       " 'lives',\n",
       " 'in',\n",
       " 'a',\n",
       " 'small',\n",
       " 'village.',\n",
       " 'Please',\n",
       " 'call',\n",
       " 'e',\n",
       " 'back',\n",
       " '.']"
      ]
     },
     "execution_count": 16,
     "metadata": {},
     "output_type": "execute_result"
    }
   ],
   "source": [
    "TreebankWordTokenizer().tokenize(text)"
   ]
  },
  {
   "cell_type": "code",
   "execution_count": 17,
   "id": "89e6dd94",
   "metadata": {},
   "outputs": [],
   "source": [
    "# Stopwords: gereksiz kelimeler "
   ]
  },
  {
   "cell_type": "code",
   "execution_count": 18,
   "id": "72a20843",
   "metadata": {},
   "outputs": [
    {
     "name": "stderr",
     "output_type": "stream",
     "text": [
      "[nltk_data] Downloading package stopwords to\n",
      "[nltk_data]     C:\\Users\\T\\AppData\\Roaming\\nltk_data...\n",
      "[nltk_data]   Package stopwords is already up-to-date!\n"
     ]
    },
    {
     "data": {
      "text/plain": [
       "True"
      ]
     },
     "execution_count": 18,
     "metadata": {},
     "output_type": "execute_result"
    }
   ],
   "source": [
    "nltk.download('stopwords')"
   ]
  },
  {
   "cell_type": "code",
   "execution_count": 19,
   "id": "a3565333",
   "metadata": {},
   "outputs": [
    {
     "name": "stdout",
     "output_type": "stream",
     "text": [
      "['i', 'me', 'my', 'myself', 'we', 'our', 'ours', 'ourselves', 'you', \"you're\", \"you've\", \"you'll\", \"you'd\", 'your', 'yours', 'yourself', 'yourselves', 'he', 'him', 'his', 'himself', 'she', \"she's\", 'her', 'hers', 'herself', 'it', \"it's\", 'its', 'itself', 'they', 'them', 'their', 'theirs', 'themselves', 'what', 'which', 'who', 'whom', 'this', 'that', \"that'll\", 'these', 'those', 'am', 'is', 'are', 'was', 'were', 'be', 'been', 'being', 'have', 'has', 'had', 'having', 'do', 'does', 'did', 'doing', 'a', 'an', 'the', 'and', 'but', 'if', 'or', 'because', 'as', 'until', 'while', 'of', 'at', 'by', 'for', 'with', 'about', 'against', 'between', 'into', 'through', 'during', 'before', 'after', 'above', 'below', 'to', 'from', 'up', 'down', 'in', 'out', 'on', 'off', 'over', 'under', 'again', 'further', 'then', 'once', 'here', 'there', 'when', 'where', 'why', 'how', 'all', 'any', 'both', 'each', 'few', 'more', 'most', 'other', 'some', 'such', 'no', 'nor', 'not', 'only', 'own', 'same', 'so', 'than', 'too', 'very', 's', 't', 'can', 'will', 'just', 'don', \"don't\", 'should', \"should've\", 'now', 'd', 'll', 'm', 'o', 're', 've', 'y', 'ain', 'aren', \"aren't\", 'couldn', \"couldn't\", 'didn', \"didn't\", 'doesn', \"doesn't\", 'hadn', \"hadn't\", 'hasn', \"hasn't\", 'haven', \"haven't\", 'isn', \"isn't\", 'ma', 'mightn', \"mightn't\", 'mustn', \"mustn't\", 'needn', \"needn't\", 'shan', \"shan't\", 'shouldn', \"shouldn't\", 'wasn', \"wasn't\", 'weren', \"weren't\", 'won', \"won't\", 'wouldn', \"wouldn't\"]\n"
     ]
    }
   ],
   "source": [
    "print(nltk.corpus.stopwords.words(\"english\")) #ingilizce gereksiz kelimeler"
   ]
  },
  {
   "cell_type": "code",
   "execution_count": 20,
   "id": "81c3a41b",
   "metadata": {},
   "outputs": [
    {
     "name": "stdout",
     "output_type": "stream",
     "text": [
      "['acaba', 'ama', 'aslında', 'az', 'bazı', 'belki', 'biri', 'birkaç', 'birşey', 'biz', 'bu', 'çok', 'çünkü', 'da', 'daha', 'de', 'defa', 'diye', 'eğer', 'en', 'gibi', 'hem', 'hep', 'hepsi', 'her', 'hiç', 'için', 'ile', 'ise', 'kez', 'ki', 'kim', 'mı', 'mu', 'mü', 'nasıl', 'ne', 'neden', 'nerde', 'nerede', 'nereye', 'niçin', 'niye', 'o', 'sanki', 'şey', 'siz', 'şu', 'tüm', 've', 'veya', 'ya', 'yani']\n"
     ]
    }
   ],
   "source": [
    "print(nltk.corpus.stopwords.words(\"turkish\"))"
   ]
  },
  {
   "cell_type": "code",
   "execution_count": 21,
   "id": "300d40b9",
   "metadata": {},
   "outputs": [],
   "source": [
    "from nltk.stem import PorterStemmer"
   ]
  },
  {
   "cell_type": "code",
   "execution_count": 22,
   "id": "a04997cd",
   "metadata": {},
   "outputs": [
    {
     "data": {
      "text/plain": [
       "'happi'"
      ]
     },
     "execution_count": 22,
     "metadata": {},
     "output_type": "execute_result"
    }
   ],
   "source": [
    "PorterStemmer().stem(\"Happiness\") #ek kaldırıyor"
   ]
  },
  {
   "cell_type": "code",
   "execution_count": 23,
   "id": "8294bdc7",
   "metadata": {},
   "outputs": [],
   "source": [
    "from nltk.stem import LancasterStemmer"
   ]
  },
  {
   "cell_type": "code",
   "execution_count": 24,
   "id": "01769ed9",
   "metadata": {},
   "outputs": [
    {
     "data": {
      "text/plain": [
       "'happy'"
      ]
     },
     "execution_count": 24,
     "metadata": {},
     "output_type": "execute_result"
    }
   ],
   "source": [
    "LancasterStemmer().stem(\"Happiness\") #kökünü buluyor"
   ]
  },
  {
   "cell_type": "code",
   "execution_count": 25,
   "id": "455ab7b1",
   "metadata": {},
   "outputs": [],
   "source": [
    "# Markov Chain - bi sonraki adımı tahmin etmek"
   ]
  },
  {
   "cell_type": "code",
   "execution_count": 26,
   "id": "82d8c169",
   "metadata": {},
   "outputs": [],
   "source": [
    "from nltk.stem import RegexpStemmer #hangi eki kaldıracağınızı önceden belirleyebiliyoruz"
   ]
  },
  {
   "cell_type": "code",
   "execution_count": 27,
   "id": "16aa4dc9",
   "metadata": {},
   "outputs": [],
   "source": [
    "rs=RegexpStemmer(\"ing\")"
   ]
  },
  {
   "cell_type": "code",
   "execution_count": 28,
   "id": "c4793b8c",
   "metadata": {},
   "outputs": [
    {
     "data": {
      "text/plain": [
       "'work'"
      ]
     },
     "execution_count": 28,
     "metadata": {},
     "output_type": "execute_result"
    }
   ],
   "source": [
    "rs.stem(\"working\")"
   ]
  },
  {
   "cell_type": "raw",
   "id": "366ff381",
   "metadata": {},
   "source": [
    "#NLP Projesinde 7 altın kural\n",
    "1- Noktalama işaretlerini kaldır\n",
    "2- Hepsini küçük harfe çevir\n",
    "3- Enter veya \\n kaldir\n",
    "4- Rakamları kaldır\n",
    "5- Tokenize et\n",
    "6- Eklerini kaldır köklerini bul\n",
    "7- Stopwords kaldır gereksiz kelimeler"
   ]
  },
  {
   "cell_type": "code",
   "execution_count": 29,
   "id": "8ff9538e",
   "metadata": {},
   "outputs": [],
   "source": [
    "from nltk.stem import SnowballStemmer #ekleri kaldırıyor"
   ]
  },
  {
   "cell_type": "code",
   "execution_count": 30,
   "id": "5a94ce62",
   "metadata": {},
   "outputs": [
    {
     "data": {
      "text/plain": [
       "('arabic',\n",
       " 'danish',\n",
       " 'dutch',\n",
       " 'english',\n",
       " 'finnish',\n",
       " 'french',\n",
       " 'german',\n",
       " 'hungarian',\n",
       " 'italian',\n",
       " 'norwegian',\n",
       " 'porter',\n",
       " 'portuguese',\n",
       " 'romanian',\n",
       " 'russian',\n",
       " 'spanish',\n",
       " 'swedish')"
      ]
     },
     "execution_count": 30,
     "metadata": {},
     "output_type": "execute_result"
    }
   ],
   "source": [
    "SnowballStemmer.languages #desteklediği diller"
   ]
  },
  {
   "cell_type": "code",
   "execution_count": 31,
   "id": "8632f8b4",
   "metadata": {},
   "outputs": [
    {
     "name": "stdout",
     "output_type": "stream",
     "text": [
      "Requirement already satisfied: TurkishStemmer in c:\\users\\t\\anaconda3\\lib\\site-packages (1.3)\n"
     ]
    }
   ],
   "source": [
    "!pip install TurkishStemmer"
   ]
  },
  {
   "cell_type": "code",
   "execution_count": 32,
   "id": "a14a0a1e",
   "metadata": {},
   "outputs": [],
   "source": [
    "from TurkishStemmer import TurkishStemmer #türkçe dili için kök bulma"
   ]
  },
  {
   "cell_type": "code",
   "execution_count": 33,
   "id": "acdbdedf",
   "metadata": {},
   "outputs": [
    {
     "data": {
      "text/plain": [
       "'bardak'"
      ]
     },
     "execution_count": 33,
     "metadata": {},
     "output_type": "execute_result"
    }
   ],
   "source": [
    "TurkishStemmer().stem(\"bardaktan\")"
   ]
  },
  {
   "cell_type": "code",
   "execution_count": 34,
   "id": "43de2e12",
   "metadata": {},
   "outputs": [
    {
     "data": {
      "text/plain": [
       "'geliyor'"
      ]
     },
     "execution_count": 34,
     "metadata": {},
     "output_type": "execute_result"
    }
   ],
   "source": [
    "TurkishStemmer().stem(\"geliyorum\")"
   ]
  },
  {
   "cell_type": "code",
   "execution_count": 35,
   "id": "001f7171",
   "metadata": {},
   "outputs": [
    {
     "data": {
      "text/plain": [
       "'gözlük'"
      ]
     },
     "execution_count": 35,
     "metadata": {},
     "output_type": "execute_result"
    }
   ],
   "source": [
    "TurkishStemmer().stem(\"gözlük\")"
   ]
  },
  {
   "cell_type": "code",
   "execution_count": 36,
   "id": "506a098c",
   "metadata": {},
   "outputs": [
    {
     "data": {
      "text/plain": [
       "'mahalle'"
      ]
     },
     "execution_count": 36,
     "metadata": {},
     "output_type": "execute_result"
    }
   ],
   "source": [
    "TurkishStemmer().stem(\"mahalle\")"
   ]
  },
  {
   "cell_type": "code",
   "execution_count": 37,
   "id": "ca6a6ddf",
   "metadata": {},
   "outputs": [
    {
     "data": {
      "text/plain": [
       "'dostluk'"
      ]
     },
     "execution_count": 37,
     "metadata": {},
     "output_type": "execute_result"
    }
   ],
   "source": [
    "TurkishStemmer().stem(\"dostluk\")"
   ]
  },
  {
   "cell_type": "code",
   "execution_count": 38,
   "id": "581828f5",
   "metadata": {},
   "outputs": [
    {
     "data": {
      "text/plain": [
       "'dost'"
      ]
     },
     "execution_count": 38,
     "metadata": {},
     "output_type": "execute_result"
    }
   ],
   "source": [
    "TurkishStemmer().stem(\"dostum\")"
   ]
  },
  {
   "cell_type": "code",
   "execution_count": 39,
   "id": "c8483ce3",
   "metadata": {},
   "outputs": [
    {
     "data": {
      "text/plain": [
       "'göz'"
      ]
     },
     "execution_count": 39,
     "metadata": {},
     "output_type": "execute_result"
    }
   ],
   "source": [
    "TurkishStemmer().stem(\"gözde\")"
   ]
  },
  {
   "cell_type": "code",
   "execution_count": 40,
   "id": "c11f7ee2",
   "metadata": {},
   "outputs": [
    {
     "data": {
      "text/plain": [
       "'muhallebiç'"
      ]
     },
     "execution_count": 40,
     "metadata": {},
     "output_type": "execute_result"
    }
   ],
   "source": [
    "TurkishStemmer().stem(\"muhallebici\")"
   ]
  },
  {
   "cell_type": "code",
   "execution_count": 41,
   "id": "5e9aaddb",
   "metadata": {},
   "outputs": [
    {
     "data": {
      "text/plain": [
       "'gör'"
      ]
     },
     "execution_count": 41,
     "metadata": {},
     "output_type": "execute_result"
    }
   ],
   "source": [
    "TurkishStemmer().stem(\"görümce\")"
   ]
  },
  {
   "cell_type": "code",
   "execution_count": 42,
   "id": "535a7140",
   "metadata": {},
   "outputs": [
    {
     "data": {
      "text/plain": [
       "'mahalle'"
      ]
     },
     "execution_count": 42,
     "metadata": {},
     "output_type": "execute_result"
    }
   ],
   "source": [
    "TurkishStemmer().stem(\"mahalleli\")"
   ]
  },
  {
   "cell_type": "code",
   "execution_count": 43,
   "id": "e06ff6d0",
   "metadata": {},
   "outputs": [],
   "source": [
    "spstemmer=SnowballStemmer(\"spanish\")"
   ]
  },
  {
   "cell_type": "code",
   "execution_count": 44,
   "id": "1e4b49b9",
   "metadata": {},
   "outputs": [
    {
     "data": {
      "text/plain": [
       "'com'"
      ]
     },
     "execution_count": 44,
     "metadata": {},
     "output_type": "execute_result"
    }
   ],
   "source": [
    "spstemmer.stem(\"comiendo\")"
   ]
  },
  {
   "cell_type": "code",
   "execution_count": 45,
   "id": "cf3be0ef",
   "metadata": {},
   "outputs": [
    {
     "data": {
      "text/plain": [
       "'tiam'"
      ]
     },
     "execution_count": 45,
     "metadata": {},
     "output_type": "execute_result"
    }
   ],
   "source": [
    "spstemmer.stem(\"tiamo\")"
   ]
  },
  {
   "cell_type": "code",
   "execution_count": 46,
   "id": "c09f9133",
   "metadata": {},
   "outputs": [],
   "source": [
    "frstemmer=SnowballStemmer(\"french\")"
   ]
  },
  {
   "cell_type": "code",
   "execution_count": 47,
   "id": "0d55b072",
   "metadata": {},
   "outputs": [
    {
     "data": {
      "text/plain": [
       "'kes kos'"
      ]
     },
     "execution_count": 47,
     "metadata": {},
     "output_type": "execute_result"
    }
   ],
   "source": [
    "frstemmer.stem(\"kes kose\")"
   ]
  },
  {
   "cell_type": "code",
   "execution_count": 48,
   "id": "84a4ff7d",
   "metadata": {},
   "outputs": [],
   "source": [
    "#Part of Speech - POS Isim fiil, ozne yuklem, fiil fail"
   ]
  },
  {
   "cell_type": "code",
   "execution_count": 49,
   "id": "fd1c98bf",
   "metadata": {},
   "outputs": [],
   "source": [
    "from nltk.tokenize import word_tokenize #Cümleyi kelimelerine ayır"
   ]
  },
  {
   "cell_type": "code",
   "execution_count": 50,
   "id": "9a2033b5",
   "metadata": {},
   "outputs": [],
   "source": [
    "cumle=\"Zafer loves stuffed grape leaves. Artificial Intelligence is cool\""
   ]
  },
  {
   "cell_type": "code",
   "execution_count": 51,
   "id": "60a7767b",
   "metadata": {},
   "outputs": [
    {
     "name": "stderr",
     "output_type": "stream",
     "text": [
      "[nltk_data] Downloading package averaged_perceptron_tagger to\n",
      "[nltk_data]     C:\\Users\\T\\AppData\\Roaming\\nltk_data...\n",
      "[nltk_data]   Package averaged_perceptron_tagger is already up-to-\n",
      "[nltk_data]       date!\n"
     ]
    },
    {
     "data": {
      "text/plain": [
       "True"
      ]
     },
     "execution_count": 51,
     "metadata": {},
     "output_type": "execute_result"
    }
   ],
   "source": [
    "nltk.download(\"averaged_perceptron_tagger\") #özne mi yüklem mi bakıyoruz"
   ]
  },
  {
   "cell_type": "code",
   "execution_count": 52,
   "id": "e0d264ea",
   "metadata": {},
   "outputs": [
    {
     "data": {
      "text/plain": [
       "[('Zafer', 'NNP'),\n",
       " ('loves', 'VBZ'),\n",
       " ('stuffed', 'JJ'),\n",
       " ('grape', 'NN'),\n",
       " ('leaves', 'VBZ'),\n",
       " ('.', '.'),\n",
       " ('Artificial', 'JJ'),\n",
       " ('Intelligence', 'NN'),\n",
       " ('is', 'VBZ'),\n",
       " ('cool', 'JJ')]"
      ]
     },
     "execution_count": 52,
     "metadata": {},
     "output_type": "execute_result"
    }
   ],
   "source": [
    "nltk.pos_tag(word_tokenize(cumle)) #Cümleyi parçalarına ayır ve her bir kelimeyi öğelerine ayır"
   ]
  },
  {
   "cell_type": "code",
   "execution_count": 53,
   "id": "2a6504bb",
   "metadata": {},
   "outputs": [],
   "source": [
    "text=word_tokenize(\"it is a plesent day today\")"
   ]
  },
  {
   "cell_type": "code",
   "execution_count": 54,
   "id": "3ae02c53",
   "metadata": {},
   "outputs": [
    {
     "data": {
      "text/plain": [
       "[('it', 'PRP'),\n",
       " ('is', 'VBZ'),\n",
       " ('a', 'DT'),\n",
       " ('plesent', 'JJ'),\n",
       " ('day', 'NN'),\n",
       " ('today', 'NN')]"
      ]
     },
     "execution_count": 54,
     "metadata": {},
     "output_type": "execute_result"
    }
   ],
   "source": [
    "nltk.pos_tag(text)"
   ]
  },
  {
   "cell_type": "code",
   "execution_count": 55,
   "id": "d6a68c0a",
   "metadata": {},
   "outputs": [],
   "source": [
    "from nltk.tag import DefaultTagger #etiketleme yapıyoruz"
   ]
  },
  {
   "cell_type": "code",
   "execution_count": 56,
   "id": "045cda52",
   "metadata": {},
   "outputs": [],
   "source": [
    "tag=DefaultTagger(\"He is the man\")"
   ]
  },
  {
   "cell_type": "code",
   "execution_count": 57,
   "id": "19c49a0d",
   "metadata": {},
   "outputs": [
    {
     "data": {
      "text/plain": [
       "[('beautiful', 'He is the man'), ('morning', 'He is the man')]"
      ]
     },
     "execution_count": 57,
     "metadata": {},
     "output_type": "execute_result"
    }
   ],
   "source": [
    "tag.tag([\"beautiful\",\"morning\"]) #he is the man ı beautiful ve morning olarak etiketledik"
   ]
  },
  {
   "cell_type": "code",
   "execution_count": 58,
   "id": "f4b5d4da",
   "metadata": {},
   "outputs": [
    {
     "name": "stdout",
     "output_type": "stream",
     "text": [
      "Requirement already satisfied: autocorrect in c:\\users\\t\\anaconda3\\lib\\site-packages (2.6.1)\n"
     ]
    }
   ],
   "source": [
    "!pip install autocorrect"
   ]
  },
  {
   "cell_type": "code",
   "execution_count": 59,
   "id": "c8b9a94b",
   "metadata": {},
   "outputs": [],
   "source": [
    "from autocorrect import spell"
   ]
  },
  {
   "cell_type": "code",
   "execution_count": 60,
   "id": "f37158fa",
   "metadata": {},
   "outputs": [
    {
     "name": "stdout",
     "output_type": "stream",
     "text": [
      "autocorrect.spell is deprecated,             use autocorrect.Speller instead\n"
     ]
    },
    {
     "data": {
      "text/plain": [
       "'the'"
      ]
     },
     "execution_count": 60,
     "metadata": {},
     "output_type": "execute_result"
    }
   ],
   "source": [
    "spell(\"tghe\") #autocorrect le yanlış girilen kelimeler düzeltiliyor"
   ]
  },
  {
   "cell_type": "code",
   "execution_count": 61,
   "id": "9ed97d3e",
   "metadata": {},
   "outputs": [
    {
     "name": "stdout",
     "output_type": "stream",
     "text": [
      "Requirement already satisfied: TextBlob in c:\\users\\t\\anaconda3\\lib\\site-packages (0.17.1)\n",
      "Requirement already satisfied: nltk>=3.1 in c:\\users\\t\\anaconda3\\lib\\site-packages (from TextBlob) (3.7)\n",
      "Requirement already satisfied: tqdm in c:\\users\\t\\anaconda3\\lib\\site-packages (from nltk>=3.1->TextBlob) (4.64.0)\n",
      "Requirement already satisfied: joblib in c:\\users\\t\\anaconda3\\lib\\site-packages (from nltk>=3.1->TextBlob) (1.1.0)\n",
      "Requirement already satisfied: click in c:\\users\\t\\anaconda3\\lib\\site-packages (from nltk>=3.1->TextBlob) (8.0.4)\n",
      "Requirement already satisfied: regex>=2021.8.3 in c:\\users\\t\\anaconda3\\lib\\site-packages (from nltk>=3.1->TextBlob) (2022.3.15)\n",
      "Requirement already satisfied: colorama in c:\\users\\t\\anaconda3\\lib\\site-packages (from click->nltk>=3.1->TextBlob) (0.4.4)\n"
     ]
    }
   ],
   "source": [
    "!pip install TextBlob"
   ]
  },
  {
   "cell_type": "code",
   "execution_count": 62,
   "id": "af40ff1e",
   "metadata": {},
   "outputs": [],
   "source": [
    "from textblob import TextBlob #hangi dilde konuştuğunu anlama ve düzeltme"
   ]
  },
  {
   "cell_type": "code",
   "execution_count": 63,
   "id": "e8449961",
   "metadata": {},
   "outputs": [],
   "source": [
    "b=TextBlob(\"I havv good spelling\")"
   ]
  },
  {
   "cell_type": "code",
   "execution_count": 64,
   "id": "b99c6f8d",
   "metadata": {},
   "outputs": [
    {
     "ename": "NameError",
     "evalue": "name 'ospath' is not defined",
     "output_type": "error",
     "traceback": [
      "\u001b[1;31m---------------------------------------------------------------------------\u001b[0m",
      "\u001b[1;31mNameError\u001b[0m                                 Traceback (most recent call last)",
      "Input \u001b[1;32mIn [64]\u001b[0m, in \u001b[0;36m<cell line: 3>\u001b[1;34m()\u001b[0m\n\u001b[0;32m      1\u001b[0m \u001b[38;5;28;01mimport\u001b[39;00m \u001b[38;5;21;01mos\u001b[39;00m\n\u001b[1;32m----> 3\u001b[0m os\u001b[38;5;241m.\u001b[39menviron[\u001b[38;5;124m'\u001b[39m\u001b[38;5;124mNLTK_DATA\u001b[39m\u001b[38;5;124m'\u001b[39m]\u001b[38;5;241m=\u001b[39m\u001b[43mospath\u001b[49m\u001b[38;5;241m.\u001b[39mabspath(\u001b[38;5;124m'\u001b[39m\u001b[38;5;124m../script/nltk_data\u001b[39m\u001b[38;5;124m'\u001b[39m)\n",
      "\u001b[1;31mNameError\u001b[0m: name 'ospath' is not defined"
     ]
    }
   ],
   "source": [
    "#import os\n",
    "\n",
    "#os.environ['NLTK_DATA']=ospath.abspath('../script/nltk_data')"
   ]
  },
  {
   "cell_type": "code",
   "execution_count": null,
   "id": "d3f25ec9",
   "metadata": {},
   "outputs": [],
   "source": [
    "#b.detect_language()"
   ]
  },
  {
   "cell_type": "code",
   "execution_count": 65,
   "id": "426cd248",
   "metadata": {},
   "outputs": [
    {
     "data": {
      "text/plain": [
       "TextBlob(\"I have good spelling\")"
      ]
     },
     "execution_count": 65,
     "metadata": {},
     "output_type": "execute_result"
    }
   ],
   "source": [
    "b.correct()"
   ]
  },
  {
   "cell_type": "code",
   "execution_count": 66,
   "id": "56021a57",
   "metadata": {},
   "outputs": [
    {
     "name": "stdout",
     "output_type": "stream",
     "text": [
      "Requirement already satisfied: langdetect in c:\\users\\t\\anaconda3\\lib\\site-packages (1.0.9)\n",
      "Requirement already satisfied: six in c:\\users\\t\\anaconda3\\lib\\site-packages (from langdetect) (1.16.0)\n",
      "Note: you may need to restart the kernel to use updated packages.\n"
     ]
    }
   ],
   "source": [
    "pip install langdetect"
   ]
  },
  {
   "cell_type": "code",
   "execution_count": 67,
   "id": "a7cde4e0",
   "metadata": {},
   "outputs": [],
   "source": [
    "from langdetect import detect #hangi dil"
   ]
  },
  {
   "cell_type": "code",
   "execution_count": 68,
   "id": "f39218fe",
   "metadata": {},
   "outputs": [
    {
     "data": {
      "text/plain": [
       "'de'"
      ]
     },
     "execution_count": 68,
     "metadata": {},
     "output_type": "execute_result"
    }
   ],
   "source": [
    "detect(\"Ein. zwei, vier\")"
   ]
  },
  {
   "cell_type": "code",
   "execution_count": 69,
   "id": "6115ef07",
   "metadata": {},
   "outputs": [
    {
     "data": {
      "text/plain": [
       "'tr'"
      ]
     },
     "execution_count": 69,
     "metadata": {},
     "output_type": "execute_result"
    }
   ],
   "source": [
    "detect(\"Dödü dönmedi\")"
   ]
  },
  {
   "cell_type": "code",
   "execution_count": 70,
   "id": "7a17e9fd",
   "metadata": {},
   "outputs": [
    {
     "data": {
      "text/plain": [
       "'tr'"
      ]
     },
     "execution_count": 70,
     "metadata": {},
     "output_type": "execute_result"
    }
   ],
   "source": [
    "detect(\"Nasılsınız\")"
   ]
  },
  {
   "cell_type": "code",
   "execution_count": 71,
   "id": "817ac774",
   "metadata": {},
   "outputs": [
    {
     "data": {
      "text/plain": [
       "'es'"
      ]
     },
     "execution_count": 71,
     "metadata": {},
     "output_type": "execute_result"
    }
   ],
   "source": [
    "detect(\"Eu gosto de vier\")"
   ]
  },
  {
   "cell_type": "code",
   "execution_count": 72,
   "id": "b4b545cd",
   "metadata": {},
   "outputs": [
    {
     "data": {
      "text/plain": [
       "'tr'"
      ]
     },
     "execution_count": 72,
     "metadata": {},
     "output_type": "execute_result"
    }
   ],
   "source": [
    "detect(\"başka merhaba\")"
   ]
  },
  {
   "cell_type": "code",
   "execution_count": 73,
   "id": "6693692c",
   "metadata": {},
   "outputs": [],
   "source": [
    "#Speech to Text"
   ]
  },
  {
   "cell_type": "code",
   "execution_count": 74,
   "id": "19c2d19b",
   "metadata": {},
   "outputs": [],
   "source": [
    "c=\"I am a free black man from Africa\""
   ]
  },
  {
   "cell_type": "code",
   "execution_count": 75,
   "id": "6a85f2f7",
   "metadata": {},
   "outputs": [],
   "source": [
    "b=TextBlob(c) #text blob dilden dile çeviri yapabiliyor"
   ]
  },
  {
   "cell_type": "code",
   "execution_count": 76,
   "id": "30d8ce2f",
   "metadata": {},
   "outputs": [
    {
     "data": {
      "text/plain": [
       "TextBlob(\"Afrika'dan özgür bir siyah adamım\")"
      ]
     },
     "execution_count": 76,
     "metadata": {},
     "output_type": "execute_result"
    }
   ],
   "source": [
    "b.translate(from_lang =\"en\",to=\"tr\")"
   ]
  },
  {
   "cell_type": "code",
   "execution_count": 77,
   "id": "dcca8565",
   "metadata": {},
   "outputs": [],
   "source": [
    "k=\"hayat kısa, kuşlar uçuyor\""
   ]
  },
  {
   "cell_type": "code",
   "execution_count": 78,
   "id": "2e8f7885",
   "metadata": {},
   "outputs": [],
   "source": [
    "b=TextBlob(k)"
   ]
  },
  {
   "cell_type": "code",
   "execution_count": 79,
   "id": "93781971",
   "metadata": {},
   "outputs": [
    {
     "data": {
      "text/plain": [
       "TextBlob(\"life is short, birds are flying\")"
      ]
     },
     "execution_count": 79,
     "metadata": {},
     "output_type": "execute_result"
    }
   ],
   "source": [
    "b.translate(\"tr\",\"jp\")"
   ]
  },
  {
   "cell_type": "code",
   "execution_count": 80,
   "id": "dce33909",
   "metadata": {},
   "outputs": [
    {
     "data": {
      "text/plain": [
       "TextBlob(\"الحياة قصيرة ، الطيور تطير\")"
      ]
     },
     "execution_count": 80,
     "metadata": {},
     "output_type": "execute_result"
    }
   ],
   "source": [
    "b.translate(\"tr\",\"ar\")"
   ]
  },
  {
   "cell_type": "code",
   "execution_count": 81,
   "id": "4ee8c92a",
   "metadata": {},
   "outputs": [
    {
     "data": {
      "text/plain": [
       "TextBlob(\"Das Leben ist kurz, Vögel fliegen\")"
      ]
     },
     "execution_count": 81,
     "metadata": {},
     "output_type": "execute_result"
    }
   ],
   "source": [
    "b.translate(\"tr\",\"de\")"
   ]
  },
  {
   "cell_type": "code",
   "execution_count": 82,
   "id": "00a3c068",
   "metadata": {},
   "outputs": [
    {
     "data": {
      "text/plain": [
       "TextBlob(\"Жизнь короткая, птицы летят\")"
      ]
     },
     "execution_count": 82,
     "metadata": {},
     "output_type": "execute_result"
    }
   ],
   "source": [
    "b.translate(\"tr\",\"ru\")"
   ]
  },
  {
   "cell_type": "code",
   "execution_count": 83,
   "id": "b5cc16f1",
   "metadata": {},
   "outputs": [],
   "source": [
    "l=\"Benim çok işim var,Bulaşma bana\""
   ]
  },
  {
   "cell_type": "code",
   "execution_count": 84,
   "id": "6df13022",
   "metadata": {},
   "outputs": [],
   "source": [
    "b=TextBlob(l)"
   ]
  },
  {
   "cell_type": "code",
   "execution_count": 85,
   "id": "5c9f0d10",
   "metadata": {},
   "outputs": [
    {
     "data": {
      "text/plain": [
       "TextBlob(\"I have a lot of work, don't get involved\")"
      ]
     },
     "execution_count": 85,
     "metadata": {},
     "output_type": "execute_result"
    }
   ],
   "source": [
    "b.translate(\"tr\",\"en\")"
   ]
  },
  {
   "cell_type": "code",
   "execution_count": 86,
   "id": "644b362c",
   "metadata": {},
   "outputs": [
    {
     "name": "stdout",
     "output_type": "stream",
     "text": [
      "Requirement already satisfied: google in c:\\users\\t\\anaconda3\\lib\\site-packages (3.0.0)\n",
      "Requirement already satisfied: beautifulsoup4 in c:\\users\\t\\anaconda3\\lib\\site-packages (from google) (4.11.1)\n",
      "Requirement already satisfied: soupsieve>1.2 in c:\\users\\t\\anaconda3\\lib\\site-packages (from beautifulsoup4->google) (2.3.1)\n",
      "Note: you may need to restart the kernel to use updated packages.\n"
     ]
    }
   ],
   "source": [
    "pip install google"
   ]
  },
  {
   "cell_type": "code",
   "execution_count": 87,
   "id": "21dd9bb6",
   "metadata": {},
   "outputs": [],
   "source": [
    "from googlesearch import search #google araması yapabiliyoruz"
   ]
  },
  {
   "cell_type": "code",
   "execution_count": 88,
   "id": "c1f3e7a3",
   "metadata": {},
   "outputs": [
    {
     "name": "stdout",
     "output_type": "stream",
     "text": [
      "https://turkiyeustunzekalilarokulu.com/yapay-zeka-ii-zafer-acar/\n",
      "https://www.karar.com/yazarlar/zafer-acar/30-gunde-yapay-zeka-1588433\n",
      "https://www.karar.com/yazarlar/zafer-acar/yapay-zeka-is-dunyasini-derinden-sarsiyor-1589535\n",
      "http://www.birannetavsiyesi.com/tag/zafer-acar-yapay-zeka/\n",
      "https://www.youtube.com/watch?v=PleY4TOQmfw\n",
      "https://ne-np.facebook.com/KararHaber/posts/zafer-acar-g%C3%B6r%C3%BCld%C3%BC%C4%9F%C3%BC-gibi-topyek%C3%BCn-yapay-zeka-%C3%B6%C4%9Frenmemiz-gerekiyor-de%C4%9Filse-%C3%B6n%C3%BCm%C3%BC/3354956214607941/\n",
      "https://www.ensonhaber.com/teknoloji/cern-arastirmacisi-zafer-acar-insanlar-2-kilometrede-bir-iz-birakiyor\n",
      "https://tr.newworldai.com/sesin-arkasindaki-yuz-zafer-acar/\n",
      "https://tr.newworldai.com/tag/zafer-acar/\n",
      "https://twitter.com/kararhaber/status/1391706559760175108?lang=en\n",
      "https://www.bizsiziz.com/cern-arastirmacisi-zafer-acardan-dikkat-ceken-yapay-zeka-aciklamasi/\n",
      "https://turkiye.ai/basinda-biz/\n",
      "https://www.cumhuriyet.com.tr/haber/insanlar-her-2-kilometrede-bir-dijital-iz-birakiyor-1799731\n",
      "https://www.koseyazarioku.com/yazar/zafer-acar/yapay-zeka-ogrenmek-hic-bu-kadar-kolay-olmamisti-10-05-2021.html\n",
      "https://www.koseyazarioku.com/yazar/zafer-acar/yapay-zeka-is-dunyasini-derinden-sarsiyor-24-05-2021.html\n",
      "https://www.yazartakibi.com/home/writes/show/692966\n",
      "https://www.gunlukkoseyazilari.com/karar-zafer-acar-01-subat-2021-30-gunde-yapay-zeka/791061\n",
      "https://1000kitap.com/kitap/kamburun-yukselisi--278393\n",
      "https://www.tyb.org.tr/zafer-acar-yapay-zekaya-nereden-baslamali-40384h.htm\n",
      "https://www.sonkoseyazilari.com/zafer-acar-dunku-yazisi\n",
      "https://ms-my.facebook.com/KozmikAnafor/videos/g%C3%BCn%C3%BCn-d%C3%B6rd%C3%BCnc%C3%BC-sunumunda-zafer-acar-bizlere-yapay-zeka-ile-nas%C4%B1l-%C3%B6tegezegen-ke%C5%9Ff/996322364379308/\n",
      "https://www.sondakika32.com/haber-zafer-acar-yapay-zeka-yeni-meslekler-olusturacak-19973.html\n",
      "https://www.edirneahval.com/bahcesehir-kolejinden-yapay-zeka-soylesisi\n",
      "https://www.linkedin.com/in/zaferacar\n",
      "https://eternelactif.fr/satyg/y618z20m71f/\n",
      "https://www.karasuhaber.com/yasam/engellilere-mujdeli-haber-h1953.html\n",
      "https://www.yeniakit.com.tr/haber/insanlar-her-2-kilometrede-bir-dijital-iz-birakiyor-1480232.html\n",
      "https://www.hekim.net/doktor/page.php?i=item&id=18172\n",
      "https://www.konyasehirkoleji.com/ortaokul/haberler/sehir-de-yapay-zeka-semineri\n",
      "https://www.kibrispostasi.com/c35-KIBRIS_HABERLERI/n442577-gau-akademisyeni-prof-dr-acar-cevapladi-yakin-gelecegin-tibbinda-hangi-mucizeler-yasanacak\n",
      "https://www.gunboyugazetesi.com.tr/arsiv-haberi-73019h.htm\n",
      "https://www.academia.edu/49258693/Lojistik_Y%C3%B6netimi\n",
      "https://dergipark.org.tr/tr/pub/ijoses/board\n",
      "https://www.bilgecocuk.com/bilge-cocuk-aralik-2020-sayisi-cikti/\n",
      "https://www.ucuzkitapal.com/stratejik-lojistik-yonetimi-a-zafer-acar-nobel-akademik-yayincilik/\n",
      "https://www.polatkitapcilik.com/kitap/lojistik-yaklasimiyla-tedarik-zinciri-yonetimi-a-zafer-acar-9786051339535\n",
      "https://www.halkkitabevi.com/herkes-icin-yapay-zeka\n",
      "https://kayiprihtim.com/haberler/bilim/7-olimpos-gokyuzu-ve-bilim-festivali-kayit-sureci-basladi/\n",
      "https://events.csu.edu.tr/?EventID=146\n",
      "https://msevindik.com/category/teknoloji/\n",
      "https://www.airporthaber.com/dhmi-haberleri/havacilik-sektor-paneline-buyuk-ilgi.html\n",
      "https://www.cimri.com/ekonomi-pazarlama-kitaplari?page=24\n",
      "https://gazikitabevi.com.tr/index.php/kategori/yapay-zeka\n",
      "https://www.bilmediklerimiz.com/farkinda-degiliz-fakat-daima-dijital-iz-birakiyoruz/\n",
      "https://shiftdelete.net/her-iki-kmde-bir-dijital-iz-birakiyoruz\n",
      "http://www.istikbalgazetesi.com/haber.asp?sec=2&newscatid=0&yazarid=271&newsid=223278\n",
      "https://ets.anadolu.edu.tr/storage/nfs/LOJ104U/ebook/LOJ104U-13V2S1-8-0-1-SV1-ebook.pdf\n",
      "https://globelink-unimar.com/kuresel-gecit-projesi-nedir/\n",
      "https://www.orionkitabevi.com.tr/kategori/bilim-muhendislik/yapay-zeka/\n",
      "http://www.fbe2.sakarya.edu.tr/TezListele.aspx?kelime=YAPAY&bolumid=0&tip=0&durum=0\n",
      "https://fysiosonja.fi/inan%C3%A7-y%C3%BCkseli%C5%9Fi-zafer-pc-oyun.html\n",
      "http://mxtube.net/videos/search/Zafer%20Acar\n",
      "https://www.meridyenhaber.com/alinti-yazarlar/cin-askeri-birimleri-biyolojik-olarak-gelistirilmis-h54940.html\n",
      "https://www.bkmkitap.com/herkes-icin-yapay-zeka\n",
      "https://nitter.fdn.fr/IEEEegesb/status/1337011342172168193\n",
      "https://www.heryerdebul.com/kategoriler/bilgi/ad/yapay-zeka-ve-makine-ogrenimi-kurumsal-yazilim-gelistirmeyi-nasil-guclendirir,10850\n",
      "https://www.healthworldnews.net/yapay-zeka-ve-insan-kalabilmek-bolum-2/\n",
      "https://www.haberturk.com/mardin-haberleri/65133805-mardinli-gencler-icin-yapay-zeka-etkinligi-duzenlendi\n",
      "https://www.hidropolitikakademi.org/tr/article/22118/21-yuzyilin-en-onemli-meslegi-veri-bilimi\n",
      "http://giak2015.isikun.edu.tr/tr/kabul-edilen-bildiriler\n",
      "https://www.nobelyayin.com/kitapliste.asp?c=880&p=16\n",
      "https://www.mynet.com/insanlar-her-2-kilometrede-bir-dijital-iz-birakiyor-110106676375\n",
      "https://www.gzt.com/etiket/yapay-zeka\n",
      "https://www.gtech.com.tr/yapay-zeka-uzerine-okunasi-kitaplar-1/\n",
      "http://www.haberdurus.com/haber/haber-sunan-yapay-zeka-24473.html\n",
      "https://baskentpostasi.com/haber/metaversee-ne-kadar-haziriz-h15229.html\n",
      "https://www.adscientificindex.com/?university=Piri+Reis+University\n",
      "https://www.okulhaberleri.net/sayin-zafer-acardan-okulumuza-ozel-egitim-4062720\n",
      "https://www.turktime.com/haber/her-iki-km-de-bir-dijital-iz-birakiyoruz/563332\n",
      "https://www.canva.com/tr_tr/afis/sablonlar/\n",
      "https://diyanetamerica.org/wp-content/uploads/2020/06/DE2020SummerProgram.pdf\n",
      "https://www.kozmikanafor.com/yapay-zeka-ile-aramizdaki-fark/\n",
      "https://eksisozluk.com/yapay-zeka--42117?p=4\n",
      "https://www.oncevatan.com.tr/bilim-ve-teknoloji/e-turquality-bilisim-yildizlarina-destek-programinin-basvurulari-h191515.html\n",
      "https://t24.com.tr/yazarlar/yalcin-dogan/siyasi-krizden-dogan-olaganustu-bir-devrim-cumhuriyet,37251\n",
      "https://onedio.com/haber/duyunca-kulaga-hos-gelen-en-guzel-erkek-isimleri-ve-anlamlari-1101643\n",
      "https://kidega.com/yazar/zafer-acar-172869/\n",
      "https://www.publicidad-empresarial.com/zafer-acar-kimdir\n",
      "https://www.haberyildizi.com/magazin/bir-peri-masali-dizisinde-zafer-ile-melis-ciftine-ilgi-cok-artti-h88848.html\n",
      "https://legrottedisileno.it/ron/1eg4rwgakxbc/\n",
      "https://www.dr.com.tr/Kitap/Yapay-Zeka-Firsat-mi-Yoksa-Tehdit-mi/Bilim/Populer-Bilim/urunno=0001896773001\n",
      "https://adrianaghollett.it/yapay-zeka-yaz-okulu-2018.html\n",
      "https://www.oakfortressjournals.org/zafer-acar\n",
      "https://dergio.com/20221101/haftanin-astrolojik-yorumlari-ve-tarot-kartlari31-ekim-6-kasim\n",
      "https://144641493.pradipika-alsace.fr/yapay-zeka-ve-siyaset.html\n",
      "https://skiguide-patty.at/yapay-zeka-ve-siyaset.html\n",
      "http://mxtube.name/videos/search/Zafer%20Acar/\n",
      "https://tur.tivoyageur.com/nasa-feed-goes-dead-after-unidentified-object-passes-through-space-toward-earth-366746\n",
      "https://investinmarche.it/wok/a7sq2v1donqz/\n",
      "https://parafia.bonczyk.org/mcanlitv.html\n",
      "https://www.teatrodellolmo-taino.it/miwod/j290t75x70b/\n",
      "https://workingside.com/karar_tv_canl%C4%B1_yay%C4%B1n.html\n",
      "https://www.naifcare.pl/karar-fali.html\n",
      "https://autoecole-les-mirons.fr/karar-tv-canl%C4%B1-yay%C4%B1n.html\n",
      "https://bian-ko.com/karar_tv.html\n",
      "https://wawai.es/yapay-zeka-ve-siyaset.html\n",
      "https://imatip.mediacuerdo.es/toz/fiqoku.php\n",
      "https://www.duyantalya.com.tr/haber/turkiyeden-muthis-petrol-hamlesi-zeki-gelistirildi-37800.html\n",
      "https://zerofeerentals.com/karar_tv.html\n",
      "https://praisr.net/karar_tv.html\n",
      "https://www.kodlab.com/programlama/597-projelerle-yapay-zeka-ve-bilgisayarli-goru-9786257440196.html\n",
      "https://freecasinobets.net/karar_tv.html\n",
      "https://www.sihor.net/haber-sunan-yapay-zeka\n",
      "https://fruitboxkw.com/karar_tv_canl%C4%B1_yay%C4%B1n.html\n",
      "https://www.sevilenotocekici.com/yapay-zekayla-bebek\n",
      "https://vdfotografia.es/f0ac6489/\n",
      "https://nookpod.es/tr/c3f691b25\n",
      "https://www.lombardowoodworkingllc.com/yapay-zekayla-bebek\n",
      "https://www.acarbaltas.com/yapay-zekanin-egemen-oldugu-dunyada-yasamak/\n"
     ]
    }
   ],
   "source": [
    "for i in search(\"Zafer Acar Yapay Zeka\"):\n",
    "    print(i)"
   ]
  },
  {
   "cell_type": "code",
   "execution_count": 89,
   "id": "66866c6e",
   "metadata": {},
   "outputs": [],
   "source": [
    "#TF-IDF = Term Frequency: kelime kaç defa tekrar ettiğini - \n",
    "#Inverse Document Frequency:Bir dökümanın içinde kelimenin kaç defa geçtiğini yüzde olarak söylersek"
   ]
  },
  {
   "cell_type": "code",
   "execution_count": 90,
   "id": "17de3ca1",
   "metadata": {},
   "outputs": [],
   "source": [
    "#vectorizer: her bir kelime için bir sütun açma işi"
   ]
  },
  {
   "cell_type": "code",
   "execution_count": 91,
   "id": "fa946e2f",
   "metadata": {},
   "outputs": [],
   "source": [
    "from sklearn.feature_extraction.text import CountVectorizer, TfidfVectorizer #CountVectorizer kaç defa geçtiğini sayıyor"
   ]
  },
  {
   "cell_type": "code",
   "execution_count": 92,
   "id": "a244abea",
   "metadata": {},
   "outputs": [],
   "source": [
    "cumle=\"Call you tonight\",\"call me a cab\",\"please, call me...PLEASE!\""
   ]
  },
  {
   "cell_type": "code",
   "execution_count": 93,
   "id": "de19f44c",
   "metadata": {},
   "outputs": [],
   "source": [
    "vect=CountVectorizer()"
   ]
  },
  {
   "cell_type": "code",
   "execution_count": 94,
   "id": "c25c4bdd",
   "metadata": {},
   "outputs": [],
   "source": [
    "import pandas as pd"
   ]
  },
  {
   "cell_type": "code",
   "execution_count": 95,
   "id": "f523790f",
   "metadata": {},
   "outputs": [
    {
     "name": "stderr",
     "output_type": "stream",
     "text": [
      "C:\\Users\\T\\anaconda3\\lib\\site-packages\\sklearn\\utils\\deprecation.py:87: FutureWarning: Function get_feature_names is deprecated; get_feature_names is deprecated in 1.0 and will be removed in 1.2. Please use get_feature_names_out instead.\n",
      "  warnings.warn(msg, category=FutureWarning)\n"
     ]
    }
   ],
   "source": [
    "tf=pd.DataFrame(vect.fit_transform(cumle).toarray(),columns=vect.get_feature_names())\n",
    "\n",
    "#Data Frame ile cumleyi tablo olarak dataframe göster\n",
    "#fit_transform ile her bir kelime vektöre dönüşüyor\n",
    "#to array :diziye cevir\n",
    "#get_feature_names: sütun isimlerine her bir kelimeyi koy"
   ]
  },
  {
   "cell_type": "code",
   "execution_count": 96,
   "id": "7335b458",
   "metadata": {},
   "outputs": [
    {
     "data": {
      "text/html": [
       "<div>\n",
       "<style scoped>\n",
       "    .dataframe tbody tr th:only-of-type {\n",
       "        vertical-align: middle;\n",
       "    }\n",
       "\n",
       "    .dataframe tbody tr th {\n",
       "        vertical-align: top;\n",
       "    }\n",
       "\n",
       "    .dataframe thead th {\n",
       "        text-align: right;\n",
       "    }\n",
       "</style>\n",
       "<table border=\"1\" class=\"dataframe\">\n",
       "  <thead>\n",
       "    <tr style=\"text-align: right;\">\n",
       "      <th></th>\n",
       "      <th>cab</th>\n",
       "      <th>call</th>\n",
       "      <th>me</th>\n",
       "      <th>please</th>\n",
       "      <th>tonight</th>\n",
       "      <th>you</th>\n",
       "    </tr>\n",
       "  </thead>\n",
       "  <tbody>\n",
       "    <tr>\n",
       "      <th>0</th>\n",
       "      <td>0</td>\n",
       "      <td>1</td>\n",
       "      <td>0</td>\n",
       "      <td>0</td>\n",
       "      <td>1</td>\n",
       "      <td>1</td>\n",
       "    </tr>\n",
       "    <tr>\n",
       "      <th>1</th>\n",
       "      <td>1</td>\n",
       "      <td>1</td>\n",
       "      <td>1</td>\n",
       "      <td>0</td>\n",
       "      <td>0</td>\n",
       "      <td>0</td>\n",
       "    </tr>\n",
       "    <tr>\n",
       "      <th>2</th>\n",
       "      <td>0</td>\n",
       "      <td>1</td>\n",
       "      <td>1</td>\n",
       "      <td>2</td>\n",
       "      <td>0</td>\n",
       "      <td>0</td>\n",
       "    </tr>\n",
       "  </tbody>\n",
       "</table>\n",
       "</div>"
      ],
      "text/plain": [
       "   cab  call  me  please  tonight  you\n",
       "0    0     1   0       0        1    1\n",
       "1    1     1   1       0        0    0\n",
       "2    0     1   1       2        0    0"
      ]
     },
     "execution_count": 96,
     "metadata": {},
     "output_type": "execute_result"
    }
   ],
   "source": [
    "tf #turn frequency;cümlede kelime kaç defa tekrar ediyor"
   ]
  },
  {
   "cell_type": "code",
   "execution_count": 97,
   "id": "b3182876",
   "metadata": {},
   "outputs": [],
   "source": [
    "vect=CountVectorizer() #bir kelime cümlede ne kadar geçiyor sayıyor\n",
    "df=vect.fit_transform(cumle).toarray().sum(axis=0) #kelimeler kaç defa tekrar etti topla"
   ]
  },
  {
   "cell_type": "code",
   "execution_count": 98,
   "id": "e4d7dfd9",
   "metadata": {},
   "outputs": [
    {
     "data": {
      "text/plain": [
       "array([1, 3, 2, 2, 1, 1], dtype=int64)"
      ]
     },
     "execution_count": 98,
     "metadata": {},
     "output_type": "execute_result"
    }
   ],
   "source": [
    "df"
   ]
  },
  {
   "cell_type": "code",
   "execution_count": 99,
   "id": "40d03ffb",
   "metadata": {},
   "outputs": [
    {
     "name": "stderr",
     "output_type": "stream",
     "text": [
      "C:\\Users\\T\\anaconda3\\lib\\site-packages\\sklearn\\utils\\deprecation.py:87: FutureWarning: Function get_feature_names is deprecated; get_feature_names is deprecated in 1.0 and will be removed in 1.2. Please use get_feature_names_out instead.\n",
      "  warnings.warn(msg, category=FutureWarning)\n"
     ]
    },
    {
     "data": {
      "text/html": [
       "<div>\n",
       "<style scoped>\n",
       "    .dataframe tbody tr th:only-of-type {\n",
       "        vertical-align: middle;\n",
       "    }\n",
       "\n",
       "    .dataframe tbody tr th {\n",
       "        vertical-align: top;\n",
       "    }\n",
       "\n",
       "    .dataframe thead th {\n",
       "        text-align: right;\n",
       "    }\n",
       "</style>\n",
       "<table border=\"1\" class=\"dataframe\">\n",
       "  <thead>\n",
       "    <tr style=\"text-align: right;\">\n",
       "      <th></th>\n",
       "      <th>cab</th>\n",
       "      <th>call</th>\n",
       "      <th>me</th>\n",
       "      <th>please</th>\n",
       "      <th>tonight</th>\n",
       "      <th>you</th>\n",
       "    </tr>\n",
       "  </thead>\n",
       "  <tbody>\n",
       "    <tr>\n",
       "      <th>0</th>\n",
       "      <td>1</td>\n",
       "      <td>3</td>\n",
       "      <td>2</td>\n",
       "      <td>2</td>\n",
       "      <td>1</td>\n",
       "      <td>1</td>\n",
       "    </tr>\n",
       "  </tbody>\n",
       "</table>\n",
       "</div>"
      ],
      "text/plain": [
       "   cab  call  me  please  tonight  you\n",
       "0    1     3   2       2        1    1"
      ]
     },
     "execution_count": 99,
     "metadata": {},
     "output_type": "execute_result"
    }
   ],
   "source": [
    "pd.DataFrame(df.reshape(1,6),columns=vect.get_feature_names()) #df i dataframe e çevir"
   ]
  },
  {
   "cell_type": "code",
   "execution_count": 100,
   "id": "92e248e6",
   "metadata": {},
   "outputs": [
    {
     "data": {
      "text/html": [
       "<div>\n",
       "<style scoped>\n",
       "    .dataframe tbody tr th:only-of-type {\n",
       "        vertical-align: middle;\n",
       "    }\n",
       "\n",
       "    .dataframe tbody tr th {\n",
       "        vertical-align: top;\n",
       "    }\n",
       "\n",
       "    .dataframe thead th {\n",
       "        text-align: right;\n",
       "    }\n",
       "</style>\n",
       "<table border=\"1\" class=\"dataframe\">\n",
       "  <thead>\n",
       "    <tr style=\"text-align: right;\">\n",
       "      <th></th>\n",
       "      <th>cab</th>\n",
       "      <th>call</th>\n",
       "      <th>me</th>\n",
       "      <th>please</th>\n",
       "      <th>tonight</th>\n",
       "      <th>you</th>\n",
       "    </tr>\n",
       "  </thead>\n",
       "  <tbody>\n",
       "    <tr>\n",
       "      <th>0</th>\n",
       "      <td>0.0</td>\n",
       "      <td>0.333333</td>\n",
       "      <td>0.0</td>\n",
       "      <td>0.0</td>\n",
       "      <td>1.0</td>\n",
       "      <td>1.0</td>\n",
       "    </tr>\n",
       "    <tr>\n",
       "      <th>1</th>\n",
       "      <td>1.0</td>\n",
       "      <td>0.333333</td>\n",
       "      <td>0.5</td>\n",
       "      <td>0.0</td>\n",
       "      <td>0.0</td>\n",
       "      <td>0.0</td>\n",
       "    </tr>\n",
       "    <tr>\n",
       "      <th>2</th>\n",
       "      <td>0.0</td>\n",
       "      <td>0.333333</td>\n",
       "      <td>0.5</td>\n",
       "      <td>1.0</td>\n",
       "      <td>0.0</td>\n",
       "      <td>0.0</td>\n",
       "    </tr>\n",
       "  </tbody>\n",
       "</table>\n",
       "</div>"
      ],
      "text/plain": [
       "   cab      call   me  please  tonight  you\n",
       "0  0.0  0.333333  0.0     0.0      1.0  1.0\n",
       "1  1.0  0.333333  0.5     0.0      0.0  0.0\n",
       "2  0.0  0.333333  0.5     1.0      0.0  0.0"
      ]
     },
     "execution_count": 100,
     "metadata": {},
     "output_type": "execute_result"
    }
   ],
   "source": [
    "tf/df #TF -IDF Yüzde kaçı hangi cümlede geçmiş"
   ]
  },
  {
   "cell_type": "code",
   "execution_count": 101,
   "id": "0c0c4d09",
   "metadata": {},
   "outputs": [],
   "source": [
    "vect=TfidfVectorizer() #vektörün uzunluğunu hesap ediyor"
   ]
  },
  {
   "cell_type": "code",
   "execution_count": 102,
   "id": "95d5916f",
   "metadata": {},
   "outputs": [
    {
     "name": "stderr",
     "output_type": "stream",
     "text": [
      "C:\\Users\\T\\anaconda3\\lib\\site-packages\\sklearn\\utils\\deprecation.py:87: FutureWarning: Function get_feature_names is deprecated; get_feature_names is deprecated in 1.0 and will be removed in 1.2. Please use get_feature_names_out instead.\n",
      "  warnings.warn(msg, category=FutureWarning)\n"
     ]
    },
    {
     "data": {
      "text/html": [
       "<div>\n",
       "<style scoped>\n",
       "    .dataframe tbody tr th:only-of-type {\n",
       "        vertical-align: middle;\n",
       "    }\n",
       "\n",
       "    .dataframe tbody tr th {\n",
       "        vertical-align: top;\n",
       "    }\n",
       "\n",
       "    .dataframe thead th {\n",
       "        text-align: right;\n",
       "    }\n",
       "</style>\n",
       "<table border=\"1\" class=\"dataframe\">\n",
       "  <thead>\n",
       "    <tr style=\"text-align: right;\">\n",
       "      <th></th>\n",
       "      <th>cab</th>\n",
       "      <th>call</th>\n",
       "      <th>me</th>\n",
       "      <th>please</th>\n",
       "      <th>tonight</th>\n",
       "      <th>you</th>\n",
       "    </tr>\n",
       "  </thead>\n",
       "  <tbody>\n",
       "    <tr>\n",
       "      <th>0</th>\n",
       "      <td>0.000000</td>\n",
       "      <td>0.385372</td>\n",
       "      <td>0.000000</td>\n",
       "      <td>0.000000</td>\n",
       "      <td>0.652491</td>\n",
       "      <td>0.652491</td>\n",
       "    </tr>\n",
       "    <tr>\n",
       "      <th>1</th>\n",
       "      <td>0.720333</td>\n",
       "      <td>0.425441</td>\n",
       "      <td>0.547832</td>\n",
       "      <td>0.000000</td>\n",
       "      <td>0.000000</td>\n",
       "      <td>0.000000</td>\n",
       "    </tr>\n",
       "    <tr>\n",
       "      <th>2</th>\n",
       "      <td>0.000000</td>\n",
       "      <td>0.266075</td>\n",
       "      <td>0.342620</td>\n",
       "      <td>0.901008</td>\n",
       "      <td>0.000000</td>\n",
       "      <td>0.000000</td>\n",
       "    </tr>\n",
       "  </tbody>\n",
       "</table>\n",
       "</div>"
      ],
      "text/plain": [
       "        cab      call        me    please   tonight       you\n",
       "0  0.000000  0.385372  0.000000  0.000000  0.652491  0.652491\n",
       "1  0.720333  0.425441  0.547832  0.000000  0.000000  0.000000\n",
       "2  0.000000  0.266075  0.342620  0.901008  0.000000  0.000000"
      ]
     },
     "execution_count": 102,
     "metadata": {},
     "output_type": "execute_result"
    }
   ],
   "source": [
    "pd.DataFrame(vect.fit_transform(cumle).toarray(),columns=vect.get_feature_names())"
   ]
  },
  {
   "cell_type": "code",
   "execution_count": 103,
   "id": "27aaec4f",
   "metadata": {},
   "outputs": [],
   "source": [
    "import pandas as pd"
   ]
  },
  {
   "cell_type": "code",
   "execution_count": 104,
   "id": "697dd47a",
   "metadata": {},
   "outputs": [],
   "source": [
    "yelp=pd.read_csv(\"yelp.csv\")"
   ]
  },
  {
   "cell_type": "code",
   "execution_count": 105,
   "id": "00b6a396",
   "metadata": {},
   "outputs": [
    {
     "data": {
      "text/html": [
       "<div>\n",
       "<style scoped>\n",
       "    .dataframe tbody tr th:only-of-type {\n",
       "        vertical-align: middle;\n",
       "    }\n",
       "\n",
       "    .dataframe tbody tr th {\n",
       "        vertical-align: top;\n",
       "    }\n",
       "\n",
       "    .dataframe thead th {\n",
       "        text-align: right;\n",
       "    }\n",
       "</style>\n",
       "<table border=\"1\" class=\"dataframe\">\n",
       "  <thead>\n",
       "    <tr style=\"text-align: right;\">\n",
       "      <th></th>\n",
       "      <th>business_id</th>\n",
       "      <th>date</th>\n",
       "      <th>review_id</th>\n",
       "      <th>stars</th>\n",
       "      <th>text</th>\n",
       "      <th>type</th>\n",
       "      <th>user_id</th>\n",
       "      <th>cool</th>\n",
       "      <th>useful</th>\n",
       "      <th>funny</th>\n",
       "    </tr>\n",
       "  </thead>\n",
       "  <tbody>\n",
       "    <tr>\n",
       "      <th>0</th>\n",
       "      <td>9yKzy9PApeiPPOUJEtnvkg</td>\n",
       "      <td>2011-01-26</td>\n",
       "      <td>fWKvX83p0-ka4JS3dc6E5A</td>\n",
       "      <td>5</td>\n",
       "      <td>My wife took me here on my birthday for breakf...</td>\n",
       "      <td>review</td>\n",
       "      <td>rLtl8ZkDX5vH5nAx9C3q5Q</td>\n",
       "      <td>2</td>\n",
       "      <td>5</td>\n",
       "      <td>0</td>\n",
       "    </tr>\n",
       "    <tr>\n",
       "      <th>1</th>\n",
       "      <td>ZRJwVLyzEJq1VAihDhYiow</td>\n",
       "      <td>2011-07-27</td>\n",
       "      <td>IjZ33sJrzXqU-0X6U8NwyA</td>\n",
       "      <td>5</td>\n",
       "      <td>I have no idea why some people give bad review...</td>\n",
       "      <td>review</td>\n",
       "      <td>0a2KyEL0d3Yb1V6aivbIuQ</td>\n",
       "      <td>0</td>\n",
       "      <td>0</td>\n",
       "      <td>0</td>\n",
       "    </tr>\n",
       "    <tr>\n",
       "      <th>2</th>\n",
       "      <td>6oRAC4uyJCsJl1X0WZpVSA</td>\n",
       "      <td>2012-06-14</td>\n",
       "      <td>IESLBzqUCLdSzSqm0eCSxQ</td>\n",
       "      <td>4</td>\n",
       "      <td>love the gyro plate. Rice is so good and I als...</td>\n",
       "      <td>review</td>\n",
       "      <td>0hT2KtfLiobPvh6cDC8JQg</td>\n",
       "      <td>0</td>\n",
       "      <td>1</td>\n",
       "      <td>0</td>\n",
       "    </tr>\n",
       "    <tr>\n",
       "      <th>3</th>\n",
       "      <td>_1QQZuf4zZOyFCvXc0o6Vg</td>\n",
       "      <td>2010-05-27</td>\n",
       "      <td>G-WvGaISbqqaMHlNnByodA</td>\n",
       "      <td>5</td>\n",
       "      <td>Rosie, Dakota, and I LOVE Chaparral Dog Park!!...</td>\n",
       "      <td>review</td>\n",
       "      <td>uZetl9T0NcROGOyFfughhg</td>\n",
       "      <td>1</td>\n",
       "      <td>2</td>\n",
       "      <td>0</td>\n",
       "    </tr>\n",
       "    <tr>\n",
       "      <th>4</th>\n",
       "      <td>6ozycU1RpktNG2-1BroVtw</td>\n",
       "      <td>2012-01-05</td>\n",
       "      <td>1uJFq2r5QfJG_6ExMRCaGw</td>\n",
       "      <td>5</td>\n",
       "      <td>General Manager Scott Petello is a good egg!!!...</td>\n",
       "      <td>review</td>\n",
       "      <td>vYmM4KTsC8ZfQBg-j5MWkw</td>\n",
       "      <td>0</td>\n",
       "      <td>0</td>\n",
       "      <td>0</td>\n",
       "    </tr>\n",
       "  </tbody>\n",
       "</table>\n",
       "</div>"
      ],
      "text/plain": [
       "              business_id        date               review_id  stars  \\\n",
       "0  9yKzy9PApeiPPOUJEtnvkg  2011-01-26  fWKvX83p0-ka4JS3dc6E5A      5   \n",
       "1  ZRJwVLyzEJq1VAihDhYiow  2011-07-27  IjZ33sJrzXqU-0X6U8NwyA      5   \n",
       "2  6oRAC4uyJCsJl1X0WZpVSA  2012-06-14  IESLBzqUCLdSzSqm0eCSxQ      4   \n",
       "3  _1QQZuf4zZOyFCvXc0o6Vg  2010-05-27  G-WvGaISbqqaMHlNnByodA      5   \n",
       "4  6ozycU1RpktNG2-1BroVtw  2012-01-05  1uJFq2r5QfJG_6ExMRCaGw      5   \n",
       "\n",
       "                                                text    type  \\\n",
       "0  My wife took me here on my birthday for breakf...  review   \n",
       "1  I have no idea why some people give bad review...  review   \n",
       "2  love the gyro plate. Rice is so good and I als...  review   \n",
       "3  Rosie, Dakota, and I LOVE Chaparral Dog Park!!...  review   \n",
       "4  General Manager Scott Petello is a good egg!!!...  review   \n",
       "\n",
       "                  user_id  cool  useful  funny  \n",
       "0  rLtl8ZkDX5vH5nAx9C3q5Q     2       5      0  \n",
       "1  0a2KyEL0d3Yb1V6aivbIuQ     0       0      0  \n",
       "2  0hT2KtfLiobPvh6cDC8JQg     0       1      0  \n",
       "3  uZetl9T0NcROGOyFfughhg     1       2      0  \n",
       "4  vYmM4KTsC8ZfQBg-j5MWkw     0       0      0  "
      ]
     },
     "execution_count": 105,
     "metadata": {},
     "output_type": "execute_result"
    }
   ],
   "source": [
    "yelp.head()"
   ]
  },
  {
   "cell_type": "code",
   "execution_count": 106,
   "id": "bff3e520",
   "metadata": {},
   "outputs": [
    {
     "name": "stdout",
     "output_type": "stream",
     "text": [
      "<class 'pandas.core.frame.DataFrame'>\n",
      "RangeIndex: 10000 entries, 0 to 9999\n",
      "Data columns (total 10 columns):\n",
      " #   Column       Non-Null Count  Dtype \n",
      "---  ------       --------------  ----- \n",
      " 0   business_id  10000 non-null  object\n",
      " 1   date         10000 non-null  object\n",
      " 2   review_id    10000 non-null  object\n",
      " 3   stars        10000 non-null  int64 \n",
      " 4   text         10000 non-null  object\n",
      " 5   type         10000 non-null  object\n",
      " 6   user_id      10000 non-null  object\n",
      " 7   cool         10000 non-null  int64 \n",
      " 8   useful       10000 non-null  int64 \n",
      " 9   funny        10000 non-null  int64 \n",
      "dtypes: int64(4), object(6)\n",
      "memory usage: 781.4+ KB\n"
     ]
    }
   ],
   "source": [
    "yelp.info()"
   ]
  },
  {
   "cell_type": "raw",
   "id": "5aa70dc6",
   "metadata": {},
   "source": [
    "#NLP Projesinde 7 altın kural\n",
    "1- Hepsini küçük harfe çevir.\n",
    "2- Noktalama işaretlerini kaldır.\n",
    "3- Rakamları kaldır.\n",
    "4- Satır sonu ve Enter veya \\n \\r kaldir\n",
    "5- Stopwords kaldır gereksiz kelimeleri kaldır.\n",
    "6- Tokenize et.Kelimeleri tek tek ayır array yada listeye at.\n",
    "7- Lemma ve Stemma ile eklerini kaldır köklerini bul.\n",
    "8- Vectorize ile yazıları rakama çevir"
   ]
  },
  {
   "cell_type": "code",
   "execution_count": 107,
   "id": "85644b24",
   "metadata": {},
   "outputs": [],
   "source": [
    "yelp['text']=yelp['text'].str.lower() #küçük harfe çevirdik"
   ]
  },
  {
   "cell_type": "code",
   "execution_count": 108,
   "id": "691567ab",
   "metadata": {},
   "outputs": [
    {
     "name": "stderr",
     "output_type": "stream",
     "text": [
      "C:\\Users\\T\\AppData\\Local\\Temp\\ipykernel_5736\\1860323167.py:1: FutureWarning: The default value of regex will change from True to False in a future version.\n",
      "  yelp['text']=yelp['text'].str.replace('[^\\w\\s]','')\n"
     ]
    }
   ],
   "source": [
    "yelp['text']=yelp['text'].str.replace('[^\\w\\s]','')\n",
    "#noktalama işaretlerini kaldirdik"
   ]
  },
  {
   "cell_type": "code",
   "execution_count": 109,
   "id": "90923224",
   "metadata": {},
   "outputs": [
    {
     "name": "stderr",
     "output_type": "stream",
     "text": [
      "C:\\Users\\T\\AppData\\Local\\Temp\\ipykernel_5736\\262565670.py:1: FutureWarning: The default value of regex will change from True to False in a future version.\n",
      "  yelp['text']=yelp['text'].str.replace('\\d+','')\n"
     ]
    }
   ],
   "source": [
    "yelp['text']=yelp['text'].str.replace('\\d+','')\n",
    "#rakamlari kaldirdik\n"
   ]
  },
  {
   "cell_type": "code",
   "execution_count": 110,
   "id": "431a8776",
   "metadata": {},
   "outputs": [],
   "source": [
    "yelp['text']=yelp['text'].str.replace('\\n',' ').replace('\\r',' ')\n",
    "#Enter ve yeni satir kodlarini kaldirdik"
   ]
  },
  {
   "cell_type": "code",
   "execution_count": 111,
   "id": "21f4c373",
   "metadata": {},
   "outputs": [],
   "source": [
    "yelp_ei_ek=yelp[(yelp.stars==5) | (yelp.stars==1)] #en iyi ve en kötü yorumları al ana veriden ayır"
   ]
  },
  {
   "cell_type": "code",
   "execution_count": 112,
   "id": "f7508b77",
   "metadata": {},
   "outputs": [],
   "source": [
    "yelp_ei_ek.reset_index(drop=True,inplace=True) #indexleri düzeltiyoruz"
   ]
  },
  {
   "cell_type": "code",
   "execution_count": 113,
   "id": "9fc74e07",
   "metadata": {},
   "outputs": [
    {
     "data": {
      "text/html": [
       "<div>\n",
       "<style scoped>\n",
       "    .dataframe tbody tr th:only-of-type {\n",
       "        vertical-align: middle;\n",
       "    }\n",
       "\n",
       "    .dataframe tbody tr th {\n",
       "        vertical-align: top;\n",
       "    }\n",
       "\n",
       "    .dataframe thead th {\n",
       "        text-align: right;\n",
       "    }\n",
       "</style>\n",
       "<table border=\"1\" class=\"dataframe\">\n",
       "  <thead>\n",
       "    <tr style=\"text-align: right;\">\n",
       "      <th></th>\n",
       "      <th>business_id</th>\n",
       "      <th>date</th>\n",
       "      <th>review_id</th>\n",
       "      <th>stars</th>\n",
       "      <th>text</th>\n",
       "      <th>type</th>\n",
       "      <th>user_id</th>\n",
       "      <th>cool</th>\n",
       "      <th>useful</th>\n",
       "      <th>funny</th>\n",
       "    </tr>\n",
       "  </thead>\n",
       "  <tbody>\n",
       "    <tr>\n",
       "      <th>0</th>\n",
       "      <td>9yKzy9PApeiPPOUJEtnvkg</td>\n",
       "      <td>2011-01-26</td>\n",
       "      <td>fWKvX83p0-ka4JS3dc6E5A</td>\n",
       "      <td>5</td>\n",
       "      <td>my wife took me here on my birthday for breakf...</td>\n",
       "      <td>review</td>\n",
       "      <td>rLtl8ZkDX5vH5nAx9C3q5Q</td>\n",
       "      <td>2</td>\n",
       "      <td>5</td>\n",
       "      <td>0</td>\n",
       "    </tr>\n",
       "    <tr>\n",
       "      <th>1</th>\n",
       "      <td>ZRJwVLyzEJq1VAihDhYiow</td>\n",
       "      <td>2011-07-27</td>\n",
       "      <td>IjZ33sJrzXqU-0X6U8NwyA</td>\n",
       "      <td>5</td>\n",
       "      <td>i have no idea why some people give bad review...</td>\n",
       "      <td>review</td>\n",
       "      <td>0a2KyEL0d3Yb1V6aivbIuQ</td>\n",
       "      <td>0</td>\n",
       "      <td>0</td>\n",
       "      <td>0</td>\n",
       "    </tr>\n",
       "    <tr>\n",
       "      <th>2</th>\n",
       "      <td>_1QQZuf4zZOyFCvXc0o6Vg</td>\n",
       "      <td>2010-05-27</td>\n",
       "      <td>G-WvGaISbqqaMHlNnByodA</td>\n",
       "      <td>5</td>\n",
       "      <td>rosie dakota and i love chaparral dog park its...</td>\n",
       "      <td>review</td>\n",
       "      <td>uZetl9T0NcROGOyFfughhg</td>\n",
       "      <td>1</td>\n",
       "      <td>2</td>\n",
       "      <td>0</td>\n",
       "    </tr>\n",
       "    <tr>\n",
       "      <th>3</th>\n",
       "      <td>6ozycU1RpktNG2-1BroVtw</td>\n",
       "      <td>2012-01-05</td>\n",
       "      <td>1uJFq2r5QfJG_6ExMRCaGw</td>\n",
       "      <td>5</td>\n",
       "      <td>general manager scott petello is a good egg no...</td>\n",
       "      <td>review</td>\n",
       "      <td>vYmM4KTsC8ZfQBg-j5MWkw</td>\n",
       "      <td>0</td>\n",
       "      <td>0</td>\n",
       "      <td>0</td>\n",
       "    </tr>\n",
       "    <tr>\n",
       "      <th>4</th>\n",
       "      <td>zp713qNhx8d9KCJJnrw1xA</td>\n",
       "      <td>2010-02-12</td>\n",
       "      <td>riFQ3vxNpP4rWLk_CSri2A</td>\n",
       "      <td>5</td>\n",
       "      <td>drop what youre doing and drive here after i a...</td>\n",
       "      <td>review</td>\n",
       "      <td>wFweIWhv2fREZV_dYkz_1g</td>\n",
       "      <td>7</td>\n",
       "      <td>7</td>\n",
       "      <td>4</td>\n",
       "    </tr>\n",
       "    <tr>\n",
       "      <th>...</th>\n",
       "      <td>...</td>\n",
       "      <td>...</td>\n",
       "      <td>...</td>\n",
       "      <td>...</td>\n",
       "      <td>...</td>\n",
       "      <td>...</td>\n",
       "      <td>...</td>\n",
       "      <td>...</td>\n",
       "      <td>...</td>\n",
       "      <td>...</td>\n",
       "    </tr>\n",
       "    <tr>\n",
       "      <th>4081</th>\n",
       "      <td>R8VwdLyvsp9iybNqRvm94g</td>\n",
       "      <td>2011-10-03</td>\n",
       "      <td>pcEeHdAJPoFNF23es0kKWg</td>\n",
       "      <td>5</td>\n",
       "      <td>yes i do rock the hipster joints  i dig this p...</td>\n",
       "      <td>review</td>\n",
       "      <td>b92Y3tyWTQQZ5FLifex62Q</td>\n",
       "      <td>1</td>\n",
       "      <td>1</td>\n",
       "      <td>1</td>\n",
       "    </tr>\n",
       "    <tr>\n",
       "      <th>4082</th>\n",
       "      <td>WJ5mq4EiWYAA4Vif0xDfdg</td>\n",
       "      <td>2011-12-05</td>\n",
       "      <td>EuHX-39FR7tyyG1ElvN1Jw</td>\n",
       "      <td>5</td>\n",
       "      <td>only  stars   a few notes the folks that rated...</td>\n",
       "      <td>review</td>\n",
       "      <td>hTau-iNZFwoNsPCaiIUTEA</td>\n",
       "      <td>1</td>\n",
       "      <td>1</td>\n",
       "      <td>0</td>\n",
       "    </tr>\n",
       "    <tr>\n",
       "      <th>4083</th>\n",
       "      <td>f96lWMIAUhYIYy9gOktivQ</td>\n",
       "      <td>2009-03-10</td>\n",
       "      <td>YF17z7HWlMj6aezZc-pVEw</td>\n",
       "      <td>5</td>\n",
       "      <td>im not normally one to jump at reviewing a cha...</td>\n",
       "      <td>review</td>\n",
       "      <td>W_QXYA7A0IhMrvbckz7eVg</td>\n",
       "      <td>2</td>\n",
       "      <td>3</td>\n",
       "      <td>2</td>\n",
       "    </tr>\n",
       "    <tr>\n",
       "      <th>4084</th>\n",
       "      <td>L3BSpFvxcNf3T_teitgt6A</td>\n",
       "      <td>2012-03-19</td>\n",
       "      <td>0nxb1gIGFgk3WbC5zwhKZg</td>\n",
       "      <td>5</td>\n",
       "      <td>lets seewhat is there not to like about surpri...</td>\n",
       "      <td>review</td>\n",
       "      <td>OzOZv-Knlw3oz9K5Kh5S6A</td>\n",
       "      <td>1</td>\n",
       "      <td>2</td>\n",
       "      <td>1</td>\n",
       "    </tr>\n",
       "    <tr>\n",
       "      <th>4085</th>\n",
       "      <td>pF7uRzygyZsltbmVpjIyvw</td>\n",
       "      <td>2010-10-16</td>\n",
       "      <td>vWSmOhg2ID1MNZHaWapGbA</td>\n",
       "      <td>5</td>\n",
       "      <td>locations all  star average i think arizona r...</td>\n",
       "      <td>review</td>\n",
       "      <td>KSBFytcdjPKZgXKQnYQdkA</td>\n",
       "      <td>0</td>\n",
       "      <td>0</td>\n",
       "      <td>0</td>\n",
       "    </tr>\n",
       "  </tbody>\n",
       "</table>\n",
       "<p>4086 rows × 10 columns</p>\n",
       "</div>"
      ],
      "text/plain": [
       "                 business_id        date               review_id  stars  \\\n",
       "0     9yKzy9PApeiPPOUJEtnvkg  2011-01-26  fWKvX83p0-ka4JS3dc6E5A      5   \n",
       "1     ZRJwVLyzEJq1VAihDhYiow  2011-07-27  IjZ33sJrzXqU-0X6U8NwyA      5   \n",
       "2     _1QQZuf4zZOyFCvXc0o6Vg  2010-05-27  G-WvGaISbqqaMHlNnByodA      5   \n",
       "3     6ozycU1RpktNG2-1BroVtw  2012-01-05  1uJFq2r5QfJG_6ExMRCaGw      5   \n",
       "4     zp713qNhx8d9KCJJnrw1xA  2010-02-12  riFQ3vxNpP4rWLk_CSri2A      5   \n",
       "...                      ...         ...                     ...    ...   \n",
       "4081  R8VwdLyvsp9iybNqRvm94g  2011-10-03  pcEeHdAJPoFNF23es0kKWg      5   \n",
       "4082  WJ5mq4EiWYAA4Vif0xDfdg  2011-12-05  EuHX-39FR7tyyG1ElvN1Jw      5   \n",
       "4083  f96lWMIAUhYIYy9gOktivQ  2009-03-10  YF17z7HWlMj6aezZc-pVEw      5   \n",
       "4084  L3BSpFvxcNf3T_teitgt6A  2012-03-19  0nxb1gIGFgk3WbC5zwhKZg      5   \n",
       "4085  pF7uRzygyZsltbmVpjIyvw  2010-10-16  vWSmOhg2ID1MNZHaWapGbA      5   \n",
       "\n",
       "                                                   text    type  \\\n",
       "0     my wife took me here on my birthday for breakf...  review   \n",
       "1     i have no idea why some people give bad review...  review   \n",
       "2     rosie dakota and i love chaparral dog park its...  review   \n",
       "3     general manager scott petello is a good egg no...  review   \n",
       "4     drop what youre doing and drive here after i a...  review   \n",
       "...                                                 ...     ...   \n",
       "4081  yes i do rock the hipster joints  i dig this p...  review   \n",
       "4082  only  stars   a few notes the folks that rated...  review   \n",
       "4083  im not normally one to jump at reviewing a cha...  review   \n",
       "4084  lets seewhat is there not to like about surpri...  review   \n",
       "4085   locations all  star average i think arizona r...  review   \n",
       "\n",
       "                     user_id  cool  useful  funny  \n",
       "0     rLtl8ZkDX5vH5nAx9C3q5Q     2       5      0  \n",
       "1     0a2KyEL0d3Yb1V6aivbIuQ     0       0      0  \n",
       "2     uZetl9T0NcROGOyFfughhg     1       2      0  \n",
       "3     vYmM4KTsC8ZfQBg-j5MWkw     0       0      0  \n",
       "4     wFweIWhv2fREZV_dYkz_1g     7       7      4  \n",
       "...                      ...   ...     ...    ...  \n",
       "4081  b92Y3tyWTQQZ5FLifex62Q     1       1      1  \n",
       "4082  hTau-iNZFwoNsPCaiIUTEA     1       1      0  \n",
       "4083  W_QXYA7A0IhMrvbckz7eVg     2       3      2  \n",
       "4084  OzOZv-Knlw3oz9K5Kh5S6A     1       2      1  \n",
       "4085  KSBFytcdjPKZgXKQnYQdkA     0       0      0  \n",
       "\n",
       "[4086 rows x 10 columns]"
      ]
     },
     "execution_count": 113,
     "metadata": {},
     "output_type": "execute_result"
    }
   ],
   "source": [
    "yelp_ei_ek"
   ]
  },
  {
   "cell_type": "code",
   "execution_count": null,
   "id": "59b6479d",
   "metadata": {},
   "outputs": [],
   "source": [
    "x=yelp_ei_ek.text #yazıyı aldık x e eşitledik\n",
    "y=yelp_ei_ek.stars #yıldızı aldık y ye eşitledik"
   ]
  },
  {
   "cell_type": "code",
   "execution_count": null,
   "id": "4b7565d5",
   "metadata": {},
   "outputs": [],
   "source": [
    "from sklearn.model_selection import train_test_split"
   ]
  },
  {
   "cell_type": "code",
   "execution_count": null,
   "id": "ddd2d291",
   "metadata": {},
   "outputs": [],
   "source": [
    "from sklearn.feature_extraction.text import CountVectorizer,TfidfVectorizer"
   ]
  },
  {
   "cell_type": "code",
   "execution_count": null,
   "id": "057edea6",
   "metadata": {},
   "outputs": [],
   "source": [
    "vect=CountVectorizer(lowercase=True,stop_words=\"english\") #yukarıda küçük harfe çevirdik buradada çevirebiliyoruz,stopwordsları attık\n",
    "x_yeni=vect.fit_transform(x)     #x teki her bir kelimeyi sütun olarak al                      "
   ]
  },
  {
   "cell_type": "code",
   "execution_count": null,
   "id": "81131408",
   "metadata": {},
   "outputs": [],
   "source": [
    "#vect=CountVectorizer(lowercase=True,ngram_range=(1,1),stop_words=\"english\") #başarı oranını nasıl etkiliyor bakacagız\n",
    "#vect=CountVectorizer(lowercase=True,ngram_range=(1,2),stop_words=\"english\")\n",
    "#vect=CountVectorizer(lowercase=True,ngram_range=(1,3),stop_words=\"english\")\n",
    "#vect=CountVectorizer(lowercase=True,ngram_range=(1,1))\n",
    "#x_yeni=vect.fit_transform(x)   "
   ]
  },
  {
   "cell_type": "code",
   "execution_count": null,
   "id": "cbc94017",
   "metadata": {},
   "outputs": [],
   "source": [
    "x_train,x_test,y_train,y_test=train_test_split(x_yeni,y,random_state=42)"
   ]
  },
  {
   "cell_type": "code",
   "execution_count": null,
   "id": "5847c089",
   "metadata": {},
   "outputs": [],
   "source": [
    "from sklearn.naive_bayes import MultinomialNB"
   ]
  },
  {
   "cell_type": "code",
   "execution_count": null,
   "id": "8bd68301",
   "metadata": {},
   "outputs": [],
   "source": [
    "mb=MultinomialNB()"
   ]
  },
  {
   "cell_type": "code",
   "execution_count": null,
   "id": "0c281c4e",
   "metadata": {},
   "outputs": [],
   "source": [
    "mb.fit(x_train,y_train)"
   ]
  },
  {
   "cell_type": "code",
   "execution_count": null,
   "id": "9d917173",
   "metadata": {},
   "outputs": [],
   "source": [
    "from sklearn.metrics import accuracy_score"
   ]
  },
  {
   "cell_type": "code",
   "execution_count": null,
   "id": "76dbda5f",
   "metadata": {},
   "outputs": [],
   "source": [
    "tahmin=mb.predict(x_test)"
   ]
  },
  {
   "cell_type": "code",
   "execution_count": null,
   "id": "323adccb",
   "metadata": {},
   "outputs": [],
   "source": [
    "accuracy_score(y_test,tahmin)"
   ]
  },
  {
   "cell_type": "code",
   "execution_count": null,
   "id": "be674b27",
   "metadata": {},
   "outputs": [],
   "source": [
    "from sklearn.tree import DecisionTreeClassifier"
   ]
  },
  {
   "cell_type": "code",
   "execution_count": null,
   "id": "9a9a00de",
   "metadata": {},
   "outputs": [],
   "source": [
    "d=DecisionTreeClassifier()"
   ]
  },
  {
   "cell_type": "code",
   "execution_count": null,
   "id": "170ca6b1",
   "metadata": {},
   "outputs": [],
   "source": [
    "d.fit(x_train,y_train)"
   ]
  },
  {
   "cell_type": "code",
   "execution_count": null,
   "id": "ad29a9a8",
   "metadata": {},
   "outputs": [],
   "source": [
    "tahmin2=d.predict(x_test)"
   ]
  },
  {
   "cell_type": "code",
   "execution_count": null,
   "id": "9543c903",
   "metadata": {},
   "outputs": [],
   "source": [
    "accuracy_score(tahmin2,y_test)"
   ]
  },
  {
   "cell_type": "code",
   "execution_count": null,
   "id": "0d7371e6",
   "metadata": {},
   "outputs": [],
   "source": []
  }
 ],
 "metadata": {
  "kernelspec": {
   "display_name": "Python 3 (ipykernel)",
   "language": "python",
   "name": "python3"
  },
  "language_info": {
   "codemirror_mode": {
    "name": "ipython",
    "version": 3
   },
   "file_extension": ".py",
   "mimetype": "text/x-python",
   "name": "python",
   "nbconvert_exporter": "python",
   "pygments_lexer": "ipython3",
   "version": "3.9.12"
  }
 },
 "nbformat": 4,
 "nbformat_minor": 5
}
