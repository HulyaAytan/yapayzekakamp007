{
 "cells": [
  {
   "cell_type": "raw",
   "id": "ec2e8bdb",
   "metadata": {},
   "source": [
    "This is a  Regression & Classification project\n",
    "\n",
    "A DATA SCIENCE APPROACH TO PROFILING ONLINE DATERS ACCORDING TO AGE & GENERATION\n",
    "\n",
    "1 - Can your dating profile predict your age?\n",
    "\n",
    "2 - Can your dating profile predict the generation you belong to? (Millennial, Gen X-er, or Boomers)\n",
    "\n",
    "Using a dataset of almost 60,000 anonymized entries from the dating platform OKCupid, You will explore the above questions using supervised machine learning techniques. You will examine different aspects or features of user profiles and see which ones you will integrate into your models to achieve the most satisfactory scores. You will use regression techniques to tackle the first question and classification models to address the second.\n",
    "\n",
    "By exploring the “last_online” feature’s min and max, the OKCupid dataset could be inferred to be dated around 2011 or 2012. At the time, a “Millennial” would be aged from 18 to 32, a “Gen X-er” 33 to 47, and “Boomers” from 48 to 70 years old."
   ]
  },
  {
   "cell_type": "code",
   "execution_count": 1,
   "id": "5ebdab70",
   "metadata": {},
   "outputs": [],
   "source": [
    "import pandas as pd\n",
    "import numpy as np\n",
    "import matplotlib.pyplot as plt\n",
    "import seaborn as sns\n",
    "import warnings\n",
    "warnings.filterwarnings(\"ignore\")\n",
    "pd.set_option(\"display.max_columns\",100)\n",
    "from datetime import datetime\n",
    "from sklearn.model_selection import train_test_split"
   ]
  },
  {
   "cell_type": "code",
   "execution_count": 2,
   "id": "b77840f7",
   "metadata": {},
   "outputs": [],
   "source": [
    "df=pd.read_csv(\"profiles.csv\")"
   ]
  },
  {
   "cell_type": "code",
   "execution_count": 3,
   "id": "d274b289",
   "metadata": {},
   "outputs": [
    {
     "data": {
      "text/html": [
       "<div>\n",
       "<style scoped>\n",
       "    .dataframe tbody tr th:only-of-type {\n",
       "        vertical-align: middle;\n",
       "    }\n",
       "\n",
       "    .dataframe tbody tr th {\n",
       "        vertical-align: top;\n",
       "    }\n",
       "\n",
       "    .dataframe thead th {\n",
       "        text-align: right;\n",
       "    }\n",
       "</style>\n",
       "<table border=\"1\" class=\"dataframe\">\n",
       "  <thead>\n",
       "    <tr style=\"text-align: right;\">\n",
       "      <th></th>\n",
       "      <th>age</th>\n",
       "      <th>body_type</th>\n",
       "      <th>diet</th>\n",
       "      <th>drinks</th>\n",
       "      <th>drugs</th>\n",
       "      <th>education</th>\n",
       "      <th>essay0</th>\n",
       "      <th>essay1</th>\n",
       "      <th>essay2</th>\n",
       "      <th>essay3</th>\n",
       "      <th>essay4</th>\n",
       "      <th>essay5</th>\n",
       "      <th>essay6</th>\n",
       "      <th>essay7</th>\n",
       "      <th>essay8</th>\n",
       "      <th>essay9</th>\n",
       "      <th>ethnicity</th>\n",
       "      <th>height</th>\n",
       "      <th>income</th>\n",
       "      <th>job</th>\n",
       "      <th>last_online</th>\n",
       "      <th>location</th>\n",
       "      <th>offspring</th>\n",
       "      <th>orientation</th>\n",
       "      <th>pets</th>\n",
       "      <th>religion</th>\n",
       "      <th>sex</th>\n",
       "      <th>sign</th>\n",
       "      <th>smokes</th>\n",
       "      <th>speaks</th>\n",
       "      <th>status</th>\n",
       "    </tr>\n",
       "  </thead>\n",
       "  <tbody>\n",
       "    <tr>\n",
       "      <th>0</th>\n",
       "      <td>22.0</td>\n",
       "      <td>a little extra</td>\n",
       "      <td>strictly anything</td>\n",
       "      <td>socially</td>\n",
       "      <td>never</td>\n",
       "      <td>working on college/university</td>\n",
       "      <td>about me:&lt;br /&gt;\\n&lt;br /&gt;\\ni would love to think...</td>\n",
       "      <td>currently working as an international agent fo...</td>\n",
       "      <td>making people laugh.&lt;br /&gt;\\nranting about a go...</td>\n",
       "      <td>the way i look. i am a six foot half asian, ha...</td>\n",
       "      <td>books:&lt;br /&gt;\\nabsurdistan, the republic, of mi...</td>\n",
       "      <td>food.&lt;br /&gt;\\nwater.&lt;br /&gt;\\ncell phone.&lt;br /&gt;\\n...</td>\n",
       "      <td>duality and humorous things</td>\n",
       "      <td>trying to find someone to hang out with. i am ...</td>\n",
       "      <td>i am new to california and looking for someone...</td>\n",
       "      <td>you want to be swept off your feet!&lt;br /&gt;\\nyou...</td>\n",
       "      <td>asian, white</td>\n",
       "      <td>75.0</td>\n",
       "      <td>-1.0</td>\n",
       "      <td>transportation</td>\n",
       "      <td>2012-06-28-20-30</td>\n",
       "      <td>south san francisco, california</td>\n",
       "      <td>doesn&amp;rsquo;t have kids, but might want them</td>\n",
       "      <td>straight</td>\n",
       "      <td>likes dogs and likes cats</td>\n",
       "      <td>agnosticism and very serious about it</td>\n",
       "      <td>m</td>\n",
       "      <td>gemini</td>\n",
       "      <td>sometimes</td>\n",
       "      <td>english</td>\n",
       "      <td>single</td>\n",
       "    </tr>\n",
       "    <tr>\n",
       "      <th>1</th>\n",
       "      <td>35.0</td>\n",
       "      <td>average</td>\n",
       "      <td>mostly other</td>\n",
       "      <td>often</td>\n",
       "      <td>sometimes</td>\n",
       "      <td>working on space camp</td>\n",
       "      <td>i am a chef: this is what that means.&lt;br /&gt;\\n1...</td>\n",
       "      <td>dedicating everyday to being an unbelievable b...</td>\n",
       "      <td>being silly. having ridiculous amonts of fun w...</td>\n",
       "      <td>NaN</td>\n",
       "      <td>i am die hard christopher moore fan. i don't r...</td>\n",
       "      <td>delicious porkness in all of its glories.&lt;br /...</td>\n",
       "      <td>NaN</td>\n",
       "      <td>NaN</td>\n",
       "      <td>i am very open and will share just about anyth...</td>\n",
       "      <td>NaN</td>\n",
       "      <td>white</td>\n",
       "      <td>70.0</td>\n",
       "      <td>80000.0</td>\n",
       "      <td>hospitality / travel</td>\n",
       "      <td>2012-06-29-21-41</td>\n",
       "      <td>oakland, california</td>\n",
       "      <td>doesn&amp;rsquo;t have kids, but might want them</td>\n",
       "      <td>straight</td>\n",
       "      <td>likes dogs and likes cats</td>\n",
       "      <td>agnosticism but not too serious about it</td>\n",
       "      <td>m</td>\n",
       "      <td>cancer</td>\n",
       "      <td>no</td>\n",
       "      <td>english (fluently), spanish (poorly), french (...</td>\n",
       "      <td>single</td>\n",
       "    </tr>\n",
       "    <tr>\n",
       "      <th>2</th>\n",
       "      <td>38.0</td>\n",
       "      <td>thin</td>\n",
       "      <td>anything</td>\n",
       "      <td>socially</td>\n",
       "      <td>NaN</td>\n",
       "      <td>graduated from masters program</td>\n",
       "      <td>i'm not ashamed of much, but writing public te...</td>\n",
       "      <td>i make nerdy software for musicians, artists, ...</td>\n",
       "      <td>improvising in different contexts. alternating...</td>\n",
       "      <td>my large jaw and large glasses are the physica...</td>\n",
       "      <td>okay this is where the cultural matrix gets so...</td>\n",
       "      <td>movement&lt;br /&gt;\\nconversation&lt;br /&gt;\\ncreation&lt;b...</td>\n",
       "      <td>NaN</td>\n",
       "      <td>viewing. listening. dancing. talking. drinking...</td>\n",
       "      <td>when i was five years old, i was known as \"the...</td>\n",
       "      <td>you are bright, open, intense, silly, ironic, ...</td>\n",
       "      <td>NaN</td>\n",
       "      <td>68.0</td>\n",
       "      <td>-1.0</td>\n",
       "      <td>NaN</td>\n",
       "      <td>2012-06-27-09-10</td>\n",
       "      <td>san francisco, california</td>\n",
       "      <td>NaN</td>\n",
       "      <td>straight</td>\n",
       "      <td>has cats</td>\n",
       "      <td>NaN</td>\n",
       "      <td>m</td>\n",
       "      <td>pisces but it doesn&amp;rsquo;t matter</td>\n",
       "      <td>no</td>\n",
       "      <td>english, french, c++</td>\n",
       "      <td>available</td>\n",
       "    </tr>\n",
       "    <tr>\n",
       "      <th>3</th>\n",
       "      <td>23.0</td>\n",
       "      <td>thin</td>\n",
       "      <td>vegetarian</td>\n",
       "      <td>socially</td>\n",
       "      <td>NaN</td>\n",
       "      <td>working on college/university</td>\n",
       "      <td>i work in a library and go to school. . .</td>\n",
       "      <td>reading things written by old dead people</td>\n",
       "      <td>playing synthesizers and organizing books acco...</td>\n",
       "      <td>socially awkward but i do my best</td>\n",
       "      <td>bataille, celine, beckett. . .&lt;br /&gt;\\nlynch, j...</td>\n",
       "      <td>NaN</td>\n",
       "      <td>cats and german philosophy</td>\n",
       "      <td>NaN</td>\n",
       "      <td>NaN</td>\n",
       "      <td>you feel so inclined.</td>\n",
       "      <td>white</td>\n",
       "      <td>71.0</td>\n",
       "      <td>20000.0</td>\n",
       "      <td>student</td>\n",
       "      <td>2012-06-28-14-22</td>\n",
       "      <td>berkeley, california</td>\n",
       "      <td>doesn&amp;rsquo;t want kids</td>\n",
       "      <td>straight</td>\n",
       "      <td>likes cats</td>\n",
       "      <td>NaN</td>\n",
       "      <td>m</td>\n",
       "      <td>pisces</td>\n",
       "      <td>no</td>\n",
       "      <td>english, german (poorly)</td>\n",
       "      <td>single</td>\n",
       "    </tr>\n",
       "    <tr>\n",
       "      <th>4</th>\n",
       "      <td>29.0</td>\n",
       "      <td>athletic</td>\n",
       "      <td>NaN</td>\n",
       "      <td>socially</td>\n",
       "      <td>never</td>\n",
       "      <td>graduated from college/university</td>\n",
       "      <td>hey how's it going? currently vague on the pro...</td>\n",
       "      <td>work work work work + play</td>\n",
       "      <td>creating imagery to look at:&lt;br /&gt;\\nhttp://bag...</td>\n",
       "      <td>i smile a lot and my inquisitive nature</td>\n",
       "      <td>music: bands, rappers, musicians&lt;br /&gt;\\nat the...</td>\n",
       "      <td>NaN</td>\n",
       "      <td>NaN</td>\n",
       "      <td>NaN</td>\n",
       "      <td>NaN</td>\n",
       "      <td>NaN</td>\n",
       "      <td>asian, black, other</td>\n",
       "      <td>66.0</td>\n",
       "      <td>-1.0</td>\n",
       "      <td>artistic / musical / writer</td>\n",
       "      <td>2012-06-27-21-26</td>\n",
       "      <td>san francisco, california</td>\n",
       "      <td>NaN</td>\n",
       "      <td>straight</td>\n",
       "      <td>likes dogs and likes cats</td>\n",
       "      <td>NaN</td>\n",
       "      <td>m</td>\n",
       "      <td>aquarius</td>\n",
       "      <td>no</td>\n",
       "      <td>english</td>\n",
       "      <td>single</td>\n",
       "    </tr>\n",
       "  </tbody>\n",
       "</table>\n",
       "</div>"
      ],
      "text/plain": [
       "    age       body_type               diet    drinks      drugs  \\\n",
       "0  22.0  a little extra  strictly anything  socially      never   \n",
       "1  35.0         average       mostly other     often  sometimes   \n",
       "2  38.0            thin           anything  socially        NaN   \n",
       "3  23.0            thin         vegetarian  socially        NaN   \n",
       "4  29.0        athletic                NaN  socially      never   \n",
       "\n",
       "                           education  \\\n",
       "0      working on college/university   \n",
       "1              working on space camp   \n",
       "2     graduated from masters program   \n",
       "3      working on college/university   \n",
       "4  graduated from college/university   \n",
       "\n",
       "                                              essay0  \\\n",
       "0  about me:<br />\\n<br />\\ni would love to think...   \n",
       "1  i am a chef: this is what that means.<br />\\n1...   \n",
       "2  i'm not ashamed of much, but writing public te...   \n",
       "3          i work in a library and go to school. . .   \n",
       "4  hey how's it going? currently vague on the pro...   \n",
       "\n",
       "                                              essay1  \\\n",
       "0  currently working as an international agent fo...   \n",
       "1  dedicating everyday to being an unbelievable b...   \n",
       "2  i make nerdy software for musicians, artists, ...   \n",
       "3          reading things written by old dead people   \n",
       "4                         work work work work + play   \n",
       "\n",
       "                                              essay2  \\\n",
       "0  making people laugh.<br />\\nranting about a go...   \n",
       "1  being silly. having ridiculous amonts of fun w...   \n",
       "2  improvising in different contexts. alternating...   \n",
       "3  playing synthesizers and organizing books acco...   \n",
       "4  creating imagery to look at:<br />\\nhttp://bag...   \n",
       "\n",
       "                                              essay3  \\\n",
       "0  the way i look. i am a six foot half asian, ha...   \n",
       "1                                                NaN   \n",
       "2  my large jaw and large glasses are the physica...   \n",
       "3                  socially awkward but i do my best   \n",
       "4            i smile a lot and my inquisitive nature   \n",
       "\n",
       "                                              essay4  \\\n",
       "0  books:<br />\\nabsurdistan, the republic, of mi...   \n",
       "1  i am die hard christopher moore fan. i don't r...   \n",
       "2  okay this is where the cultural matrix gets so...   \n",
       "3  bataille, celine, beckett. . .<br />\\nlynch, j...   \n",
       "4  music: bands, rappers, musicians<br />\\nat the...   \n",
       "\n",
       "                                              essay5  \\\n",
       "0  food.<br />\\nwater.<br />\\ncell phone.<br />\\n...   \n",
       "1  delicious porkness in all of its glories.<br /...   \n",
       "2  movement<br />\\nconversation<br />\\ncreation<b...   \n",
       "3                                                NaN   \n",
       "4                                                NaN   \n",
       "\n",
       "                        essay6  \\\n",
       "0  duality and humorous things   \n",
       "1                          NaN   \n",
       "2                          NaN   \n",
       "3   cats and german philosophy   \n",
       "4                          NaN   \n",
       "\n",
       "                                              essay7  \\\n",
       "0  trying to find someone to hang out with. i am ...   \n",
       "1                                                NaN   \n",
       "2  viewing. listening. dancing. talking. drinking...   \n",
       "3                                                NaN   \n",
       "4                                                NaN   \n",
       "\n",
       "                                              essay8  \\\n",
       "0  i am new to california and looking for someone...   \n",
       "1  i am very open and will share just about anyth...   \n",
       "2  when i was five years old, i was known as \"the...   \n",
       "3                                                NaN   \n",
       "4                                                NaN   \n",
       "\n",
       "                                              essay9            ethnicity  \\\n",
       "0  you want to be swept off your feet!<br />\\nyou...         asian, white   \n",
       "1                                                NaN                white   \n",
       "2  you are bright, open, intense, silly, ironic, ...                  NaN   \n",
       "3                              you feel so inclined.                white   \n",
       "4                                                NaN  asian, black, other   \n",
       "\n",
       "   height   income                          job       last_online  \\\n",
       "0    75.0     -1.0               transportation  2012-06-28-20-30   \n",
       "1    70.0  80000.0         hospitality / travel  2012-06-29-21-41   \n",
       "2    68.0     -1.0                          NaN  2012-06-27-09-10   \n",
       "3    71.0  20000.0                      student  2012-06-28-14-22   \n",
       "4    66.0     -1.0  artistic / musical / writer  2012-06-27-21-26   \n",
       "\n",
       "                          location  \\\n",
       "0  south san francisco, california   \n",
       "1              oakland, california   \n",
       "2        san francisco, california   \n",
       "3             berkeley, california   \n",
       "4        san francisco, california   \n",
       "\n",
       "                                      offspring orientation  \\\n",
       "0  doesn&rsquo;t have kids, but might want them    straight   \n",
       "1  doesn&rsquo;t have kids, but might want them    straight   \n",
       "2                                           NaN    straight   \n",
       "3                       doesn&rsquo;t want kids    straight   \n",
       "4                                           NaN    straight   \n",
       "\n",
       "                        pets                                  religion sex  \\\n",
       "0  likes dogs and likes cats     agnosticism and very serious about it   m   \n",
       "1  likes dogs and likes cats  agnosticism but not too serious about it   m   \n",
       "2                   has cats                                       NaN   m   \n",
       "3                 likes cats                                       NaN   m   \n",
       "4  likes dogs and likes cats                                       NaN   m   \n",
       "\n",
       "                                 sign     smokes  \\\n",
       "0                              gemini  sometimes   \n",
       "1                              cancer         no   \n",
       "2  pisces but it doesn&rsquo;t matter         no   \n",
       "3                              pisces         no   \n",
       "4                            aquarius         no   \n",
       "\n",
       "                                              speaks     status  \n",
       "0                                            english     single  \n",
       "1  english (fluently), spanish (poorly), french (...     single  \n",
       "2                               english, french, c++  available  \n",
       "3                           english, german (poorly)     single  \n",
       "4                                            english     single  "
      ]
     },
     "execution_count": 3,
     "metadata": {},
     "output_type": "execute_result"
    }
   ],
   "source": [
    "df.head()"
   ]
  },
  {
   "cell_type": "code",
   "execution_count": 4,
   "id": "906bc715",
   "metadata": {},
   "outputs": [
    {
     "data": {
      "text/html": [
       "<div>\n",
       "<style scoped>\n",
       "    .dataframe tbody tr th:only-of-type {\n",
       "        vertical-align: middle;\n",
       "    }\n",
       "\n",
       "    .dataframe tbody tr th {\n",
       "        vertical-align: top;\n",
       "    }\n",
       "\n",
       "    .dataframe thead th {\n",
       "        text-align: right;\n",
       "    }\n",
       "</style>\n",
       "<table border=\"1\" class=\"dataframe\">\n",
       "  <thead>\n",
       "    <tr style=\"text-align: right;\">\n",
       "      <th></th>\n",
       "      <th>age</th>\n",
       "      <th>body_type</th>\n",
       "      <th>diet</th>\n",
       "      <th>drinks</th>\n",
       "      <th>drugs</th>\n",
       "      <th>education</th>\n",
       "      <th>essay0</th>\n",
       "      <th>essay1</th>\n",
       "      <th>essay2</th>\n",
       "      <th>essay3</th>\n",
       "      <th>essay4</th>\n",
       "      <th>essay5</th>\n",
       "      <th>essay6</th>\n",
       "      <th>essay7</th>\n",
       "      <th>essay8</th>\n",
       "      <th>essay9</th>\n",
       "      <th>ethnicity</th>\n",
       "      <th>height</th>\n",
       "      <th>income</th>\n",
       "      <th>job</th>\n",
       "      <th>last_online</th>\n",
       "      <th>location</th>\n",
       "      <th>offspring</th>\n",
       "      <th>orientation</th>\n",
       "      <th>pets</th>\n",
       "      <th>religion</th>\n",
       "      <th>sex</th>\n",
       "      <th>sign</th>\n",
       "      <th>smokes</th>\n",
       "      <th>speaks</th>\n",
       "      <th>status</th>\n",
       "    </tr>\n",
       "  </thead>\n",
       "  <tbody>\n",
       "    <tr>\n",
       "      <th>60547</th>\n",
       "      <td>NaN</td>\n",
       "      <td>NaN</td>\n",
       "      <td>NaN</td>\n",
       "      <td>NaN</td>\n",
       "      <td>NaN</td>\n",
       "      <td>NaN</td>\n",
       "      <td>NaN</td>\n",
       "      <td>NaN</td>\n",
       "      <td>NaN</td>\n",
       "      <td>NaN</td>\n",
       "      <td>NaN</td>\n",
       "      <td>NaN</td>\n",
       "      <td>NaN</td>\n",
       "      <td>NaN</td>\n",
       "      <td>NaN</td>\n",
       "      <td>NaN</td>\n",
       "      <td>NaN</td>\n",
       "      <td>NaN</td>\n",
       "      <td>NaN</td>\n",
       "      <td>NaN</td>\n",
       "      <td>NaN</td>\n",
       "      <td>NaN</td>\n",
       "      <td>NaN</td>\n",
       "      <td>NaN</td>\n",
       "      <td>NaN</td>\n",
       "      <td>NaN</td>\n",
       "      <td>NaN</td>\n",
       "      <td>NaN</td>\n",
       "      <td>NaN</td>\n",
       "      <td>NaN</td>\n",
       "      <td>NaN</td>\n",
       "    </tr>\n",
       "    <tr>\n",
       "      <th>60548</th>\n",
       "      <td>NaN</td>\n",
       "      <td>NaN</td>\n",
       "      <td>NaN</td>\n",
       "      <td>NaN</td>\n",
       "      <td>NaN</td>\n",
       "      <td>NaN</td>\n",
       "      <td>NaN</td>\n",
       "      <td>NaN</td>\n",
       "      <td>NaN</td>\n",
       "      <td>NaN</td>\n",
       "      <td>NaN</td>\n",
       "      <td>NaN</td>\n",
       "      <td>NaN</td>\n",
       "      <td>NaN</td>\n",
       "      <td>NaN</td>\n",
       "      <td>NaN</td>\n",
       "      <td>NaN</td>\n",
       "      <td>NaN</td>\n",
       "      <td>NaN</td>\n",
       "      <td>NaN</td>\n",
       "      <td>NaN</td>\n",
       "      <td>NaN</td>\n",
       "      <td>NaN</td>\n",
       "      <td>NaN</td>\n",
       "      <td>NaN</td>\n",
       "      <td>NaN</td>\n",
       "      <td>NaN</td>\n",
       "      <td>NaN</td>\n",
       "      <td>NaN</td>\n",
       "      <td>NaN</td>\n",
       "      <td>NaN</td>\n",
       "    </tr>\n",
       "    <tr>\n",
       "      <th>60549</th>\n",
       "      <td>NaN</td>\n",
       "      <td>NaN</td>\n",
       "      <td>NaN</td>\n",
       "      <td>NaN</td>\n",
       "      <td>NaN</td>\n",
       "      <td>NaN</td>\n",
       "      <td>NaN</td>\n",
       "      <td>NaN</td>\n",
       "      <td>NaN</td>\n",
       "      <td>NaN</td>\n",
       "      <td>NaN</td>\n",
       "      <td>NaN</td>\n",
       "      <td>NaN</td>\n",
       "      <td>NaN</td>\n",
       "      <td>NaN</td>\n",
       "      <td>NaN</td>\n",
       "      <td>NaN</td>\n",
       "      <td>NaN</td>\n",
       "      <td>NaN</td>\n",
       "      <td>NaN</td>\n",
       "      <td>NaN</td>\n",
       "      <td>NaN</td>\n",
       "      <td>NaN</td>\n",
       "      <td>NaN</td>\n",
       "      <td>NaN</td>\n",
       "      <td>NaN</td>\n",
       "      <td>NaN</td>\n",
       "      <td>NaN</td>\n",
       "      <td>NaN</td>\n",
       "      <td>NaN</td>\n",
       "      <td>NaN</td>\n",
       "    </tr>\n",
       "    <tr>\n",
       "      <th>60550</th>\n",
       "      <td>NaN</td>\n",
       "      <td>NaN</td>\n",
       "      <td>NaN</td>\n",
       "      <td>NaN</td>\n",
       "      <td>NaN</td>\n",
       "      <td>NaN</td>\n",
       "      <td>NaN</td>\n",
       "      <td>NaN</td>\n",
       "      <td>NaN</td>\n",
       "      <td>NaN</td>\n",
       "      <td>NaN</td>\n",
       "      <td>NaN</td>\n",
       "      <td>NaN</td>\n",
       "      <td>NaN</td>\n",
       "      <td>NaN</td>\n",
       "      <td>NaN</td>\n",
       "      <td>NaN</td>\n",
       "      <td>NaN</td>\n",
       "      <td>NaN</td>\n",
       "      <td>NaN</td>\n",
       "      <td>NaN</td>\n",
       "      <td>NaN</td>\n",
       "      <td>NaN</td>\n",
       "      <td>NaN</td>\n",
       "      <td>NaN</td>\n",
       "      <td>NaN</td>\n",
       "      <td>NaN</td>\n",
       "      <td>NaN</td>\n",
       "      <td>NaN</td>\n",
       "      <td>NaN</td>\n",
       "      <td>NaN</td>\n",
       "    </tr>\n",
       "    <tr>\n",
       "      <th>60551</th>\n",
       "      <td>NaN</td>\n",
       "      <td>NaN</td>\n",
       "      <td>NaN</td>\n",
       "      <td>NaN</td>\n",
       "      <td>NaN</td>\n",
       "      <td>NaN</td>\n",
       "      <td>NaN</td>\n",
       "      <td>NaN</td>\n",
       "      <td>NaN</td>\n",
       "      <td>NaN</td>\n",
       "      <td>NaN</td>\n",
       "      <td>NaN</td>\n",
       "      <td>NaN</td>\n",
       "      <td>NaN</td>\n",
       "      <td>NaN</td>\n",
       "      <td>NaN</td>\n",
       "      <td>NaN</td>\n",
       "      <td>NaN</td>\n",
       "      <td>NaN</td>\n",
       "      <td>NaN</td>\n",
       "      <td>NaN</td>\n",
       "      <td>NaN</td>\n",
       "      <td>NaN</td>\n",
       "      <td>NaN</td>\n",
       "      <td>NaN</td>\n",
       "      <td>NaN</td>\n",
       "      <td>NaN</td>\n",
       "      <td>NaN</td>\n",
       "      <td>NaN</td>\n",
       "      <td>NaN</td>\n",
       "      <td>NaN</td>\n",
       "    </tr>\n",
       "  </tbody>\n",
       "</table>\n",
       "</div>"
      ],
      "text/plain": [
       "       age body_type diet drinks drugs education essay0 essay1 essay2 essay3  \\\n",
       "60547  NaN       NaN  NaN    NaN   NaN       NaN    NaN    NaN    NaN    NaN   \n",
       "60548  NaN       NaN  NaN    NaN   NaN       NaN    NaN    NaN    NaN    NaN   \n",
       "60549  NaN       NaN  NaN    NaN   NaN       NaN    NaN    NaN    NaN    NaN   \n",
       "60550  NaN       NaN  NaN    NaN   NaN       NaN    NaN    NaN    NaN    NaN   \n",
       "60551  NaN       NaN  NaN    NaN   NaN       NaN    NaN    NaN    NaN    NaN   \n",
       "\n",
       "      essay4 essay5 essay6 essay7 essay8 essay9 ethnicity  height  income  \\\n",
       "60547    NaN    NaN    NaN    NaN    NaN    NaN       NaN     NaN     NaN   \n",
       "60548    NaN    NaN    NaN    NaN    NaN    NaN       NaN     NaN     NaN   \n",
       "60549    NaN    NaN    NaN    NaN    NaN    NaN       NaN     NaN     NaN   \n",
       "60550    NaN    NaN    NaN    NaN    NaN    NaN       NaN     NaN     NaN   \n",
       "60551    NaN    NaN    NaN    NaN    NaN    NaN       NaN     NaN     NaN   \n",
       "\n",
       "       job last_online location offspring orientation pets religion  sex sign  \\\n",
       "60547  NaN         NaN      NaN       NaN         NaN  NaN      NaN  NaN  NaN   \n",
       "60548  NaN         NaN      NaN       NaN         NaN  NaN      NaN  NaN  NaN   \n",
       "60549  NaN         NaN      NaN       NaN         NaN  NaN      NaN  NaN  NaN   \n",
       "60550  NaN         NaN      NaN       NaN         NaN  NaN      NaN  NaN  NaN   \n",
       "60551  NaN         NaN      NaN       NaN         NaN  NaN      NaN  NaN  NaN   \n",
       "\n",
       "      smokes speaks status  \n",
       "60547    NaN    NaN    NaN  \n",
       "60548    NaN    NaN    NaN  \n",
       "60549    NaN    NaN    NaN  \n",
       "60550    NaN    NaN    NaN  \n",
       "60551    NaN    NaN    NaN  "
      ]
     },
     "execution_count": 4,
     "metadata": {},
     "output_type": "execute_result"
    }
   ],
   "source": [
    "df.tail()"
   ]
  },
  {
   "cell_type": "code",
   "execution_count": 5,
   "id": "90684fb1",
   "metadata": {},
   "outputs": [],
   "source": [
    "df=df.dropna(axis = 0, how = 'all')"
   ]
  },
  {
   "cell_type": "code",
   "execution_count": 6,
   "id": "7568603d",
   "metadata": {},
   "outputs": [
    {
     "data": {
      "text/html": [
       "<div>\n",
       "<style scoped>\n",
       "    .dataframe tbody tr th:only-of-type {\n",
       "        vertical-align: middle;\n",
       "    }\n",
       "\n",
       "    .dataframe tbody tr th {\n",
       "        vertical-align: top;\n",
       "    }\n",
       "\n",
       "    .dataframe thead th {\n",
       "        text-align: right;\n",
       "    }\n",
       "</style>\n",
       "<table border=\"1\" class=\"dataframe\">\n",
       "  <thead>\n",
       "    <tr style=\"text-align: right;\">\n",
       "      <th></th>\n",
       "      <th>age</th>\n",
       "      <th>body_type</th>\n",
       "      <th>diet</th>\n",
       "      <th>drinks</th>\n",
       "      <th>drugs</th>\n",
       "      <th>education</th>\n",
       "      <th>essay0</th>\n",
       "      <th>essay1</th>\n",
       "      <th>essay2</th>\n",
       "      <th>essay3</th>\n",
       "      <th>essay4</th>\n",
       "      <th>essay5</th>\n",
       "      <th>essay6</th>\n",
       "      <th>essay7</th>\n",
       "      <th>essay8</th>\n",
       "      <th>essay9</th>\n",
       "      <th>ethnicity</th>\n",
       "      <th>height</th>\n",
       "      <th>income</th>\n",
       "      <th>job</th>\n",
       "      <th>last_online</th>\n",
       "      <th>location</th>\n",
       "      <th>offspring</th>\n",
       "      <th>orientation</th>\n",
       "      <th>pets</th>\n",
       "      <th>religion</th>\n",
       "      <th>sex</th>\n",
       "      <th>sign</th>\n",
       "      <th>smokes</th>\n",
       "      <th>speaks</th>\n",
       "      <th>status</th>\n",
       "    </tr>\n",
       "  </thead>\n",
       "  <tbody>\n",
       "    <tr>\n",
       "      <th>9509</th>\n",
       "      <td>28.0</td>\n",
       "      <td>athletic</td>\n",
       "      <td>strictly anything</td>\n",
       "      <td>socially</td>\n",
       "      <td>never</td>\n",
       "      <td>working on med school</td>\n",
       "      <td>just a normal guy looking for someone around m...</td>\n",
       "      <td>working hard and studying. things are always f...</td>\n",
       "      <td>i'm excellent with oncology, numbers and algor...</td>\n",
       "      <td>my eyes change color.&lt;br /&gt;\\n&lt;br /&gt;\\ni smirk a...</td>\n",
       "      <td>foo fighters, oasis, bloc party, doves, incubu...</td>\n",
       "      <td>my family and i all live here and i can't thin...</td>\n",
       "      <td>somewhere fun to go or something good to eat.</td>\n",
       "      <td>studying, followed by shenanigans.</td>\n",
       "      <td>i've actually had some success on here, met so...</td>\n",
       "      <td>you've got something to say. or if there's som...</td>\n",
       "      <td>white</td>\n",
       "      <td>73.0</td>\n",
       "      <td>60000.0</td>\n",
       "      <td>medicine / health</td>\n",
       "      <td>2012-06-30-02-49</td>\n",
       "      <td>san francisco, california</td>\n",
       "      <td>doesn&amp;rsquo;t have kids, but wants them</td>\n",
       "      <td>straight</td>\n",
       "      <td>likes dogs and likes cats</td>\n",
       "      <td>christianity</td>\n",
       "      <td>m</td>\n",
       "      <td>aries and it&amp;rsquo;s fun to think about</td>\n",
       "      <td>no</td>\n",
       "      <td>english, spanish (okay)</td>\n",
       "      <td>single</td>\n",
       "    </tr>\n",
       "    <tr>\n",
       "      <th>9510</th>\n",
       "      <td>31.0</td>\n",
       "      <td>athletic</td>\n",
       "      <td>mostly anything</td>\n",
       "      <td>socially</td>\n",
       "      <td>sometimes</td>\n",
       "      <td>NaN</td>\n",
       "      <td>i work in the beauty salon as a hairstylist fo...</td>\n",
       "      <td>making your hair look beautiful.</td>\n",
       "      <td>i'm a hairstylist and love making hair look be...</td>\n",
       "      <td>i am different.</td>\n",
       "      <td>NaN</td>\n",
       "      <td>money&lt;br /&gt;\\ncell phone&lt;br /&gt;\\ncomputer&lt;br /&gt;\\...</td>\n",
       "      <td>how to be rich.</td>\n",
       "      <td>working and making your hair look beautiful an...</td>\n",
       "      <td>NaN</td>\n",
       "      <td>you like my profile and hair.</td>\n",
       "      <td>white</td>\n",
       "      <td>72.0</td>\n",
       "      <td>-1.0</td>\n",
       "      <td>hospitality / travel</td>\n",
       "      <td>2012-04-05-21-46</td>\n",
       "      <td>san francisco, california</td>\n",
       "      <td>NaN</td>\n",
       "      <td>gay</td>\n",
       "      <td>NaN</td>\n",
       "      <td>atheism</td>\n",
       "      <td>m</td>\n",
       "      <td>scorpio but it doesn&amp;rsquo;t matter</td>\n",
       "      <td>sometimes</td>\n",
       "      <td>english</td>\n",
       "      <td>single</td>\n",
       "    </tr>\n",
       "    <tr>\n",
       "      <th>9511</th>\n",
       "      <td>34.0</td>\n",
       "      <td>average</td>\n",
       "      <td>NaN</td>\n",
       "      <td>socially</td>\n",
       "      <td>NaN</td>\n",
       "      <td>dropped out of college/university</td>\n",
       "      <td>33 year old, hiv +,versatile gwm, bearish type...</td>\n",
       "      <td>i've just recently moved to beautiful san fran...</td>\n",
       "      <td>buying \"crap\" at random places and then sellin...</td>\n",
       "      <td>i usually go unnoticed.......</td>\n",
       "      <td>my favorite books - i don't read as much as i ...</td>\n",
       "      <td>-my record player&lt;br /&gt;\\n-my internet connecti...</td>\n",
       "      <td>nothing and everything all at once</td>\n",
       "      <td>probably working. then having drinks in the ca...</td>\n",
       "      <td>i smoke marijuana, but nothing harder.</td>\n",
       "      <td>you're interested, duh!?!?</td>\n",
       "      <td>white</td>\n",
       "      <td>71.0</td>\n",
       "      <td>-1.0</td>\n",
       "      <td>hospitality / travel</td>\n",
       "      <td>2012-04-28-12-42</td>\n",
       "      <td>san francisco, california</td>\n",
       "      <td>doesn&amp;rsquo;t want kids</td>\n",
       "      <td>gay</td>\n",
       "      <td>likes dogs and has cats</td>\n",
       "      <td>atheism and laughing about it</td>\n",
       "      <td>m</td>\n",
       "      <td>leo and it&amp;rsquo;s fun to think about</td>\n",
       "      <td>when drinking</td>\n",
       "      <td>english (fluently)</td>\n",
       "      <td>single</td>\n",
       "    </tr>\n",
       "    <tr>\n",
       "      <th>9512</th>\n",
       "      <td>29.0</td>\n",
       "      <td>athletic</td>\n",
       "      <td>anything</td>\n",
       "      <td>rarely</td>\n",
       "      <td>never</td>\n",
       "      <td>two-year college</td>\n",
       "      <td>NaN</td>\n",
       "      <td>NaN</td>\n",
       "      <td>NaN</td>\n",
       "      <td>NaN</td>\n",
       "      <td>NaN</td>\n",
       "      <td>NaN</td>\n",
       "      <td>NaN</td>\n",
       "      <td>NaN</td>\n",
       "      <td>NaN</td>\n",
       "      <td>NaN</td>\n",
       "      <td>white</td>\n",
       "      <td>70.0</td>\n",
       "      <td>-1.0</td>\n",
       "      <td>NaN</td>\n",
       "      <td>2012-03-01-15-17</td>\n",
       "      <td>san francisco, california</td>\n",
       "      <td>doesn&amp;rsquo;t have kids, and doesn&amp;rsquo;t wan...</td>\n",
       "      <td>gay</td>\n",
       "      <td>likes dogs and has cats</td>\n",
       "      <td>NaN</td>\n",
       "      <td>m</td>\n",
       "      <td>aries</td>\n",
       "      <td>no</td>\n",
       "      <td>english (fluently), french (okay), swedish (po...</td>\n",
       "      <td>single</td>\n",
       "    </tr>\n",
       "    <tr>\n",
       "      <th>9513</th>\n",
       "      <td>49.0</td>\n",
       "      <td>overweight</td>\n",
       "      <td>NaN</td>\n",
       "      <td>rarely</td>\n",
       "      <td>never</td>\n",
       "      <td>graduated from college/university</td>\n",
       "      <td>NaN</td>\n",
       "      <td>NaN</td>\n",
       "      <td>NaN</td>\n",
       "      <td>NaN</td>\n",
       "      <td>books: biographies, history, harry potter, mys...</td>\n",
       "      <td>the internet, art supplies, family, garden, my...</td>\n",
       "      <td>NaN</td>\n",
       "      <td>NaN</td>\n",
       "      <td>NaN</td>\n",
       "      <td>NaN</td>\n",
       "      <td>white</td>\n",
       "      <td>64.0</td>\n",
       "      <td>-1.0</td>\n",
       "      <td>rather not say</td>\n",
       "      <td>2012-06-14-15-14</td>\n",
       "      <td>castro valley, california</td>\n",
       "      <td>NaN</td>\n",
       "      <td>straight</td>\n",
       "      <td>likes dogs and likes cats</td>\n",
       "      <td>NaN</td>\n",
       "      <td>f</td>\n",
       "      <td>pisces and it&amp;rsquo;s fun to think about</td>\n",
       "      <td>no</td>\n",
       "      <td>english</td>\n",
       "      <td>single</td>\n",
       "    </tr>\n",
       "  </tbody>\n",
       "</table>\n",
       "</div>"
      ],
      "text/plain": [
       "       age   body_type               diet    drinks      drugs  \\\n",
       "9509  28.0    athletic  strictly anything  socially      never   \n",
       "9510  31.0    athletic    mostly anything  socially  sometimes   \n",
       "9511  34.0     average                NaN  socially        NaN   \n",
       "9512  29.0    athletic           anything    rarely      never   \n",
       "9513  49.0  overweight                NaN    rarely      never   \n",
       "\n",
       "                              education  \\\n",
       "9509              working on med school   \n",
       "9510                                NaN   \n",
       "9511  dropped out of college/university   \n",
       "9512                   two-year college   \n",
       "9513  graduated from college/university   \n",
       "\n",
       "                                                 essay0  \\\n",
       "9509  just a normal guy looking for someone around m...   \n",
       "9510  i work in the beauty salon as a hairstylist fo...   \n",
       "9511  33 year old, hiv +,versatile gwm, bearish type...   \n",
       "9512                                                NaN   \n",
       "9513                                                NaN   \n",
       "\n",
       "                                                 essay1  \\\n",
       "9509  working hard and studying. things are always f...   \n",
       "9510                   making your hair look beautiful.   \n",
       "9511  i've just recently moved to beautiful san fran...   \n",
       "9512                                                NaN   \n",
       "9513                                                NaN   \n",
       "\n",
       "                                                 essay2  \\\n",
       "9509  i'm excellent with oncology, numbers and algor...   \n",
       "9510  i'm a hairstylist and love making hair look be...   \n",
       "9511  buying \"crap\" at random places and then sellin...   \n",
       "9512                                                NaN   \n",
       "9513                                                NaN   \n",
       "\n",
       "                                                 essay3  \\\n",
       "9509  my eyes change color.<br />\\n<br />\\ni smirk a...   \n",
       "9510                                    i am different.   \n",
       "9511                      i usually go unnoticed.......   \n",
       "9512                                                NaN   \n",
       "9513                                                NaN   \n",
       "\n",
       "                                                 essay4  \\\n",
       "9509  foo fighters, oasis, bloc party, doves, incubu...   \n",
       "9510                                                NaN   \n",
       "9511  my favorite books - i don't read as much as i ...   \n",
       "9512                                                NaN   \n",
       "9513  books: biographies, history, harry potter, mys...   \n",
       "\n",
       "                                                 essay5  \\\n",
       "9509  my family and i all live here and i can't thin...   \n",
       "9510  money<br />\\ncell phone<br />\\ncomputer<br />\\...   \n",
       "9511  -my record player<br />\\n-my internet connecti...   \n",
       "9512                                                NaN   \n",
       "9513  the internet, art supplies, family, garden, my...   \n",
       "\n",
       "                                             essay6  \\\n",
       "9509  somewhere fun to go or something good to eat.   \n",
       "9510                                how to be rich.   \n",
       "9511             nothing and everything all at once   \n",
       "9512                                            NaN   \n",
       "9513                                            NaN   \n",
       "\n",
       "                                                 essay7  \\\n",
       "9509                 studying, followed by shenanigans.   \n",
       "9510  working and making your hair look beautiful an...   \n",
       "9511  probably working. then having drinks in the ca...   \n",
       "9512                                                NaN   \n",
       "9513                                                NaN   \n",
       "\n",
       "                                                 essay8  \\\n",
       "9509  i've actually had some success on here, met so...   \n",
       "9510                                                NaN   \n",
       "9511             i smoke marijuana, but nothing harder.   \n",
       "9512                                                NaN   \n",
       "9513                                                NaN   \n",
       "\n",
       "                                                 essay9 ethnicity  height  \\\n",
       "9509  you've got something to say. or if there's som...     white    73.0   \n",
       "9510                      you like my profile and hair.     white    72.0   \n",
       "9511                         you're interested, duh!?!?     white    71.0   \n",
       "9512                                                NaN     white    70.0   \n",
       "9513                                                NaN     white    64.0   \n",
       "\n",
       "       income                   job       last_online  \\\n",
       "9509  60000.0     medicine / health  2012-06-30-02-49   \n",
       "9510     -1.0  hospitality / travel  2012-04-05-21-46   \n",
       "9511     -1.0  hospitality / travel  2012-04-28-12-42   \n",
       "9512     -1.0                   NaN  2012-03-01-15-17   \n",
       "9513     -1.0        rather not say  2012-06-14-15-14   \n",
       "\n",
       "                       location  \\\n",
       "9509  san francisco, california   \n",
       "9510  san francisco, california   \n",
       "9511  san francisco, california   \n",
       "9512  san francisco, california   \n",
       "9513  castro valley, california   \n",
       "\n",
       "                                              offspring orientation  \\\n",
       "9509            doesn&rsquo;t have kids, but wants them    straight   \n",
       "9510                                                NaN         gay   \n",
       "9511                            doesn&rsquo;t want kids         gay   \n",
       "9512  doesn&rsquo;t have kids, and doesn&rsquo;t wan...         gay   \n",
       "9513                                                NaN    straight   \n",
       "\n",
       "                           pets                       religion sex  \\\n",
       "9509  likes dogs and likes cats                   christianity   m   \n",
       "9510                        NaN                        atheism   m   \n",
       "9511    likes dogs and has cats  atheism and laughing about it   m   \n",
       "9512    likes dogs and has cats                            NaN   m   \n",
       "9513  likes dogs and likes cats                            NaN   f   \n",
       "\n",
       "                                          sign         smokes  \\\n",
       "9509   aries and it&rsquo;s fun to think about             no   \n",
       "9510       scorpio but it doesn&rsquo;t matter      sometimes   \n",
       "9511     leo and it&rsquo;s fun to think about  when drinking   \n",
       "9512                                     aries             no   \n",
       "9513  pisces and it&rsquo;s fun to think about             no   \n",
       "\n",
       "                                                 speaks  status  \n",
       "9509                            english, spanish (okay)  single  \n",
       "9510                                            english  single  \n",
       "9511                                 english (fluently)  single  \n",
       "9512  english (fluently), french (okay), swedish (po...  single  \n",
       "9513                                            english  single  "
      ]
     },
     "execution_count": 6,
     "metadata": {},
     "output_type": "execute_result"
    }
   ],
   "source": [
    "df.tail()"
   ]
  },
  {
   "cell_type": "code",
   "execution_count": 7,
   "id": "cdbe142c",
   "metadata": {},
   "outputs": [
    {
     "name": "stdout",
     "output_type": "stream",
     "text": [
      "<class 'pandas.core.frame.DataFrame'>\n",
      "Int64Index: 9514 entries, 0 to 9513\n",
      "Data columns (total 31 columns):\n",
      " #   Column       Non-Null Count  Dtype  \n",
      "---  ------       --------------  -----  \n",
      " 0   age          9514 non-null   float64\n",
      " 1   body_type    8666 non-null   object \n",
      " 2   diet         5761 non-null   object \n",
      " 3   drinks       9012 non-null   object \n",
      " 4   drugs        7215 non-null   object \n",
      " 5   education    8459 non-null   object \n",
      " 6   essay0       8667 non-null   object \n",
      " 7   essay1       8347 non-null   object \n",
      " 8   essay2       8049 non-null   object \n",
      " 9   essay3       7690 non-null   object \n",
      " 10  essay4       7879 non-null   object \n",
      " 11  essay5       7814 non-null   object \n",
      " 12  essay6       7352 non-null   object \n",
      " 13  essay7       7553 non-null   object \n",
      " 14  essay8       6361 non-null   object \n",
      " 15  essay9       7554 non-null   object \n",
      " 16  ethnicity    8565 non-null   object \n",
      " 17  height       9514 non-null   float64\n",
      " 18  income       9514 non-null   float64\n",
      " 19  job          8183 non-null   object \n",
      " 20  last_online  9514 non-null   object \n",
      " 21  location     9514 non-null   object \n",
      " 22  offspring    3886 non-null   object \n",
      " 23  orientation  9514 non-null   object \n",
      " 24  pets         6352 non-null   object \n",
      " 25  religion     6261 non-null   object \n",
      " 26  sex          9514 non-null   object \n",
      " 27  sign         7776 non-null   object \n",
      " 28  smokes       8596 non-null   object \n",
      " 29  speaks       9508 non-null   object \n",
      " 30  status       9514 non-null   object \n",
      "dtypes: float64(3), object(28)\n",
      "memory usage: 2.3+ MB\n"
     ]
    }
   ],
   "source": [
    "df.info()"
   ]
  },
  {
   "cell_type": "code",
   "execution_count": 8,
   "id": "db1db0b8",
   "metadata": {},
   "outputs": [
    {
     "data": {
      "text/plain": [
       "age               0\n",
       "body_type       848\n",
       "diet           3753\n",
       "drinks          502\n",
       "drugs          2299\n",
       "education      1055\n",
       "essay0          847\n",
       "essay1         1167\n",
       "essay2         1465\n",
       "essay3         1824\n",
       "essay4         1635\n",
       "essay5         1700\n",
       "essay6         2162\n",
       "essay7         1961\n",
       "essay8         3153\n",
       "essay9         1960\n",
       "ethnicity       949\n",
       "height            0\n",
       "income            0\n",
       "job            1331\n",
       "last_online       0\n",
       "location          0\n",
       "offspring      5628\n",
       "orientation       0\n",
       "pets           3162\n",
       "religion       3253\n",
       "sex               0\n",
       "sign           1738\n",
       "smokes          918\n",
       "speaks            6\n",
       "status            0\n",
       "dtype: int64"
      ]
     },
     "execution_count": 8,
     "metadata": {},
     "output_type": "execute_result"
    }
   ],
   "source": [
    "df.isnull().sum()"
   ]
  },
  {
   "cell_type": "code",
   "execution_count": 9,
   "id": "575b8f65",
   "metadata": {},
   "outputs": [],
   "source": [
    "df=df.drop(columns=['essay0','essay1','essay2','essay3','essay4','essay5','essay6','essay7','essay8','essay9'],axis=1)"
   ]
  },
  {
   "cell_type": "code",
   "execution_count": 10,
   "id": "321adb17",
   "metadata": {},
   "outputs": [
    {
     "data": {
      "text/plain": [
       "Index(['age', 'body_type', 'diet', 'drinks', 'drugs', 'education', 'ethnicity',\n",
       "       'height', 'income', 'job', 'last_online', 'location', 'offspring',\n",
       "       'orientation', 'pets', 'religion', 'sex', 'sign', 'smokes', 'speaks',\n",
       "       'status'],\n",
       "      dtype='object')"
      ]
     },
     "execution_count": 10,
     "metadata": {},
     "output_type": "execute_result"
    }
   ],
   "source": [
    "df.columns"
   ]
  },
  {
   "cell_type": "code",
   "execution_count": 11,
   "id": "3c4f9895",
   "metadata": {},
   "outputs": [
    {
     "data": {
      "text/plain": [
       "Text(0, 0.5, 'Number of Profiles')"
      ]
     },
     "execution_count": 11,
     "metadata": {},
     "output_type": "execute_result"
    },
    {
     "data": {
      "image/png": "[encoded data removed]",
      "text/plain": [
       "<Figure size 864x576 with 1 Axes>"
      ]
     },
     "metadata": {
      "needs_background": "light"
     },
     "output_type": "display_data"
    }
   ],
   "source": [
    "# Age\n",
    "fig, ax = plt.subplots(1, figsize=(12,8))\n",
    "plt.title('Age Distribution', fontsize = 22)\n",
    "plt.hist(df.age, range=(df.age.min(), df.age.max()))\n",
    "plt.xlabel(\"Age\", fontsize = 15)\n",
    "plt.ylabel(\"Number of Profiles\", fontsize = 15)"
   ]
  },
  {
   "cell_type": "raw",
   "id": "5849d93e",
   "metadata": {},
   "source": [
    "\"Millennial\" :0, \"Gen X-er\" :1, \"Boomers\" :2."
   ]
  },
  {
   "cell_type": "code",
   "execution_count": 12,
   "id": "61fccb46",
   "metadata": {},
   "outputs": [],
   "source": [
    "generation = []\n",
    "for i in range(len(df)):\n",
    "    if 18 <= df[\"age\"].iloc[i] <= 32:\n",
    "        generation.append(0)\n",
    "    elif 32 < df[\"age\"].iloc[i] <= 47:\n",
    "        generation.append(1)\n",
    "    else:\n",
    "        generation.append(2)\n",
    "df[\"generation\"] = generation"
   ]
  },
  {
   "cell_type": "code",
   "execution_count": 13,
   "id": "9aed5835",
   "metadata": {},
   "outputs": [
    {
     "data": {
      "text/plain": [
       "Text(0, 0.5, 'Number of Profiles')"
      ]
     },
     "execution_count": 13,
     "metadata": {},
     "output_type": "execute_result"
    },
    {
     "data": {
      "image/png": "[encoded data removed]",
      "text/plain": [
       "<Figure size 864x576 with 1 Axes>"
      ]
     },
     "metadata": {
      "needs_background": "light"
     },
     "output_type": "display_data"
    }
   ],
   "source": [
    "fig, ax = plt.subplots(1, figsize=(12,8))\n",
    "plt.title('Generations', fontsize = 22)\n",
    "ax.bar(df['generation'].value_counts().index,df['generation'].value_counts().values)\n",
    "ax.set_xticks(range(0, 3))\n",
    "ax.set_xticklabels([\"Millennial\",\"Gen X-er\",\"Boomers\"], fontsize = 15);\n",
    "plt.ylabel(\"Number of Profiles\", fontsize = 15)"
   ]
  },
  {
   "cell_type": "code",
   "execution_count": 14,
   "id": "98760fee",
   "metadata": {},
   "outputs": [
    {
     "data": {
      "text/plain": [
       "array(['a little extra', 'average', 'thin', 'athletic', 'fit', nan,\n",
       "       'skinny', 'curvy', 'full figured', 'jacked', 'rather not say',\n",
       "       'used up', 'overweight'], dtype=object)"
      ]
     },
     "execution_count": 14,
     "metadata": {},
     "output_type": "execute_result"
    }
   ],
   "source": [
    "#'body_type':848\n",
    "df.body_type.unique()"
   ]
  },
  {
   "cell_type": "code",
   "execution_count": 15,
   "id": "a4153979",
   "metadata": {},
   "outputs": [
    {
     "data": {
      "text/plain": [
       "average           2274\n",
       "fit               2040\n",
       "athletic          1888\n",
       "thin               740\n",
       "curvy              626\n",
       "a little extra     430\n",
       "skinny             269\n",
       "full figured       181\n",
       "overweight          69\n",
       "jacked              64\n",
       "used up             47\n",
       "rather not say      38\n",
       "Name: body_type, dtype: int64"
      ]
     },
     "execution_count": 15,
     "metadata": {},
     "output_type": "execute_result"
    }
   ],
   "source": [
    "df.body_type.value_counts()"
   ]
  },
  {
   "cell_type": "code",
   "execution_count": 16,
   "id": "2989361a",
   "metadata": {},
   "outputs": [],
   "source": [
    "df['body_type']=df['body_type'].map({'fit':'fit',\n",
    "                                     'athletic':'fit',\n",
    "                                     'thin':'fit',\n",
    "                                     'skinny':'fit',\n",
    "                                    'average':'fit',\n",
    "                                    'curvy':'curvy', \n",
    "                                     'a little extra':'curvy',\n",
    "                                     'full figured':'curvy',\n",
    "                                    'overweight':'bad',\n",
    "                                     'jacked':'bad',\n",
    "                                     'used up':'bad',\n",
    "                                     'rather not say':'bad'})"
   ]
  },
  {
   "cell_type": "code",
   "execution_count": 17,
   "id": "7f7f15ea",
   "metadata": {},
   "outputs": [
    {
     "data": {
      "text/plain": [
       "age               0\n",
       "body_type       848\n",
       "diet           3753\n",
       "drinks          502\n",
       "drugs          2299\n",
       "education      1055\n",
       "ethnicity       949\n",
       "height            0\n",
       "income            0\n",
       "job            1331\n",
       "last_online       0\n",
       "location          0\n",
       "offspring      5628\n",
       "orientation       0\n",
       "pets           3162\n",
       "religion       3253\n",
       "sex               0\n",
       "sign           1738\n",
       "smokes          918\n",
       "speaks            6\n",
       "status            0\n",
       "generation        0\n",
       "dtype: int64"
      ]
     },
     "execution_count": 17,
     "metadata": {},
     "output_type": "execute_result"
    }
   ],
   "source": [
    "df.isnull().sum()"
   ]
  },
  {
   "cell_type": "code",
   "execution_count": 18,
   "id": "d8d92dbe",
   "metadata": {},
   "outputs": [],
   "source": [
    "df['body_type'] = df['body_type'].fillna(df['body_type'].mode()[0])"
   ]
  },
  {
   "cell_type": "code",
   "execution_count": 19,
   "id": "1bc56ea4",
   "metadata": {},
   "outputs": [
    {
     "data": {
      "text/plain": [
       "<AxesSubplot:>"
      ]
     },
     "execution_count": 19,
     "metadata": {},
     "output_type": "execute_result"
    },
    {
     "data": {
      "image/png": "[encoded data removed]",
      "text/plain": [
       "<Figure size 432x288 with 1 Axes>"
      ]
     },
     "metadata": {
      "needs_background": "light"
     },
     "output_type": "display_data"
    }
   ],
   "source": [
    "df.body_type.value_counts().plot.bar()"
   ]
  },
  {
   "cell_type": "code",
   "execution_count": 20,
   "id": "db8d34fc",
   "metadata": {},
   "outputs": [
    {
     "data": {
      "text/plain": [
       "mostly anything        2621\n",
       "anything               1067\n",
       "strictly anything       835\n",
       "mostly vegetarian       568\n",
       "mostly other            154\n",
       "strictly vegetarian     135\n",
       "vegetarian              111\n",
       "strictly other           64\n",
       "mostly vegan             52\n",
       "other                    52\n",
       "strictly vegan           40\n",
       "vegan                    28\n",
       "mostly halal             13\n",
       "mostly kosher            12\n",
       "strictly halal            4\n",
       "strictly kosher           2\n",
       "kosher                    2\n",
       "halal                     1\n",
       "Name: diet, dtype: int64"
      ]
     },
     "execution_count": 20,
     "metadata": {},
     "output_type": "execute_result"
    }
   ],
   "source": [
    "#diet:3753\n",
    "df.diet.value_counts()"
   ]
  },
  {
   "cell_type": "code",
   "execution_count": 21,
   "id": "67278ce0",
   "metadata": {},
   "outputs": [
    {
     "data": {
      "text/plain": [
       "array(['strictly anything', 'mostly other', 'anything', 'vegetarian', nan,\n",
       "       'mostly anything', 'mostly vegetarian', 'strictly vegan',\n",
       "       'strictly vegetarian', 'mostly vegan', 'strictly other',\n",
       "       'mostly halal', 'other', 'vegan', 'mostly kosher',\n",
       "       'strictly halal', 'halal', 'strictly kosher', 'kosher'],\n",
       "      dtype=object)"
      ]
     },
     "execution_count": 21,
     "metadata": {},
     "output_type": "execute_result"
    }
   ],
   "source": [
    "df.diet.unique()"
   ]
  },
  {
   "cell_type": "code",
   "execution_count": 22,
   "id": "2a23581c",
   "metadata": {},
   "outputs": [],
   "source": [
    "df['diet'].replace({'strictly ':'','mostly ':''},regex=True,inplace=True)"
   ]
  },
  {
   "cell_type": "code",
   "execution_count": 23,
   "id": "f4f7603d",
   "metadata": {},
   "outputs": [
    {
     "data": {
      "text/plain": [
       "anything      4523\n",
       "vegetarian     814\n",
       "other          270\n",
       "vegan          120\n",
       "halal           18\n",
       "kosher          16\n",
       "Name: diet, dtype: int64"
      ]
     },
     "execution_count": 23,
     "metadata": {},
     "output_type": "execute_result"
    }
   ],
   "source": [
    "df.diet.value_counts()"
   ]
  },
  {
   "cell_type": "code",
   "execution_count": 24,
   "id": "da72e2f1",
   "metadata": {},
   "outputs": [],
   "source": [
    "df['diet'] = df['diet'].fillna(df['diet'].mode()[0])"
   ]
  },
  {
   "cell_type": "code",
   "execution_count": 25,
   "id": "41e99dba",
   "metadata": {},
   "outputs": [
    {
     "data": {
      "text/plain": [
       "anything      8276\n",
       "vegetarian     814\n",
       "other          270\n",
       "vegan          120\n",
       "halal           18\n",
       "kosher          16\n",
       "Name: diet, dtype: int64"
      ]
     },
     "execution_count": 25,
     "metadata": {},
     "output_type": "execute_result"
    }
   ],
   "source": [
    "df.diet.value_counts()"
   ]
  },
  {
   "cell_type": "code",
   "execution_count": 26,
   "id": "5205f29a",
   "metadata": {},
   "outputs": [
    {
     "data": {
      "text/plain": [
       "<AxesSubplot:>"
      ]
     },
     "execution_count": 26,
     "metadata": {},
     "output_type": "execute_result"
    },
    {
     "data": {
      "image/png": "[encoded data removed]",
      "text/plain": [
       "<Figure size 432x288 with 1 Axes>"
      ]
     },
     "metadata": {
      "needs_background": "light"
     },
     "output_type": "display_data"
    }
   ],
   "source": [
    "df.diet.value_counts().plot.bar()"
   ]
  },
  {
   "cell_type": "code",
   "execution_count": 27,
   "id": "2bc0ae7d",
   "metadata": {},
   "outputs": [
    {
     "data": {
      "text/plain": [
       "socially       6679\n",
       "rarely          911\n",
       "often           809\n",
       "not at all      509\n",
       "very often       54\n",
       "desperately      50\n",
       "Name: drinks, dtype: int64"
      ]
     },
     "execution_count": 27,
     "metadata": {},
     "output_type": "execute_result"
    }
   ],
   "source": [
    "#drinks:502\n",
    "df.drinks.value_counts()"
   ]
  },
  {
   "cell_type": "code",
   "execution_count": 28,
   "id": "bdd96574",
   "metadata": {},
   "outputs": [],
   "source": [
    "df['drinks'] = df['drinks'].fillna(df['drinks'].mode()[0])"
   ]
  },
  {
   "cell_type": "code",
   "execution_count": 33,
   "id": "5cd77a12",
   "metadata": {},
   "outputs": [
    {
     "data": {
      "text/plain": [
       "<AxesSubplot:>"
      ]
     },
     "execution_count": 33,
     "metadata": {},
     "output_type": "execute_result"
    },
    {
     "data": {
      "image/png": "[encoded data removed]",
      "text/plain": [
       "<Figure size 432x288 with 1 Axes>"
      ]
     },
     "metadata": {
      "needs_background": "light"
     },
     "output_type": "display_data"
    }
   ],
   "source": [
    "df.drinks.value_counts().plot.bar()"
   ]
  },
  {
   "cell_type": "code",
   "execution_count": 30,
   "id": "30a6aa69",
   "metadata": {},
   "outputs": [
    {
     "data": {
      "text/plain": [
       "never        5972\n",
       "sometimes    1181\n",
       "often          62\n",
       "Name: drugs, dtype: int64"
      ]
     },
     "execution_count": 30,
     "metadata": {},
     "output_type": "execute_result"
    }
   ],
   "source": [
    "#drugs:2299\n",
    "df.drugs.value_counts()"
   ]
  },
  {
   "cell_type": "code",
   "execution_count": 31,
   "id": "90f25d2d",
   "metadata": {},
   "outputs": [],
   "source": [
    "df['drugs'] = df['drugs'].fillna(df['drugs'].mode()[0])"
   ]
  },
  {
   "cell_type": "code",
   "execution_count": 34,
   "id": "898db776",
   "metadata": {},
   "outputs": [
    {
     "data": {
      "text/plain": [
       "<AxesSubplot:>"
      ]
     },
     "execution_count": 34,
     "metadata": {},
     "output_type": "execute_result"
    },
    {
     "data": {
      "image/png": "[encoded data removed]",
      "text/plain": [
       "<Figure size 432x288 with 1 Axes>"
      ]
     },
     "metadata": {
      "needs_background": "light"
     },
     "output_type": "display_data"
    }
   ],
   "source": [
    "df.drugs.value_counts().plot.bar()"
   ]
  },
  {
   "cell_type": "code",
   "execution_count": 35,
   "id": "004d77ec",
   "metadata": {},
   "outputs": [
    {
     "data": {
      "text/plain": [
       "graduated from college/university    3770\n",
       "graduated from masters program       1402\n",
       "working on college/university         969\n",
       "working on masters program            251\n",
       "graduated from two-year college       245\n",
       "graduated from high school            205\n",
       "graduated from ph.d program           203\n",
       "graduated from law school             177\n",
       "working on two-year college           159\n",
       "working on ph.d program               159\n",
       "dropped out of college/university     149\n",
       "college/university                    134\n",
       "graduated from space camp             104\n",
       "dropped out of space camp              87\n",
       "working on space camp                  73\n",
       "graduated from med school              73\n",
       "working on law school                  55\n",
       "two-year college                       43\n",
       "working on med school                  41\n",
       "dropped out of two-year college        34\n",
       "masters program                        21\n",
       "working on high school                 20\n",
       "dropped out of ph.d program            19\n",
       "dropped out of masters program         16\n",
       "dropped out of high school             13\n",
       "high school                            13\n",
       "space camp                             10\n",
       "ph.d program                            5\n",
       "law school                              4\n",
       "dropped out of law school               3\n",
       "dropped out of med school               2\n",
       "Name: education, dtype: int64"
      ]
     },
     "execution_count": 35,
     "metadata": {},
     "output_type": "execute_result"
    }
   ],
   "source": [
    "#education:1055\n",
    "df.education.value_counts()"
   ]
  },
  {
   "cell_type": "code",
   "execution_count": 36,
   "id": "97ad556a",
   "metadata": {},
   "outputs": [],
   "source": [
    "df['education'].replace({'working':'student','graduated from':'graduated','dropped out':'dropped'},inplace=True)\n",
    "df['education']=df['education'].str.split().str[0]\n",
    "df['education'].replace({'college/university':'graduated','two-year':'graduated','space':'graduated','masters':'graduated','high':'graduated','ph.d':'graduated','law':'graduated'},inplace=True)"
   ]
  },
  {
   "cell_type": "code",
   "execution_count": 37,
   "id": "f8e5e184",
   "metadata": {},
   "outputs": [],
   "source": [
    "df['education'] = df['education'].fillna(df['education'].mode()[0])"
   ]
  },
  {
   "cell_type": "code",
   "execution_count": 38,
   "id": "c86a890c",
   "metadata": {},
   "outputs": [
    {
     "data": {
      "text/plain": [
       "graduated    7464\n",
       "working      1727\n",
       "dropped       323\n",
       "Name: education, dtype: int64"
      ]
     },
     "execution_count": 38,
     "metadata": {},
     "output_type": "execute_result"
    }
   ],
   "source": [
    "df.education.value_counts()"
   ]
  },
  {
   "cell_type": "code",
   "execution_count": 39,
   "id": "ec257c17",
   "metadata": {},
   "outputs": [
    {
     "data": {
      "text/plain": [
       "<AxesSubplot:>"
      ]
     },
     "execution_count": 39,
     "metadata": {},
     "output_type": "execute_result"
    },
    {
     "data": {
      "image/png": "[encoded data removed]",
      "text/plain": [
       "<Figure size 432x288 with 1 Axes>"
      ]
     },
     "metadata": {
      "needs_background": "light"
     },
     "output_type": "display_data"
    }
   ],
   "source": [
    "df.education.value_counts().plot.bar()"
   ]
  },
  {
   "cell_type": "code",
   "execution_count": 45,
   "id": "72a93dc3",
   "metadata": {},
   "outputs": [
    {
     "data": {
      "text/plain": [
       "<AxesSubplot:>"
      ]
     },
     "execution_count": 45,
     "metadata": {},
     "output_type": "execute_result"
    },
    {
     "data": {
      "image/png": "[encoded data removed]",
      "text/plain": [
       "<Figure size 432x288 with 1 Axes>"
      ]
     },
     "metadata": {
      "needs_background": "light"
     },
     "output_type": "display_data"
    }
   ],
   "source": [
    "#height            0\n",
    "df.height.value_counts().plot.bar()"
   ]
  },
  {
   "cell_type": "code",
   "execution_count": 46,
   "id": "3a989b51",
   "metadata": {},
   "outputs": [
    {
     "data": {
      "text/plain": [
       "<AxesSubplot:>"
      ]
     },
     "execution_count": 46,
     "metadata": {},
     "output_type": "execute_result"
    },
    {
     "data": {
      "image/png": "[encoded data removed]",
      "text/plain": [
       "<Figure size 432x288 with 1 Axes>"
      ]
     },
     "metadata": {
      "needs_background": "light"
     },
     "output_type": "display_data"
    }
   ],
   "source": [
    "#income:0\n",
    "df.income.value_counts().plot.bar()"
   ]
  },
  {
   "cell_type": "code",
   "execution_count": 40,
   "id": "856ec42f",
   "metadata": {},
   "outputs": [
    {
     "data": {
      "text/plain": [
       "white                                                                5278\n",
       "asian                                                                 863\n",
       "hispanic / latin                                                      426\n",
       "black                                                                 326\n",
       "other                                                                 319\n",
       "                                                                     ... \n",
       "native american, pacific islander, hispanic / latin, white, other       1\n",
       "indian, pacific islander                                                1\n",
       "asian, middle eastern, black                                            1\n",
       "asian, middle eastern, indian                                           1\n",
       "middle eastern, hispanic / latin, white, other                          1\n",
       "Name: ethnicity, Length: 112, dtype: int64"
      ]
     },
     "execution_count": 40,
     "metadata": {},
     "output_type": "execute_result"
    }
   ],
   "source": [
    "#ethnicity:949\n",
    "df.ethnicity.value_counts()"
   ]
  },
  {
   "cell_type": "code",
   "execution_count": 42,
   "id": "6d493c1e",
   "metadata": {},
   "outputs": [],
   "source": [
    "df.drop([\"ethnicity\"],axis=1,inplace=True)"
   ]
  },
  {
   "cell_type": "code",
   "execution_count": 43,
   "id": "214b68e0",
   "metadata": {},
   "outputs": [
    {
     "data": {
      "text/plain": [
       "other                                1153\n",
       "student                               807\n",
       "science / tech / engineering          780\n",
       "artistic / musical / writer           715\n",
       "computer / hardware / software        709\n",
       "sales / marketing / biz dev           709\n",
       "medicine / health                     613\n",
       "education / academia                  538\n",
       "executive / management                378\n",
       "entertainment / media                 356\n",
       "banking / financial / real estate     353\n",
       "hospitality / travel                  217\n",
       "law / legal services                  200\n",
       "construction / craftsmanship          178\n",
       "clerical / administrative             117\n",
       "political / government                105\n",
       "rather not say                         68\n",
       "transportation                         64\n",
       "unemployed                             56\n",
       "retired                                38\n",
       "military                               29\n",
       "Name: job, dtype: int64"
      ]
     },
     "execution_count": 43,
     "metadata": {},
     "output_type": "execute_result"
    }
   ],
   "source": [
    "#job:1331\n",
    "df.job.value_counts()"
   ]
  },
  {
   "cell_type": "code",
   "execution_count": 44,
   "id": "79e93228",
   "metadata": {},
   "outputs": [],
   "source": [
    "df.drop([\"job\"],axis=1,inplace=True)"
   ]
  },
  {
   "cell_type": "code",
   "execution_count": null,
   "id": "c0d42e98",
   "metadata": {},
   "outputs": [],
   "source": [
    "#last_online       0"
   ]
  },
  {
   "cell_type": "code",
   "execution_count": null,
   "id": "9e9efbe9",
   "metadata": {},
   "outputs": [],
   "source": [
    "#location          0"
   ]
  },
  {
   "cell_type": "code",
   "execution_count": 47,
   "id": "abe3858b",
   "metadata": {},
   "outputs": [
    {
     "data": {
      "text/plain": [
       "doesn&rsquo;t have kids                                1224\n",
       "doesn&rsquo;t have kids, but might want them            620\n",
       "doesn&rsquo;t have kids, but wants them                 578\n",
       "doesn&rsquo;t want kids                                 454\n",
       "has a kid                                               304\n",
       "has kids                                                291\n",
       "doesn&rsquo;t have kids, and doesn&rsquo;t want any     172\n",
       "has kids, but doesn&rsquo;t want more                    68\n",
       "has a kid, but doesn&rsquo;t want more                   41\n",
       "has a kid, and might want more                           36\n",
       "wants kids                                               29\n",
       "might want kids                                          28\n",
       "has kids, and might want more                            24\n",
       "has a kid, and wants more                                12\n",
       "has kids, and wants more                                  5\n",
       "Name: offspring, dtype: int64"
      ]
     },
     "execution_count": 47,
     "metadata": {},
     "output_type": "execute_result"
    }
   ],
   "source": [
    "#offspring      5628\n",
    "df.offspring.value_counts()"
   ]
  },
  {
   "cell_type": "code",
   "execution_count": 50,
   "id": "ef46501d",
   "metadata": {},
   "outputs": [],
   "source": [
    "df.drop([\"offspring\"],axis=1,inplace=True)"
   ]
  },
  {
   "cell_type": "code",
   "execution_count": 54,
   "id": "012d30cd",
   "metadata": {},
   "outputs": [
    {
     "data": {
      "text/plain": [
       "<AxesSubplot:>"
      ]
     },
     "execution_count": 54,
     "metadata": {},
     "output_type": "execute_result"
    },
    {
     "data": {
      "image/png": "[encoded data removed]",
      "text/plain": [
       "<Figure size 432x288 with 1 Axes>"
      ]
     },
     "metadata": {
      "needs_background": "light"
     },
     "output_type": "display_data"
    }
   ],
   "source": [
    "#orientation       0\n",
    "df.orientation.value_counts().plot.bar()"
   ]
  },
  {
   "cell_type": "code",
   "execution_count": 55,
   "id": "c83db9c1",
   "metadata": {},
   "outputs": [],
   "source": [
    "#pets           3162\n",
    "df.drop([\"pets\"],axis=1,inplace=True)"
   ]
  },
  {
   "cell_type": "code",
   "execution_count": 57,
   "id": "086d4664",
   "metadata": {},
   "outputs": [
    {
     "data": {
      "text/plain": [
       "agnosticism                                   448\n",
       "other                                         417\n",
       "agnosticism but not too serious about it      400\n",
       "agnosticism and laughing about it             386\n",
       "catholicism but not too serious about it      367\n",
       "atheism                                       363\n",
       "atheism and laughing about it                 329\n",
       "other and laughing about it                   325\n",
       "christianity but not too serious about it     320\n",
       "christianity                                  297\n",
       "other but not too serious about it            243\n",
       "judaism but not too serious about it          232\n",
       "atheism but not too serious about it          200\n",
       "catholicism                                   165\n",
       "atheism and somewhat serious about it         138\n",
       "christianity and somewhat serious about it    133\n",
       "other and somewhat serious about it           122\n",
       "catholicism and laughing about it             117\n",
       "judaism and laughing about it                 113\n",
       "agnosticism and somewhat serious about it     105\n",
       "atheism and very serious about it             101\n",
       "buddhism but not too serious about it          97\n",
       "christianity and very serious about it         96\n",
       "catholicism and somewhat serious about it      93\n",
       "judaism                                        93\n",
       "other and very serious about it                86\n",
       "buddhism                                       72\n",
       "christianity and laughing about it             59\n",
       "buddhism and laughing about it                 55\n",
       "buddhism and somewhat serious about it         52\n",
       "judaism and somewhat serious about it          49\n",
       "agnosticism and very serious about it          42\n",
       "hinduism but not too serious about it          40\n",
       "catholicism and very serious about it          20\n",
       "hinduism                                       17\n",
       "islam                                          12\n",
       "islam but not too serious about it             12\n",
       "buddhism and very serious about it             12\n",
       "hinduism and somewhat serious about it         11\n",
       "hinduism and laughing about it                  9\n",
       "hinduism and very serious about it              5\n",
       "islam and very serious about it                 3\n",
       "judaism and very serious about it               3\n",
       "islam and laughing about it                     1\n",
       "islam and somewhat serious about it             1\n",
       "Name: religion, dtype: int64"
      ]
     },
     "execution_count": 57,
     "metadata": {},
     "output_type": "execute_result"
    }
   ],
   "source": [
    "#religion       3253\n",
    "df.religion.value_counts()"
   ]
  },
  {
   "cell_type": "code",
   "execution_count": 60,
   "id": "52426e15",
   "metadata": {},
   "outputs": [
    {
     "data": {
      "text/plain": [
       "agnosticism     4634\n",
       "other           1193\n",
       "atheism         1131\n",
       "christianity     905\n",
       "catholicism      762\n",
       "judaism          490\n",
       "buddhism         288\n",
       "hinduism          82\n",
       "islam             29\n",
       "Name: religion, dtype: int64"
      ]
     },
     "execution_count": 60,
     "metadata": {},
     "output_type": "execute_result"
    }
   ],
   "source": [
    "df[\"religion\"]=df[\"religion\"].str.split().str[0]\n",
    "df['religion'] = df['religion'].fillna(df['religion'].mode()[0])\n",
    "df.religion.value_counts()"
   ]
  },
  {
   "cell_type": "code",
   "execution_count": 61,
   "id": "6bfd806c",
   "metadata": {},
   "outputs": [
    {
     "data": {
      "text/plain": [
       "<AxesSubplot:>"
      ]
     },
     "execution_count": 61,
     "metadata": {},
     "output_type": "execute_result"
    },
    {
     "data": {
      "image/png": "[encoded data removed]",
      "text/plain": [
       "<Figure size 432x288 with 1 Axes>"
      ]
     },
     "metadata": {
      "needs_background": "light"
     },
     "output_type": "display_data"
    }
   ],
   "source": [
    "df.religion.value_counts().plot.bar()"
   ]
  },
  {
   "cell_type": "code",
   "execution_count": 63,
   "id": "024003ec",
   "metadata": {},
   "outputs": [
    {
     "data": {
      "text/plain": [
       "<AxesSubplot:>"
      ]
     },
     "execution_count": 63,
     "metadata": {},
     "output_type": "execute_result"
    },
    {
     "data": {
      "image/png": "[encoded data removed]",
      "text/plain": [
       "<Figure size 432x288 with 1 Axes>"
      ]
     },
     "metadata": {
      "needs_background": "light"
     },
     "output_type": "display_data"
    }
   ],
   "source": [
    "#sex               0\n",
    "df.sex.value_counts().plot.bar()"
   ]
  },
  {
   "cell_type": "code",
   "execution_count": 64,
   "id": "026c52b5",
   "metadata": {},
   "outputs": [
    {
     "data": {
      "text/plain": [
       "leo and it&rsquo;s fun to think about            277\n",
       "taurus and it&rsquo;s fun to think about         275\n",
       "gemini and it&rsquo;s fun to think about         271\n",
       "cancer and it&rsquo;s fun to think about         260\n",
       "scorpio and it&rsquo;s fun to think about        258\n",
       "libra and it&rsquo;s fun to think about          257\n",
       "virgo and it&rsquo;s fun to think about          257\n",
       "pisces and it&rsquo;s fun to think about         253\n",
       "aries and it&rsquo;s fun to think about          252\n",
       "aries but it doesn&rsquo;t matter                250\n",
       "aquarius but it doesn&rsquo;t matter             250\n",
       "sagittarius and it&rsquo;s fun to think about    242\n",
       "leo but it doesn&rsquo;t matter                  239\n",
       "virgo but it doesn&rsquo;t matter                236\n",
       "aquarius and it&rsquo;s fun to think about       235\n",
       "gemini but it doesn&rsquo;t matter               235\n",
       "cancer but it doesn&rsquo;t matter               233\n",
       "taurus but it doesn&rsquo;t matter               222\n",
       "sagittarius but it doesn&rsquo;t matter          218\n",
       "libra but it doesn&rsquo;t matter                216\n",
       "capricorn and it&rsquo;s fun to think about      209\n",
       "scorpio but it doesn&rsquo;t matter              201\n",
       "pisces but it doesn&rsquo;t matter               192\n",
       "capricorn but it doesn&rsquo;t matter            187\n",
       "leo                                              181\n",
       "cancer                                           175\n",
       "aquarius                                         175\n",
       "aries                                            172\n",
       "pisces                                           169\n",
       "libra                                            167\n",
       "virgo                                            165\n",
       "taurus                                           163\n",
       "gemini                                           162\n",
       "scorpio                                          158\n",
       "sagittarius                                      136\n",
       "capricorn                                        122\n",
       "scorpio and it matters a lot                      15\n",
       "aquarius and it matters a lot                     14\n",
       "pisces and it matters a lot                       13\n",
       "leo and it matters a lot                          10\n",
       "capricorn and it matters a lot                    10\n",
       "cancer and it matters a lot                        9\n",
       "libra and it matters a lot                         8\n",
       "sagittarius and it matters a lot                   8\n",
       "gemini and it matters a lot                        8\n",
       "aries and it matters a lot                         6\n",
       "taurus and it matters a lot                        3\n",
       "virgo and it matters a lot                         2\n",
       "Name: sign, dtype: int64"
      ]
     },
     "execution_count": 64,
     "metadata": {},
     "output_type": "execute_result"
    }
   ],
   "source": [
    "#sign           1738\n",
    "df.sign.value_counts()"
   ]
  },
  {
   "cell_type": "code",
   "execution_count": 66,
   "id": "68d59feb",
   "metadata": {},
   "outputs": [
    {
     "data": {
      "text/plain": [
       "leo            2445\n",
       "aries           680\n",
       "cancer          677\n",
       "gemini          676\n",
       "aquarius        674\n",
       "taurus          663\n",
       "virgo           660\n",
       "libra           648\n",
       "scorpio         632\n",
       "pisces          627\n",
       "sagittarius     604\n",
       "capricorn       528\n",
       "Name: sign, dtype: int64"
      ]
     },
     "execution_count": 66,
     "metadata": {},
     "output_type": "execute_result"
    }
   ],
   "source": [
    "df[\"sign\"]=df[\"sign\"].str.split().str[0]\n",
    "df['sign'] = df['sign'].fillna(df['sign'].mode()[0])\n",
    "df.sign.value_counts()"
   ]
  },
  {
   "cell_type": "code",
   "execution_count": 67,
   "id": "09303539",
   "metadata": {},
   "outputs": [
    {
     "data": {
      "text/plain": [
       "<AxesSubplot:>"
      ]
     },
     "execution_count": 67,
     "metadata": {},
     "output_type": "execute_result"
    },
    {
     "data": {
      "image/png": "[encoded data removed]",
      "text/plain": [
       "<Figure size 432x288 with 1 Axes>"
      ]
     },
     "metadata": {
      "needs_background": "light"
     },
     "output_type": "display_data"
    }
   ],
   "source": [
    "df.sign.value_counts().plot.bar()"
   ]
  },
  {
   "cell_type": "code",
   "execution_count": 69,
   "id": "eea5936b",
   "metadata": {},
   "outputs": [
    {
     "data": {
      "text/plain": [
       "no                7011\n",
       "sometimes          565\n",
       "when drinking      480\n",
       "yes                307\n",
       "trying to quit     233\n",
       "Name: smokes, dtype: int64"
      ]
     },
     "execution_count": 69,
     "metadata": {},
     "output_type": "execute_result"
    }
   ],
   "source": [
    "#smokes          918\n",
    "df.smokes.value_counts()"
   ]
  },
  {
   "cell_type": "code",
   "execution_count": 70,
   "id": "96c98364",
   "metadata": {},
   "outputs": [],
   "source": [
    "df[\"smokes\"] = df[\"smokes\"].map({\"no\":0, \"trying to quit\":1, \"sometimes\":1, \"when drinking\":1, \"yes\":1})"
   ]
  },
  {
   "cell_type": "code",
   "execution_count": 72,
   "id": "9f7c549f",
   "metadata": {},
   "outputs": [],
   "source": [
    "df['smokes'] = df['smokes'].fillna(df['smokes'].mode()[0])"
   ]
  },
  {
   "cell_type": "code",
   "execution_count": 74,
   "id": "0debb9c2",
   "metadata": {},
   "outputs": [
    {
     "data": {
      "text/plain": [
       "<AxesSubplot:>"
      ]
     },
     "execution_count": 74,
     "metadata": {},
     "output_type": "execute_result"
    },
    {
     "data": {
      "image/png": "[encoded data removed]",
      "text/plain": [
       "<Figure size 432x288 with 1 Axes>"
      ]
     },
     "metadata": {
      "needs_background": "light"
     },
     "output_type": "display_data"
    }
   ],
   "source": [
    "df.smokes.value_counts().plot.bar()"
   ]
  },
  {
   "cell_type": "code",
   "execution_count": 75,
   "id": "981e17be",
   "metadata": {},
   "outputs": [
    {
     "data": {
      "text/plain": [
       "english                                                                                3415\n",
       "english (fluently)                                                                     1106\n",
       "english (fluently), spanish (okay)                                                      322\n",
       "english (fluently), spanish (poorly)                                                    321\n",
       "english (fluently), spanish (fluently)                                                  195\n",
       "                                                                                       ... \n",
       "english (fluently), hindi (fluently), spanish (okay)                                      1\n",
       "english (fluently), danish (fluently), spanish (okay), german (poorly)                    1\n",
       "english (fluently), spanish (fluently), portuguese                                        1\n",
       "english (fluently), arabic (fluently), spanish (okay), urdu (okay), gujarati (okay)       1\n",
       "english (fluently), french (okay), swedish (poorly)                                       1\n",
       "Name: speaks, Length: 1794, dtype: int64"
      ]
     },
     "execution_count": 75,
     "metadata": {},
     "output_type": "execute_result"
    }
   ],
   "source": [
    "#speaks            6\n",
    "df.speaks.value_counts()"
   ]
  },
  {
   "cell_type": "code",
   "execution_count": 76,
   "id": "ebd30df1",
   "metadata": {},
   "outputs": [],
   "source": [
    "df.drop([\"speaks\"],axis=1,inplace=True)"
   ]
  },
  {
   "cell_type": "code",
   "execution_count": 77,
   "id": "564fde3a",
   "metadata": {},
   "outputs": [
    {
     "data": {
      "text/plain": [
       "age            0\n",
       "body_type      0\n",
       "diet           0\n",
       "drinks         0\n",
       "drugs          0\n",
       "education      0\n",
       "height         0\n",
       "income         0\n",
       "last_online    0\n",
       "location       0\n",
       "orientation    0\n",
       "religion       0\n",
       "sex            0\n",
       "sign           0\n",
       "smokes         0\n",
       "status         0\n",
       "generation     0\n",
       "dtype: int64"
      ]
     },
     "execution_count": 77,
     "metadata": {},
     "output_type": "execute_result"
    }
   ],
   "source": [
    "df.isnull().sum()"
   ]
  },
  {
   "cell_type": "code",
   "execution_count": 78,
   "id": "0d1cc6bf",
   "metadata": {},
   "outputs": [
    {
     "data": {
      "text/html": [
       "<div>\n",
       "<style scoped>\n",
       "    .dataframe tbody tr th:only-of-type {\n",
       "        vertical-align: middle;\n",
       "    }\n",
       "\n",
       "    .dataframe tbody tr th {\n",
       "        vertical-align: top;\n",
       "    }\n",
       "\n",
       "    .dataframe thead th {\n",
       "        text-align: right;\n",
       "    }\n",
       "</style>\n",
       "<table border=\"1\" class=\"dataframe\">\n",
       "  <thead>\n",
       "    <tr style=\"text-align: right;\">\n",
       "      <th></th>\n",
       "      <th>age</th>\n",
       "      <th>body_type</th>\n",
       "      <th>diet</th>\n",
       "      <th>drinks</th>\n",
       "      <th>drugs</th>\n",
       "      <th>education</th>\n",
       "      <th>height</th>\n",
       "      <th>income</th>\n",
       "      <th>last_online</th>\n",
       "      <th>location</th>\n",
       "      <th>orientation</th>\n",
       "      <th>religion</th>\n",
       "      <th>sex</th>\n",
       "      <th>sign</th>\n",
       "      <th>smokes</th>\n",
       "      <th>status</th>\n",
       "      <th>generation</th>\n",
       "    </tr>\n",
       "  </thead>\n",
       "  <tbody>\n",
       "    <tr>\n",
       "      <th>0</th>\n",
       "      <td>22.0</td>\n",
       "      <td>curvy</td>\n",
       "      <td>anything</td>\n",
       "      <td>socially</td>\n",
       "      <td>never</td>\n",
       "      <td>working</td>\n",
       "      <td>75.0</td>\n",
       "      <td>-1.0</td>\n",
       "      <td>2012-06-28-20-30</td>\n",
       "      <td>south san francisco, california</td>\n",
       "      <td>straight</td>\n",
       "      <td>agnosticism</td>\n",
       "      <td>m</td>\n",
       "      <td>gemini</td>\n",
       "      <td>1.0</td>\n",
       "      <td>single</td>\n",
       "      <td>0</td>\n",
       "    </tr>\n",
       "    <tr>\n",
       "      <th>1</th>\n",
       "      <td>35.0</td>\n",
       "      <td>fit</td>\n",
       "      <td>other</td>\n",
       "      <td>often</td>\n",
       "      <td>sometimes</td>\n",
       "      <td>working</td>\n",
       "      <td>70.0</td>\n",
       "      <td>80000.0</td>\n",
       "      <td>2012-06-29-21-41</td>\n",
       "      <td>oakland, california</td>\n",
       "      <td>straight</td>\n",
       "      <td>agnosticism</td>\n",
       "      <td>m</td>\n",
       "      <td>cancer</td>\n",
       "      <td>0.0</td>\n",
       "      <td>single</td>\n",
       "      <td>1</td>\n",
       "    </tr>\n",
       "    <tr>\n",
       "      <th>2</th>\n",
       "      <td>38.0</td>\n",
       "      <td>fit</td>\n",
       "      <td>anything</td>\n",
       "      <td>socially</td>\n",
       "      <td>never</td>\n",
       "      <td>graduated</td>\n",
       "      <td>68.0</td>\n",
       "      <td>-1.0</td>\n",
       "      <td>2012-06-27-09-10</td>\n",
       "      <td>san francisco, california</td>\n",
       "      <td>straight</td>\n",
       "      <td>agnosticism</td>\n",
       "      <td>m</td>\n",
       "      <td>pisces</td>\n",
       "      <td>0.0</td>\n",
       "      <td>available</td>\n",
       "      <td>1</td>\n",
       "    </tr>\n",
       "    <tr>\n",
       "      <th>3</th>\n",
       "      <td>23.0</td>\n",
       "      <td>fit</td>\n",
       "      <td>vegetarian</td>\n",
       "      <td>socially</td>\n",
       "      <td>never</td>\n",
       "      <td>working</td>\n",
       "      <td>71.0</td>\n",
       "      <td>20000.0</td>\n",
       "      <td>2012-06-28-14-22</td>\n",
       "      <td>berkeley, california</td>\n",
       "      <td>straight</td>\n",
       "      <td>agnosticism</td>\n",
       "      <td>m</td>\n",
       "      <td>pisces</td>\n",
       "      <td>0.0</td>\n",
       "      <td>single</td>\n",
       "      <td>0</td>\n",
       "    </tr>\n",
       "    <tr>\n",
       "      <th>4</th>\n",
       "      <td>29.0</td>\n",
       "      <td>fit</td>\n",
       "      <td>anything</td>\n",
       "      <td>socially</td>\n",
       "      <td>never</td>\n",
       "      <td>graduated</td>\n",
       "      <td>66.0</td>\n",
       "      <td>-1.0</td>\n",
       "      <td>2012-06-27-21-26</td>\n",
       "      <td>san francisco, california</td>\n",
       "      <td>straight</td>\n",
       "      <td>agnosticism</td>\n",
       "      <td>m</td>\n",
       "      <td>aquarius</td>\n",
       "      <td>0.0</td>\n",
       "      <td>single</td>\n",
       "      <td>0</td>\n",
       "    </tr>\n",
       "  </tbody>\n",
       "</table>\n",
       "</div>"
      ],
      "text/plain": [
       "    age body_type        diet    drinks      drugs  education  height  \\\n",
       "0  22.0     curvy    anything  socially      never    working    75.0   \n",
       "1  35.0       fit       other     often  sometimes    working    70.0   \n",
       "2  38.0       fit    anything  socially      never  graduated    68.0   \n",
       "3  23.0       fit  vegetarian  socially      never    working    71.0   \n",
       "4  29.0       fit    anything  socially      never  graduated    66.0   \n",
       "\n",
       "    income       last_online                         location orientation  \\\n",
       "0     -1.0  2012-06-28-20-30  south san francisco, california    straight   \n",
       "1  80000.0  2012-06-29-21-41              oakland, california    straight   \n",
       "2     -1.0  2012-06-27-09-10        san francisco, california    straight   \n",
       "3  20000.0  2012-06-28-14-22             berkeley, california    straight   \n",
       "4     -1.0  2012-06-27-21-26        san francisco, california    straight   \n",
       "\n",
       "      religion sex      sign  smokes     status  generation  \n",
       "0  agnosticism   m    gemini     1.0     single           0  \n",
       "1  agnosticism   m    cancer     0.0     single           1  \n",
       "2  agnosticism   m    pisces     0.0  available           1  \n",
       "3  agnosticism   m    pisces     0.0     single           0  \n",
       "4  agnosticism   m  aquarius     0.0     single           0  "
      ]
     },
     "execution_count": 78,
     "metadata": {},
     "output_type": "execute_result"
    }
   ],
   "source": [
    "df.head()"
   ]
  },
  {
   "cell_type": "code",
   "execution_count": 79,
   "id": "f3f37b7f",
   "metadata": {},
   "outputs": [
    {
     "data": {
      "text/html": [
       "<div>\n",
       "<style scoped>\n",
       "    .dataframe tbody tr th:only-of-type {\n",
       "        vertical-align: middle;\n",
       "    }\n",
       "\n",
       "    .dataframe tbody tr th {\n",
       "        vertical-align: top;\n",
       "    }\n",
       "\n",
       "    .dataframe thead th {\n",
       "        text-align: right;\n",
       "    }\n",
       "</style>\n",
       "<table border=\"1\" class=\"dataframe\">\n",
       "  <thead>\n",
       "    <tr style=\"text-align: right;\">\n",
       "      <th></th>\n",
       "      <th>age</th>\n",
       "      <th>body_type</th>\n",
       "      <th>diet</th>\n",
       "      <th>drinks</th>\n",
       "      <th>drugs</th>\n",
       "      <th>education</th>\n",
       "      <th>height</th>\n",
       "      <th>income</th>\n",
       "      <th>last_online</th>\n",
       "      <th>location</th>\n",
       "      <th>orientation</th>\n",
       "      <th>religion</th>\n",
       "      <th>sex</th>\n",
       "      <th>sign</th>\n",
       "      <th>smokes</th>\n",
       "      <th>status</th>\n",
       "      <th>generation</th>\n",
       "    </tr>\n",
       "  </thead>\n",
       "  <tbody>\n",
       "    <tr>\n",
       "      <th>9509</th>\n",
       "      <td>28.0</td>\n",
       "      <td>fit</td>\n",
       "      <td>anything</td>\n",
       "      <td>socially</td>\n",
       "      <td>never</td>\n",
       "      <td>working</td>\n",
       "      <td>73.0</td>\n",
       "      <td>60000.0</td>\n",
       "      <td>2012-06-30-02-49</td>\n",
       "      <td>san francisco, california</td>\n",
       "      <td>straight</td>\n",
       "      <td>christianity</td>\n",
       "      <td>m</td>\n",
       "      <td>aries</td>\n",
       "      <td>0.0</td>\n",
       "      <td>single</td>\n",
       "      <td>0</td>\n",
       "    </tr>\n",
       "    <tr>\n",
       "      <th>9510</th>\n",
       "      <td>31.0</td>\n",
       "      <td>fit</td>\n",
       "      <td>anything</td>\n",
       "      <td>socially</td>\n",
       "      <td>sometimes</td>\n",
       "      <td>graduated</td>\n",
       "      <td>72.0</td>\n",
       "      <td>-1.0</td>\n",
       "      <td>2012-04-05-21-46</td>\n",
       "      <td>san francisco, california</td>\n",
       "      <td>gay</td>\n",
       "      <td>atheism</td>\n",
       "      <td>m</td>\n",
       "      <td>scorpio</td>\n",
       "      <td>1.0</td>\n",
       "      <td>single</td>\n",
       "      <td>0</td>\n",
       "    </tr>\n",
       "    <tr>\n",
       "      <th>9511</th>\n",
       "      <td>34.0</td>\n",
       "      <td>fit</td>\n",
       "      <td>anything</td>\n",
       "      <td>socially</td>\n",
       "      <td>never</td>\n",
       "      <td>dropped</td>\n",
       "      <td>71.0</td>\n",
       "      <td>-1.0</td>\n",
       "      <td>2012-04-28-12-42</td>\n",
       "      <td>san francisco, california</td>\n",
       "      <td>gay</td>\n",
       "      <td>atheism</td>\n",
       "      <td>m</td>\n",
       "      <td>leo</td>\n",
       "      <td>1.0</td>\n",
       "      <td>single</td>\n",
       "      <td>1</td>\n",
       "    </tr>\n",
       "    <tr>\n",
       "      <th>9512</th>\n",
       "      <td>29.0</td>\n",
       "      <td>fit</td>\n",
       "      <td>anything</td>\n",
       "      <td>rarely</td>\n",
       "      <td>never</td>\n",
       "      <td>graduated</td>\n",
       "      <td>70.0</td>\n",
       "      <td>-1.0</td>\n",
       "      <td>2012-03-01-15-17</td>\n",
       "      <td>san francisco, california</td>\n",
       "      <td>gay</td>\n",
       "      <td>agnosticism</td>\n",
       "      <td>m</td>\n",
       "      <td>aries</td>\n",
       "      <td>0.0</td>\n",
       "      <td>single</td>\n",
       "      <td>0</td>\n",
       "    </tr>\n",
       "    <tr>\n",
       "      <th>9513</th>\n",
       "      <td>49.0</td>\n",
       "      <td>bad</td>\n",
       "      <td>anything</td>\n",
       "      <td>rarely</td>\n",
       "      <td>never</td>\n",
       "      <td>graduated</td>\n",
       "      <td>64.0</td>\n",
       "      <td>-1.0</td>\n",
       "      <td>2012-06-14-15-14</td>\n",
       "      <td>castro valley, california</td>\n",
       "      <td>straight</td>\n",
       "      <td>agnosticism</td>\n",
       "      <td>f</td>\n",
       "      <td>pisces</td>\n",
       "      <td>0.0</td>\n",
       "      <td>single</td>\n",
       "      <td>2</td>\n",
       "    </tr>\n",
       "  </tbody>\n",
       "</table>\n",
       "</div>"
      ],
      "text/plain": [
       "       age body_type      diet    drinks      drugs  education  height  \\\n",
       "9509  28.0       fit  anything  socially      never    working    73.0   \n",
       "9510  31.0       fit  anything  socially  sometimes  graduated    72.0   \n",
       "9511  34.0       fit  anything  socially      never    dropped    71.0   \n",
       "9512  29.0       fit  anything    rarely      never  graduated    70.0   \n",
       "9513  49.0       bad  anything    rarely      never  graduated    64.0   \n",
       "\n",
       "       income       last_online                   location orientation  \\\n",
       "9509  60000.0  2012-06-30-02-49  san francisco, california    straight   \n",
       "9510     -1.0  2012-04-05-21-46  san francisco, california         gay   \n",
       "9511     -1.0  2012-04-28-12-42  san francisco, california         gay   \n",
       "9512     -1.0  2012-03-01-15-17  san francisco, california         gay   \n",
       "9513     -1.0  2012-06-14-15-14  castro valley, california    straight   \n",
       "\n",
       "          religion sex     sign  smokes  status  generation  \n",
       "9509  christianity   m    aries     0.0  single           0  \n",
       "9510       atheism   m  scorpio     1.0  single           0  \n",
       "9511       atheism   m      leo     1.0  single           1  \n",
       "9512   agnosticism   m    aries     0.0  single           0  \n",
       "9513   agnosticism   f   pisces     0.0  single           2  "
      ]
     },
     "execution_count": 79,
     "metadata": {},
     "output_type": "execute_result"
    }
   ],
   "source": [
    "df.tail()"
   ]
  },
  {
   "cell_type": "code",
   "execution_count": 80,
   "id": "34a3604f",
   "metadata": {},
   "outputs": [
    {
     "data": {
      "text/html": [
       "<div>\n",
       "<style scoped>\n",
       "    .dataframe tbody tr th:only-of-type {\n",
       "        vertical-align: middle;\n",
       "    }\n",
       "\n",
       "    .dataframe tbody tr th {\n",
       "        vertical-align: top;\n",
       "    }\n",
       "\n",
       "    .dataframe thead th {\n",
       "        text-align: right;\n",
       "    }\n",
       "</style>\n",
       "<table border=\"1\" class=\"dataframe\">\n",
       "  <thead>\n",
       "    <tr style=\"text-align: right;\">\n",
       "      <th></th>\n",
       "      <th>age</th>\n",
       "      <th>height</th>\n",
       "      <th>income</th>\n",
       "      <th>smokes</th>\n",
       "      <th>generation</th>\n",
       "    </tr>\n",
       "  </thead>\n",
       "  <tbody>\n",
       "    <tr>\n",
       "      <th>age</th>\n",
       "      <td>1.000000</td>\n",
       "      <td>-0.022078</td>\n",
       "      <td>0.011424</td>\n",
       "      <td>-0.147282</td>\n",
       "      <td>0.904987</td>\n",
       "    </tr>\n",
       "    <tr>\n",
       "      <th>height</th>\n",
       "      <td>-0.022078</td>\n",
       "      <td>1.000000</td>\n",
       "      <td>0.073105</td>\n",
       "      <td>0.035629</td>\n",
       "      <td>-0.034848</td>\n",
       "    </tr>\n",
       "    <tr>\n",
       "      <th>income</th>\n",
       "      <td>0.011424</td>\n",
       "      <td>0.073105</td>\n",
       "      <td>1.000000</td>\n",
       "      <td>0.039872</td>\n",
       "      <td>0.007773</td>\n",
       "    </tr>\n",
       "    <tr>\n",
       "      <th>smokes</th>\n",
       "      <td>-0.147282</td>\n",
       "      <td>0.035629</td>\n",
       "      <td>0.039872</td>\n",
       "      <td>1.000000</td>\n",
       "      <td>-0.133156</td>\n",
       "    </tr>\n",
       "    <tr>\n",
       "      <th>generation</th>\n",
       "      <td>0.904987</td>\n",
       "      <td>-0.034848</td>\n",
       "      <td>0.007773</td>\n",
       "      <td>-0.133156</td>\n",
       "      <td>1.000000</td>\n",
       "    </tr>\n",
       "  </tbody>\n",
       "</table>\n",
       "</div>"
      ],
      "text/plain": [
       "                 age    height    income    smokes  generation\n",
       "age         1.000000 -0.022078  0.011424 -0.147282    0.904987\n",
       "height     -0.022078  1.000000  0.073105  0.035629   -0.034848\n",
       "income      0.011424  0.073105  1.000000  0.039872    0.007773\n",
       "smokes     -0.147282  0.035629  0.039872  1.000000   -0.133156\n",
       "generation  0.904987 -0.034848  0.007773 -0.133156    1.000000"
      ]
     },
     "execution_count": 80,
     "metadata": {},
     "output_type": "execute_result"
    }
   ],
   "source": [
    "df.corr()"
   ]
  },
  {
   "cell_type": "code",
   "execution_count": 81,
   "id": "e7e6bce6",
   "metadata": {},
   "outputs": [
    {
     "data": {
      "text/html": [
       "<div>\n",
       "<style scoped>\n",
       "    .dataframe tbody tr th:only-of-type {\n",
       "        vertical-align: middle;\n",
       "    }\n",
       "\n",
       "    .dataframe tbody tr th {\n",
       "        vertical-align: top;\n",
       "    }\n",
       "\n",
       "    .dataframe thead th {\n",
       "        text-align: right;\n",
       "    }\n",
       "</style>\n",
       "<table border=\"1\" class=\"dataframe\">\n",
       "  <thead>\n",
       "    <tr style=\"text-align: right;\">\n",
       "      <th></th>\n",
       "      <th>age</th>\n",
       "      <th>height</th>\n",
       "      <th>income</th>\n",
       "      <th>smokes</th>\n",
       "      <th>generation</th>\n",
       "    </tr>\n",
       "  </thead>\n",
       "  <tbody>\n",
       "    <tr>\n",
       "      <th>count</th>\n",
       "      <td>9514.000000</td>\n",
       "      <td>9514.000000</td>\n",
       "      <td>9514.000000</td>\n",
       "      <td>9514.000000</td>\n",
       "      <td>9514.000000</td>\n",
       "    </tr>\n",
       "    <tr>\n",
       "      <th>mean</th>\n",
       "      <td>32.084192</td>\n",
       "      <td>68.337398</td>\n",
       "      <td>18887.145155</td>\n",
       "      <td>0.166597</td>\n",
       "      <td>0.442821</td>\n",
       "    </tr>\n",
       "    <tr>\n",
       "      <th>std</th>\n",
       "      <td>9.445488</td>\n",
       "      <td>3.905229</td>\n",
       "      <td>91428.807808</td>\n",
       "      <td>0.372635</td>\n",
       "      <td>0.635291</td>\n",
       "    </tr>\n",
       "    <tr>\n",
       "      <th>min</th>\n",
       "      <td>18.000000</td>\n",
       "      <td>36.000000</td>\n",
       "      <td>-1.000000</td>\n",
       "      <td>0.000000</td>\n",
       "      <td>0.000000</td>\n",
       "    </tr>\n",
       "    <tr>\n",
       "      <th>25%</th>\n",
       "      <td>25.000000</td>\n",
       "      <td>66.000000</td>\n",
       "      <td>-1.000000</td>\n",
       "      <td>0.000000</td>\n",
       "      <td>0.000000</td>\n",
       "    </tr>\n",
       "    <tr>\n",
       "      <th>50%</th>\n",
       "      <td>30.000000</td>\n",
       "      <td>68.000000</td>\n",
       "      <td>-1.000000</td>\n",
       "      <td>0.000000</td>\n",
       "      <td>0.000000</td>\n",
       "    </tr>\n",
       "    <tr>\n",
       "      <th>75%</th>\n",
       "      <td>36.000000</td>\n",
       "      <td>71.000000</td>\n",
       "      <td>-1.000000</td>\n",
       "      <td>0.000000</td>\n",
       "      <td>1.000000</td>\n",
       "    </tr>\n",
       "    <tr>\n",
       "      <th>max</th>\n",
       "      <td>110.000000</td>\n",
       "      <td>95.000000</td>\n",
       "      <td>1000000.000000</td>\n",
       "      <td>1.000000</td>\n",
       "      <td>2.000000</td>\n",
       "    </tr>\n",
       "  </tbody>\n",
       "</table>\n",
       "</div>"
      ],
      "text/plain": [
       "               age       height          income       smokes   generation\n",
       "count  9514.000000  9514.000000     9514.000000  9514.000000  9514.000000\n",
       "mean     32.084192    68.337398    18887.145155     0.166597     0.442821\n",
       "std       9.445488     3.905229    91428.807808     0.372635     0.635291\n",
       "min      18.000000    36.000000       -1.000000     0.000000     0.000000\n",
       "25%      25.000000    66.000000       -1.000000     0.000000     0.000000\n",
       "50%      30.000000    68.000000       -1.000000     0.000000     0.000000\n",
       "75%      36.000000    71.000000       -1.000000     0.000000     1.000000\n",
       "max     110.000000    95.000000  1000000.000000     1.000000     2.000000"
      ]
     },
     "execution_count": 81,
     "metadata": {},
     "output_type": "execute_result"
    }
   ],
   "source": [
    "df.describe()"
   ]
  },
  {
   "cell_type": "code",
   "execution_count": 83,
   "id": "8b7e95fb",
   "metadata": {},
   "outputs": [
    {
     "data": {
      "text/plain": [
       "<AxesSubplot:>"
      ]
     },
     "execution_count": 83,
     "metadata": {},
     "output_type": "execute_result"
    },
    {
     "data": {
      "image/png": "[encoded data removed]",
      "text/plain": [
       "<Figure size 432x288 with 2 Axes>"
      ]
     },
     "metadata": {
      "needs_background": "light"
     },
     "output_type": "display_data"
    }
   ],
   "source": [
    "sns.heatmap(df.corr(),annot=True)"
   ]
  },
  {
   "cell_type": "raw",
   "id": "ee210b5b",
   "metadata": {},
   "source": [
    "1 - Flört profiliniz yaşınızı tahmin edebilir mi?"
   ]
  },
  {
   "cell_type": "code",
   "execution_count": 90,
   "id": "c2376b5c",
   "metadata": {},
   "outputs": [
    {
     "name": "stdout",
     "output_type": "stream",
     "text": [
      "^C\n"
     ]
    }
   ],
   "source": [
    "!pip install pycaret"
   ]
  },
  {
   "cell_type": "code",
   "execution_count": 91,
   "id": "1f73f370",
   "metadata": {},
   "outputs": [
    {
     "ename": "ModuleNotFoundError",
     "evalue": "No module named 'pycaret'",
     "output_type": "error",
     "traceback": [
      "\u001b[1;31m---------------------------------------------------------------------------\u001b[0m",
      "\u001b[1;31mModuleNotFoundError\u001b[0m                       Traceback (most recent call last)",
      "Input \u001b[1;32mIn [91]\u001b[0m, in \u001b[0;36m<cell line: 1>\u001b[1;34m()\u001b[0m\n\u001b[1;32m----> 1\u001b[0m \u001b[38;5;28;01mfrom\u001b[39;00m \u001b[38;5;21;01mpycaret\u001b[39;00m\u001b[38;5;21;01m.\u001b[39;00m\u001b[38;5;21;01mregression\u001b[39;00m \u001b[38;5;28;01mimport\u001b[39;00m \u001b[38;5;241m*\u001b[39m\n\u001b[0;32m      2\u001b[0m exp_name\u001b[38;5;241m=\u001b[39msetup(data\u001b[38;5;241m=\u001b[39mdf,target\u001b[38;5;241m=\u001b[39m\u001b[38;5;124m'\u001b[39m\u001b[38;5;124mage\u001b[39m\u001b[38;5;124m'\u001b[39m)\n",
      "\u001b[1;31mModuleNotFoundError\u001b[0m: No module named 'pycaret'"
     ]
    }
   ],
   "source": [
    "from pycaret.regression import *\n",
    "exp_name=setup(data=df,target='age')"
   ]
  },
  {
   "cell_type": "code",
   "execution_count": null,
   "id": "cb83d031",
   "metadata": {},
   "outputs": [],
   "source": [
    "best_model=compare_models(sort='R2')"
   ]
  },
  {
   "cell_type": "code",
   "execution_count": null,
   "id": "989213e1",
   "metadata": {},
   "outputs": [],
   "source": [
    "df=df.drop('age',axis=1)"
   ]
  },
  {
   "cell_type": "code",
   "execution_count": null,
   "id": "47526753",
   "metadata": {},
   "outputs": [],
   "source": [
    "from pycaret.classification import *\n",
    "exp_name=setup(data=df,target='epoch')"
   ]
  },
  {
   "cell_type": "code",
   "execution_count": null,
   "id": "7675b63f",
   "metadata": {},
   "outputs": [],
   "source": [
    "best_model=compare_models()"
   ]
  },
  {
   "cell_type": "code",
   "execution_count": null,
   "id": "49088f87",
   "metadata": {},
   "outputs": [],
   "source": []
  }
 ],
 "metadata": {
  "kernelspec": {
   "display_name": "Python 3 (ipykernel)",
   "language": "python",
   "name": "python3"
  },
  "language_info": {
   "codemirror_mode": {
    "name": "ipython",
    "version": 3
   },
   "file_extension": ".py",
   "mimetype": "text/x-python",
   "name": "python",
   "nbconvert_exporter": "python",
   "pygments_lexer": "ipython3",
   "version": "3.9.12"
  }
 },
 "nbformat": 4,
 "nbformat_minor": 5
}
