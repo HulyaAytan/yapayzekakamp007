{
 "cells": [
  {
   "cell_type": "markdown",
   "id": "b6446b12",
   "metadata": {},
   "source": [
    "## Bitcoin Data "
   ]
  },
  {
   "cell_type": "markdown",
   "id": "b40ff2c7",
   "metadata": {},
   "source": [
    "This dataset provides the history of daily prices of Bitcoin. The data starts from 17-Sep-2014 and is updated till 09-July-2021. All the column descriptions are provided.\n",
    "\n",
    "Description of the columns\n",
    "\n",
    "Open: Price from the first transaction of a trading day\n",
    "High: Maximum price in a trading day\n",
    "Low: Minimum price in a trading day\n",
    "Close: Price from the last transaction of a trading day\n",
    "Adj Close: Closing price adjusted to reflect the value after accounting for any corporate actions\n",
    "Volume: Number of units traded in a day"
   ]
  },
  {
   "cell_type": "markdown",
   "id": "f536878c",
   "metadata": {},
   "source": [
    " Goal: Predict the future price of the bitcoin crypto currency."
   ]
  },
  {
   "cell_type": "markdown",
   "id": "ef9577cb",
   "metadata": {
    "id": "ef9577cb"
   },
   "source": [
    "## Import Libraries and Load Data"
   ]
  },
  {
   "cell_type": "code",
   "execution_count": 1,
   "id": "8f406262",
   "metadata": {
    "id": "8f406262"
   },
   "outputs": [],
   "source": [
    "import pandas as pd\n",
    "import numpy as np\n",
    "import matplotlib.pyplot as plt\n",
    "%matplotlib inline\n",
    "from matplotlib.pylab import rcParams\n",
    "rcParams['figure.figsize'] = 10, 6 # artik her figure bu boyutta yapiyor"
   ]
  },
  {
   "cell_type": "code",
   "execution_count": 2,
   "id": "62a83459",
   "metadata": {
    "colab": {
     "base_uri": "https://localhost:8080/",
     "height": 206
    },
    "id": "62a83459",
    "outputId": "3c5f3aae-a9f8-4b00-9689-9986629b2778"
   },
   "outputs": [
    {
     "data": {
      "text/html": [
       "\n",
       "  <div id=\"df-15d651c0-3be8-4fa0-bbf7-b679cb7d57c6\">\n",
       "    <div class=\"colab-df-container\">\n",
       "      <div>\n",
       "<style scoped>\n",
       "    .dataframe tbody tr th:only-of-type {\n",
       "        vertical-align: middle;\n",
       "    }\n",
       "\n",
       "    .dataframe tbody tr th {\n",
       "        vertical-align: top;\n",
       "    }\n",
       "\n",
       "    .dataframe thead th {\n",
       "        text-align: right;\n",
       "    }\n",
       "</style>\n",
       "<table border=\"1\" class=\"dataframe\">\n",
       "  <thead>\n",
       "    <tr style=\"text-align: right;\">\n",
       "      <th></th>\n",
       "      <th>Date</th>\n",
       "      <th>Open</th>\n",
       "      <th>High</th>\n",
       "      <th>Low</th>\n",
       "      <th>Close</th>\n",
       "      <th>Adj Close</th>\n",
       "      <th>Volume</th>\n",
       "    </tr>\n",
       "  </thead>\n",
       "  <tbody>\n",
       "    <tr>\n",
       "      <th>0</th>\n",
       "      <td>2014-09-17</td>\n",
       "      <td>465.864014</td>\n",
       "      <td>468.174011</td>\n",
       "      <td>452.421997</td>\n",
       "      <td>457.334015</td>\n",
       "      <td>457.334015</td>\n",
       "      <td>21056800</td>\n",
       "    </tr>\n",
       "    <tr>\n",
       "      <th>1</th>\n",
       "      <td>2014-09-18</td>\n",
       "      <td>456.859985</td>\n",
       "      <td>456.859985</td>\n",
       "      <td>413.104004</td>\n",
       "      <td>424.440002</td>\n",
       "      <td>424.440002</td>\n",
       "      <td>34483200</td>\n",
       "    </tr>\n",
       "    <tr>\n",
       "      <th>2</th>\n",
       "      <td>2014-09-19</td>\n",
       "      <td>424.102997</td>\n",
       "      <td>427.834991</td>\n",
       "      <td>384.532013</td>\n",
       "      <td>394.795990</td>\n",
       "      <td>394.795990</td>\n",
       "      <td>37919700</td>\n",
       "    </tr>\n",
       "    <tr>\n",
       "      <th>3</th>\n",
       "      <td>2014-09-20</td>\n",
       "      <td>394.673004</td>\n",
       "      <td>423.295990</td>\n",
       "      <td>389.882996</td>\n",
       "      <td>408.903992</td>\n",
       "      <td>408.903992</td>\n",
       "      <td>36863600</td>\n",
       "    </tr>\n",
       "    <tr>\n",
       "      <th>4</th>\n",
       "      <td>2014-09-21</td>\n",
       "      <td>408.084991</td>\n",
       "      <td>412.425995</td>\n",
       "      <td>393.181000</td>\n",
       "      <td>398.821014</td>\n",
       "      <td>398.821014</td>\n",
       "      <td>26580100</td>\n",
       "    </tr>\n",
       "  </tbody>\n",
       "</table>\n",
       "</div>\n",
       "      <button class=\"colab-df-convert\" onclick=\"convertToInteractive('df-15d651c0-3be8-4fa0-bbf7-b679cb7d57c6')\"\n",
       "              title=\"Convert this dataframe to an interactive table.\"\n",
       "              style=\"display:none;\">\n",
       "        \n",
       "  <svg xmlns=\"http://www.w3.org/2000/svg\" height=\"24px\"viewBox=\"0 0 24 24\"\n",
       "       width=\"24px\">\n",
       "    <path d=\"M0 0h24v24H0V0z\" fill=\"none\"/>\n",
       "    <path d=\"M18.56 5.44l.94 2.06.94-2.06 2.06-.94-2.06-.94-.94-2.06-.94 2.06-2.06.94zm-11 1L8.5 8.5l.94-2.06 2.06-.94-2.06-.94L8.5 2.5l-.94 2.06-2.06.94zm10 10l.94 2.06.94-2.06 2.06-.94-2.06-.94-.94-2.06-.94 2.06-2.06.94z\"/><path d=\"M17.41 7.96l-1.37-1.37c-.4-.4-.92-.59-1.43-.59-.52 0-1.04.2-1.43.59L10.3 9.45l-7.72 7.72c-.78.78-.78 2.05 0 2.83L4 21.41c.39.39.9.59 1.41.59.51 0 1.02-.2 1.41-.59l7.78-7.78 2.81-2.81c.8-.78.8-2.07 0-2.86zM5.41 20L4 18.59l7.72-7.72 1.47 1.35L5.41 20z\"/>\n",
       "  </svg>\n",
       "      </button>\n",
       "      \n",
       "  <style>\n",
       "    .colab-df-container {\n",
       "      display:flex;\n",
       "      flex-wrap:wrap;\n",
       "      gap: 12px;\n",
       "    }\n",
       "\n",
       "    .colab-df-convert {\n",
       "      background-color: #E8F0FE;\n",
       "      border: none;\n",
       "      border-radius: 50%;\n",
       "      cursor: pointer;\n",
       "      display: none;\n",
       "      fill: #1967D2;\n",
       "      height: 32px;\n",
       "      padding: 0 0 0 0;\n",
       "      width: 32px;\n",
       "    }\n",
       "\n",
       "    .colab-df-convert:hover {\n",
       "      background-color: #E2EBFA;\n",
       "      box-shadow: 0px 1px 2px rgba(60, 64, 67, 0.3), 0px 1px 3px 1px rgba(60, 64, 67, 0.15);\n",
       "      fill: #174EA6;\n",
       "    }\n",
       "\n",
       "    [theme=dark] .colab-df-convert {\n",
       "      background-color: #3B4455;\n",
       "      fill: #D2E3FC;\n",
       "    }\n",
       "\n",
       "    [theme=dark] .colab-df-convert:hover {\n",
       "      background-color: #434B5C;\n",
       "      box-shadow: 0px 1px 3px 1px rgba(0, 0, 0, 0.15);\n",
       "      filter: drop-shadow(0px 1px 2px rgba(0, 0, 0, 0.3));\n",
       "      fill: #FFFFFF;\n",
       "    }\n",
       "  </style>\n",
       "\n",
       "      <script>\n",
       "        const buttonEl =\n",
       "          document.querySelector('#df-15d651c0-3be8-4fa0-bbf7-b679cb7d57c6 button.colab-df-convert');\n",
       "        buttonEl.style.display =\n",
       "          google.colab.kernel.accessAllowed ? 'block' : 'none';\n",
       "\n",
       "        async function convertToInteractive(key) {\n",
       "          const element = document.querySelector('#df-15d651c0-3be8-4fa0-bbf7-b679cb7d57c6');\n",
       "          const dataTable =\n",
       "            await google.colab.kernel.invokeFunction('convertToInteractive',\n",
       "                                                     [key], {});\n",
       "          if (!dataTable) return;\n",
       "\n",
       "          const docLinkHtml = 'Like what you see? Visit the ' +\n",
       "            '<a target=\"_blank\" href=https://colab.research.google.com/notebooks/data_table.ipynb>data table notebook</a>'\n",
       "            + ' to learn more about interactive tables.';\n",
       "          element.innerHTML = '';\n",
       "          dataTable['output_type'] = 'display_data';\n",
       "          await google.colab.output.renderOutput(dataTable, element);\n",
       "          const docLink = document.createElement('div');\n",
       "          docLink.innerHTML = docLinkHtml;\n",
       "          element.appendChild(docLink);\n",
       "        }\n",
       "      </script>\n",
       "    </div>\n",
       "  </div>\n",
       "  "
      ],
      "text/plain": [
       "         Date        Open        High         Low       Close   Adj Close  \\\n",
       "0  2014-09-17  465.864014  468.174011  452.421997  457.334015  457.334015   \n",
       "1  2014-09-18  456.859985  456.859985  413.104004  424.440002  424.440002   \n",
       "2  2014-09-19  424.102997  427.834991  384.532013  394.795990  394.795990   \n",
       "3  2014-09-20  394.673004  423.295990  389.882996  408.903992  408.903992   \n",
       "4  2014-09-21  408.084991  412.425995  393.181000  398.821014  398.821014   \n",
       "\n",
       "     Volume  \n",
       "0  21056800  \n",
       "1  34483200  \n",
       "2  37919700  \n",
       "3  36863600  \n",
       "4  26580100  "
      ]
     },
     "execution_count": 2,
     "metadata": {},
     "output_type": "execute_result"
    }
   ],
   "source": [
    "data = pd.read_csv(\"BTC-USD.csv\")\n",
    "data.head()"
   ]
  },
  {
   "cell_type": "markdown",
   "id": "1c0bbe15",
   "metadata": {
    "id": "1c0bbe15"
   },
   "source": [
    "## EDA - Exploratory Data Analysis"
   ]
  },
  {
   "cell_type": "code",
   "execution_count": 3,
   "id": "2f5eb956",
   "metadata": {
    "colab": {
     "base_uri": "https://localhost:8080/"
    },
    "id": "2f5eb956",
    "outputId": "494863bf-8422-4a16-8a09-5585a224e7f6"
   },
   "outputs": [
    {
     "name": "stdout",
     "output_type": "stream",
     "text": [
      "<class 'pandas.core.frame.DataFrame'>\n",
      "RangeIndex: 2747 entries, 0 to 2746\n",
      "Data columns (total 7 columns):\n",
      " #   Column     Non-Null Count  Dtype  \n",
      "---  ------     --------------  -----  \n",
      " 0   Date       2747 non-null   object \n",
      " 1   Open       2747 non-null   float64\n",
      " 2   High       2747 non-null   float64\n",
      " 3   Low        2747 non-null   float64\n",
      " 4   Close      2747 non-null   float64\n",
      " 5   Adj Close  2747 non-null   float64\n",
      " 6   Volume     2747 non-null   int64  \n",
      "dtypes: float64(5), int64(1), object(1)\n",
      "memory usage: 150.4+ KB\n"
     ]
    }
   ],
   "source": [
    "data.info()"
   ]
  },
  {
   "cell_type": "code",
   "execution_count": 5,
   "id": "f060864b",
   "metadata": {
    "id": "f060864b"
   },
   "outputs": [],
   "source": [
    "data['Date'] = pd.to_datetime(data['Date'], format='%Y-%m-%d') #convert time stamp to datetime"
   ]
  },
  {
   "cell_type": "code",
   "execution_count": 6,
   "id": "1e30c7cf",
   "metadata": {
    "colab": {
     "base_uri": "https://localhost:8080/",
     "height": 206
    },
    "id": "1e30c7cf",
    "outputId": "c28c574c-dede-46e1-88a1-40715ebc44ec"
   },
   "outputs": [
    {
     "data": {
      "text/html": [
       "\n",
       "  <div id=\"df-cdfb9528-9ae3-43ae-b044-2dd63bdb225e\">\n",
       "    <div class=\"colab-df-container\">\n",
       "      <div>\n",
       "<style scoped>\n",
       "    .dataframe tbody tr th:only-of-type {\n",
       "        vertical-align: middle;\n",
       "    }\n",
       "\n",
       "    .dataframe tbody tr th {\n",
       "        vertical-align: top;\n",
       "    }\n",
       "\n",
       "    .dataframe thead th {\n",
       "        text-align: right;\n",
       "    }\n",
       "</style>\n",
       "<table border=\"1\" class=\"dataframe\">\n",
       "  <thead>\n",
       "    <tr style=\"text-align: right;\">\n",
       "      <th></th>\n",
       "      <th>Date</th>\n",
       "      <th>Open</th>\n",
       "      <th>High</th>\n",
       "      <th>Low</th>\n",
       "      <th>Close</th>\n",
       "      <th>Adj Close</th>\n",
       "      <th>Volume</th>\n",
       "    </tr>\n",
       "  </thead>\n",
       "  <tbody>\n",
       "    <tr>\n",
       "      <th>0</th>\n",
       "      <td>2014-09-17</td>\n",
       "      <td>465.864014</td>\n",
       "      <td>468.174011</td>\n",
       "      <td>452.421997</td>\n",
       "      <td>457.334015</td>\n",
       "      <td>457.334015</td>\n",
       "      <td>21056800</td>\n",
       "    </tr>\n",
       "    <tr>\n",
       "      <th>1</th>\n",
       "      <td>2014-09-18</td>\n",
       "      <td>456.859985</td>\n",
       "      <td>456.859985</td>\n",
       "      <td>413.104004</td>\n",
       "      <td>424.440002</td>\n",
       "      <td>424.440002</td>\n",
       "      <td>34483200</td>\n",
       "    </tr>\n",
       "    <tr>\n",
       "      <th>2</th>\n",
       "      <td>2014-09-19</td>\n",
       "      <td>424.102997</td>\n",
       "      <td>427.834991</td>\n",
       "      <td>384.532013</td>\n",
       "      <td>394.795990</td>\n",
       "      <td>394.795990</td>\n",
       "      <td>37919700</td>\n",
       "    </tr>\n",
       "    <tr>\n",
       "      <th>3</th>\n",
       "      <td>2014-09-20</td>\n",
       "      <td>394.673004</td>\n",
       "      <td>423.295990</td>\n",
       "      <td>389.882996</td>\n",
       "      <td>408.903992</td>\n",
       "      <td>408.903992</td>\n",
       "      <td>36863600</td>\n",
       "    </tr>\n",
       "    <tr>\n",
       "      <th>4</th>\n",
       "      <td>2014-09-21</td>\n",
       "      <td>408.084991</td>\n",
       "      <td>412.425995</td>\n",
       "      <td>393.181000</td>\n",
       "      <td>398.821014</td>\n",
       "      <td>398.821014</td>\n",
       "      <td>26580100</td>\n",
       "    </tr>\n",
       "  </tbody>\n",
       "</table>\n",
       "</div>\n",
       "      <button class=\"colab-df-convert\" onclick=\"convertToInteractive('df-cdfb9528-9ae3-43ae-b044-2dd63bdb225e')\"\n",
       "              title=\"Convert this dataframe to an interactive table.\"\n",
       "              style=\"display:none;\">\n",
       "        \n",
       "  <svg xmlns=\"http://www.w3.org/2000/svg\" height=\"24px\"viewBox=\"0 0 24 24\"\n",
       "       width=\"24px\">\n",
       "    <path d=\"M0 0h24v24H0V0z\" fill=\"none\"/>\n",
       "    <path d=\"M18.56 5.44l.94 2.06.94-2.06 2.06-.94-2.06-.94-.94-2.06-.94 2.06-2.06.94zm-11 1L8.5 8.5l.94-2.06 2.06-.94-2.06-.94L8.5 2.5l-.94 2.06-2.06.94zm10 10l.94 2.06.94-2.06 2.06-.94-2.06-.94-.94-2.06-.94 2.06-2.06.94z\"/><path d=\"M17.41 7.96l-1.37-1.37c-.4-.4-.92-.59-1.43-.59-.52 0-1.04.2-1.43.59L10.3 9.45l-7.72 7.72c-.78.78-.78 2.05 0 2.83L4 21.41c.39.39.9.59 1.41.59.51 0 1.02-.2 1.41-.59l7.78-7.78 2.81-2.81c.8-.78.8-2.07 0-2.86zM5.41 20L4 18.59l7.72-7.72 1.47 1.35L5.41 20z\"/>\n",
       "  </svg>\n",
       "      </button>\n",
       "      \n",
       "  <style>\n",
       "    .colab-df-container {\n",
       "      display:flex;\n",
       "      flex-wrap:wrap;\n",
       "      gap: 12px;\n",
       "    }\n",
       "\n",
       "    .colab-df-convert {\n",
       "      background-color: #E8F0FE;\n",
       "      border: none;\n",
       "      border-radius: 50%;\n",
       "      cursor: pointer;\n",
       "      display: none;\n",
       "      fill: #1967D2;\n",
       "      height: 32px;\n",
       "      padding: 0 0 0 0;\n",
       "      width: 32px;\n",
       "    }\n",
       "\n",
       "    .colab-df-convert:hover {\n",
       "      background-color: #E2EBFA;\n",
       "      box-shadow: 0px 1px 2px rgba(60, 64, 67, 0.3), 0px 1px 3px 1px rgba(60, 64, 67, 0.15);\n",
       "      fill: #174EA6;\n",
       "    }\n",
       "\n",
       "    [theme=dark] .colab-df-convert {\n",
       "      background-color: #3B4455;\n",
       "      fill: #D2E3FC;\n",
       "    }\n",
       "\n",
       "    [theme=dark] .colab-df-convert:hover {\n",
       "      background-color: #434B5C;\n",
       "      box-shadow: 0px 1px 3px 1px rgba(0, 0, 0, 0.15);\n",
       "      filter: drop-shadow(0px 1px 2px rgba(0, 0, 0, 0.3));\n",
       "      fill: #FFFFFF;\n",
       "    }\n",
       "  </style>\n",
       "\n",
       "      <script>\n",
       "        const buttonEl =\n",
       "          document.querySelector('#df-cdfb9528-9ae3-43ae-b044-2dd63bdb225e button.colab-df-convert');\n",
       "        buttonEl.style.display =\n",
       "          google.colab.kernel.accessAllowed ? 'block' : 'none';\n",
       "\n",
       "        async function convertToInteractive(key) {\n",
       "          const element = document.querySelector('#df-cdfb9528-9ae3-43ae-b044-2dd63bdb225e');\n",
       "          const dataTable =\n",
       "            await google.colab.kernel.invokeFunction('convertToInteractive',\n",
       "                                                     [key], {});\n",
       "          if (!dataTable) return;\n",
       "\n",
       "          const docLinkHtml = 'Like what you see? Visit the ' +\n",
       "            '<a target=\"_blank\" href=https://colab.research.google.com/notebooks/data_table.ipynb>data table notebook</a>'\n",
       "            + ' to learn more about interactive tables.';\n",
       "          element.innerHTML = '';\n",
       "          dataTable['output_type'] = 'display_data';\n",
       "          await google.colab.output.renderOutput(dataTable, element);\n",
       "          const docLink = document.createElement('div');\n",
       "          docLink.innerHTML = docLinkHtml;\n",
       "          element.appendChild(docLink);\n",
       "        }\n",
       "      </script>\n",
       "    </div>\n",
       "  </div>\n",
       "  "
      ],
      "text/plain": [
       "        Date        Open        High         Low       Close   Adj Close  \\\n",
       "0 2014-09-17  465.864014  468.174011  452.421997  457.334015  457.334015   \n",
       "1 2014-09-18  456.859985  456.859985  413.104004  424.440002  424.440002   \n",
       "2 2014-09-19  424.102997  427.834991  384.532013  394.795990  394.795990   \n",
       "3 2014-09-20  394.673004  423.295990  389.882996  408.903992  408.903992   \n",
       "4 2014-09-21  408.084991  412.425995  393.181000  398.821014  398.821014   \n",
       "\n",
       "     Volume  \n",
       "0  21056800  \n",
       "1  34483200  \n",
       "2  37919700  \n",
       "3  36863600  \n",
       "4  26580100  "
      ]
     },
     "execution_count": 6,
     "metadata": {},
     "output_type": "execute_result"
    }
   ],
   "source": [
    "data.head()"
   ]
  },
  {
   "cell_type": "code",
   "execution_count": 7,
   "id": "64513a3c",
   "metadata": {
    "colab": {
     "base_uri": "https://localhost:8080/"
    },
    "id": "64513a3c",
    "outputId": "506495d4-9a8e-449c-e58f-1f2809d0f90e"
   },
   "outputs": [
    {
     "data": {
      "text/plain": [
       "(2747, 7)"
      ]
     },
     "execution_count": 7,
     "metadata": {},
     "output_type": "execute_result"
    }
   ],
   "source": [
    "data.shape"
   ]
  },
  {
   "cell_type": "code",
   "execution_count": 8,
   "id": "f3895933",
   "metadata": {
    "colab": {
     "base_uri": "https://localhost:8080/"
    },
    "id": "f3895933",
    "outputId": "010687df-e535-44db-8bb9-16d6f1a9eb73"
   },
   "outputs": [
    {
     "data": {
      "text/plain": [
       "Date         0\n",
       "Open         0\n",
       "High         0\n",
       "Low          0\n",
       "Close        0\n",
       "Adj Close    0\n",
       "Volume       0\n",
       "dtype: int64"
      ]
     },
     "execution_count": 8,
     "metadata": {},
     "output_type": "execute_result"
    }
   ],
   "source": [
    "data.isnull().sum()"
   ]
  },
  {
   "cell_type": "code",
   "execution_count": 9,
   "id": "4dbd18d1",
   "metadata": {
    "colab": {
     "base_uri": "https://localhost:8080/"
    },
    "id": "4dbd18d1",
    "outputId": "1b37fd35-142d-4c63-ea62-202fcac0b033"
   },
   "outputs": [
    {
     "data": {
      "text/plain": [
       "RangeIndex(start=0, stop=2747, step=1)"
      ]
     },
     "execution_count": 9,
     "metadata": {},
     "output_type": "execute_result"
    }
   ],
   "source": [
    "data.index"
   ]
  },
  {
   "cell_type": "code",
   "execution_count": 10,
   "id": "f1928940",
   "metadata": {
    "id": "f1928940"
   },
   "outputs": [],
   "source": [
    "reducedData=data.iloc[:,[1,4]]"
   ]
  },
  {
   "cell_type": "code",
   "execution_count": 11,
   "id": "e6d3b8de",
   "metadata": {
    "colab": {
     "base_uri": "https://localhost:8080/"
    },
    "id": "e6d3b8de",
    "outputId": "3326ccc9-407e-4258-b73e-86943d0bda87"
   },
   "outputs": [
    {
     "name": "stderr",
     "output_type": "stream",
     "text": [
      "<ipython-input-11-df3e0026c69f>:1: SettingWithCopyWarning: \n",
      "A value is trying to be set on a copy of a slice from a DataFrame.\n",
      "Try using .loc[row_indexer,col_indexer] = value instead\n",
      "\n",
      "See the caveats in the documentation: https://pandas.pydata.org/pandas-docs/stable/user_guide/indexing.html#returning-a-view-versus-a-copy\n",
      "  reducedData[\"AveragePrice\"]=(reducedData[\"Open\"]+reducedData[\"Close\"])/2\n"
     ]
    }
   ],
   "source": [
    "reducedData[\"AveragePrice\"]=(reducedData[\"Open\"]+reducedData[\"Close\"])/2"
   ]
  },
  {
   "cell_type": "code",
   "execution_count": 12,
   "id": "9c8ed766",
   "metadata": {
    "colab": {
     "base_uri": "https://localhost:8080/",
     "height": 206
    },
    "id": "9c8ed766",
    "outputId": "df4cab70-71d4-4057-ebb0-d4c3aca0d6ec"
   },
   "outputs": [
    {
     "data": {
      "text/html": [
       "\n",
       "  <div id=\"df-0b03043e-7333-480d-9074-6994b1f3a1d0\">\n",
       "    <div class=\"colab-df-container\">\n",
       "      <div>\n",
       "<style scoped>\n",
       "    .dataframe tbody tr th:only-of-type {\n",
       "        vertical-align: middle;\n",
       "    }\n",
       "\n",
       "    .dataframe tbody tr th {\n",
       "        vertical-align: top;\n",
       "    }\n",
       "\n",
       "    .dataframe thead th {\n",
       "        text-align: right;\n",
       "    }\n",
       "</style>\n",
       "<table border=\"1\" class=\"dataframe\">\n",
       "  <thead>\n",
       "    <tr style=\"text-align: right;\">\n",
       "      <th></th>\n",
       "      <th>Open</th>\n",
       "      <th>Close</th>\n",
       "      <th>AveragePrice</th>\n",
       "    </tr>\n",
       "  </thead>\n",
       "  <tbody>\n",
       "    <tr>\n",
       "      <th>0</th>\n",
       "      <td>465.864014</td>\n",
       "      <td>457.334015</td>\n",
       "      <td>461.599015</td>\n",
       "    </tr>\n",
       "    <tr>\n",
       "      <th>1</th>\n",
       "      <td>456.859985</td>\n",
       "      <td>424.440002</td>\n",
       "      <td>440.649993</td>\n",
       "    </tr>\n",
       "    <tr>\n",
       "      <th>2</th>\n",
       "      <td>424.102997</td>\n",
       "      <td>394.795990</td>\n",
       "      <td>409.449494</td>\n",
       "    </tr>\n",
       "    <tr>\n",
       "      <th>3</th>\n",
       "      <td>394.673004</td>\n",
       "      <td>408.903992</td>\n",
       "      <td>401.788498</td>\n",
       "    </tr>\n",
       "    <tr>\n",
       "      <th>4</th>\n",
       "      <td>408.084991</td>\n",
       "      <td>398.821014</td>\n",
       "      <td>403.453003</td>\n",
       "    </tr>\n",
       "  </tbody>\n",
       "</table>\n",
       "</div>\n",
       "      <button class=\"colab-df-convert\" onclick=\"convertToInteractive('df-0b03043e-7333-480d-9074-6994b1f3a1d0')\"\n",
       "              title=\"Convert this dataframe to an interactive table.\"\n",
       "              style=\"display:none;\">\n",
       "        \n",
       "  <svg xmlns=\"http://www.w3.org/2000/svg\" height=\"24px\"viewBox=\"0 0 24 24\"\n",
       "       width=\"24px\">\n",
       "    <path d=\"M0 0h24v24H0V0z\" fill=\"none\"/>\n",
       "    <path d=\"M18.56 5.44l.94 2.06.94-2.06 2.06-.94-2.06-.94-.94-2.06-.94 2.06-2.06.94zm-11 1L8.5 8.5l.94-2.06 2.06-.94-2.06-.94L8.5 2.5l-.94 2.06-2.06.94zm10 10l.94 2.06.94-2.06 2.06-.94-2.06-.94-.94-2.06-.94 2.06-2.06.94z\"/><path d=\"M17.41 7.96l-1.37-1.37c-.4-.4-.92-.59-1.43-.59-.52 0-1.04.2-1.43.59L10.3 9.45l-7.72 7.72c-.78.78-.78 2.05 0 2.83L4 21.41c.39.39.9.59 1.41.59.51 0 1.02-.2 1.41-.59l7.78-7.78 2.81-2.81c.8-.78.8-2.07 0-2.86zM5.41 20L4 18.59l7.72-7.72 1.47 1.35L5.41 20z\"/>\n",
       "  </svg>\n",
       "      </button>\n",
       "      \n",
       "  <style>\n",
       "    .colab-df-container {\n",
       "      display:flex;\n",
       "      flex-wrap:wrap;\n",
       "      gap: 12px;\n",
       "    }\n",
       "\n",
       "    .colab-df-convert {\n",
       "      background-color: #E8F0FE;\n",
       "      border: none;\n",
       "      border-radius: 50%;\n",
       "      cursor: pointer;\n",
       "      display: none;\n",
       "      fill: #1967D2;\n",
       "      height: 32px;\n",
       "      padding: 0 0 0 0;\n",
       "      width: 32px;\n",
       "    }\n",
       "\n",
       "    .colab-df-convert:hover {\n",
       "      background-color: #E2EBFA;\n",
       "      box-shadow: 0px 1px 2px rgba(60, 64, 67, 0.3), 0px 1px 3px 1px rgba(60, 64, 67, 0.15);\n",
       "      fill: #174EA6;\n",
       "    }\n",
       "\n",
       "    [theme=dark] .colab-df-convert {\n",
       "      background-color: #3B4455;\n",
       "      fill: #D2E3FC;\n",
       "    }\n",
       "\n",
       "    [theme=dark] .colab-df-convert:hover {\n",
       "      background-color: #434B5C;\n",
       "      box-shadow: 0px 1px 3px 1px rgba(0, 0, 0, 0.15);\n",
       "      filter: drop-shadow(0px 1px 2px rgba(0, 0, 0, 0.3));\n",
       "      fill: #FFFFFF;\n",
       "    }\n",
       "  </style>\n",
       "\n",
       "      <script>\n",
       "        const buttonEl =\n",
       "          document.querySelector('#df-0b03043e-7333-480d-9074-6994b1f3a1d0 button.colab-df-convert');\n",
       "        buttonEl.style.display =\n",
       "          google.colab.kernel.accessAllowed ? 'block' : 'none';\n",
       "\n",
       "        async function convertToInteractive(key) {\n",
       "          const element = document.querySelector('#df-0b03043e-7333-480d-9074-6994b1f3a1d0');\n",
       "          const dataTable =\n",
       "            await google.colab.kernel.invokeFunction('convertToInteractive',\n",
       "                                                     [key], {});\n",
       "          if (!dataTable) return;\n",
       "\n",
       "          const docLinkHtml = 'Like what you see? Visit the ' +\n",
       "            '<a target=\"_blank\" href=https://colab.research.google.com/notebooks/data_table.ipynb>data table notebook</a>'\n",
       "            + ' to learn more about interactive tables.';\n",
       "          element.innerHTML = '';\n",
       "          dataTable['output_type'] = 'display_data';\n",
       "          await google.colab.output.renderOutput(dataTable, element);\n",
       "          const docLink = document.createElement('div');\n",
       "          docLink.innerHTML = docLinkHtml;\n",
       "          element.appendChild(docLink);\n",
       "        }\n",
       "      </script>\n",
       "    </div>\n",
       "  </div>\n",
       "  "
      ],
      "text/plain": [
       "         Open       Close  AveragePrice\n",
       "0  465.864014  457.334015    461.599015\n",
       "1  456.859985  424.440002    440.649993\n",
       "2  424.102997  394.795990    409.449494\n",
       "3  394.673004  408.903992    401.788498\n",
       "4  408.084991  398.821014    403.453003"
      ]
     },
     "execution_count": 12,
     "metadata": {},
     "output_type": "execute_result"
    }
   ],
   "source": [
    "reducedData.head()"
   ]
  },
  {
   "cell_type": "code",
   "execution_count": 13,
   "id": "bc098937",
   "metadata": {
    "colab": {
     "base_uri": "https://localhost:8080/"
    },
    "id": "bc098937",
    "outputId": "069e1fdb-1ec4-4917-9a0c-0ea499f17bb3"
   },
   "outputs": [
    {
     "data": {
      "text/plain": [
       "0    461.599015\n",
       "1    440.649993\n",
       "2    409.449494\n",
       "3    401.788498\n",
       "4    403.453003\n",
       "Name: AveragePrice, dtype: float64"
      ]
     },
     "execution_count": 13,
     "metadata": {},
     "output_type": "execute_result"
    }
   ],
   "source": [
    "myPrice = reducedData.loc[:,'AveragePrice']\n",
    "myPrice.head()"
   ]
  },
  {
   "cell_type": "code",
   "execution_count": 14,
   "id": "d2b71b3e",
   "metadata": {
    "colab": {
     "base_uri": "https://localhost:8080/",
     "height": 375
    },
    "id": "d2b71b3e",
    "outputId": "eb6900e1-bab4-469e-9008-80b8e02df778"
   },
   "outputs": [
    {
     "data": {
      "image/png": "[encoded data removed]",
      "text/plain": [
       "<Figure size 720x432 with 1 Axes>"
      ]
     },
     "metadata": {
      "needs_background": "light"
     },
     "output_type": "display_data"
    }
   ],
   "source": [
    "plt.plot(myPrice);"
   ]
  },
  {
   "cell_type": "markdown",
   "id": "947d9c33",
   "metadata": {
    "id": "947d9c33"
   },
   "source": [
    "## Components of a Time series"
   ]
  },
  {
   "cell_type": "code",
   "execution_count": 15,
   "id": "6ff7518f",
   "metadata": {
    "colab": {
     "base_uri": "https://localhost:8080/",
     "height": 441
    },
    "id": "6ff7518f",
    "outputId": "34233e21-b707-421d-9de0-d15ddd1bf18d"
   },
   "outputs": [
    {
     "data": {
      "image/png": "[encoded data removed]",
      "text/plain": [
       "<Figure size 720x432 with 4 Axes>"
      ]
     },
     "metadata": {
      "needs_background": "light"
     },
     "output_type": "display_data"
    }
   ],
   "source": [
    "from statsmodels.tsa.seasonal import seasonal_decompose\n",
    "decomposition = seasonal_decompose(myPrice, period = 3)\n",
    "\n",
    "trend = decomposition.trend\n",
    "seasonal = decomposition.seasonal\n",
    "residual = decomposition.resid\n",
    "\n",
    "plt.subplot(411)\n",
    "plt.plot(myPrice, label='Original')\n",
    "plt.legend(loc='best')\n",
    "plt.subplot(412)\n",
    "plt.plot(trend, label='Trend')\n",
    "plt.legend(loc='best')\n",
    "plt.subplot(413)\n",
    "plt.plot(seasonal, label='Seasonality')\n",
    "plt.legend(loc='best')\n",
    "plt.subplot(414)\n",
    "plt.plot(residual, label='Residuals')\n",
    "plt.legend(loc='best')\n",
    "plt.tight_layout()"
   ]
  },
  {
   "cell_type": "markdown",
   "id": "2483d5b2",
   "metadata": {
    "id": "2483d5b2"
   },
   "source": [
    "## Normality test"
   ]
  },
  {
   "cell_type": "code",
   "execution_count": 16,
   "id": "dba3b90f",
   "metadata": {
    "colab": {
     "base_uri": "https://localhost:8080/",
     "height": 374
    },
    "id": "dba3b90f",
    "outputId": "526b11e0-aefd-4cc2-eacb-24c25b6f3156"
   },
   "outputs": [
    {
     "data": {
      "image/png": "[encoded data removed]",
      "text/plain": [
       "<Figure size 720x432 with 1 Axes>"
      ]
     },
     "metadata": {
      "needs_background": "light"
     },
     "output_type": "display_data"
    }
   ],
   "source": [
    "from pandas import Series\n",
    "from matplotlib import pyplot\n",
    "myPrice.hist()\n",
    "pyplot.show()"
   ]
  },
  {
   "cell_type": "code",
   "execution_count": 17,
   "id": "64dfe288",
   "metadata": {
    "colab": {
     "base_uri": "https://localhost:8080/",
     "height": 388
    },
    "id": "64dfe288",
    "outputId": "a29d5232-eb65-482d-c343-8880f8d4203e"
   },
   "outputs": [
    {
     "data": {
      "image/png": "[encoded data removed]",
      "text/plain": [
       "<Figure size 720x432 with 1 Axes>"
      ]
     },
     "metadata": {
      "needs_background": "light"
     },
     "output_type": "display_data"
    }
   ],
   "source": [
    "# 1-1 plot\n",
    "from statsmodels.graphics.gofplots import qqplot\n",
    "qqplot(myPrice, line='s')\n",
    "pyplot.show()"
   ]
  },
  {
   "cell_type": "markdown",
   "id": "82392ffe",
   "metadata": {
    "id": "82392ffe"
   },
   "source": [
    "## Shapiro Test"
   ]
  },
  {
   "cell_type": "code",
   "execution_count": 18,
   "id": "bd1bbb0f",
   "metadata": {
    "id": "bd1bbb0f"
   },
   "outputs": [],
   "source": [
    "from scipy.stats import shapiro"
   ]
  },
  {
   "cell_type": "code",
   "execution_count": 19,
   "id": "187a835c",
   "metadata": {
    "id": "187a835c"
   },
   "outputs": [],
   "source": [
    "def shapiroTest(ts):\n",
    "    val = shapiro(ts)\n",
    "    statistic = round(val[0],3)\n",
    "    pval = round(val[1],3)\n",
    "    criticalVal = 0.05\n",
    "    if pval > criticalVal:\n",
    "        print(\"a Gaussian case\")\n",
    "    else:\n",
    "        print('a non Gaussian case')"
   ]
  },
  {
   "cell_type": "code",
   "execution_count": 20,
   "id": "086d0394",
   "metadata": {
    "colab": {
     "base_uri": "https://localhost:8080/"
    },
    "id": "086d0394",
    "outputId": "4600af8f-bf7e-4667-d1b7-5492f90bf861"
   },
   "outputs": [
    {
     "name": "stdout",
     "output_type": "stream",
     "text": [
      "a non Gaussian case\n"
     ]
    }
   ],
   "source": [
    "shapiroTest(myPrice)"
   ]
  },
  {
   "cell_type": "markdown",
   "id": "1af13b5d",
   "metadata": {
    "id": "1af13b5d"
   },
   "source": [
    "## Stationary"
   ]
  },
  {
   "cell_type": "code",
   "execution_count": 21,
   "id": "1e49b6c8",
   "metadata": {
    "id": "1e49b6c8"
   },
   "outputs": [],
   "source": [
    "# Let us investigate if the mean and the variance of the series change through time\n",
    "def rolling_Mean_STF(timeseries):\n",
    "    \n",
    "    #Determing rolling statistics\n",
    "    rolmean = timeseries.rolling(window=12).mean()\n",
    "    \n",
    "    rolstd = timeseries.rolling(window=12).std()\n",
    "    \n",
    "    #Plot rolling statistics\n",
    "    orig = plt.plot(timeseries, color='blue', label='Original')\n",
    "    mean = plt.plot(rolmean, color='red', label='Rolling Mean')\n",
    "    std = plt.plot(rolstd, color='black', label='Rolling Std')\n",
    "    plt.legend(loc='best')\n",
    "    plt.title('Rolling Mean & Standard Deviation')\n",
    "    plt.show(block=False)"
   ]
  },
  {
   "cell_type": "code",
   "execution_count": 22,
   "id": "1c0d66f1",
   "metadata": {
    "colab": {
     "base_uri": "https://localhost:8080/",
     "height": 390
    },
    "id": "1c0d66f1",
    "outputId": "71319000-ddc0-4510-863f-cf13819c1672"
   },
   "outputs": [
    {
     "data": {
      "image/png": "[encoded data removed]",
      "text/plain": [
       "<Figure size 720x432 with 1 Axes>"
      ]
     },
     "metadata": {
      "needs_background": "light"
     },
     "output_type": "display_data"
    }
   ],
   "source": [
    "rolling_Mean_STF(myPrice)"
   ]
  },
  {
   "cell_type": "code",
   "execution_count": 23,
   "id": "171ffd26",
   "metadata": {
    "id": "171ffd26"
   },
   "outputs": [],
   "source": [
    "ts = myPrice"
   ]
  },
  {
   "cell_type": "code",
   "execution_count": 24,
   "id": "d7556874",
   "metadata": {
    "colab": {
     "base_uri": "https://localhost:8080/"
    },
    "id": "d7556874",
    "outputId": "e0a7bce3-3dc5-4fd7-bd64-022b24f5046e"
   },
   "outputs": [
    {
     "data": {
      "text/plain": [
       "0         461.599015\n",
       "1         440.649993\n",
       "2         409.449494\n",
       "3         401.788498\n",
       "4         403.453003\n",
       "            ...     \n",
       "2742    41162.064454\n",
       "2743    41716.457032\n",
       "2744    42628.667968\n",
       "2745    43423.792969\n",
       "2746    44177.320312\n",
       "Name: AveragePrice, Length: 2747, dtype: float64"
      ]
     },
     "execution_count": 24,
     "metadata": {},
     "output_type": "execute_result"
    }
   ],
   "source": [
    "ts.loc[:'AveragePrive']"
   ]
  },
  {
   "cell_type": "code",
   "execution_count": 25,
   "id": "0c8916a3",
   "metadata": {
    "id": "0c8916a3"
   },
   "outputs": [],
   "source": [
    "def mean_checker(timeSeries):\n",
    "    thres = int(len(timeSeries)/3)\n",
    "    firstPart = timeSeries[1:thres]\n",
    "    secondPart = timeSeries[(thres+1):(2*thres)]\n",
    "    thirdPart = timeSeries[(2*thres+1):]\n",
    "    \n",
    "    print('the length of the first part is', len(firstPart))\n",
    "    print('the length of the second part is', len(secondPart))\n",
    "    print('the length of the third part is', len(thirdPart)) \n",
    "    print('---------------------------------------------------')\n",
    "    \n",
    "    firstMean = firstPart.mean()\n",
    "    secondMean = secondPart.mean()\n",
    "    thirdMean = thirdPart.mean()\n",
    "    \n",
    "    print('---------------------------------------------------')\n",
    "    print('the mean of the first part is', firstMean)\n",
    "    print('the mean of the second part is', secondMean)\n",
    "    print('the mean of the third part is', thirdMean)"
   ]
  },
  {
   "cell_type": "code",
   "execution_count": 26,
   "id": "30625354",
   "metadata": {
    "colab": {
     "base_uri": "https://localhost:8080/"
    },
    "id": "30625354",
    "outputId": "70541e50-740f-4c25-c0bf-640c47e94484"
   },
   "outputs": [
    {
     "name": "stdout",
     "output_type": "stream",
     "text": [
      "the length of the first part is 914\n",
      "the length of the second part is 914\n",
      "the length of the third part is 916\n",
      "---------------------------------------------------\n",
      "---------------------------------------------------\n",
      "the mean of the first part is 466.1912039316192\n",
      "the mean of the second part is 6579.149983860503\n",
      "the mean of the third part is 27971.860162131004\n"
     ]
    }
   ],
   "source": [
    "mean_checker(ts)"
   ]
  },
  {
   "cell_type": "code",
   "execution_count": null,
   "id": "2b0182d0",
   "metadata": {
    "id": "2b0182d0"
   },
   "outputs": [],
   "source": [
    "# The above output shows that the mean is changing per intervals"
   ]
  },
  {
   "cell_type": "markdown",
   "id": "081d65ae",
   "metadata": {
    "id": "081d65ae"
   },
   "source": [
    "## Dickey Fuller Test"
   ]
  },
  {
   "cell_type": "code",
   "execution_count": 27,
   "id": "b2ffcd8f",
   "metadata": {
    "id": "b2ffcd8f"
   },
   "outputs": [],
   "source": [
    "# let us use the Dickey Fuller Test\n",
    "from statsmodels.tsa.stattools import adfuller\n",
    "def stationary_test(timeseries):\n",
    "    #Perform Dickey-Fuller Test:\n",
    "    print('Results of Dickey-Fuller Test:')\n",
    "    dftest = adfuller(timeseries, autolag='AIC')\n",
    "    dfoutput = pd.Series(dftest[0:4], index=['Test Statistic','p-value','#Lags Used','Number of Observations Used'])\n",
    "    for key, value in dftest[4].items():\n",
    "        dfoutput['Critical Value (%s)'%key] = value\n",
    "    print(dfoutput)"
   ]
  },
  {
   "cell_type": "code",
   "execution_count": 28,
   "id": "ee4b3446",
   "metadata": {
    "colab": {
     "base_uri": "https://localhost:8080/"
    },
    "id": "ee4b3446",
    "outputId": "e5f1cd3f-2b66-4ce6-f52f-93755b72423c"
   },
   "outputs": [
    {
     "name": "stdout",
     "output_type": "stream",
     "text": [
      "Results of Dickey-Fuller Test:\n",
      "Test Statistic                   -0.818012\n",
      "p-value                           0.813774\n",
      "#Lags Used                       28.000000\n",
      "Number of Observations Used    2718.000000\n",
      "Critical Value (1%)              -3.432758\n",
      "Critical Value (5%)              -2.862604\n",
      "Critical Value (10%)             -2.567336\n",
      "dtype: float64\n"
     ]
    }
   ],
   "source": [
    "stationary_test(myPrice)"
   ]
  },
  {
   "cell_type": "code",
   "execution_count": null,
   "id": "50b91883",
   "metadata": {
    "id": "50b91883"
   },
   "outputs": [],
   "source": [
    "# if p-value is smaller than 0.05, it means data is stationary.\n",
    "#For this data p=0.81, so data is not stationary. \n",
    "#Now lets apply some procedure to make our data stationary."
   ]
  },
  {
   "cell_type": "markdown",
   "id": "2j7cG88hGllB",
   "metadata": {
    "id": "2j7cG88hGllB"
   },
   "source": [
    "### Log Transformation"
   ]
  },
  {
   "cell_type": "code",
   "execution_count": 29,
   "id": "d2242815",
   "metadata": {
    "id": "d2242815"
   },
   "outputs": [],
   "source": [
    "logTs = np.log(ts) #take log of ts"
   ]
  },
  {
   "cell_type": "code",
   "execution_count": 30,
   "id": "ef620ea9",
   "metadata": {
    "colab": {
     "base_uri": "https://localhost:8080/",
     "height": 391
    },
    "id": "ef620ea9",
    "outputId": "6cf8e3a6-0581-46d5-defc-b91c6c24ee2a"
   },
   "outputs": [
    {
     "data": {
      "text/plain": [
       "[<matplotlib.lines.Line2D at 0x7fb411019d90>]"
      ]
     },
     "execution_count": 30,
     "metadata": {},
     "output_type": "execute_result"
    },
    {
     "data": {
      "image/png": "[encoded data removed]",
      "text/plain": [
       "<Figure size 720x432 with 1 Axes>"
      ]
     },
     "metadata": {
      "needs_background": "light"
     },
     "output_type": "display_data"
    }
   ],
   "source": [
    "plt.plot(logTs)"
   ]
  },
  {
   "cell_type": "code",
   "execution_count": 31,
   "id": "38d955f5",
   "metadata": {
    "colab": {
     "base_uri": "https://localhost:8080/",
     "height": 390
    },
    "id": "38d955f5",
    "outputId": "1978b4a1-c737-4495-e16d-673eb80604ff"
   },
   "outputs": [
    {
     "data": {
      "image/png": "[encoded data removed]",
      "text/plain": [
       "<Figure size 720x432 with 1 Axes>"
      ]
     },
     "metadata": {
      "needs_background": "light"
     },
     "output_type": "display_data"
    }
   ],
   "source": [
    "rolling_Mean_STF(logTs)"
   ]
  },
  {
   "cell_type": "code",
   "execution_count": 32,
   "id": "O3CSRzFGG_uS",
   "metadata": {
    "colab": {
     "base_uri": "https://localhost:8080/"
    },
    "id": "O3CSRzFGG_uS",
    "outputId": "e05d9e4e-d07c-4557-993e-8e6877ac96f8"
   },
   "outputs": [
    {
     "name": "stdout",
     "output_type": "stream",
     "text": [
      "the length of the first part is 914\n",
      "the length of the second part is 914\n",
      "the length of the third part is 916\n",
      "---------------------------------------------------\n",
      "---------------------------------------------------\n",
      "the mean of the first part is 6.027651652697417\n",
      "the mean of the second part is 8.63018229103578\n",
      "the mean of the third part is 9.944796169889853\n"
     ]
    }
   ],
   "source": [
    "mean_checker(logTs)"
   ]
  },
  {
   "cell_type": "code",
   "execution_count": 33,
   "id": "TAsXQr0FHDiK",
   "metadata": {
    "colab": {
     "base_uri": "https://localhost:8080/"
    },
    "id": "TAsXQr0FHDiK",
    "outputId": "70da3f3c-27c8-4d23-a111-09db5ffef907"
   },
   "outputs": [
    {
     "name": "stdout",
     "output_type": "stream",
     "text": [
      "Results of Dickey-Fuller Test:\n",
      "Test Statistic                   -0.530175\n",
      "p-value                           0.885992\n",
      "#Lags Used                       22.000000\n",
      "Number of Observations Used    2724.000000\n",
      "Critical Value (1%)              -3.432753\n",
      "Critical Value (5%)              -2.862602\n",
      "Critical Value (10%)             -2.567335\n",
      "dtype: float64\n"
     ]
    }
   ],
   "source": [
    "stationary_test(logTs)"
   ]
  },
  {
   "cell_type": "code",
   "execution_count": null,
   "id": "bd64c7b6",
   "metadata": {
    "id": "P9iu2QixHQ0R"
   },
   "outputs": [],
   "source": [
    "# still p is greater than 0.05"
   ]
  },
  {
   "cell_type": "markdown",
   "id": "V4O7bokCHLlY",
   "metadata": {
    "id": "V4O7bokCHLlY"
   },
   "source": [
    "## Differencing"
   ]
  },
  {
   "cell_type": "code",
   "execution_count": 34,
   "id": "xUg0zVfyHGjy",
   "metadata": {
    "colab": {
     "base_uri": "https://localhost:8080/"
    },
    "id": "xUg0zVfyHGjy",
    "outputId": "f9722e63-f074-4702-8d7f-6975ab9f7245"
   },
   "outputs": [
    {
     "data": {
      "text/plain": [
       "0              NaN\n",
       "1       -20.949021\n",
       "2       -31.200500\n",
       "3        -7.660996\n",
       "4         1.664505\n",
       "           ...    \n",
       "2742   -557.550781\n",
       "2743    554.392578\n",
       "2744    912.210937\n",
       "2745    795.125001\n",
       "2746    753.527343\n",
       "Name: AveragePrice, Length: 2747, dtype: float64"
      ]
     },
     "execution_count": 34,
     "metadata": {},
     "output_type": "execute_result"
    }
   ],
   "source": [
    "# Take first difference:\n",
    "differencedSeries = ts - ts.shift()\n",
    "differencedSeries\n"
   ]
  },
  {
   "cell_type": "code",
   "execution_count": 35,
   "id": "awVlcZCoHb75",
   "metadata": {
    "colab": {
     "base_uri": "https://localhost:8080/",
     "height": 374
    },
    "id": "awVlcZCoHb75",
    "outputId": "41a4b1dd-24f8-4665-f78a-93acc2050e5e"
   },
   "outputs": [
    {
     "data": {
      "image/png": "[encoded data removed]",
      "text/plain": [
       "<Figure size 720x432 with 1 Axes>"
      ]
     },
     "metadata": {
      "needs_background": "light"
     },
     "output_type": "display_data"
    }
   ],
   "source": [
    "differencedSeries.dropna(inplace=True) # first day has no difference so delete first day.\n",
    "plt.plot(differencedSeries);"
   ]
  },
  {
   "cell_type": "code",
   "execution_count": 36,
   "id": "Wad7oTXBHgsR",
   "metadata": {
    "colab": {
     "base_uri": "https://localhost:8080/",
     "height": 390
    },
    "id": "Wad7oTXBHgsR",
    "outputId": "b78c1f24-0ee0-4015-92a4-38de8126283d"
   },
   "outputs": [
    {
     "data": {
      "image/png": "[encoded data removed]",
      "text/plain": [
       "<Figure size 720x432 with 1 Axes>"
      ]
     },
     "metadata": {
      "needs_background": "light"
     },
     "output_type": "display_data"
    }
   ],
   "source": [
    "# Let us apply our Rolling_Mean_STD(logTs)\n",
    "rolling_Mean_STF(differencedSeries)"
   ]
  },
  {
   "cell_type": "code",
   "execution_count": 37,
   "id": "uTPbls3WHjg7",
   "metadata": {
    "colab": {
     "base_uri": "https://localhost:8080/"
    },
    "id": "uTPbls3WHjg7",
    "outputId": "15b2638a-55fc-4130-ea5f-7db61721202e"
   },
   "outputs": [
    {
     "name": "stdout",
     "output_type": "stream",
     "text": [
      "the length of the first part is 914\n",
      "the length of the second part is 914\n",
      "the length of the third part is 915\n",
      "---------------------------------------------------\n",
      "---------------------------------------------------\n",
      "the mean of the first part is 0.6620185902625821\n",
      "the mean of the second part is 9.861851865973739\n",
      "the mean of the third part is 37.30061902349727\n"
     ]
    }
   ],
   "source": [
    "mean_checker(differencedSeries)"
   ]
  },
  {
   "cell_type": "code",
   "execution_count": 38,
   "id": "ukPxTZILHmYy",
   "metadata": {
    "colab": {
     "base_uri": "https://localhost:8080/"
    },
    "id": "ukPxTZILHmYy",
    "outputId": "8d0f12bb-ec07-4291-91ae-85ae6699cdb9"
   },
   "outputs": [
    {
     "name": "stdout",
     "output_type": "stream",
     "text": [
      "Results of Dickey-Fuller Test:\n",
      "Test Statistic                -8.674264e+00\n",
      "p-value                        4.460095e-14\n",
      "#Lags Used                     2.700000e+01\n",
      "Number of Observations Used    2.718000e+03\n",
      "Critical Value (1%)           -3.432758e+00\n",
      "Critical Value (5%)           -2.862604e+00\n",
      "Critical Value (10%)          -2.567336e+00\n",
      "dtype: float64\n"
     ]
    }
   ],
   "source": [
    "#Ducker fuller test\n",
    "stationary_test(differencedSeries)"
   ]
  },
  {
   "cell_type": "code",
   "execution_count": null,
   "id": "v8fIivrJHpty",
   "metadata": {
    "id": "v8fIivrJHpty"
   },
   "outputs": [],
   "source": [
    "# after differencing step data become stationary. p is smaller than 0.05"
   ]
  },
  {
   "cell_type": "markdown",
   "id": "ZXDYRGD5IRwW",
   "metadata": {
    "id": "ZXDYRGD5IRwW"
   },
   "source": [
    "## Time Series Forecasting"
   ]
  },
  {
   "cell_type": "markdown",
   "id": "WTugn5FFI5XN",
   "metadata": {
    "id": "WTugn5FFI5XN"
   },
   "source": [
    "## autocorrealtion function (ACF)"
   ]
  },
  {
   "cell_type": "code",
   "execution_count": 39,
   "id": "ppc3ZpV5ITec",
   "metadata": {
    "id": "ppc3ZpV5ITec"
   },
   "outputs": [],
   "source": [
    "from statsmodels.tsa.stattools import acf, pacf"
   ]
  },
  {
   "cell_type": "code",
   "execution_count": 40,
   "id": "OLVsuJTnI9w5",
   "metadata": {
    "colab": {
     "base_uri": "https://localhost:8080/",
     "height": 445
    },
    "id": "OLVsuJTnI9w5",
    "outputId": "18c005db-63a6-4f01-9882-a7c84d623c57"
   },
   "outputs": [
    {
     "name": "stderr",
     "output_type": "stream",
     "text": [
      "/usr/local/lib/python3.8/dist-packages/statsmodels/tsa/stattools.py:667: FutureWarning: fft=True will become the default after the release of the 0.12 release of statsmodels. To suppress this warning, explicitly set fft=False.\n",
      "  warnings.warn(\n"
     ]
    },
    {
     "data": {
      "image/png": "[encoded data removed]",
      "text/plain": [
       "<Figure size 720x432 with 1 Axes>"
      ]
     },
     "metadata": {
      "needs_background": "light"
     },
     "output_type": "display_data"
    }
   ],
   "source": [
    "acValues = acf(differencedSeries, nlags=20)\n",
    "#PLot ACF\n",
    "plt.subplot(121)\n",
    "plt.plot(acValues)\n",
    "plt.axhline(y=0,linestyle='--',color='gray')\n",
    "plt.axhline(y=-1.96/np.sqrt(len(differencedSeries)),linestyle='--',color='gray')\n",
    "plt.axhline(y=1.96/np.sqrt(len(differencedSeries)),linestyle='--',color='gray')\n",
    "plt.title('Autocorrelation Function');"
   ]
  },
  {
   "cell_type": "markdown",
   "id": "tP7uejveJFIA",
   "metadata": {
    "id": "tP7uejveJFIA"
   },
   "source": [
    "##  Partial autocorrealtion function (PACF)"
   ]
  },
  {
   "cell_type": "code",
   "execution_count": 41,
   "id": "6Pa5OCX6JA6J",
   "metadata": {
    "colab": {
     "base_uri": "https://localhost:8080/",
     "height": 390
    },
    "id": "6Pa5OCX6JA6J",
    "outputId": "25e8b777-c781-461b-92fb-227ded44e087"
   },
   "outputs": [
    {
     "data": {
      "image/png": "[encoded data removed]",
      "text/plain": [
       "<Figure size 720x432 with 1 Axes>"
      ]
     },
     "metadata": {
      "needs_background": "light"
     },
     "output_type": "display_data"
    }
   ],
   "source": [
    "pacValues = pacf(differencedSeries, nlags=20, method='ols')\n",
    "plt.subplot(122)\n",
    "plt.plot(pacValues)\n",
    "plt.axhline(y=0,linestyle='--',color='gray')\n",
    "plt.axhline(y=-1.96/np.sqrt(len(differencedSeries)),linestyle='--',color='gray')\n",
    "plt.axhline(y=1.96/np.sqrt(len(differencedSeries)),linestyle='--',color='gray')\n",
    "plt.title('Autocorrelation Function');"
   ]
  },
  {
   "cell_type": "code",
   "execution_count": 43,
   "id": "ZMO7BV7SJesh",
   "metadata": {
    "id": "ZMO7BV7SJesh"
   },
   "outputs": [],
   "source": [
    "#This function takes three lists and created a bigger list that will contain all the\n",
    "# possible three combinations we can create form those three lists.\n",
    "def comb_p_d_q(pVals,dVals,qVals):\n",
    "    return [(p,d,q) for p in pVals for d in dVals for q in qVals]"
   ]
  },
  {
   "cell_type": "code",
   "execution_count": 44,
   "id": "CS82lyzWJvdR",
   "metadata": {
    "colab": {
     "base_uri": "https://localhost:8080/"
    },
    "id": "CS82lyzWJvdR",
    "outputId": "6f54f26d-9775-49ef-ad62-227b9411ffc0"
   },
   "outputs": [
    {
     "data": {
      "text/plain": [
       "[(0, 0, 0),\n",
       " (0, 0, 1),\n",
       " (0, 0, 2),\n",
       " (0, 1, 0),\n",
       " (0, 1, 1),\n",
       " (0, 1, 2),\n",
       " (0, 2, 0),\n",
       " (0, 2, 1),\n",
       " (0, 2, 2),\n",
       " (1, 0, 0),\n",
       " (1, 0, 1),\n",
       " (1, 0, 2),\n",
       " (1, 1, 0),\n",
       " (1, 1, 1),\n",
       " (1, 1, 2),\n",
       " (1, 2, 0),\n",
       " (1, 2, 1),\n",
       " (1, 2, 2),\n",
       " (2, 0, 0),\n",
       " (2, 0, 1),\n",
       " (2, 0, 2),\n",
       " (2, 1, 0),\n",
       " (2, 1, 1),\n",
       " (2, 1, 2),\n",
       " (2, 2, 0),\n",
       " (2, 2, 1),\n",
       " (2, 2, 2)]"
      ]
     },
     "execution_count": 44,
     "metadata": {},
     "output_type": "execute_result"
    }
   ],
   "source": [
    "comb_p_d_q([0,1,2],[0,1,2],[0,1,2])"
   ]
  },
  {
   "cell_type": "code",
   "execution_count": 45,
   "id": "7acvXtXQK93R",
   "metadata": {
    "id": "7acvXtXQK93R"
   },
   "outputs": [],
   "source": [
    "from statsmodels.tsa.arima.model import ARIMA"
   ]
  },
  {
   "cell_type": "code",
   "execution_count": 46,
   "id": "HL9wWWNoLDIp",
   "metadata": {
    "colab": {
     "base_uri": "https://localhost:8080/"
    },
    "id": "HL9wWWNoLDIp",
    "outputId": "75b31c09-3695-4b7c-baf4-cbb4fd5946ce"
   },
   "outputs": [
    {
     "name": "stdout",
     "output_type": "stream",
     "text": [
      "Looking in indexes: https://pypi.org/simple, https://us-python.pkg.dev/colab-wheels/public/simple/\n",
      "Requirement already satisfied: statsmodels==0.12.2 in /usr/local/lib/python3.8/dist-packages (0.12.2)\n",
      "Requirement already satisfied: numpy>=1.15 in /usr/local/lib/python3.8/dist-packages (from statsmodels==0.12.2) (1.21.6)\n",
      "Requirement already satisfied: patsy>=0.5 in /usr/local/lib/python3.8/dist-packages (from statsmodels==0.12.2) (0.5.3)\n",
      "Requirement already satisfied: scipy>=1.1 in /usr/local/lib/python3.8/dist-packages (from statsmodels==0.12.2) (1.7.3)\n",
      "Requirement already satisfied: pandas>=0.21 in /usr/local/lib/python3.8/dist-packages (from statsmodels==0.12.2) (1.3.5)\n",
      "Requirement already satisfied: pytz>=2017.3 in /usr/local/lib/python3.8/dist-packages (from pandas>=0.21->statsmodels==0.12.2) (2022.7)\n",
      "Requirement already satisfied: python-dateutil>=2.7.3 in /usr/local/lib/python3.8/dist-packages (from pandas>=0.21->statsmodels==0.12.2) (2.8.2)\n",
      "Requirement already satisfied: six in /usr/local/lib/python3.8/dist-packages (from patsy>=0.5->statsmodels==0.12.2) (1.15.0)\n"
     ]
    }
   ],
   "source": [
    "pip install statsmodels==0.12.2"
   ]
  },
  {
   "cell_type": "code",
   "execution_count": 47,
   "id": "BNRhJmOXLG45",
   "metadata": {
    "id": "BNRhJmOXLG45"
   },
   "outputs": [],
   "source": [
    "# fit  with ARIMA\n",
    "def aic_finder(ts, model_order):\n",
    "    model = ARIMA(ts, order=model_order)\n",
    "    model_fit = model.fit()\n",
    "    aicval = model_fit.aic\n",
    "    if np.isfinite(aicval):\n",
    "        return aicval\n",
    "    else:\n",
    "        return 9999"
   ]
  },
  {
   "cell_type": "code",
   "execution_count": 48,
   "id": "8vbI10gYLKkR",
   "metadata": {
    "colab": {
     "base_uri": "https://localhost:8080/"
    },
    "id": "8vbI10gYLKkR",
    "outputId": "5e9a0886-4f95-45fa-e1f3-dc3e405ea7ea"
   },
   "outputs": [
    {
     "data": {
      "text/plain": [
       "40940.08266006732"
      ]
     },
     "execution_count": 48,
     "metadata": {},
     "output_type": "execute_result"
    }
   ],
   "source": [
    "aic_finder(myPrice.values,(2,0,1))"
   ]
  },
  {
   "cell_type": "code",
   "execution_count": 49,
   "id": "n3sMzC5bLNpp",
   "metadata": {
    "id": "n3sMzC5bLNpp"
   },
   "outputs": [],
   "source": [
    "#find best model\n",
    "def bestModel(timeseries,pVals,dVals,qVals):\n",
    "    all_models = comb_p_d_q(pVals,dVals,qVals)\n",
    "    \n",
    "    #Let us work on the parition of the Series\n",
    "    l = len(timeseries)\n",
    "    trainSize = int(l*0.75)\n",
    "    trainSet = timeseries[0:trainSize]\n",
    "    testSet = timeseries[(trainSize+1):]\n",
    "    aicVals = []\n",
    "    \n",
    "    for elem in all_models:\n",
    "        mm = aic_finder(trainSet,elem)\n",
    "        aicVals.append(mm)\n",
    "    print(\"The list of aic is:\", aicVals)\n",
    "    print(' ')\n",
    "    minVals = min(aicVals)\n",
    "    print('The smallest aic value is: ', minVals)\n",
    "    locMin = aicVals.index(minVals)\n",
    "    print('The locatoin of the smallest value of aicVals is:', locMin)\n",
    "    print('The corresponding model is:', all_models[locMin])"
   ]
  },
  {
   "cell_type": "code",
   "execution_count": 50,
   "id": "C8CGVnaVLUni",
   "metadata": {
    "colab": {
     "base_uri": "https://localhost:8080/"
    },
    "id": "C8CGVnaVLUni",
    "outputId": "9d40013e-57b3-4d46-e18e-06f99e53c207"
   },
   "outputs": [
    {
     "name": "stderr",
     "output_type": "stream",
     "text": [
      "/usr/local/lib/python3.8/dist-packages/statsmodels/tsa/statespace/sarimax.py:966: UserWarning: Non-stationary starting autoregressive parameters found. Using zeros as starting parameters.\n",
      "  warn('Non-stationary starting autoregressive parameters'\n",
      "/usr/local/lib/python3.8/dist-packages/statsmodels/tsa/statespace/sarimax.py:978: UserWarning: Non-invertible starting MA parameters found. Using zeros as starting parameters.\n",
      "  warn('Non-invertible starting MA parameters found.'\n"
     ]
    },
    {
     "name": "stdout",
     "output_type": "stream",
     "text": [
      "The list of aic is: [26499.193412770714, 26484.513079942975, 27145.105490833015, 26495.06597623351, 26500.889755171014, 26502.85717723769, 26893.212888881164, 26496.773619518677]\n",
      " \n",
      "The smallest aic value is:  26484.513079942975\n",
      "The locatoin of the smallest value of aicVals is: 1\n",
      "The corresponding model is: (1, 1, 2)\n"
     ]
    }
   ],
   "source": [
    "bestModel(myPrice.values,[1,2],[1,2],[1,2])"
   ]
  },
  {
   "cell_type": "code",
   "execution_count": 51,
   "id": "Td0cg3QvLhgZ",
   "metadata": {
    "id": "Td0cg3QvLhgZ"
   },
   "outputs": [],
   "source": [
    "# Forecasting is a key step of time series analysis. Thus, let us\n",
    "# try to do some forecasting. This will be done by using the best model, we found.\n",
    "from sklearn.metrics import mean_squared_error\n",
    "def prediction(timeseries, order):\n",
    "    from sklearn.metrics import mean_squared_error\n",
    "    # Let us work on the partition of the Series\n",
    "    l = len(timeseries)\n",
    "    trainSize = int(l*0.75)\n",
    "    trainSet = timeseries[0:trainSize]\n",
    "    testSet = timeseries[(trainSize+1):]\n",
    "    \n",
    "    print('the length of the train set is:', len(trainSet))\n",
    "    print('the length of the test set is:', len(testSet))\n",
    "    \n",
    "    trainSet = list(trainSet)\n",
    "    predictedValues= list()\n",
    "    g = lambda x: x[0]\n",
    "    \n",
    "    for i in range(len(testSet)):\n",
    "        model = ARIMA(trainSet, order=order)\n",
    "        model_fit = model.fit()\n",
    "        predictedVal = list(model_fit.forecast())\n",
    "        predictedVal = g(predictedVal)\n",
    "        predictedValues.append(predictedVal)\n",
    "        trainSet.append(predictedVal)\n",
    "        \n",
    "    print('The predicted values are:')\n",
    "    print(' ')\n",
    "    print(predictedValues)\n",
    "    \n",
    "    print('---------------------------------------------------------------')\n",
    "    print('The length of the list that contains the predicted values is:', len(predictedValues))\n",
    "    print('---------------------------------------------------------------')\n",
    "    \n",
    "    print('How much error we have made')\n",
    "    error = mean_squared_error(testSet, predictedValues)\n",
    "    print('The forecast error is:', error)\n",
    "    \n",
    "    return(predictedValues)"
   ]
  },
  {
   "cell_type": "code",
   "execution_count": 52,
   "id": "aPrCj9BdLr4Y",
   "metadata": {
    "colab": {
     "base_uri": "https://localhost:8080/"
    },
    "id": "aPrCj9BdLr4Y",
    "outputId": "2de71411-9f65-4631-848b-991d24590d21"
   },
   "outputs": [
    {
     "name": "stdout",
     "output_type": "stream",
     "text": [
      "the length of the train set is: 2060\n",
      "the length of the test set is: 686\n",
      "The predicted values are:\n",
      " \n",
      "[9906.997387229725, 9914.821635955343, 9915.02561515626, 9915.030855561108, 9915.03099719527, 9915.030963817038, 9915.030996945674, 9915.030967127397, 9915.030993963846, 9915.030970325843, 9915.030990827894, 9915.030972717592, 9915.030988426448, 9915.03097447108, 9915.03098641888, 9915.030975806993, 9915.030985077237, 9915.030976853084, 9915.030984037796, 9915.030977628723, 9915.030983241322, 9915.030978275634, 9915.030982724957, 9915.030978834535, 9915.030982326907, 9915.030979246525, 9915.030981987496, 9915.03097952499, 9915.03098168445, 9915.030979739475, 9915.030981437492, 9915.030979905741, 9915.030981271626, 9915.03098005942, 9915.030981138081, 9915.030980186959, 9915.030981039123, 9915.030980275145, 9915.030980950723, 9915.03098034686, 9915.030980878191, 9915.030980397807, 9915.030980821886, 9915.030980440763, 9915.030980776906, 9915.030980477657, 9915.030980747015, 9915.030980508578, 9915.030980721127, 9915.030980531803, 9915.030980701005, 9915.030980550646, 9915.030980682533, 9915.030980562602, 9915.030980668347, 9915.03098057359, 9915.030980657819, 9915.030980583246, 9915.030980649728, 9915.030980589927, 9915.030980643185, 9915.030980597092, 9915.030980639795, 9915.03098060254, 9915.030980635858, 9915.030980606336, 9915.030980633004, 9915.030980609343, 9915.030980630083, 9915.03098061141, 9915.030980628186, 9915.03098061357, 9915.030980626869, 9915.0309806151, 9915.030980625574, 9915.03098061621, 9915.030980624497, 9915.030980617144, 9915.030980623735, 9915.030980617832, 9915.03098062306, 9915.030980618425, 9915.030980622596, 9915.030980618913, 9915.03098062222, 9915.030980619298, 9915.03098062194, 9915.030980619651, 9915.030980621732, 9915.030980619877, 9915.030980621521, 9915.030980620051, 9915.030980621355, 9915.030980620199, 9915.03098062124, 9915.030980620319, 9915.030980621133, 9915.030980620397, 9915.030980621048, 9915.030980620468, 9915.030980620979, 9915.030980620517, 9915.03098062093, 9915.030980620566, 9915.030980620892, 9915.030980620599, 9915.030980620855, 9915.030980620624, 9915.03098062083, 9915.030980620648, 9915.030980620808, 9915.03098062066, 9915.03098062079, 9915.030980620675, 9915.030980620775, 9915.030980620682, 9915.030980620762, 9915.030980620688, 9915.030980620752, 9915.030980620695, 9915.030980620744, 9915.030980620699, 9915.030980620742, 9915.030980620706, 9915.030980620737, 9915.030980620708, 9915.030980620733, 9915.03098062071, 9915.030980620728, 9915.030980620708, 9915.030980620724, 9915.03098062071, 9915.030980620722, 9915.030980620713, 9915.030980620722, 9915.030980620711, 9915.030980620719, 9915.03098062071, 9915.030980620715, 9915.03098062071, 9915.030980620715, 9915.030980620711, 9915.030980620715, 9915.030980620711, 9915.030980620717, 9915.030980620715, 9915.030980620719, 9915.030980620719, 9915.030980620722, 9915.03098062072, 9915.030980620722, 9915.03098062072, 9915.030980620722, 9915.03098062072, 9915.03098062072, 9915.03098062072, 9915.030980620722, 9915.03098062072, 9915.03098062072, 9915.030980620719, 9915.030980620719, 9915.030980620719, 9915.03098062072, 9915.03098062072, 9915.03098062072, 9915.03098062072, 9915.03098062072, 9915.030980620719, 9915.030980620719, 9915.030980620719, 9915.03098062072, 9915.03098062072, 9915.03098062072, 9915.03098062072, 9915.03098062072, 9915.030980620719, 9915.030980620719, 9915.030980620719, 9915.030980620719, 9915.030980620719, 9915.030980620719, 9915.030980620719, 9915.030980620719, 9915.030980620719, 9915.030980620719, 9915.030980620719, 9915.03098062072, 9915.03098062072, 9915.03098062072, 9915.03098062072, 9915.03098062072, 9915.03098062072, 9915.03098062072, 9915.03098062072, 9915.03098062072, 9915.03098062072, 9915.03098062072, 9915.03098062072, 9915.03098062072, 9915.03098062072, 9915.03098062072, 9915.03098062072, 9915.03098062072, 9915.03098062072, 9915.03098062072, 9915.03098062072, 9915.03098062072, 9915.03098062072, 9915.03098062072, 9915.03098062072, 9915.03098062072, 9915.03098062072, 9915.030980620722, 9915.030980620722, 9915.030980620722, 9915.030980620722, 9915.030980620722, 9915.030980620722, 9915.030980620722, 9915.030980620722, 9915.030980620722, 9915.030980620722, 9915.030980620722, 9915.030980620722, 9915.030980620722, 9915.030980620722, 9915.030980620722, 9915.030980620722, 9915.030980620722, 9915.030980620722, 9915.030980620722, 9915.030980620722, 9915.030980620722, 9915.030980620722, 9915.030980620722, 9915.03098062072, 9915.03098062072, 9915.03098062072, 9915.03098062072, 9915.03098062072, 9915.03098062072, 9915.03098062072, 9915.03098062072, 9915.03098062072, 9915.03098062072, 9915.03098062072, 9915.03098062072, 9915.03098062072, 9915.03098062072, 9915.03098062072, 9915.03098062072, 9915.03098062072, 9915.03098062072, 9915.03098062072, 9915.03098062072, 9915.03098062072, 9915.03098062072, 9915.03098062072, 9915.03098062072, 9915.03098062072, 9915.03098062072, 9915.03098062072, 9915.03098062072, 9915.03098062072, 9915.03098062072, 9915.03098062072, 9915.03098062072, 9915.03098062072, 9915.03098062072, 9915.03098062072, 9915.03098062072, 9915.03098062072, 9915.03098062072, 9915.03098062072, 9915.03098062072, 9915.03098062072, 9915.03098062072, 9915.03098062072, 9915.03098062072, 9915.03098062072, 9915.03098062072, 9915.03098062072, 9915.03098062072, 9915.03098062072, 9915.03098062072, 9915.03098062072, 9915.03098062072, 9915.03098062072, 9915.03098062072, 9915.03098062072, 9915.03098062072, 9915.03098062072, 9915.03098062072, 9915.03098062072, 9915.03098062072, 9915.030980620719, 9915.030980620719, 9915.030980620719, 9915.030980620719, 9915.030980620719, 9915.030980620719, 9915.030980620719, 9915.030980620719, 9915.030980620719, 9915.030980620719, 9915.030980620719, 9915.030980620719, 9915.030980620719, 9915.030980620719, 9915.030980620719, 9915.030980620719, 9915.030980620719, 9915.030980620719, 9915.030980620719, 9915.030980620719, 9915.030980620719, 9915.030980620719, 9915.030980620719, 9915.030980620719, 9915.030980620719, 9915.030980620719, 9915.030980620719, 9915.030980620719, 9915.030980620719, 9915.030980620719, 9915.030980620719, 9915.030980620719, 9915.030980620719, 9915.030980620719, 9915.030980620719, 9915.030980620719, 9915.030980620719, 9915.030980620719, 9915.030980620719, 9915.030980620719, 9915.030980620719, 9915.030980620719, 9915.030980620719, 9915.030980620719, 9915.030980620719, 9915.030980620719, 9915.030980620719, 9915.030980620719, 9915.030980620719, 9915.030980620719, 9915.030980620719, 9915.030980620719, 9915.030980620719, 9915.030980620719, 9915.030980620719, 9915.030980620719, 9915.030980620719, 9915.030980620719, 9915.030980620719, 9915.030980620719, 9915.030980620719, 9915.030980620719, 9915.030980620719, 9915.030980620719, 9915.030980620719, 9915.030980620719, 9915.030980620719, 9915.030980620719, 9915.030980620719, 9915.030980620719, 9915.030980620719, 9915.030980620719, 9915.030980620719, 9915.030980620719, 9915.030980620719, 9915.030980620719, 9915.030980620719, 9915.030980620719, 9915.030980620719, 9915.030980620719, 9915.030980620719, 9915.030980620719, 9915.030980620719, 9915.030980620719, 9915.030980620719, 9915.030980620719, 9915.030980620719, 9915.030980620719, 9915.030980620719, 9915.030980620719, 9915.030980620719, 9915.030980620719, 9915.030980620719, 9915.030980620719, 9915.030980620719, 9915.030980620719, 9915.030980620719, 9915.030980620719, 9915.030980620719, 9915.030980620719, 9915.030980620719, 9915.030980620719, 9915.030980620719, 9915.030980620719, 9915.030980620719, 9915.030980620719, 9915.030980620719, 9915.030980620719, 9915.030980620719, 9915.030980620719, 9915.030980620719, 9915.030980620719, 9915.030980620719, 9915.030980620719, 9915.030980620719, 9915.030980620719, 9915.030980620719, 9915.030980620719, 9915.030980620719, 9915.030980620719, 9915.030980620719, 9915.030980620719, 9915.030980620719, 9915.030980620719, 9915.030980620719, 9915.030980620719, 9915.030980620719, 9915.030980620719, 9915.030980620719, 9915.030980620719, 9915.030980620719, 9915.030980620719, 9915.030980620719, 9915.030980620719, 9915.030980620719, 9915.030980620719, 9915.030980620719, 9915.030980620719, 9915.030980620719, 9915.030980620719, 9915.030980620719, 9915.030980620719, 9915.030980620719, 9915.030980620719, 9915.030980620719, 9915.030980620719, 9915.030980620719, 9915.030980620719, 9915.030980620719, 9915.030980620719, 9915.030980620719, 9915.030980620719, 9915.030980620719, 9915.030980620719, 9915.030980620719, 9915.030980620719, 9915.030980620719, 9915.030980620719, 9915.030980620719, 9915.030980620719, 9915.030980620719, 9915.030980620719, 9915.030980620719, 9915.030980620719, 9915.030980620719, 9915.030980620719, 9915.030980620719, 9915.030980620719, 9915.030980620719, 9915.030980620719, 9915.030980620719, 9915.030980620719, 9915.030980620719, 9915.030980620719, 9915.030980620719, 9915.030980620719, 9915.030980620719, 9915.030980620719, 9915.030980620719, 9915.030980620719, 9915.030980620719, 9915.030980620719, 9915.030980620719, 9915.030980620719, 9915.030980620719, 9915.030980620719, 9915.030980620719, 9915.030980620719, 9915.030980620719, 9915.030980620719, 9915.030980620719, 9915.030980620719, 9915.030980620719, 9915.030980620719, 9915.030980620719, 9915.030980620719, 9915.030980620719, 9915.030980620719, 9915.030980620719, 9915.030980620719, 9915.030980620719, 9915.030980620719, 9915.030980620719, 9915.030980620719, 9915.030980620719, 9915.030980620719, 9915.030980620719, 9915.030980620719, 9915.030980620719, 9915.030980620719, 9915.030980620719, 9915.030980620719, 9915.030980620719, 9915.030980620719, 9915.030980620719, 9915.030980620719, 9915.030980620719, 9915.030980620719, 9915.030980620719, 9915.030980620719, 9915.030980620719, 9915.030980620719, 9915.030980620719, 9915.030980620719, 9915.030980620719, 9915.030980620719, 9915.030980620719, 9915.030980620719, 9915.030980620719, 9915.030980620719, 9915.030980620719, 9915.030980620719, 9915.030980620719, 9915.030980620719, 9915.030980620719, 9915.030980620719, 9915.030980620719, 9915.030980620719, 9915.030980620719, 9915.030980620719, 9915.030980620719, 9915.030980620719, 9915.030980620719, 9915.030980620719, 9915.030980620719, 9915.030980620719, 9915.030980620719, 9915.030980620719, 9915.030980620719, 9915.030980620719, 9915.030980620719, 9915.030980620719, 9915.030980620719, 9915.030980620719, 9915.030980620719, 9915.030980620719, 9915.030980620719, 9915.030980620719, 9915.030980620719, 9915.030980620719, 9915.030980620719, 9915.030980620719, 9915.030980620719, 9915.030980620719, 9915.030980620719, 9915.030980620719, 9915.030980620719, 9915.030980620719, 9915.030980620719, 9915.030980620719, 9915.030980620719, 9915.030980620719, 9915.030980620719, 9915.030980620719, 9915.030980620719, 9915.030980620719, 9915.030980620719, 9915.030980620719, 9915.030980620719, 9915.030980620719, 9915.030980620719, 9915.030980620719, 9915.030980620719, 9915.030980620719, 9915.030980620719, 9915.030980620719, 9915.030980620719, 9915.030980620719, 9915.030980620719, 9915.030980620719, 9915.030980620719, 9915.030980620719, 9915.030980620719, 9915.030980620719, 9915.030980620719, 9915.030980620719, 9915.030980620719, 9915.030980620719, 9915.030980620719, 9915.030980620719, 9915.030980620719, 9915.030980620719, 9915.030980620719, 9915.030980620719, 9915.030980620719, 9915.030980620719, 9915.030980620719, 9915.030980620719, 9915.030980620719, 9915.030980620719, 9915.030980620719, 9915.030980620719, 9915.030980620719, 9915.030980620719, 9915.030980620719, 9915.030980620719, 9915.030980620719, 9915.030980620719, 9915.030980620719, 9915.030980620719, 9915.030980620719, 9915.030980620719, 9915.030980620719, 9915.030980620719, 9915.030980620719, 9915.030980620719, 9915.030980620719, 9915.030980620719, 9915.030980620719, 9915.030980620719, 9915.030980620719, 9915.030980620719, 9915.030980620719, 9915.030980620719, 9915.030980620719, 9915.030980620719, 9915.030980620719, 9915.030980620719, 9915.030980620719, 9915.030980620719, 9915.030980620719, 9915.030980620719, 9915.030980620719, 9915.030980620719, 9915.030980620719, 9915.030980620719, 9915.030980620719, 9915.030980620719, 9915.030980620719, 9915.030980620719, 9915.030980620717, 9915.030980620717, 9915.030980620717, 9915.030980620717, 9915.030980620717, 9915.030980620717, 9915.030980620717, 9915.030980620717, 9915.030980620717, 9915.030980620717, 9915.030980620717, 9915.030980620717, 9915.030980620717, 9915.030980620717, 9915.030980620717, 9915.030980620717, 9915.030980620717, 9915.030980620717, 9915.030980620717, 9915.030980620717, 9915.030980620717, 9915.030980620717, 9915.030980620717, 9915.030980620717, 9915.030980620717, 9915.030980620717, 9915.030980620717, 9915.030980620717, 9915.030980620717, 9915.030980620717, 9915.030980620717, 9915.030980620717, 9915.030980620717, 9915.030980620717, 9915.030980620717, 9915.030980620717, 9915.030980620717, 9915.030980620717, 9915.030980620717, 9915.030980620717, 9915.030980620717]\n",
      "---------------------------------------------------------------\n",
      "The length of the list that contains the predicted values is: 686\n",
      "---------------------------------------------------------------\n",
      "How much error we have made\n",
      "The forecast error is: 927188215.0859325\n"
     ]
    }
   ],
   "source": [
    "testVal = prediction(myPrice.values,(1,1,1))"
   ]
  },
  {
   "cell_type": "code",
   "execution_count": 53,
   "id": "4WpXKglwLuc5",
   "metadata": {
    "colab": {
     "base_uri": "https://localhost:8080/"
    },
    "id": "4WpXKglwLuc5",
    "outputId": "9e3c9815-5110-48df-8137-1c96644ffada"
   },
   "outputs": [
    {
     "data": {
      "text/plain": [
       "[9906.997387229725,\n",
       " 9914.821635955343,\n",
       " 9915.02561515626,\n",
       " 9915.030855561108,\n",
       " 9915.03099719527,\n",
       " 9915.030963817038,\n",
       " 9915.030996945674,\n",
       " 9915.030967127397,\n",
       " 9915.030993963846,\n",
       " 9915.030970325843,\n",
       " 9915.030990827894,\n",
       " 9915.030972717592,\n",
       " 9915.030988426448,\n",
       " 9915.03097447108,\n",
       " 9915.03098641888,\n",
       " 9915.030975806993,\n",
       " 9915.030985077237,\n",
       " 9915.030976853084,\n",
       " 9915.030984037796,\n",
       " 9915.030977628723,\n",
       " 9915.030983241322,\n",
       " 9915.030978275634,\n",
       " 9915.030982724957,\n",
       " 9915.030978834535,\n",
       " 9915.030982326907,\n",
       " 9915.030979246525,\n",
       " 9915.030981987496,\n",
       " 9915.03097952499,\n",
       " 9915.03098168445,\n",
       " 9915.030979739475,\n",
       " 9915.030981437492,\n",
       " 9915.030979905741,\n",
       " 9915.030981271626,\n",
       " 9915.03098005942,\n",
       " 9915.030981138081,\n",
       " 9915.030980186959,\n",
       " 9915.030981039123,\n",
       " 9915.030980275145,\n",
       " 9915.030980950723,\n",
       " 9915.03098034686,\n",
       " 9915.030980878191,\n",
       " 9915.030980397807,\n",
       " 9915.030980821886,\n",
       " 9915.030980440763,\n",
       " 9915.030980776906,\n",
       " 9915.030980477657,\n",
       " 9915.030980747015,\n",
       " 9915.030980508578,\n",
       " 9915.030980721127,\n",
       " 9915.030980531803,\n",
       " 9915.030980701005,\n",
       " 9915.030980550646,\n",
       " 9915.030980682533,\n",
       " 9915.030980562602,\n",
       " 9915.030980668347,\n",
       " 9915.03098057359,\n",
       " 9915.030980657819,\n",
       " 9915.030980583246,\n",
       " 9915.030980649728,\n",
       " 9915.030980589927,\n",
       " 9915.030980643185,\n",
       " 9915.030980597092,\n",
       " 9915.030980639795,\n",
       " 9915.03098060254,\n",
       " 9915.030980635858,\n",
       " 9915.030980606336,\n",
       " 9915.030980633004,\n",
       " 9915.030980609343,\n",
       " 9915.030980630083,\n",
       " 9915.03098061141,\n",
       " 9915.030980628186,\n",
       " 9915.03098061357,\n",
       " 9915.030980626869,\n",
       " 9915.0309806151,\n",
       " 9915.030980625574,\n",
       " 9915.03098061621,\n",
       " 9915.030980624497,\n",
       " 9915.030980617144,\n",
       " 9915.030980623735,\n",
       " 9915.030980617832,\n",
       " 9915.03098062306,\n",
       " 9915.030980618425,\n",
       " 9915.030980622596,\n",
       " 9915.030980618913,\n",
       " 9915.03098062222,\n",
       " 9915.030980619298,\n",
       " 9915.03098062194,\n",
       " 9915.030980619651,\n",
       " 9915.030980621732,\n",
       " 9915.030980619877,\n",
       " 9915.030980621521,\n",
       " 9915.030980620051,\n",
       " 9915.030980621355,\n",
       " 9915.030980620199,\n",
       " 9915.03098062124,\n",
       " 9915.030980620319,\n",
       " 9915.030980621133,\n",
       " 9915.030980620397,\n",
       " 9915.030980621048,\n",
       " 9915.030980620468,\n",
       " 9915.030980620979,\n",
       " 9915.030980620517,\n",
       " 9915.03098062093,\n",
       " 9915.030980620566,\n",
       " 9915.030980620892,\n",
       " 9915.030980620599,\n",
       " 9915.030980620855,\n",
       " 9915.030980620624,\n",
       " 9915.03098062083,\n",
       " 9915.030980620648,\n",
       " 9915.030980620808,\n",
       " 9915.03098062066,\n",
       " 9915.03098062079,\n",
       " 9915.030980620675,\n",
       " 9915.030980620775,\n",
       " 9915.030980620682,\n",
       " 9915.030980620762,\n",
       " 9915.030980620688,\n",
       " 9915.030980620752,\n",
       " 9915.030980620695,\n",
       " 9915.030980620744,\n",
       " 9915.030980620699,\n",
       " 9915.030980620742,\n",
       " 9915.030980620706,\n",
       " 9915.030980620737,\n",
       " 9915.030980620708,\n",
       " 9915.030980620733,\n",
       " 9915.03098062071,\n",
       " 9915.030980620728,\n",
       " 9915.030980620708,\n",
       " 9915.030980620724,\n",
       " 9915.03098062071,\n",
       " 9915.030980620722,\n",
       " 9915.030980620713,\n",
       " 9915.030980620722,\n",
       " 9915.030980620711,\n",
       " 9915.030980620719,\n",
       " 9915.03098062071,\n",
       " 9915.030980620715,\n",
       " 9915.03098062071,\n",
       " 9915.030980620715,\n",
       " 9915.030980620711,\n",
       " 9915.030980620715,\n",
       " 9915.030980620711,\n",
       " 9915.030980620717,\n",
       " 9915.030980620715,\n",
       " 9915.030980620719,\n",
       " 9915.030980620719,\n",
       " 9915.030980620722,\n",
       " 9915.03098062072,\n",
       " 9915.030980620722,\n",
       " 9915.03098062072,\n",
       " 9915.030980620722,\n",
       " 9915.03098062072,\n",
       " 9915.03098062072,\n",
       " 9915.03098062072,\n",
       " 9915.030980620722,\n",
       " 9915.03098062072,\n",
       " 9915.03098062072,\n",
       " 9915.030980620719,\n",
       " 9915.030980620719,\n",
       " 9915.030980620719,\n",
       " 9915.03098062072,\n",
       " 9915.03098062072,\n",
       " 9915.03098062072,\n",
       " 9915.03098062072,\n",
       " 9915.03098062072,\n",
       " 9915.030980620719,\n",
       " 9915.030980620719,\n",
       " 9915.030980620719,\n",
       " 9915.03098062072,\n",
       " 9915.03098062072,\n",
       " 9915.03098062072,\n",
       " 9915.03098062072,\n",
       " 9915.03098062072,\n",
       " 9915.030980620719,\n",
       " 9915.030980620719,\n",
       " 9915.030980620719,\n",
       " 9915.030980620719,\n",
       " 9915.030980620719,\n",
       " 9915.030980620719,\n",
       " 9915.030980620719,\n",
       " 9915.030980620719,\n",
       " 9915.030980620719,\n",
       " 9915.030980620719,\n",
       " 9915.030980620719,\n",
       " 9915.03098062072,\n",
       " 9915.03098062072,\n",
       " 9915.03098062072,\n",
       " 9915.03098062072,\n",
       " 9915.03098062072,\n",
       " 9915.03098062072,\n",
       " 9915.03098062072,\n",
       " 9915.03098062072,\n",
       " 9915.03098062072,\n",
       " 9915.03098062072,\n",
       " 9915.03098062072,\n",
       " 9915.03098062072,\n",
       " 9915.03098062072,\n",
       " 9915.03098062072,\n",
       " 9915.03098062072,\n",
       " 9915.03098062072,\n",
       " 9915.03098062072,\n",
       " 9915.03098062072,\n",
       " 9915.03098062072,\n",
       " 9915.03098062072,\n",
       " 9915.03098062072,\n",
       " 9915.03098062072,\n",
       " 9915.03098062072,\n",
       " 9915.03098062072,\n",
       " 9915.03098062072,\n",
       " 9915.03098062072,\n",
       " 9915.030980620722,\n",
       " 9915.030980620722,\n",
       " 9915.030980620722,\n",
       " 9915.030980620722,\n",
       " 9915.030980620722,\n",
       " 9915.030980620722,\n",
       " 9915.030980620722,\n",
       " 9915.030980620722,\n",
       " 9915.030980620722,\n",
       " 9915.030980620722,\n",
       " 9915.030980620722,\n",
       " 9915.030980620722,\n",
       " 9915.030980620722,\n",
       " 9915.030980620722,\n",
       " 9915.030980620722,\n",
       " 9915.030980620722,\n",
       " 9915.030980620722,\n",
       " 9915.030980620722,\n",
       " 9915.030980620722,\n",
       " 9915.030980620722,\n",
       " 9915.030980620722,\n",
       " 9915.030980620722,\n",
       " 9915.030980620722,\n",
       " 9915.03098062072,\n",
       " 9915.03098062072,\n",
       " 9915.03098062072,\n",
       " 9915.03098062072,\n",
       " 9915.03098062072,\n",
       " 9915.03098062072,\n",
       " 9915.03098062072,\n",
       " 9915.03098062072,\n",
       " 9915.03098062072,\n",
       " 9915.03098062072,\n",
       " 9915.03098062072,\n",
       " 9915.03098062072,\n",
       " 9915.03098062072,\n",
       " 9915.03098062072,\n",
       " 9915.03098062072,\n",
       " 9915.03098062072,\n",
       " 9915.03098062072,\n",
       " 9915.03098062072,\n",
       " 9915.03098062072,\n",
       " 9915.03098062072,\n",
       " 9915.03098062072,\n",
       " 9915.03098062072,\n",
       " 9915.03098062072,\n",
       " 9915.03098062072,\n",
       " 9915.03098062072,\n",
       " 9915.03098062072,\n",
       " 9915.03098062072,\n",
       " 9915.03098062072,\n",
       " 9915.03098062072,\n",
       " 9915.03098062072,\n",
       " 9915.03098062072,\n",
       " 9915.03098062072,\n",
       " 9915.03098062072,\n",
       " 9915.03098062072,\n",
       " 9915.03098062072,\n",
       " 9915.03098062072,\n",
       " 9915.03098062072,\n",
       " 9915.03098062072,\n",
       " 9915.03098062072,\n",
       " 9915.03098062072,\n",
       " 9915.03098062072,\n",
       " 9915.03098062072,\n",
       " 9915.03098062072,\n",
       " 9915.03098062072,\n",
       " 9915.03098062072,\n",
       " 9915.03098062072,\n",
       " 9915.03098062072,\n",
       " 9915.03098062072,\n",
       " 9915.03098062072,\n",
       " 9915.03098062072,\n",
       " 9915.03098062072,\n",
       " 9915.03098062072,\n",
       " 9915.03098062072,\n",
       " 9915.03098062072,\n",
       " 9915.03098062072,\n",
       " 9915.03098062072,\n",
       " 9915.03098062072,\n",
       " 9915.03098062072,\n",
       " 9915.03098062072,\n",
       " 9915.03098062072,\n",
       " 9915.030980620719,\n",
       " 9915.030980620719,\n",
       " 9915.030980620719,\n",
       " 9915.030980620719,\n",
       " 9915.030980620719,\n",
       " 9915.030980620719,\n",
       " 9915.030980620719,\n",
       " 9915.030980620719,\n",
       " 9915.030980620719,\n",
       " 9915.030980620719,\n",
       " 9915.030980620719,\n",
       " 9915.030980620719,\n",
       " 9915.030980620719,\n",
       " 9915.030980620719,\n",
       " 9915.030980620719,\n",
       " 9915.030980620719,\n",
       " 9915.030980620719,\n",
       " 9915.030980620719,\n",
       " 9915.030980620719,\n",
       " 9915.030980620719,\n",
       " 9915.030980620719,\n",
       " 9915.030980620719,\n",
       " 9915.030980620719,\n",
       " 9915.030980620719,\n",
       " 9915.030980620719,\n",
       " 9915.030980620719,\n",
       " 9915.030980620719,\n",
       " 9915.030980620719,\n",
       " 9915.030980620719,\n",
       " 9915.030980620719,\n",
       " 9915.030980620719,\n",
       " 9915.030980620719,\n",
       " 9915.030980620719,\n",
       " 9915.030980620719,\n",
       " 9915.030980620719,\n",
       " 9915.030980620719,\n",
       " 9915.030980620719,\n",
       " 9915.030980620719,\n",
       " 9915.030980620719,\n",
       " 9915.030980620719,\n",
       " 9915.030980620719,\n",
       " 9915.030980620719,\n",
       " 9915.030980620719,\n",
       " 9915.030980620719,\n",
       " 9915.030980620719,\n",
       " 9915.030980620719,\n",
       " 9915.030980620719,\n",
       " 9915.030980620719,\n",
       " 9915.030980620719,\n",
       " 9915.030980620719,\n",
       " 9915.030980620719,\n",
       " 9915.030980620719,\n",
       " 9915.030980620719,\n",
       " 9915.030980620719,\n",
       " 9915.030980620719,\n",
       " 9915.030980620719,\n",
       " 9915.030980620719,\n",
       " 9915.030980620719,\n",
       " 9915.030980620719,\n",
       " 9915.030980620719,\n",
       " 9915.030980620719,\n",
       " 9915.030980620719,\n",
       " 9915.030980620719,\n",
       " 9915.030980620719,\n",
       " 9915.030980620719,\n",
       " 9915.030980620719,\n",
       " 9915.030980620719,\n",
       " 9915.030980620719,\n",
       " 9915.030980620719,\n",
       " 9915.030980620719,\n",
       " 9915.030980620719,\n",
       " 9915.030980620719,\n",
       " 9915.030980620719,\n",
       " 9915.030980620719,\n",
       " 9915.030980620719,\n",
       " 9915.030980620719,\n",
       " 9915.030980620719,\n",
       " 9915.030980620719,\n",
       " 9915.030980620719,\n",
       " 9915.030980620719,\n",
       " 9915.030980620719,\n",
       " 9915.030980620719,\n",
       " 9915.030980620719,\n",
       " 9915.030980620719,\n",
       " 9915.030980620719,\n",
       " 9915.030980620719,\n",
       " 9915.030980620719,\n",
       " 9915.030980620719,\n",
       " 9915.030980620719,\n",
       " 9915.030980620719,\n",
       " 9915.030980620719,\n",
       " 9915.030980620719,\n",
       " 9915.030980620719,\n",
       " 9915.030980620719,\n",
       " 9915.030980620719,\n",
       " 9915.030980620719,\n",
       " 9915.030980620719,\n",
       " 9915.030980620719,\n",
       " 9915.030980620719,\n",
       " 9915.030980620719,\n",
       " 9915.030980620719,\n",
       " 9915.030980620719,\n",
       " 9915.030980620719,\n",
       " 9915.030980620719,\n",
       " 9915.030980620719,\n",
       " 9915.030980620719,\n",
       " 9915.030980620719,\n",
       " 9915.030980620719,\n",
       " 9915.030980620719,\n",
       " 9915.030980620719,\n",
       " 9915.030980620719,\n",
       " 9915.030980620719,\n",
       " 9915.030980620719,\n",
       " 9915.030980620719,\n",
       " 9915.030980620719,\n",
       " 9915.030980620719,\n",
       " 9915.030980620719,\n",
       " 9915.030980620719,\n",
       " 9915.030980620719,\n",
       " 9915.030980620719,\n",
       " 9915.030980620719,\n",
       " 9915.030980620719,\n",
       " 9915.030980620719,\n",
       " 9915.030980620719,\n",
       " 9915.030980620719,\n",
       " 9915.030980620719,\n",
       " 9915.030980620719,\n",
       " 9915.030980620719,\n",
       " 9915.030980620719,\n",
       " 9915.030980620719,\n",
       " 9915.030980620719,\n",
       " 9915.030980620719,\n",
       " 9915.030980620719,\n",
       " 9915.030980620719,\n",
       " 9915.030980620719,\n",
       " 9915.030980620719,\n",
       " 9915.030980620719,\n",
       " 9915.030980620719,\n",
       " 9915.030980620719,\n",
       " 9915.030980620719,\n",
       " 9915.030980620719,\n",
       " 9915.030980620719,\n",
       " 9915.030980620719,\n",
       " 9915.030980620719,\n",
       " 9915.030980620719,\n",
       " 9915.030980620719,\n",
       " 9915.030980620719,\n",
       " 9915.030980620719,\n",
       " 9915.030980620719,\n",
       " 9915.030980620719,\n",
       " 9915.030980620719,\n",
       " 9915.030980620719,\n",
       " 9915.030980620719,\n",
       " 9915.030980620719,\n",
       " 9915.030980620719,\n",
       " 9915.030980620719,\n",
       " 9915.030980620719,\n",
       " 9915.030980620719,\n",
       " 9915.030980620719,\n",
       " 9915.030980620719,\n",
       " 9915.030980620719,\n",
       " 9915.030980620719,\n",
       " 9915.030980620719,\n",
       " 9915.030980620719,\n",
       " 9915.030980620719,\n",
       " 9915.030980620719,\n",
       " 9915.030980620719,\n",
       " 9915.030980620719,\n",
       " 9915.030980620719,\n",
       " 9915.030980620719,\n",
       " 9915.030980620719,\n",
       " 9915.030980620719,\n",
       " 9915.030980620719,\n",
       " 9915.030980620719,\n",
       " 9915.030980620719,\n",
       " 9915.030980620719,\n",
       " 9915.030980620719,\n",
       " 9915.030980620719,\n",
       " 9915.030980620719,\n",
       " 9915.030980620719,\n",
       " 9915.030980620719,\n",
       " 9915.030980620719,\n",
       " 9915.030980620719,\n",
       " 9915.030980620719,\n",
       " 9915.030980620719,\n",
       " 9915.030980620719,\n",
       " 9915.030980620719,\n",
       " 9915.030980620719,\n",
       " 9915.030980620719,\n",
       " 9915.030980620719,\n",
       " 9915.030980620719,\n",
       " 9915.030980620719,\n",
       " 9915.030980620719,\n",
       " 9915.030980620719,\n",
       " 9915.030980620719,\n",
       " 9915.030980620719,\n",
       " 9915.030980620719,\n",
       " 9915.030980620719,\n",
       " 9915.030980620719,\n",
       " 9915.030980620719,\n",
       " 9915.030980620719,\n",
       " 9915.030980620719,\n",
       " 9915.030980620719,\n",
       " 9915.030980620719,\n",
       " 9915.030980620719,\n",
       " 9915.030980620719,\n",
       " 9915.030980620719,\n",
       " 9915.030980620719,\n",
       " 9915.030980620719,\n",
       " 9915.030980620719,\n",
       " 9915.030980620719,\n",
       " 9915.030980620719,\n",
       " 9915.030980620719,\n",
       " 9915.030980620719,\n",
       " 9915.030980620719,\n",
       " 9915.030980620719,\n",
       " 9915.030980620719,\n",
       " 9915.030980620719,\n",
       " 9915.030980620719,\n",
       " 9915.030980620719,\n",
       " 9915.030980620719,\n",
       " 9915.030980620719,\n",
       " 9915.030980620719,\n",
       " 9915.030980620719,\n",
       " 9915.030980620719,\n",
       " 9915.030980620719,\n",
       " 9915.030980620719,\n",
       " 9915.030980620719,\n",
       " 9915.030980620719,\n",
       " 9915.030980620719,\n",
       " 9915.030980620719,\n",
       " 9915.030980620719,\n",
       " 9915.030980620719,\n",
       " 9915.030980620719,\n",
       " 9915.030980620719,\n",
       " 9915.030980620719,\n",
       " 9915.030980620719,\n",
       " 9915.030980620719,\n",
       " 9915.030980620719,\n",
       " 9915.030980620719,\n",
       " 9915.030980620719,\n",
       " 9915.030980620719,\n",
       " 9915.030980620719,\n",
       " 9915.030980620719,\n",
       " 9915.030980620719,\n",
       " 9915.030980620719,\n",
       " 9915.030980620719,\n",
       " 9915.030980620719,\n",
       " 9915.030980620719,\n",
       " 9915.030980620719,\n",
       " 9915.030980620719,\n",
       " 9915.030980620719,\n",
       " 9915.030980620719,\n",
       " 9915.030980620719,\n",
       " 9915.030980620719,\n",
       " 9915.030980620719,\n",
       " 9915.030980620719,\n",
       " 9915.030980620719,\n",
       " 9915.030980620719,\n",
       " 9915.030980620719,\n",
       " 9915.030980620719,\n",
       " 9915.030980620719,\n",
       " 9915.030980620719,\n",
       " 9915.030980620719,\n",
       " 9915.030980620719,\n",
       " 9915.030980620719,\n",
       " 9915.030980620719,\n",
       " 9915.030980620719,\n",
       " 9915.030980620719,\n",
       " 9915.030980620719,\n",
       " 9915.030980620719,\n",
       " 9915.030980620719,\n",
       " 9915.030980620719,\n",
       " 9915.030980620719,\n",
       " 9915.030980620719,\n",
       " 9915.030980620719,\n",
       " 9915.030980620719,\n",
       " 9915.030980620719,\n",
       " 9915.030980620719,\n",
       " 9915.030980620719,\n",
       " 9915.030980620719,\n",
       " 9915.030980620719,\n",
       " 9915.030980620719,\n",
       " 9915.030980620719,\n",
       " 9915.030980620719,\n",
       " 9915.030980620719,\n",
       " 9915.030980620719,\n",
       " 9915.030980620719,\n",
       " 9915.030980620719,\n",
       " 9915.030980620719,\n",
       " 9915.030980620719,\n",
       " 9915.030980620719,\n",
       " 9915.030980620719,\n",
       " 9915.030980620719,\n",
       " 9915.030980620719,\n",
       " 9915.030980620719,\n",
       " 9915.030980620719,\n",
       " 9915.030980620719,\n",
       " 9915.030980620719,\n",
       " 9915.030980620719,\n",
       " 9915.030980620719,\n",
       " 9915.030980620719,\n",
       " 9915.030980620719,\n",
       " 9915.030980620719,\n",
       " 9915.030980620719,\n",
       " 9915.030980620719,\n",
       " 9915.030980620719,\n",
       " 9915.030980620719,\n",
       " 9915.030980620719,\n",
       " 9915.030980620719,\n",
       " 9915.030980620719,\n",
       " 9915.030980620719,\n",
       " 9915.030980620719,\n",
       " 9915.030980620719,\n",
       " 9915.030980620719,\n",
       " 9915.030980620719,\n",
       " 9915.030980620719,\n",
       " 9915.030980620719,\n",
       " 9915.030980620719,\n",
       " 9915.030980620719,\n",
       " 9915.030980620719,\n",
       " 9915.030980620719,\n",
       " 9915.030980620719,\n",
       " 9915.030980620719,\n",
       " 9915.030980620719,\n",
       " 9915.030980620719,\n",
       " 9915.030980620719,\n",
       " 9915.030980620719,\n",
       " 9915.030980620719,\n",
       " 9915.030980620719,\n",
       " 9915.030980620719,\n",
       " 9915.030980620719,\n",
       " 9915.030980620719,\n",
       " 9915.030980620719,\n",
       " 9915.030980620719,\n",
       " 9915.030980620719,\n",
       " 9915.030980620719,\n",
       " 9915.030980620719,\n",
       " 9915.030980620719,\n",
       " 9915.030980620719,\n",
       " 9915.030980620719,\n",
       " 9915.030980620719,\n",
       " 9915.030980620719,\n",
       " 9915.030980620719,\n",
       " 9915.030980620719,\n",
       " 9915.030980620719,\n",
       " 9915.030980620719,\n",
       " 9915.030980620719,\n",
       " 9915.030980620719,\n",
       " 9915.030980620719,\n",
       " 9915.030980620717,\n",
       " 9915.030980620717,\n",
       " 9915.030980620717,\n",
       " 9915.030980620717,\n",
       " 9915.030980620717,\n",
       " 9915.030980620717,\n",
       " 9915.030980620717,\n",
       " 9915.030980620717,\n",
       " 9915.030980620717,\n",
       " 9915.030980620717,\n",
       " 9915.030980620717,\n",
       " 9915.030980620717,\n",
       " 9915.030980620717,\n",
       " 9915.030980620717,\n",
       " 9915.030980620717,\n",
       " 9915.030980620717,\n",
       " 9915.030980620717,\n",
       " 9915.030980620717,\n",
       " 9915.030980620717,\n",
       " 9915.030980620717,\n",
       " 9915.030980620717,\n",
       " 9915.030980620717,\n",
       " 9915.030980620717,\n",
       " 9915.030980620717,\n",
       " 9915.030980620717,\n",
       " 9915.030980620717,\n",
       " 9915.030980620717,\n",
       " 9915.030980620717,\n",
       " 9915.030980620717,\n",
       " 9915.030980620717,\n",
       " 9915.030980620717,\n",
       " 9915.030980620717,\n",
       " 9915.030980620717,\n",
       " 9915.030980620717,\n",
       " 9915.030980620717,\n",
       " 9915.030980620717,\n",
       " 9915.030980620717,\n",
       " 9915.030980620717,\n",
       " 9915.030980620717,\n",
       " 9915.030980620717,\n",
       " 9915.030980620717]"
      ]
     },
     "execution_count": 53,
     "metadata": {},
     "output_type": "execute_result"
    }
   ],
   "source": [
    "testVal"
   ]
  },
  {
   "cell_type": "code",
   "execution_count": null,
   "id": "yrQMmjxpNNYB",
   "metadata": {
    "id": "yrQMmjxpNNYB"
   },
   "outputs": [],
   "source": []
  }
 ],
 "metadata": {
  "accelerator": "GPU",
  "colab": {
   "machine_shape": "hm",
   "provenance": []
  },
  "gpuClass": "premium",
  "kernelspec": {
   "display_name": "Python 3 (ipykernel)",
   "language": "python",
   "name": "python3"
  },
  "language_info": {
   "codemirror_mode": {
    "name": "ipython",
    "version": 3
   },
   "file_extension": ".py",
   "mimetype": "text/x-python",
   "name": "python",
   "nbconvert_exporter": "python",
   "pygments_lexer": "ipython3",
   "version": "3.9.12"
  }
 },
 "nbformat": 4,
 "nbformat_minor": 5
}
