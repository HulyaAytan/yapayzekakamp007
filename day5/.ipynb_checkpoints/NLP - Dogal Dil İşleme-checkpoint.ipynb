{
 "cells": [
  {
   "cell_type": "markdown",
   "id": "5c3f427f",
   "metadata": {},
   "source": [
    "# Natural Language Processing  - Doğal Dil İşleme"
   ]
  },
  {
   "cell_type": "code",
   "execution_count": 1,
   "id": "2b06d618",
   "metadata": {},
   "outputs": [
    {
     "name": "stdout",
     "output_type": "stream",
     "text": [
      "Requirement already satisfied: nltk in c:\\users\\t\\anaconda3\\lib\\site-packages (3.7)\n",
      "Requirement already satisfied: regex>=2021.8.3 in c:\\users\\t\\anaconda3\\lib\\site-packages (from nltk) (2022.3.15)\n",
      "Requirement already satisfied: click in c:\\users\\t\\anaconda3\\lib\\site-packages (from nltk) (8.0.4)\n",
      "Requirement already satisfied: joblib in c:\\users\\t\\anaconda3\\lib\\site-packages (from nltk) (1.1.0)\n",
      "Requirement already satisfied: tqdm in c:\\users\\t\\anaconda3\\lib\\site-packages (from nltk) (4.64.0)\n",
      "Requirement already satisfied: colorama in c:\\users\\t\\anaconda3\\lib\\site-packages (from click->nltk) (0.4.4)\n",
      "Note: you may need to restart the kernel to use updated packages.\n"
     ]
    }
   ],
   "source": [
    "pip install nltk"
   ]
  },
  {
   "cell_type": "code",
   "execution_count": 2,
   "id": "76e571b1",
   "metadata": {},
   "outputs": [],
   "source": [
    "#natural language toolkit"
   ]
  },
  {
   "cell_type": "code",
   "execution_count": 3,
   "id": "2fe52f3d",
   "metadata": {},
   "outputs": [],
   "source": [
    "import nltk"
   ]
  },
  {
   "cell_type": "code",
   "execution_count": 4,
   "id": "57606c6b",
   "metadata": {},
   "outputs": [
    {
     "name": "stderr",
     "output_type": "stream",
     "text": [
      "[nltk_data] Downloading package punkt to\n",
      "[nltk_data]     C:\\Users\\T\\AppData\\Roaming\\nltk_data...\n",
      "[nltk_data]   Unzipping tokenizers\\punkt.zip.\n"
     ]
    },
    {
     "data": {
      "text/plain": [
       "True"
      ]
     },
     "execution_count": 4,
     "metadata": {},
     "output_type": "execute_result"
    }
   ],
   "source": [
    "nltk.download(\"punkt\")"
   ]
  },
  {
   "cell_type": "code",
   "execution_count": 5,
   "id": "f09bc510",
   "metadata": {},
   "outputs": [],
   "source": [
    "cumle=\"Yaylaya gitmişti yayla zamanı Gülizar döndü de Döndü dönmedi. \""
   ]
  },
  {
   "cell_type": "code",
   "execution_count": 6,
   "id": "e2c9fc45",
   "metadata": {},
   "outputs": [
    {
     "data": {
      "text/plain": [
       "'YAYLAYA GITMIŞTI YAYLA ZAMANI GÜLIZAR DÖNDÜ DE DÖNDÜ DÖNMEDI. '"
      ]
     },
     "execution_count": 6,
     "metadata": {},
     "output_type": "execute_result"
    }
   ],
   "source": [
    "cumle.upper()"
   ]
  },
  {
   "cell_type": "code",
   "execution_count": 7,
   "id": "32a7c80b",
   "metadata": {},
   "outputs": [
    {
     "data": {
      "text/plain": [
       "['Yaylaya',\n",
       " 'gitmişti',\n",
       " 'yayla',\n",
       " 'zamanı',\n",
       " 'Gülizar',\n",
       " 'döndü',\n",
       " 'de',\n",
       " 'Döndü',\n",
       " 'dönmedi.']"
      ]
     },
     "execution_count": 7,
     "metadata": {},
     "output_type": "execute_result"
    }
   ],
   "source": [
    "cumle.split()"
   ]
  },
  {
   "cell_type": "code",
   "execution_count": 8,
   "id": "10afb2bf",
   "metadata": {},
   "outputs": [],
   "source": [
    "from nltk.tokenize import sent_tokenize"
   ]
  },
  {
   "cell_type": "code",
   "execution_count": 9,
   "id": "d5f26ca7",
   "metadata": {},
   "outputs": [],
   "source": [
    "text=\"I love phyton. Zafer lives in a small village. Please call e back.\""
   ]
  },
  {
   "cell_type": "code",
   "execution_count": 10,
   "id": "8adc2781",
   "metadata": {},
   "outputs": [
    {
     "data": {
      "text/plain": [
       "['I love phyton', ' Zafer lives in a small village', ' Please call e back', '']"
      ]
     },
     "execution_count": 10,
     "metadata": {},
     "output_type": "execute_result"
    }
   ],
   "source": [
    "text.split(\".\")"
   ]
  },
  {
   "cell_type": "code",
   "execution_count": 11,
   "id": "7f37cd8a",
   "metadata": {},
   "outputs": [
    {
     "data": {
      "text/plain": [
       "['I',\n",
       " 'love',\n",
       " 'phyton.',\n",
       " 'Zafer',\n",
       " 'lives',\n",
       " 'in',\n",
       " 'a',\n",
       " 'small',\n",
       " 'village.',\n",
       " 'Please',\n",
       " 'call',\n",
       " 'e',\n",
       " 'back.']"
      ]
     },
     "execution_count": 11,
     "metadata": {},
     "output_type": "execute_result"
    }
   ],
   "source": [
    "text.split()"
   ]
  },
  {
   "cell_type": "code",
   "execution_count": 12,
   "id": "f936c2cc",
   "metadata": {},
   "outputs": [
    {
     "data": {
      "text/plain": [
       "['I love phyton.', 'Zafer lives in a small village.', 'Please call e back.']"
      ]
     },
     "execution_count": 12,
     "metadata": {},
     "output_type": "execute_result"
    }
   ],
   "source": [
    "sent_tokenize(text)"
   ]
  },
  {
   "cell_type": "code",
   "execution_count": 13,
   "id": "87a429ce",
   "metadata": {},
   "outputs": [],
   "source": [
    "from nltk.tokenize import word_tokenize"
   ]
  },
  {
   "cell_type": "code",
   "execution_count": 14,
   "id": "83103619",
   "metadata": {},
   "outputs": [
    {
     "data": {
      "text/plain": [
       "['I',\n",
       " 'love',\n",
       " 'phyton',\n",
       " '.',\n",
       " 'Zafer',\n",
       " 'lives',\n",
       " 'in',\n",
       " 'a',\n",
       " 'small',\n",
       " 'village',\n",
       " '.',\n",
       " 'Please',\n",
       " 'call',\n",
       " 'e',\n",
       " 'back',\n",
       " '.']"
      ]
     },
     "execution_count": 14,
     "metadata": {},
     "output_type": "execute_result"
    }
   ],
   "source": [
    "word_tokenize(text)"
   ]
  },
  {
   "cell_type": "code",
   "execution_count": 17,
   "id": "d2adb108",
   "metadata": {},
   "outputs": [],
   "source": [
    "from nltk.tokenize import TreebankWordTokenizer"
   ]
  },
  {
   "cell_type": "code",
   "execution_count": 18,
   "id": "bb6c2652",
   "metadata": {},
   "outputs": [
    {
     "data": {
      "text/plain": [
       "['I',\n",
       " 'love',\n",
       " 'phyton.',\n",
       " 'Zafer',\n",
       " 'lives',\n",
       " 'in',\n",
       " 'a',\n",
       " 'small',\n",
       " 'village.',\n",
       " 'Please',\n",
       " 'call',\n",
       " 'e',\n",
       " 'back',\n",
       " '.']"
      ]
     },
     "execution_count": 18,
     "metadata": {},
     "output_type": "execute_result"
    }
   ],
   "source": [
    "TreebankWordTokenizer().tokenize(text)"
   ]
  },
  {
   "cell_type": "code",
   "execution_count": 19,
   "id": "89e6dd94",
   "metadata": {},
   "outputs": [],
   "source": [
    "# Stopwords: gereksiz kelimeler "
   ]
  },
  {
   "cell_type": "code",
   "execution_count": 21,
   "id": "72a20843",
   "metadata": {},
   "outputs": [
    {
     "name": "stderr",
     "output_type": "stream",
     "text": [
      "[nltk_data] Downloading package stopwords to\n",
      "[nltk_data]     C:\\Users\\T\\AppData\\Roaming\\nltk_data...\n",
      "[nltk_data]   Unzipping corpora\\stopwords.zip.\n"
     ]
    },
    {
     "data": {
      "text/plain": [
       "True"
      ]
     },
     "execution_count": 21,
     "metadata": {},
     "output_type": "execute_result"
    }
   ],
   "source": [
    "nltk.download('stopwords')"
   ]
  },
  {
   "cell_type": "code",
   "execution_count": 23,
   "id": "a3565333",
   "metadata": {},
   "outputs": [
    {
     "name": "stdout",
     "output_type": "stream",
     "text": [
      "['i', 'me', 'my', 'myself', 'we', 'our', 'ours', 'ourselves', 'you', \"you're\", \"you've\", \"you'll\", \"you'd\", 'your', 'yours', 'yourself', 'yourselves', 'he', 'him', 'his', 'himself', 'she', \"she's\", 'her', 'hers', 'herself', 'it', \"it's\", 'its', 'itself', 'they', 'them', 'their', 'theirs', 'themselves', 'what', 'which', 'who', 'whom', 'this', 'that', \"that'll\", 'these', 'those', 'am', 'is', 'are', 'was', 'were', 'be', 'been', 'being', 'have', 'has', 'had', 'having', 'do', 'does', 'did', 'doing', 'a', 'an', 'the', 'and', 'but', 'if', 'or', 'because', 'as', 'until', 'while', 'of', 'at', 'by', 'for', 'with', 'about', 'against', 'between', 'into', 'through', 'during', 'before', 'after', 'above', 'below', 'to', 'from', 'up', 'down', 'in', 'out', 'on', 'off', 'over', 'under', 'again', 'further', 'then', 'once', 'here', 'there', 'when', 'where', 'why', 'how', 'all', 'any', 'both', 'each', 'few', 'more', 'most', 'other', 'some', 'such', 'no', 'nor', 'not', 'only', 'own', 'same', 'so', 'than', 'too', 'very', 's', 't', 'can', 'will', 'just', 'don', \"don't\", 'should', \"should've\", 'now', 'd', 'll', 'm', 'o', 're', 've', 'y', 'ain', 'aren', \"aren't\", 'couldn', \"couldn't\", 'didn', \"didn't\", 'doesn', \"doesn't\", 'hadn', \"hadn't\", 'hasn', \"hasn't\", 'haven', \"haven't\", 'isn', \"isn't\", 'ma', 'mightn', \"mightn't\", 'mustn', \"mustn't\", 'needn', \"needn't\", 'shan', \"shan't\", 'shouldn', \"shouldn't\", 'wasn', \"wasn't\", 'weren', \"weren't\", 'won', \"won't\", 'wouldn', \"wouldn't\"]\n"
     ]
    }
   ],
   "source": [
    "print(nltk.corpus.stopwords.words(\"english\"))"
   ]
  },
  {
   "cell_type": "code",
   "execution_count": 24,
   "id": "81c3a41b",
   "metadata": {},
   "outputs": [
    {
     "name": "stdout",
     "output_type": "stream",
     "text": [
      "['acaba', 'ama', 'aslında', 'az', 'bazı', 'belki', 'biri', 'birkaç', 'birşey', 'biz', 'bu', 'çok', 'çünkü', 'da', 'daha', 'de', 'defa', 'diye', 'eğer', 'en', 'gibi', 'hem', 'hep', 'hepsi', 'her', 'hiç', 'için', 'ile', 'ise', 'kez', 'ki', 'kim', 'mı', 'mu', 'mü', 'nasıl', 'ne', 'neden', 'nerde', 'nerede', 'nereye', 'niçin', 'niye', 'o', 'sanki', 'şey', 'siz', 'şu', 'tüm', 've', 'veya', 'ya', 'yani']\n"
     ]
    }
   ],
   "source": [
    "print(nltk.corpus.stopwords.words(\"turkish\"))"
   ]
  },
  {
   "cell_type": "code",
   "execution_count": 25,
   "id": "300d40b9",
   "metadata": {},
   "outputs": [],
   "source": [
    "from nltk.stem import PorterStemmer"
   ]
  },
  {
   "cell_type": "code",
   "execution_count": 26,
   "id": "a04997cd",
   "metadata": {},
   "outputs": [
    {
     "data": {
      "text/plain": [
       "'happi'"
      ]
     },
     "execution_count": 26,
     "metadata": {},
     "output_type": "execute_result"
    }
   ],
   "source": [
    "PorterStemmer().stem(\"Happiness\")"
   ]
  },
  {
   "cell_type": "code",
   "execution_count": 27,
   "id": "8294bdc7",
   "metadata": {},
   "outputs": [],
   "source": [
    "from nltk.stem import LancasterStemmer"
   ]
  },
  {
   "cell_type": "code",
   "execution_count": 28,
   "id": "01769ed9",
   "metadata": {},
   "outputs": [
    {
     "data": {
      "text/plain": [
       "'happy'"
      ]
     },
     "execution_count": 28,
     "metadata": {},
     "output_type": "execute_result"
    }
   ],
   "source": [
    "LancasterStemmer().stem(\"Happiness\")"
   ]
  },
  {
   "cell_type": "code",
   "execution_count": null,
   "id": "455ab7b1",
   "metadata": {},
   "outputs": [],
   "source": [
    "# Markov Chain - bi sonraki adımı tahmin etmek"
   ]
  },
  {
   "cell_type": "code",
   "execution_count": 29,
   "id": "82d8c169",
   "metadata": {},
   "outputs": [],
   "source": [
    "from nltk.stem import RegexpStemmer #hangi eki kaldıracağınızı önceden belirleyebiliyoruz"
   ]
  },
  {
   "cell_type": "code",
   "execution_count": 30,
   "id": "16aa4dc9",
   "metadata": {},
   "outputs": [],
   "source": [
    "rs=RegexpStemmer(\"ing\")"
   ]
  },
  {
   "cell_type": "code",
   "execution_count": 31,
   "id": "c4793b8c",
   "metadata": {},
   "outputs": [
    {
     "data": {
      "text/plain": [
       "'work'"
      ]
     },
     "execution_count": 31,
     "metadata": {},
     "output_type": "execute_result"
    }
   ],
   "source": [
    "rs.stem(\"working\")"
   ]
  },
  {
   "cell_type": "code",
   "execution_count": null,
   "id": "77f0141f",
   "metadata": {},
   "outputs": [],
   "source": []
  }
 ],
 "metadata": {
  "kernelspec": {
   "display_name": "Python 3 (ipykernel)",
   "language": "python",
   "name": "python3"
  },
  "language_info": {
   "codemirror_mode": {
    "name": "ipython",
    "version": 3
   },
   "file_extension": ".py",
   "mimetype": "text/x-python",
   "name": "python",
   "nbconvert_exporter": "python",
   "pygments_lexer": "ipython3",
   "version": "3.9.12"
  }
 },
 "nbformat": 4,
 "nbformat_minor": 5
}
