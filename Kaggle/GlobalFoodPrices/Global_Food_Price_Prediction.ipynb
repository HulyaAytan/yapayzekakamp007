{
 "cells": [
  {
   "cell_type": "markdown",
   "id": "d71fe7ea",
   "metadata": {
    "id": "d71fe7ea"
   },
   "source": [
    "adm0_id: country id\n",
    "adm0_name: country name\n",
    "adm1_id: locality id\n",
    "adm1_name: locality name\n",
    "mkt_id: market id\n",
    "mkt_name: market name\n",
    "cm_id: commodity purchase id\n",
    "cm_name: commodity purchased\n",
    "cur_id: currency id\n",
    "cur_name: name of currency\n",
    "pt_id: market type id\n",
    "pt_name: market type (Retail/Wholesale/Producer/Farm Gate)\n",
    "um_id: measurement id\n",
    "um_name: unit of goods measurement\n",
    "mp_month: month recorded\n",
    "mp_year: year recorded\n",
    "mp_price: price paid\n",
    "mp_commoditysource: Source supplying price information"
   ]
  },
  {
   "cell_type": "markdown",
   "id": "77c75881",
   "metadata": {
    "id": "77c75881"
   },
   "source": [
    "### Import Libraries and Load Data"
   ]
  },
  {
   "cell_type": "code",
   "execution_count": 7,
   "id": "1c759dbd",
   "metadata": {
    "id": "1c759dbd"
   },
   "outputs": [],
   "source": [
    "import numpy as np\n",
    "import pandas as pd\n",
    "import seaborn as sns\n",
    "import matplotlib.pyplot as plt\n",
    "import warnings \n",
    "warnings.filterwarnings(\"ignore\")"
   ]
  },
  {
   "cell_type": "code",
   "execution_count": 8,
   "id": "5118ce6d",
   "metadata": {
    "id": "5118ce6d"
   },
   "outputs": [],
   "source": [
    "df = pd.read_csv(\"wfp_market_food_prices.csv\",encoding=\"latin-1\")"
   ]
  },
  {
   "cell_type": "code",
   "execution_count": 9,
   "id": "2f4dc822",
   "metadata": {
    "colab": {
     "base_uri": "https://localhost:8080/",
     "height": 206
    },
    "id": "2f4dc822",
    "outputId": "b7f28a54-cf61-44b9-ccea-bc450f4a2340"
   },
   "outputs": [
    {
     "data": {
      "text/html": [
       "\n",
       "  <div id=\"df-521061f7-e44b-464e-bd8a-3c316e824a3b\">\n",
       "    <div class=\"colab-df-container\">\n",
       "      <div>\n",
       "<style scoped>\n",
       "    .dataframe tbody tr th:only-of-type {\n",
       "        vertical-align: middle;\n",
       "    }\n",
       "\n",
       "    .dataframe tbody tr th {\n",
       "        vertical-align: top;\n",
       "    }\n",
       "\n",
       "    .dataframe thead th {\n",
       "        text-align: right;\n",
       "    }\n",
       "</style>\n",
       "<table border=\"1\" class=\"dataframe\">\n",
       "  <thead>\n",
       "    <tr style=\"text-align: right;\">\n",
       "      <th></th>\n",
       "      <th>adm0_id</th>\n",
       "      <th>adm0_name</th>\n",
       "      <th>adm1_id</th>\n",
       "      <th>adm1_name</th>\n",
       "      <th>mkt_id</th>\n",
       "      <th>mkt_name</th>\n",
       "      <th>cm_id</th>\n",
       "      <th>cm_name</th>\n",
       "      <th>cur_id</th>\n",
       "      <th>cur_name</th>\n",
       "      <th>pt_id</th>\n",
       "      <th>pt_name</th>\n",
       "      <th>um_id</th>\n",
       "      <th>um_name</th>\n",
       "      <th>mp_month</th>\n",
       "      <th>mp_year</th>\n",
       "      <th>mp_price</th>\n",
       "      <th>mp_commoditysource</th>\n",
       "    </tr>\n",
       "  </thead>\n",
       "  <tbody>\n",
       "    <tr>\n",
       "      <th>0</th>\n",
       "      <td>1</td>\n",
       "      <td>Afghanistan</td>\n",
       "      <td>272</td>\n",
       "      <td>Badakhshan</td>\n",
       "      <td>266</td>\n",
       "      <td>Fayzabad</td>\n",
       "      <td>55</td>\n",
       "      <td>Bread</td>\n",
       "      <td>87</td>\n",
       "      <td>AFN</td>\n",
       "      <td>15</td>\n",
       "      <td>Retail</td>\n",
       "      <td>5</td>\n",
       "      <td>KG</td>\n",
       "      <td>1</td>\n",
       "      <td>2014</td>\n",
       "      <td>50.0</td>\n",
       "      <td>WFP</td>\n",
       "    </tr>\n",
       "    <tr>\n",
       "      <th>1</th>\n",
       "      <td>1</td>\n",
       "      <td>Afghanistan</td>\n",
       "      <td>272</td>\n",
       "      <td>Badakhshan</td>\n",
       "      <td>266</td>\n",
       "      <td>Fayzabad</td>\n",
       "      <td>55</td>\n",
       "      <td>Bread</td>\n",
       "      <td>87</td>\n",
       "      <td>AFN</td>\n",
       "      <td>15</td>\n",
       "      <td>Retail</td>\n",
       "      <td>5</td>\n",
       "      <td>KG</td>\n",
       "      <td>2</td>\n",
       "      <td>2014</td>\n",
       "      <td>50.0</td>\n",
       "      <td>WFP</td>\n",
       "    </tr>\n",
       "    <tr>\n",
       "      <th>2</th>\n",
       "      <td>1</td>\n",
       "      <td>Afghanistan</td>\n",
       "      <td>272</td>\n",
       "      <td>Badakhshan</td>\n",
       "      <td>266</td>\n",
       "      <td>Fayzabad</td>\n",
       "      <td>55</td>\n",
       "      <td>Bread</td>\n",
       "      <td>87</td>\n",
       "      <td>AFN</td>\n",
       "      <td>15</td>\n",
       "      <td>Retail</td>\n",
       "      <td>5</td>\n",
       "      <td>KG</td>\n",
       "      <td>3</td>\n",
       "      <td>2014</td>\n",
       "      <td>50.0</td>\n",
       "      <td>WFP</td>\n",
       "    </tr>\n",
       "    <tr>\n",
       "      <th>3</th>\n",
       "      <td>1</td>\n",
       "      <td>Afghanistan</td>\n",
       "      <td>272</td>\n",
       "      <td>Badakhshan</td>\n",
       "      <td>266</td>\n",
       "      <td>Fayzabad</td>\n",
       "      <td>55</td>\n",
       "      <td>Bread</td>\n",
       "      <td>87</td>\n",
       "      <td>AFN</td>\n",
       "      <td>15</td>\n",
       "      <td>Retail</td>\n",
       "      <td>5</td>\n",
       "      <td>KG</td>\n",
       "      <td>4</td>\n",
       "      <td>2014</td>\n",
       "      <td>50.0</td>\n",
       "      <td>WFP</td>\n",
       "    </tr>\n",
       "    <tr>\n",
       "      <th>4</th>\n",
       "      <td>1</td>\n",
       "      <td>Afghanistan</td>\n",
       "      <td>272</td>\n",
       "      <td>Badakhshan</td>\n",
       "      <td>266</td>\n",
       "      <td>Fayzabad</td>\n",
       "      <td>55</td>\n",
       "      <td>Bread</td>\n",
       "      <td>87</td>\n",
       "      <td>AFN</td>\n",
       "      <td>15</td>\n",
       "      <td>Retail</td>\n",
       "      <td>5</td>\n",
       "      <td>KG</td>\n",
       "      <td>5</td>\n",
       "      <td>2014</td>\n",
       "      <td>50.0</td>\n",
       "      <td>WFP</td>\n",
       "    </tr>\n",
       "  </tbody>\n",
       "</table>\n",
       "</div>\n",
       "      <button class=\"colab-df-convert\" onclick=\"convertToInteractive('df-521061f7-e44b-464e-bd8a-3c316e824a3b')\"\n",
       "              title=\"Convert this dataframe to an interactive table.\"\n",
       "              style=\"display:none;\">\n",
       "        \n",
       "  <svg xmlns=\"http://www.w3.org/2000/svg\" height=\"24px\"viewBox=\"0 0 24 24\"\n",
       "       width=\"24px\">\n",
       "    <path d=\"M0 0h24v24H0V0z\" fill=\"none\"/>\n",
       "    <path d=\"M18.56 5.44l.94 2.06.94-2.06 2.06-.94-2.06-.94-.94-2.06-.94 2.06-2.06.94zm-11 1L8.5 8.5l.94-2.06 2.06-.94-2.06-.94L8.5 2.5l-.94 2.06-2.06.94zm10 10l.94 2.06.94-2.06 2.06-.94-2.06-.94-.94-2.06-.94 2.06-2.06.94z\"/><path d=\"M17.41 7.96l-1.37-1.37c-.4-.4-.92-.59-1.43-.59-.52 0-1.04.2-1.43.59L10.3 9.45l-7.72 7.72c-.78.78-.78 2.05 0 2.83L4 21.41c.39.39.9.59 1.41.59.51 0 1.02-.2 1.41-.59l7.78-7.78 2.81-2.81c.8-.78.8-2.07 0-2.86zM5.41 20L4 18.59l7.72-7.72 1.47 1.35L5.41 20z\"/>\n",
       "  </svg>\n",
       "      </button>\n",
       "      \n",
       "  <style>\n",
       "    .colab-df-container {\n",
       "      display:flex;\n",
       "      flex-wrap:wrap;\n",
       "      gap: 12px;\n",
       "    }\n",
       "\n",
       "    .colab-df-convert {\n",
       "      background-color: #E8F0FE;\n",
       "      border: none;\n",
       "      border-radius: 50%;\n",
       "      cursor: pointer;\n",
       "      display: none;\n",
       "      fill: #1967D2;\n",
       "      height: 32px;\n",
       "      padding: 0 0 0 0;\n",
       "      width: 32px;\n",
       "    }\n",
       "\n",
       "    .colab-df-convert:hover {\n",
       "      background-color: #E2EBFA;\n",
       "      box-shadow: 0px 1px 2px rgba(60, 64, 67, 0.3), 0px 1px 3px 1px rgba(60, 64, 67, 0.15);\n",
       "      fill: #174EA6;\n",
       "    }\n",
       "\n",
       "    [theme=dark] .colab-df-convert {\n",
       "      background-color: #3B4455;\n",
       "      fill: #D2E3FC;\n",
       "    }\n",
       "\n",
       "    [theme=dark] .colab-df-convert:hover {\n",
       "      background-color: #434B5C;\n",
       "      box-shadow: 0px 1px 3px 1px rgba(0, 0, 0, 0.15);\n",
       "      filter: drop-shadow(0px 1px 2px rgba(0, 0, 0, 0.3));\n",
       "      fill: #FFFFFF;\n",
       "    }\n",
       "  </style>\n",
       "\n",
       "      <script>\n",
       "        const buttonEl =\n",
       "          document.querySelector('#df-521061f7-e44b-464e-bd8a-3c316e824a3b button.colab-df-convert');\n",
       "        buttonEl.style.display =\n",
       "          google.colab.kernel.accessAllowed ? 'block' : 'none';\n",
       "\n",
       "        async function convertToInteractive(key) {\n",
       "          const element = document.querySelector('#df-521061f7-e44b-464e-bd8a-3c316e824a3b');\n",
       "          const dataTable =\n",
       "            await google.colab.kernel.invokeFunction('convertToInteractive',\n",
       "                                                     [key], {});\n",
       "          if (!dataTable) return;\n",
       "\n",
       "          const docLinkHtml = 'Like what you see? Visit the ' +\n",
       "            '<a target=\"_blank\" href=https://colab.research.google.com/notebooks/data_table.ipynb>data table notebook</a>'\n",
       "            + ' to learn more about interactive tables.';\n",
       "          element.innerHTML = '';\n",
       "          dataTable['output_type'] = 'display_data';\n",
       "          await google.colab.output.renderOutput(dataTable, element);\n",
       "          const docLink = document.createElement('div');\n",
       "          docLink.innerHTML = docLinkHtml;\n",
       "          element.appendChild(docLink);\n",
       "        }\n",
       "      </script>\n",
       "    </div>\n",
       "  </div>\n",
       "  "
      ],
      "text/plain": [
       "   adm0_id    adm0_name  adm1_id   adm1_name  mkt_id  mkt_name  cm_id cm_name  \\\n",
       "0        1  Afghanistan      272  Badakhshan     266  Fayzabad     55   Bread   \n",
       "1        1  Afghanistan      272  Badakhshan     266  Fayzabad     55   Bread   \n",
       "2        1  Afghanistan      272  Badakhshan     266  Fayzabad     55   Bread   \n",
       "3        1  Afghanistan      272  Badakhshan     266  Fayzabad     55   Bread   \n",
       "4        1  Afghanistan      272  Badakhshan     266  Fayzabad     55   Bread   \n",
       "\n",
       "   cur_id cur_name  pt_id pt_name  um_id um_name  mp_month  mp_year  mp_price  \\\n",
       "0      87      AFN     15  Retail      5      KG         1     2014      50.0   \n",
       "1      87      AFN     15  Retail      5      KG         2     2014      50.0   \n",
       "2      87      AFN     15  Retail      5      KG         3     2014      50.0   \n",
       "3      87      AFN     15  Retail      5      KG         4     2014      50.0   \n",
       "4      87      AFN     15  Retail      5      KG         5     2014      50.0   \n",
       "\n",
       "  mp_commoditysource  \n",
       "0                WFP  \n",
       "1                WFP  \n",
       "2                WFP  \n",
       "3                WFP  \n",
       "4                WFP  "
      ]
     },
     "execution_count": 9,
     "metadata": {},
     "output_type": "execute_result"
    }
   ],
   "source": [
    "df.head()"
   ]
  },
  {
   "cell_type": "markdown",
   "id": "44fda634",
   "metadata": {
    "id": "44fda634"
   },
   "source": [
    "### EDA - Exploratory Data Analysis"
   ]
  },
  {
   "cell_type": "code",
   "execution_count": 10,
   "id": "d71f4624",
   "metadata": {
    "colab": {
     "base_uri": "https://localhost:8080/"
    },
    "id": "d71f4624",
    "outputId": "5134da3c-9582-4f97-b274-65c863ef069d"
   },
   "outputs": [
    {
     "name": "stdout",
     "output_type": "stream",
     "text": [
      "<class 'pandas.core.frame.DataFrame'>\n",
      "RangeIndex: 65763 entries, 0 to 65762\n",
      "Data columns (total 18 columns):\n",
      " #   Column              Non-Null Count  Dtype  \n",
      "---  ------              --------------  -----  \n",
      " 0   adm0_id             65763 non-null  int64  \n",
      " 1   adm0_name           65763 non-null  object \n",
      " 2   adm1_id             65763 non-null  int64  \n",
      " 3   adm1_name           64928 non-null  object \n",
      " 4   mkt_id              65763 non-null  int64  \n",
      " 5   mkt_name            65763 non-null  object \n",
      " 6   cm_id               65763 non-null  int64  \n",
      " 7   cm_name             65763 non-null  object \n",
      " 8   cur_id              65763 non-null  int64  \n",
      " 9   cur_name            65763 non-null  object \n",
      " 10  pt_id               65763 non-null  int64  \n",
      " 11  pt_name             65763 non-null  object \n",
      " 12  um_id               65763 non-null  int64  \n",
      " 13  um_name             65763 non-null  object \n",
      " 14  mp_month            65763 non-null  int64  \n",
      " 15  mp_year             65763 non-null  int64  \n",
      " 16  mp_price            65763 non-null  float64\n",
      " 17  mp_commoditysource  65763 non-null  object \n",
      "dtypes: float64(1), int64(9), object(8)\n",
      "memory usage: 9.0+ MB\n"
     ]
    }
   ],
   "source": [
    "df.info()"
   ]
  },
  {
   "cell_type": "code",
   "execution_count": 11,
   "id": "f80b96cb",
   "metadata": {
    "id": "f80b96cb"
   },
   "outputs": [],
   "source": [
    "df.rename(columns = {'adm0_id':'country_id', 'adm0_name':'country_name',\n",
    "                     'adm1_id':'locality_id', 'adm1_name':'locality_name',\n",
    "                     'mkt_id':'market_id',  'mkt_name':'market_name',\n",
    "                     'cm_id':'purchase_id',  'cm_name':'product_purchased',\n",
    "                     'cur_id':'currency_id', 'cur_name':'currency_name',\n",
    "                     'pt_id ':'market_type_id', 'pt_name':'market_type',\n",
    "                     'um_id':'measurement_id', 'um_name':'measurement_unit',\n",
    "                     'mp_month':'month', 'mp_year':'year',\n",
    "                     'mp_price':'price'}, inplace = True)"
   ]
  },
  {
   "cell_type": "code",
   "execution_count": 12,
   "id": "6e5d929e",
   "metadata": {
    "colab": {
     "base_uri": "https://localhost:8080/",
     "height": 270
    },
    "id": "6e5d929e",
    "outputId": "6996c87d-741e-497a-9f16-e628e6cd1891"
   },
   "outputs": [
    {
     "data": {
      "text/html": [
       "\n",
       "  <div id=\"df-bc3e11f7-6358-4fba-8277-2c1e0c0d1237\">\n",
       "    <div class=\"colab-df-container\">\n",
       "      <div>\n",
       "<style scoped>\n",
       "    .dataframe tbody tr th:only-of-type {\n",
       "        vertical-align: middle;\n",
       "    }\n",
       "\n",
       "    .dataframe tbody tr th {\n",
       "        vertical-align: top;\n",
       "    }\n",
       "\n",
       "    .dataframe thead th {\n",
       "        text-align: right;\n",
       "    }\n",
       "</style>\n",
       "<table border=\"1\" class=\"dataframe\">\n",
       "  <thead>\n",
       "    <tr style=\"text-align: right;\">\n",
       "      <th></th>\n",
       "      <th>country_id</th>\n",
       "      <th>country_name</th>\n",
       "      <th>locality_id</th>\n",
       "      <th>locality_name</th>\n",
       "      <th>market_id</th>\n",
       "      <th>market_name</th>\n",
       "      <th>purchase_id</th>\n",
       "      <th>product_purchased</th>\n",
       "      <th>currency_id</th>\n",
       "      <th>currency_name</th>\n",
       "      <th>pt_id</th>\n",
       "      <th>market_type</th>\n",
       "      <th>measurement_id</th>\n",
       "      <th>measurement_unit</th>\n",
       "      <th>month</th>\n",
       "      <th>year</th>\n",
       "      <th>price</th>\n",
       "      <th>mp_commoditysource</th>\n",
       "    </tr>\n",
       "  </thead>\n",
       "  <tbody>\n",
       "    <tr>\n",
       "      <th>0</th>\n",
       "      <td>1</td>\n",
       "      <td>Afghanistan</td>\n",
       "      <td>272</td>\n",
       "      <td>Badakhshan</td>\n",
       "      <td>266</td>\n",
       "      <td>Fayzabad</td>\n",
       "      <td>55</td>\n",
       "      <td>Bread</td>\n",
       "      <td>87</td>\n",
       "      <td>AFN</td>\n",
       "      <td>15</td>\n",
       "      <td>Retail</td>\n",
       "      <td>5</td>\n",
       "      <td>KG</td>\n",
       "      <td>1</td>\n",
       "      <td>2014</td>\n",
       "      <td>50.0</td>\n",
       "      <td>WFP</td>\n",
       "    </tr>\n",
       "    <tr>\n",
       "      <th>1</th>\n",
       "      <td>1</td>\n",
       "      <td>Afghanistan</td>\n",
       "      <td>272</td>\n",
       "      <td>Badakhshan</td>\n",
       "      <td>266</td>\n",
       "      <td>Fayzabad</td>\n",
       "      <td>55</td>\n",
       "      <td>Bread</td>\n",
       "      <td>87</td>\n",
       "      <td>AFN</td>\n",
       "      <td>15</td>\n",
       "      <td>Retail</td>\n",
       "      <td>5</td>\n",
       "      <td>KG</td>\n",
       "      <td>2</td>\n",
       "      <td>2014</td>\n",
       "      <td>50.0</td>\n",
       "      <td>WFP</td>\n",
       "    </tr>\n",
       "    <tr>\n",
       "      <th>2</th>\n",
       "      <td>1</td>\n",
       "      <td>Afghanistan</td>\n",
       "      <td>272</td>\n",
       "      <td>Badakhshan</td>\n",
       "      <td>266</td>\n",
       "      <td>Fayzabad</td>\n",
       "      <td>55</td>\n",
       "      <td>Bread</td>\n",
       "      <td>87</td>\n",
       "      <td>AFN</td>\n",
       "      <td>15</td>\n",
       "      <td>Retail</td>\n",
       "      <td>5</td>\n",
       "      <td>KG</td>\n",
       "      <td>3</td>\n",
       "      <td>2014</td>\n",
       "      <td>50.0</td>\n",
       "      <td>WFP</td>\n",
       "    </tr>\n",
       "    <tr>\n",
       "      <th>3</th>\n",
       "      <td>1</td>\n",
       "      <td>Afghanistan</td>\n",
       "      <td>272</td>\n",
       "      <td>Badakhshan</td>\n",
       "      <td>266</td>\n",
       "      <td>Fayzabad</td>\n",
       "      <td>55</td>\n",
       "      <td>Bread</td>\n",
       "      <td>87</td>\n",
       "      <td>AFN</td>\n",
       "      <td>15</td>\n",
       "      <td>Retail</td>\n",
       "      <td>5</td>\n",
       "      <td>KG</td>\n",
       "      <td>4</td>\n",
       "      <td>2014</td>\n",
       "      <td>50.0</td>\n",
       "      <td>WFP</td>\n",
       "    </tr>\n",
       "    <tr>\n",
       "      <th>4</th>\n",
       "      <td>1</td>\n",
       "      <td>Afghanistan</td>\n",
       "      <td>272</td>\n",
       "      <td>Badakhshan</td>\n",
       "      <td>266</td>\n",
       "      <td>Fayzabad</td>\n",
       "      <td>55</td>\n",
       "      <td>Bread</td>\n",
       "      <td>87</td>\n",
       "      <td>AFN</td>\n",
       "      <td>15</td>\n",
       "      <td>Retail</td>\n",
       "      <td>5</td>\n",
       "      <td>KG</td>\n",
       "      <td>5</td>\n",
       "      <td>2014</td>\n",
       "      <td>50.0</td>\n",
       "      <td>WFP</td>\n",
       "    </tr>\n",
       "  </tbody>\n",
       "</table>\n",
       "</div>\n",
       "      <button class=\"colab-df-convert\" onclick=\"convertToInteractive('df-bc3e11f7-6358-4fba-8277-2c1e0c0d1237')\"\n",
       "              title=\"Convert this dataframe to an interactive table.\"\n",
       "              style=\"display:none;\">\n",
       "        \n",
       "  <svg xmlns=\"http://www.w3.org/2000/svg\" height=\"24px\"viewBox=\"0 0 24 24\"\n",
       "       width=\"24px\">\n",
       "    <path d=\"M0 0h24v24H0V0z\" fill=\"none\"/>\n",
       "    <path d=\"M18.56 5.44l.94 2.06.94-2.06 2.06-.94-2.06-.94-.94-2.06-.94 2.06-2.06.94zm-11 1L8.5 8.5l.94-2.06 2.06-.94-2.06-.94L8.5 2.5l-.94 2.06-2.06.94zm10 10l.94 2.06.94-2.06 2.06-.94-2.06-.94-.94-2.06-.94 2.06-2.06.94z\"/><path d=\"M17.41 7.96l-1.37-1.37c-.4-.4-.92-.59-1.43-.59-.52 0-1.04.2-1.43.59L10.3 9.45l-7.72 7.72c-.78.78-.78 2.05 0 2.83L4 21.41c.39.39.9.59 1.41.59.51 0 1.02-.2 1.41-.59l7.78-7.78 2.81-2.81c.8-.78.8-2.07 0-2.86zM5.41 20L4 18.59l7.72-7.72 1.47 1.35L5.41 20z\"/>\n",
       "  </svg>\n",
       "      </button>\n",
       "      \n",
       "  <style>\n",
       "    .colab-df-container {\n",
       "      display:flex;\n",
       "      flex-wrap:wrap;\n",
       "      gap: 12px;\n",
       "    }\n",
       "\n",
       "    .colab-df-convert {\n",
       "      background-color: #E8F0FE;\n",
       "      border: none;\n",
       "      border-radius: 50%;\n",
       "      cursor: pointer;\n",
       "      display: none;\n",
       "      fill: #1967D2;\n",
       "      height: 32px;\n",
       "      padding: 0 0 0 0;\n",
       "      width: 32px;\n",
       "    }\n",
       "\n",
       "    .colab-df-convert:hover {\n",
       "      background-color: #E2EBFA;\n",
       "      box-shadow: 0px 1px 2px rgba(60, 64, 67, 0.3), 0px 1px 3px 1px rgba(60, 64, 67, 0.15);\n",
       "      fill: #174EA6;\n",
       "    }\n",
       "\n",
       "    [theme=dark] .colab-df-convert {\n",
       "      background-color: #3B4455;\n",
       "      fill: #D2E3FC;\n",
       "    }\n",
       "\n",
       "    [theme=dark] .colab-df-convert:hover {\n",
       "      background-color: #434B5C;\n",
       "      box-shadow: 0px 1px 3px 1px rgba(0, 0, 0, 0.15);\n",
       "      filter: drop-shadow(0px 1px 2px rgba(0, 0, 0, 0.3));\n",
       "      fill: #FFFFFF;\n",
       "    }\n",
       "  </style>\n",
       "\n",
       "      <script>\n",
       "        const buttonEl =\n",
       "          document.querySelector('#df-bc3e11f7-6358-4fba-8277-2c1e0c0d1237 button.colab-df-convert');\n",
       "        buttonEl.style.display =\n",
       "          google.colab.kernel.accessAllowed ? 'block' : 'none';\n",
       "\n",
       "        async function convertToInteractive(key) {\n",
       "          const element = document.querySelector('#df-bc3e11f7-6358-4fba-8277-2c1e0c0d1237');\n",
       "          const dataTable =\n",
       "            await google.colab.kernel.invokeFunction('convertToInteractive',\n",
       "                                                     [key], {});\n",
       "          if (!dataTable) return;\n",
       "\n",
       "          const docLinkHtml = 'Like what you see? Visit the ' +\n",
       "            '<a target=\"_blank\" href=https://colab.research.google.com/notebooks/data_table.ipynb>data table notebook</a>'\n",
       "            + ' to learn more about interactive tables.';\n",
       "          element.innerHTML = '';\n",
       "          dataTable['output_type'] = 'display_data';\n",
       "          await google.colab.output.renderOutput(dataTable, element);\n",
       "          const docLink = document.createElement('div');\n",
       "          docLink.innerHTML = docLinkHtml;\n",
       "          element.appendChild(docLink);\n",
       "        }\n",
       "      </script>\n",
       "    </div>\n",
       "  </div>\n",
       "  "
      ],
      "text/plain": [
       "   country_id country_name  locality_id locality_name  market_id market_name  \\\n",
       "0           1  Afghanistan          272    Badakhshan        266    Fayzabad   \n",
       "1           1  Afghanistan          272    Badakhshan        266    Fayzabad   \n",
       "2           1  Afghanistan          272    Badakhshan        266    Fayzabad   \n",
       "3           1  Afghanistan          272    Badakhshan        266    Fayzabad   \n",
       "4           1  Afghanistan          272    Badakhshan        266    Fayzabad   \n",
       "\n",
       "   purchase_id product_purchased  currency_id currency_name  pt_id  \\\n",
       "0           55             Bread           87           AFN     15   \n",
       "1           55             Bread           87           AFN     15   \n",
       "2           55             Bread           87           AFN     15   \n",
       "3           55             Bread           87           AFN     15   \n",
       "4           55             Bread           87           AFN     15   \n",
       "\n",
       "  market_type  measurement_id measurement_unit  month  year  price  \\\n",
       "0      Retail               5               KG      1  2014   50.0   \n",
       "1      Retail               5               KG      2  2014   50.0   \n",
       "2      Retail               5               KG      3  2014   50.0   \n",
       "3      Retail               5               KG      4  2014   50.0   \n",
       "4      Retail               5               KG      5  2014   50.0   \n",
       "\n",
       "  mp_commoditysource  \n",
       "0                WFP  \n",
       "1                WFP  \n",
       "2                WFP  \n",
       "3                WFP  \n",
       "4                WFP  "
      ]
     },
     "execution_count": 12,
     "metadata": {},
     "output_type": "execute_result"
    }
   ],
   "source": [
    "df.head()"
   ]
  },
  {
   "cell_type": "code",
   "execution_count": 13,
   "id": "a628e8c3",
   "metadata": {
    "colab": {
     "base_uri": "https://localhost:8080/",
     "height": 300
    },
    "id": "a628e8c3",
    "outputId": "a66fab8f-748d-4821-e8b1-0f234f9f5ef6"
   },
   "outputs": [
    {
     "data": {
      "text/html": [
       "\n",
       "  <div id=\"df-96fdad65-d893-4dd6-8582-811b5843fc80\">\n",
       "    <div class=\"colab-df-container\">\n",
       "      <div>\n",
       "<style scoped>\n",
       "    .dataframe tbody tr th:only-of-type {\n",
       "        vertical-align: middle;\n",
       "    }\n",
       "\n",
       "    .dataframe tbody tr th {\n",
       "        vertical-align: top;\n",
       "    }\n",
       "\n",
       "    .dataframe thead th {\n",
       "        text-align: right;\n",
       "    }\n",
       "</style>\n",
       "<table border=\"1\" class=\"dataframe\">\n",
       "  <thead>\n",
       "    <tr style=\"text-align: right;\">\n",
       "      <th></th>\n",
       "      <th>country_id</th>\n",
       "      <th>locality_id</th>\n",
       "      <th>market_id</th>\n",
       "      <th>purchase_id</th>\n",
       "      <th>currency_id</th>\n",
       "      <th>pt_id</th>\n",
       "      <th>measurement_id</th>\n",
       "      <th>month</th>\n",
       "      <th>year</th>\n",
       "      <th>price</th>\n",
       "    </tr>\n",
       "  </thead>\n",
       "  <tbody>\n",
       "    <tr>\n",
       "      <th>count</th>\n",
       "      <td>65763.000000</td>\n",
       "      <td>65763.000000</td>\n",
       "      <td>65763.000000</td>\n",
       "      <td>65763.000000</td>\n",
       "      <td>65763.000000</td>\n",
       "      <td>65763.000000</td>\n",
       "      <td>65763.000000</td>\n",
       "      <td>65763.000000</td>\n",
       "      <td>65763.000000</td>\n",
       "      <td>6.576300e+04</td>\n",
       "    </tr>\n",
       "    <tr>\n",
       "      <th>mean</th>\n",
       "      <td>38.530511</td>\n",
       "      <td>14102.367365</td>\n",
       "      <td>703.417849</td>\n",
       "      <td>147.858264</td>\n",
       "      <td>46.089062</td>\n",
       "      <td>14.764822</td>\n",
       "      <td>10.201648</td>\n",
       "      <td>6.389672</td>\n",
       "      <td>2012.043474</td>\n",
       "      <td>2.050587e+04</td>\n",
       "    </tr>\n",
       "    <tr>\n",
       "      <th>std</th>\n",
       "      <td>18.629240</td>\n",
       "      <td>19810.550160</td>\n",
       "      <td>582.267639</td>\n",
       "      <td>106.897331</td>\n",
       "      <td>19.749920</td>\n",
       "      <td>0.424113</td>\n",
       "      <td>12.268653</td>\n",
       "      <td>3.418620</td>\n",
       "      <td>4.356569</td>\n",
       "      <td>1.808849e+05</td>\n",
       "    </tr>\n",
       "    <tr>\n",
       "      <th>min</th>\n",
       "      <td>1.000000</td>\n",
       "      <td>0.000000</td>\n",
       "      <td>112.000000</td>\n",
       "      <td>50.000000</td>\n",
       "      <td>25.000000</td>\n",
       "      <td>14.000000</td>\n",
       "      <td>5.000000</td>\n",
       "      <td>1.000000</td>\n",
       "      <td>1992.000000</td>\n",
       "      <td>2.400000e-01</td>\n",
       "    </tr>\n",
       "    <tr>\n",
       "      <th>25%</th>\n",
       "      <td>29.000000</td>\n",
       "      <td>610.000000</td>\n",
       "      <td>204.000000</td>\n",
       "      <td>67.000000</td>\n",
       "      <td>26.000000</td>\n",
       "      <td>15.000000</td>\n",
       "      <td>5.000000</td>\n",
       "      <td>3.000000</td>\n",
       "      <td>2010.000000</td>\n",
       "      <td>1.248585e+02</td>\n",
       "    </tr>\n",
       "    <tr>\n",
       "      <th>50%</th>\n",
       "      <td>43.000000</td>\n",
       "      <td>948.000000</td>\n",
       "      <td>641.000000</td>\n",
       "      <td>110.000000</td>\n",
       "      <td>46.000000</td>\n",
       "      <td>15.000000</td>\n",
       "      <td>5.000000</td>\n",
       "      <td>6.000000</td>\n",
       "      <td>2013.000000</td>\n",
       "      <td>3.550000e+02</td>\n",
       "    </tr>\n",
       "    <tr>\n",
       "      <th>75%</th>\n",
       "      <td>50.000000</td>\n",
       "      <td>40281.000000</td>\n",
       "      <td>852.000000</td>\n",
       "      <td>186.000000</td>\n",
       "      <td>60.000000</td>\n",
       "      <td>15.000000</td>\n",
       "      <td>5.000000</td>\n",
       "      <td>9.000000</td>\n",
       "      <td>2015.000000</td>\n",
       "      <td>1.600000e+03</td>\n",
       "    </tr>\n",
       "    <tr>\n",
       "      <th>max</th>\n",
       "      <td>68.000000</td>\n",
       "      <td>99878.000000</td>\n",
       "      <td>1965.000000</td>\n",
       "      <td>488.000000</td>\n",
       "      <td>91.000000</td>\n",
       "      <td>15.000000</td>\n",
       "      <td>86.000000</td>\n",
       "      <td>12.000000</td>\n",
       "      <td>2017.000000</td>\n",
       "      <td>5.833333e+06</td>\n",
       "    </tr>\n",
       "  </tbody>\n",
       "</table>\n",
       "</div>\n",
       "      <button class=\"colab-df-convert\" onclick=\"convertToInteractive('df-96fdad65-d893-4dd6-8582-811b5843fc80')\"\n",
       "              title=\"Convert this dataframe to an interactive table.\"\n",
       "              style=\"display:none;\">\n",
       "        \n",
       "  <svg xmlns=\"http://www.w3.org/2000/svg\" height=\"24px\"viewBox=\"0 0 24 24\"\n",
       "       width=\"24px\">\n",
       "    <path d=\"M0 0h24v24H0V0z\" fill=\"none\"/>\n",
       "    <path d=\"M18.56 5.44l.94 2.06.94-2.06 2.06-.94-2.06-.94-.94-2.06-.94 2.06-2.06.94zm-11 1L8.5 8.5l.94-2.06 2.06-.94-2.06-.94L8.5 2.5l-.94 2.06-2.06.94zm10 10l.94 2.06.94-2.06 2.06-.94-2.06-.94-.94-2.06-.94 2.06-2.06.94z\"/><path d=\"M17.41 7.96l-1.37-1.37c-.4-.4-.92-.59-1.43-.59-.52 0-1.04.2-1.43.59L10.3 9.45l-7.72 7.72c-.78.78-.78 2.05 0 2.83L4 21.41c.39.39.9.59 1.41.59.51 0 1.02-.2 1.41-.59l7.78-7.78 2.81-2.81c.8-.78.8-2.07 0-2.86zM5.41 20L4 18.59l7.72-7.72 1.47 1.35L5.41 20z\"/>\n",
       "  </svg>\n",
       "      </button>\n",
       "      \n",
       "  <style>\n",
       "    .colab-df-container {\n",
       "      display:flex;\n",
       "      flex-wrap:wrap;\n",
       "      gap: 12px;\n",
       "    }\n",
       "\n",
       "    .colab-df-convert {\n",
       "      background-color: #E8F0FE;\n",
       "      border: none;\n",
       "      border-radius: 50%;\n",
       "      cursor: pointer;\n",
       "      display: none;\n",
       "      fill: #1967D2;\n",
       "      height: 32px;\n",
       "      padding: 0 0 0 0;\n",
       "      width: 32px;\n",
       "    }\n",
       "\n",
       "    .colab-df-convert:hover {\n",
       "      background-color: #E2EBFA;\n",
       "      box-shadow: 0px 1px 2px rgba(60, 64, 67, 0.3), 0px 1px 3px 1px rgba(60, 64, 67, 0.15);\n",
       "      fill: #174EA6;\n",
       "    }\n",
       "\n",
       "    [theme=dark] .colab-df-convert {\n",
       "      background-color: #3B4455;\n",
       "      fill: #D2E3FC;\n",
       "    }\n",
       "\n",
       "    [theme=dark] .colab-df-convert:hover {\n",
       "      background-color: #434B5C;\n",
       "      box-shadow: 0px 1px 3px 1px rgba(0, 0, 0, 0.15);\n",
       "      filter: drop-shadow(0px 1px 2px rgba(0, 0, 0, 0.3));\n",
       "      fill: #FFFFFF;\n",
       "    }\n",
       "  </style>\n",
       "\n",
       "      <script>\n",
       "        const buttonEl =\n",
       "          document.querySelector('#df-96fdad65-d893-4dd6-8582-811b5843fc80 button.colab-df-convert');\n",
       "        buttonEl.style.display =\n",
       "          google.colab.kernel.accessAllowed ? 'block' : 'none';\n",
       "\n",
       "        async function convertToInteractive(key) {\n",
       "          const element = document.querySelector('#df-96fdad65-d893-4dd6-8582-811b5843fc80');\n",
       "          const dataTable =\n",
       "            await google.colab.kernel.invokeFunction('convertToInteractive',\n",
       "                                                     [key], {});\n",
       "          if (!dataTable) return;\n",
       "\n",
       "          const docLinkHtml = 'Like what you see? Visit the ' +\n",
       "            '<a target=\"_blank\" href=https://colab.research.google.com/notebooks/data_table.ipynb>data table notebook</a>'\n",
       "            + ' to learn more about interactive tables.';\n",
       "          element.innerHTML = '';\n",
       "          dataTable['output_type'] = 'display_data';\n",
       "          await google.colab.output.renderOutput(dataTable, element);\n",
       "          const docLink = document.createElement('div');\n",
       "          docLink.innerHTML = docLinkHtml;\n",
       "          element.appendChild(docLink);\n",
       "        }\n",
       "      </script>\n",
       "    </div>\n",
       "  </div>\n",
       "  "
      ],
      "text/plain": [
       "         country_id   locality_id     market_id   purchase_id   currency_id  \\\n",
       "count  65763.000000  65763.000000  65763.000000  65763.000000  65763.000000   \n",
       "mean      38.530511  14102.367365    703.417849    147.858264     46.089062   \n",
       "std       18.629240  19810.550160    582.267639    106.897331     19.749920   \n",
       "min        1.000000      0.000000    112.000000     50.000000     25.000000   \n",
       "25%       29.000000    610.000000    204.000000     67.000000     26.000000   \n",
       "50%       43.000000    948.000000    641.000000    110.000000     46.000000   \n",
       "75%       50.000000  40281.000000    852.000000    186.000000     60.000000   \n",
       "max       68.000000  99878.000000   1965.000000    488.000000     91.000000   \n",
       "\n",
       "              pt_id  measurement_id         month          year         price  \n",
       "count  65763.000000    65763.000000  65763.000000  65763.000000  6.576300e+04  \n",
       "mean      14.764822       10.201648      6.389672   2012.043474  2.050587e+04  \n",
       "std        0.424113       12.268653      3.418620      4.356569  1.808849e+05  \n",
       "min       14.000000        5.000000      1.000000   1992.000000  2.400000e-01  \n",
       "25%       15.000000        5.000000      3.000000   2010.000000  1.248585e+02  \n",
       "50%       15.000000        5.000000      6.000000   2013.000000  3.550000e+02  \n",
       "75%       15.000000        5.000000      9.000000   2015.000000  1.600000e+03  \n",
       "max       15.000000       86.000000     12.000000   2017.000000  5.833333e+06  "
      ]
     },
     "execution_count": 13,
     "metadata": {},
     "output_type": "execute_result"
    }
   ],
   "source": [
    "df.describe()"
   ]
  },
  {
   "cell_type": "code",
   "execution_count": 14,
   "id": "842041b4",
   "metadata": {
    "colab": {
     "base_uri": "https://localhost:8080/",
     "height": 363
    },
    "id": "842041b4",
    "outputId": "1da4964a-33ee-464d-915a-0bba1f7ecfdb"
   },
   "outputs": [
    {
     "data": {
      "text/html": [
       "\n",
       "  <div id=\"df-41481e62-3b13-4649-8f6b-22d896d20b2a\">\n",
       "    <div class=\"colab-df-container\">\n",
       "      <div>\n",
       "<style scoped>\n",
       "    .dataframe tbody tr th:only-of-type {\n",
       "        vertical-align: middle;\n",
       "    }\n",
       "\n",
       "    .dataframe tbody tr th {\n",
       "        vertical-align: top;\n",
       "    }\n",
       "\n",
       "    .dataframe thead th {\n",
       "        text-align: right;\n",
       "    }\n",
       "</style>\n",
       "<table border=\"1\" class=\"dataframe\">\n",
       "  <thead>\n",
       "    <tr style=\"text-align: right;\">\n",
       "      <th></th>\n",
       "      <th>country_id</th>\n",
       "      <th>locality_id</th>\n",
       "      <th>market_id</th>\n",
       "      <th>purchase_id</th>\n",
       "      <th>currency_id</th>\n",
       "      <th>pt_id</th>\n",
       "      <th>measurement_id</th>\n",
       "      <th>month</th>\n",
       "      <th>year</th>\n",
       "      <th>price</th>\n",
       "    </tr>\n",
       "  </thead>\n",
       "  <tbody>\n",
       "    <tr>\n",
       "      <th>country_id</th>\n",
       "      <td>1.000000</td>\n",
       "      <td>0.140953</td>\n",
       "      <td>0.011570</td>\n",
       "      <td>-0.064099</td>\n",
       "      <td>-0.283738</td>\n",
       "      <td>-0.378333</td>\n",
       "      <td>-0.159573</td>\n",
       "      <td>-0.021159</td>\n",
       "      <td>-0.057024</td>\n",
       "      <td>0.012480</td>\n",
       "    </tr>\n",
       "    <tr>\n",
       "      <th>locality_id</th>\n",
       "      <td>0.140953</td>\n",
       "      <td>1.000000</td>\n",
       "      <td>-0.389534</td>\n",
       "      <td>-0.214690</td>\n",
       "      <td>-0.369449</td>\n",
       "      <td>0.353297</td>\n",
       "      <td>-0.093136</td>\n",
       "      <td>-0.009846</td>\n",
       "      <td>-0.195500</td>\n",
       "      <td>-0.074984</td>\n",
       "    </tr>\n",
       "    <tr>\n",
       "      <th>market_id</th>\n",
       "      <td>0.011570</td>\n",
       "      <td>-0.389534</td>\n",
       "      <td>1.000000</td>\n",
       "      <td>0.173725</td>\n",
       "      <td>0.224402</td>\n",
       "      <td>-0.349888</td>\n",
       "      <td>0.129153</td>\n",
       "      <td>-0.001152</td>\n",
       "      <td>0.370496</td>\n",
       "      <td>0.012594</td>\n",
       "    </tr>\n",
       "    <tr>\n",
       "      <th>purchase_id</th>\n",
       "      <td>-0.064099</td>\n",
       "      <td>-0.214690</td>\n",
       "      <td>0.173725</td>\n",
       "      <td>1.000000</td>\n",
       "      <td>0.342327</td>\n",
       "      <td>-0.147542</td>\n",
       "      <td>0.330282</td>\n",
       "      <td>0.003766</td>\n",
       "      <td>0.170631</td>\n",
       "      <td>0.056175</td>\n",
       "    </tr>\n",
       "    <tr>\n",
       "      <th>currency_id</th>\n",
       "      <td>-0.283738</td>\n",
       "      <td>-0.369449</td>\n",
       "      <td>0.224402</td>\n",
       "      <td>0.342327</td>\n",
       "      <td>1.000000</td>\n",
       "      <td>-0.335135</td>\n",
       "      <td>0.309656</td>\n",
       "      <td>0.017238</td>\n",
       "      <td>0.100629</td>\n",
       "      <td>0.136615</td>\n",
       "    </tr>\n",
       "    <tr>\n",
       "      <th>pt_id</th>\n",
       "      <td>-0.378333</td>\n",
       "      <td>0.353297</td>\n",
       "      <td>-0.349888</td>\n",
       "      <td>-0.147542</td>\n",
       "      <td>-0.335135</td>\n",
       "      <td>1.000000</td>\n",
       "      <td>-0.088317</td>\n",
       "      <td>0.001150</td>\n",
       "      <td>-0.030909</td>\n",
       "      <td>-0.117483</td>\n",
       "    </tr>\n",
       "    <tr>\n",
       "      <th>measurement_id</th>\n",
       "      <td>-0.159573</td>\n",
       "      <td>-0.093136</td>\n",
       "      <td>0.129153</td>\n",
       "      <td>0.330282</td>\n",
       "      <td>0.309656</td>\n",
       "      <td>-0.088317</td>\n",
       "      <td>1.000000</td>\n",
       "      <td>0.001212</td>\n",
       "      <td>0.122492</td>\n",
       "      <td>0.119230</td>\n",
       "    </tr>\n",
       "    <tr>\n",
       "      <th>month</th>\n",
       "      <td>-0.021159</td>\n",
       "      <td>-0.009846</td>\n",
       "      <td>-0.001152</td>\n",
       "      <td>0.003766</td>\n",
       "      <td>0.017238</td>\n",
       "      <td>0.001150</td>\n",
       "      <td>0.001212</td>\n",
       "      <td>1.000000</td>\n",
       "      <td>-0.065654</td>\n",
       "      <td>0.007819</td>\n",
       "    </tr>\n",
       "    <tr>\n",
       "      <th>year</th>\n",
       "      <td>-0.057024</td>\n",
       "      <td>-0.195500</td>\n",
       "      <td>0.370496</td>\n",
       "      <td>0.170631</td>\n",
       "      <td>0.100629</td>\n",
       "      <td>-0.030909</td>\n",
       "      <td>0.122492</td>\n",
       "      <td>-0.065654</td>\n",
       "      <td>1.000000</td>\n",
       "      <td>-0.032584</td>\n",
       "    </tr>\n",
       "    <tr>\n",
       "      <th>price</th>\n",
       "      <td>0.012480</td>\n",
       "      <td>-0.074984</td>\n",
       "      <td>0.012594</td>\n",
       "      <td>0.056175</td>\n",
       "      <td>0.136615</td>\n",
       "      <td>-0.117483</td>\n",
       "      <td>0.119230</td>\n",
       "      <td>0.007819</td>\n",
       "      <td>-0.032584</td>\n",
       "      <td>1.000000</td>\n",
       "    </tr>\n",
       "  </tbody>\n",
       "</table>\n",
       "</div>\n",
       "      <button class=\"colab-df-convert\" onclick=\"convertToInteractive('df-41481e62-3b13-4649-8f6b-22d896d20b2a')\"\n",
       "              title=\"Convert this dataframe to an interactive table.\"\n",
       "              style=\"display:none;\">\n",
       "        \n",
       "  <svg xmlns=\"http://www.w3.org/2000/svg\" height=\"24px\"viewBox=\"0 0 24 24\"\n",
       "       width=\"24px\">\n",
       "    <path d=\"M0 0h24v24H0V0z\" fill=\"none\"/>\n",
       "    <path d=\"M18.56 5.44l.94 2.06.94-2.06 2.06-.94-2.06-.94-.94-2.06-.94 2.06-2.06.94zm-11 1L8.5 8.5l.94-2.06 2.06-.94-2.06-.94L8.5 2.5l-.94 2.06-2.06.94zm10 10l.94 2.06.94-2.06 2.06-.94-2.06-.94-.94-2.06-.94 2.06-2.06.94z\"/><path d=\"M17.41 7.96l-1.37-1.37c-.4-.4-.92-.59-1.43-.59-.52 0-1.04.2-1.43.59L10.3 9.45l-7.72 7.72c-.78.78-.78 2.05 0 2.83L4 21.41c.39.39.9.59 1.41.59.51 0 1.02-.2 1.41-.59l7.78-7.78 2.81-2.81c.8-.78.8-2.07 0-2.86zM5.41 20L4 18.59l7.72-7.72 1.47 1.35L5.41 20z\"/>\n",
       "  </svg>\n",
       "      </button>\n",
       "      \n",
       "  <style>\n",
       "    .colab-df-container {\n",
       "      display:flex;\n",
       "      flex-wrap:wrap;\n",
       "      gap: 12px;\n",
       "    }\n",
       "\n",
       "    .colab-df-convert {\n",
       "      background-color: #E8F0FE;\n",
       "      border: none;\n",
       "      border-radius: 50%;\n",
       "      cursor: pointer;\n",
       "      display: none;\n",
       "      fill: #1967D2;\n",
       "      height: 32px;\n",
       "      padding: 0 0 0 0;\n",
       "      width: 32px;\n",
       "    }\n",
       "\n",
       "    .colab-df-convert:hover {\n",
       "      background-color: #E2EBFA;\n",
       "      box-shadow: 0px 1px 2px rgba(60, 64, 67, 0.3), 0px 1px 3px 1px rgba(60, 64, 67, 0.15);\n",
       "      fill: #174EA6;\n",
       "    }\n",
       "\n",
       "    [theme=dark] .colab-df-convert {\n",
       "      background-color: #3B4455;\n",
       "      fill: #D2E3FC;\n",
       "    }\n",
       "\n",
       "    [theme=dark] .colab-df-convert:hover {\n",
       "      background-color: #434B5C;\n",
       "      box-shadow: 0px 1px 3px 1px rgba(0, 0, 0, 0.15);\n",
       "      filter: drop-shadow(0px 1px 2px rgba(0, 0, 0, 0.3));\n",
       "      fill: #FFFFFF;\n",
       "    }\n",
       "  </style>\n",
       "\n",
       "      <script>\n",
       "        const buttonEl =\n",
       "          document.querySelector('#df-41481e62-3b13-4649-8f6b-22d896d20b2a button.colab-df-convert');\n",
       "        buttonEl.style.display =\n",
       "          google.colab.kernel.accessAllowed ? 'block' : 'none';\n",
       "\n",
       "        async function convertToInteractive(key) {\n",
       "          const element = document.querySelector('#df-41481e62-3b13-4649-8f6b-22d896d20b2a');\n",
       "          const dataTable =\n",
       "            await google.colab.kernel.invokeFunction('convertToInteractive',\n",
       "                                                     [key], {});\n",
       "          if (!dataTable) return;\n",
       "\n",
       "          const docLinkHtml = 'Like what you see? Visit the ' +\n",
       "            '<a target=\"_blank\" href=https://colab.research.google.com/notebooks/data_table.ipynb>data table notebook</a>'\n",
       "            + ' to learn more about interactive tables.';\n",
       "          element.innerHTML = '';\n",
       "          dataTable['output_type'] = 'display_data';\n",
       "          await google.colab.output.renderOutput(dataTable, element);\n",
       "          const docLink = document.createElement('div');\n",
       "          docLink.innerHTML = docLinkHtml;\n",
       "          element.appendChild(docLink);\n",
       "        }\n",
       "      </script>\n",
       "    </div>\n",
       "  </div>\n",
       "  "
      ],
      "text/plain": [
       "                country_id  locality_id  market_id  purchase_id  currency_id  \\\n",
       "country_id        1.000000     0.140953   0.011570    -0.064099    -0.283738   \n",
       "locality_id       0.140953     1.000000  -0.389534    -0.214690    -0.369449   \n",
       "market_id         0.011570    -0.389534   1.000000     0.173725     0.224402   \n",
       "purchase_id      -0.064099    -0.214690   0.173725     1.000000     0.342327   \n",
       "currency_id      -0.283738    -0.369449   0.224402     0.342327     1.000000   \n",
       "pt_id            -0.378333     0.353297  -0.349888    -0.147542    -0.335135   \n",
       "measurement_id   -0.159573    -0.093136   0.129153     0.330282     0.309656   \n",
       "month            -0.021159    -0.009846  -0.001152     0.003766     0.017238   \n",
       "year             -0.057024    -0.195500   0.370496     0.170631     0.100629   \n",
       "price             0.012480    -0.074984   0.012594     0.056175     0.136615   \n",
       "\n",
       "                   pt_id  measurement_id     month      year     price  \n",
       "country_id     -0.378333       -0.159573 -0.021159 -0.057024  0.012480  \n",
       "locality_id     0.353297       -0.093136 -0.009846 -0.195500 -0.074984  \n",
       "market_id      -0.349888        0.129153 -0.001152  0.370496  0.012594  \n",
       "purchase_id    -0.147542        0.330282  0.003766  0.170631  0.056175  \n",
       "currency_id    -0.335135        0.309656  0.017238  0.100629  0.136615  \n",
       "pt_id           1.000000       -0.088317  0.001150 -0.030909 -0.117483  \n",
       "measurement_id -0.088317        1.000000  0.001212  0.122492  0.119230  \n",
       "month           0.001150        0.001212  1.000000 -0.065654  0.007819  \n",
       "year           -0.030909        0.122492 -0.065654  1.000000 -0.032584  \n",
       "price          -0.117483        0.119230  0.007819 -0.032584  1.000000  "
      ]
     },
     "execution_count": 14,
     "metadata": {},
     "output_type": "execute_result"
    }
   ],
   "source": [
    "df.corr()"
   ]
  },
  {
   "cell_type": "code",
   "execution_count": 15,
   "id": "ee024721",
   "metadata": {
    "colab": {
     "base_uri": "https://localhost:8080/",
     "height": 885
    },
    "id": "ee024721",
    "outputId": "88acf039-8bac-4c46-bb91-2bacf826f39f"
   },
   "outputs": [
    {
     "data": {
      "text/plain": [
       "<matplotlib.axes._subplots.AxesSubplot at 0x7fe04705aa90>"
      ]
     },
     "execution_count": 15,
     "metadata": {},
     "output_type": "execute_result"
    },
    {
     "data": {
      "image/png": "[encoded data removed]",
      "text/plain": [
       "<Figure size 1080x1080 with 2 Axes>"
      ]
     },
     "metadata": {
      "needs_background": "light"
     },
     "output_type": "display_data"
    }
   ],
   "source": [
    "plt.figure(figsize=(15,15))\n",
    "sns.heatmap(df.corr(),annot=True)"
   ]
  },
  {
   "cell_type": "code",
   "execution_count": 16,
   "id": "750797a4",
   "metadata": {
    "colab": {
     "base_uri": "https://localhost:8080/"
    },
    "id": "750797a4",
    "outputId": "9ab69d8b-20ad-4028-c16a-41318b9c5edc"
   },
   "outputs": [
    {
     "data": {
      "text/plain": [
       "country_id              0\n",
       "country_name            0\n",
       "locality_id             0\n",
       "locality_name         835\n",
       "market_id               0\n",
       "market_name             0\n",
       "purchase_id             0\n",
       "product_purchased       0\n",
       "currency_id             0\n",
       "currency_name           0\n",
       "pt_id                   0\n",
       "market_type             0\n",
       "measurement_id          0\n",
       "measurement_unit        0\n",
       "month                   0\n",
       "year                    0\n",
       "price                   0\n",
       "mp_commoditysource      0\n",
       "dtype: int64"
      ]
     },
     "execution_count": 16,
     "metadata": {},
     "output_type": "execute_result"
    }
   ],
   "source": [
    "df.isnull().sum()"
   ]
  },
  {
   "cell_type": "code",
   "execution_count": 17,
   "id": "fc4b6486",
   "metadata": {
    "colab": {
     "base_uri": "https://localhost:8080/"
    },
    "id": "fc4b6486",
    "outputId": "cdbdb971-7eb5-46a2-b7fb-13156f6a4a93"
   },
   "outputs": [
    {
     "data": {
      "text/plain": [
       "(65763, 18)"
      ]
     },
     "execution_count": 17,
     "metadata": {},
     "output_type": "execute_result"
    }
   ],
   "source": [
    "df.shape"
   ]
  },
  {
   "cell_type": "code",
   "execution_count": 18,
   "id": "a3d2255b",
   "metadata": {
    "id": "a3d2255b"
   },
   "outputs": [],
   "source": [
    "df.dropna(inplace=True)"
   ]
  },
  {
   "cell_type": "code",
   "execution_count": 19,
   "id": "ed50380a",
   "metadata": {
    "colab": {
     "base_uri": "https://localhost:8080/"
    },
    "id": "ed50380a",
    "outputId": "775942eb-42e9-4232-b0b8-0b7be6c791ef"
   },
   "outputs": [
    {
     "data": {
      "text/plain": [
       "(64928, 18)"
      ]
     },
     "execution_count": 19,
     "metadata": {},
     "output_type": "execute_result"
    }
   ],
   "source": [
    "df.shape"
   ]
  },
  {
   "cell_type": "code",
   "execution_count": 20,
   "id": "8322ba88",
   "metadata": {
    "colab": {
     "base_uri": "https://localhost:8080/"
    },
    "id": "8322ba88",
    "outputId": "925d1f75-2cfc-4514-d459-7a4f3794c8ec"
   },
   "outputs": [
    {
     "data": {
      "text/plain": [
       "country_id            0\n",
       "country_name          0\n",
       "locality_id           0\n",
       "locality_name         0\n",
       "market_id             0\n",
       "market_name           0\n",
       "purchase_id           0\n",
       "product_purchased     0\n",
       "currency_id           0\n",
       "currency_name         0\n",
       "pt_id                 0\n",
       "market_type           0\n",
       "measurement_id        0\n",
       "measurement_unit      0\n",
       "month                 0\n",
       "year                  0\n",
       "price                 0\n",
       "mp_commoditysource    0\n",
       "dtype: int64"
      ]
     },
     "execution_count": 20,
     "metadata": {},
     "output_type": "execute_result"
    }
   ],
   "source": [
    "df.isnull().sum()"
   ]
  },
  {
   "cell_type": "code",
   "execution_count": 21,
   "id": "73f6fa84",
   "metadata": {
    "colab": {
     "base_uri": "https://localhost:8080/",
     "height": 908
    },
    "id": "73f6fa84",
    "outputId": "6f758221-99bf-4ab4-9f79-861c40da7704"
   },
   "outputs": [
    {
     "data": {
      "text/plain": [
       "<matplotlib.axes._subplots.AxesSubplot at 0x7fe046ff6880>"
      ]
     },
     "execution_count": 21,
     "metadata": {},
     "output_type": "execute_result"
    },
    {
     "data": {
      "image/png": "[encoded data removed]",
      "text/plain": [
       "<Figure size 1800x720 with 1 Axes>"
      ]
     },
     "metadata": {
      "needs_background": "light"
     },
     "output_type": "display_data"
    }
   ],
   "source": [
    "plt.figure(figsize=(25,10))\n",
    "df.product_purchased.value_counts(ascending=False)[:20].plot.bar(fontsize=25)"
   ]
  },
  {
   "cell_type": "code",
   "execution_count": 22,
   "id": "3cac26ee",
   "metadata": {
    "colab": {
     "base_uri": "https://localhost:8080/",
     "height": 1000
    },
    "id": "3cac26ee",
    "outputId": "53e7306c-c2bb-41e5-bf92-7b0910a5dabb"
   },
   "outputs": [
    {
     "data": {
      "text/plain": [
       "<matplotlib.axes._subplots.AxesSubplot at 0x7fe03d85bf10>"
      ]
     },
     "execution_count": 22,
     "metadata": {},
     "output_type": "execute_result"
    },
    {
     "data": {
      "image/png": "[encoded data removed]",
      "text/plain": [
       "<Figure size 1800x720 with 1 Axes>"
      ]
     },
     "metadata": {
      "needs_background": "light"
     },
     "output_type": "display_data"
    }
   ],
   "source": [
    "plt.figure(figsize=(25,10))\n",
    "df.country_name.value_counts(ascending=False)[:20].plot.bar(fontsize=25)"
   ]
  },
  {
   "cell_type": "code",
   "execution_count": 23,
   "id": "a02842f4",
   "metadata": {
    "colab": {
     "base_uri": "https://localhost:8080/",
     "height": 662
    },
    "id": "a02842f4",
    "outputId": "22759dd3-4bec-4487-b770-de585201c2fa"
   },
   "outputs": [
    {
     "data": {
      "text/plain": [
       "<matplotlib.axes._subplots.AxesSubplot at 0x7fe03d842e50>"
      ]
     },
     "execution_count": 23,
     "metadata": {},
     "output_type": "execute_result"
    },
    {
     "data": {
      "image/png": "[encoded data removed]",
      "text/plain": [
       "<Figure size 1800x720 with 1 Axes>"
      ]
     },
     "metadata": {
      "needs_background": "light"
     },
     "output_type": "display_data"
    }
   ],
   "source": [
    "plt.figure(figsize=(25,10))\n",
    "df.year.value_counts().plot.bar(fontsize=25)"
   ]
  },
  {
   "cell_type": "markdown",
   "id": "5946910b",
   "metadata": {},
   "source": [
    "## Apply ML Algorithms"
   ]
  },
  {
   "cell_type": "code",
   "execution_count": 24,
   "id": "f2f946d4",
   "metadata": {
    "id": "f2f946d4"
   },
   "outputs": [],
   "source": [
    "def regression_funct(x,y):\n",
    "    from sklearn.linear_model import LinearRegression\n",
    "    from sklearn.linear_model import Ridge,Lasso\n",
    "    from sklearn.linear_model import ElasticNet\n",
    "    from sklearn.tree import ExtraTreeRegressor\n",
    "    from sklearn.ensemble import GradientBoostingRegressor\n",
    "    from sklearn.neighbors import KNeighborsRegressor\n",
    "    \n",
    "    from sklearn.model_selection import train_test_split\n",
    "\n",
    "    from sklearn.metrics import mean_squared_error,r2_score,mean_absolute_error\n",
    "    \n",
    "    \n",
    "    x_train,x_test,y_train,y_test=train_test_split(x,y,test_size=0.2,random_state=42)\n",
    "\n",
    "    L=LinearRegression()\n",
    "    R=Ridge()\n",
    "    Lass=Lasso()\n",
    "    E=ElasticNet()\n",
    "    ExTree=ExtraTreeRegressor()\n",
    "    GBR=GradientBoostingRegressor()\n",
    "    KN=KNeighborsRegressor()\n",
    "    \n",
    "    algos=[L,R,Lass,E,ExTree,GBR,KN]\n",
    "    algo_names=['LinearRegression','Ridge','Lasso','ElasticNet','ExtraTreeRegressor','GradientBoostingRegressor','KNeighborsRegressor']\n",
    "    r_squared=[]\n",
    "    rmse=[]\n",
    "    mae=[]\n",
    "    \n",
    "    result=pd.DataFrame(columns=['R_Squared','RMSE','MAE'],index=algo_names)\n",
    "    \n",
    "    for item in algos:\n",
    "        item.fit(x_train,y_train)\n",
    "        item.predict(x_test)\n",
    "        r_squared.append(r2_score(y_test,item.predict(x_test)))\n",
    "        rmse.append((mean_squared_error(y_test,item.predict(x_test)))**.5)\n",
    "        mae.append(mean_absolute_error(y_test,item.predict(x_test)))\n",
    "        \n",
    "    result.R_Squared=r_squared\n",
    "    result.RMSE=rmse\n",
    "    result.MAE=mae\n",
    "        \n",
    "    return result.sort_values('R_Squared',ascending=False)"
   ]
  },
  {
   "cell_type": "code",
   "execution_count": 25,
   "id": "5598199c",
   "metadata": {
    "id": "5598199c"
   },
   "outputs": [],
   "source": [
    "x,y=df.drop(\"price\",axis=1),df[\"price\"]"
   ]
  },
  {
   "cell_type": "code",
   "execution_count": 26,
   "id": "c36897fb",
   "metadata": {
    "id": "c36897fb"
   },
   "outputs": [],
   "source": [
    "x=pd.get_dummies(x,drop_first=True)"
   ]
  },
  {
   "cell_type": "code",
   "execution_count": 27,
   "id": "83c8f6fe",
   "metadata": {
    "colab": {
     "base_uri": "https://localhost:8080/",
     "height": 269
    },
    "id": "83c8f6fe",
    "outputId": "d7c6c9f8-f993-4a2c-954a-41e5ef1be6ce"
   },
   "outputs": [
    {
     "data": {
      "text/html": [
       "\n",
       "  <div id=\"df-156da963-ac51-40e5-94e1-08c37a3ca92d\">\n",
       "    <div class=\"colab-df-container\">\n",
       "      <div>\n",
       "<style scoped>\n",
       "    .dataframe tbody tr th:only-of-type {\n",
       "        vertical-align: middle;\n",
       "    }\n",
       "\n",
       "    .dataframe tbody tr th {\n",
       "        vertical-align: top;\n",
       "    }\n",
       "\n",
       "    .dataframe thead th {\n",
       "        text-align: right;\n",
       "    }\n",
       "</style>\n",
       "<table border=\"1\" class=\"dataframe\">\n",
       "  <thead>\n",
       "    <tr style=\"text-align: right;\">\n",
       "      <th></th>\n",
       "      <th>R_Squared</th>\n",
       "      <th>RMSE</th>\n",
       "      <th>MAE</th>\n",
       "    </tr>\n",
       "  </thead>\n",
       "  <tbody>\n",
       "    <tr>\n",
       "      <th>ExtraTreeRegressor</th>\n",
       "      <td>0.979969</td>\n",
       "      <td>26023.194985</td>\n",
       "      <td>1533.028226</td>\n",
       "    </tr>\n",
       "    <tr>\n",
       "      <th>GradientBoostingRegressor</th>\n",
       "      <td>0.967081</td>\n",
       "      <td>33360.463283</td>\n",
       "      <td>3316.720936</td>\n",
       "    </tr>\n",
       "    <tr>\n",
       "      <th>KNeighborsRegressor</th>\n",
       "      <td>0.958491</td>\n",
       "      <td>37460.993354</td>\n",
       "      <td>2718.990919</td>\n",
       "    </tr>\n",
       "    <tr>\n",
       "      <th>LinearRegression</th>\n",
       "      <td>0.926511</td>\n",
       "      <td>49844.479509</td>\n",
       "      <td>6484.679655</td>\n",
       "    </tr>\n",
       "    <tr>\n",
       "      <th>Lasso</th>\n",
       "      <td>0.926492</td>\n",
       "      <td>49851.211014</td>\n",
       "      <td>6494.571259</td>\n",
       "    </tr>\n",
       "    <tr>\n",
       "      <th>Ridge</th>\n",
       "      <td>0.926113</td>\n",
       "      <td>49979.374276</td>\n",
       "      <td>6785.761570</td>\n",
       "    </tr>\n",
       "    <tr>\n",
       "      <th>ElasticNet</th>\n",
       "      <td>0.086923</td>\n",
       "      <td>175695.578958</td>\n",
       "      <td>41037.889608</td>\n",
       "    </tr>\n",
       "  </tbody>\n",
       "</table>\n",
       "</div>\n",
       "      <button class=\"colab-df-convert\" onclick=\"convertToInteractive('df-156da963-ac51-40e5-94e1-08c37a3ca92d')\"\n",
       "              title=\"Convert this dataframe to an interactive table.\"\n",
       "              style=\"display:none;\">\n",
       "        \n",
       "  <svg xmlns=\"http://www.w3.org/2000/svg\" height=\"24px\"viewBox=\"0 0 24 24\"\n",
       "       width=\"24px\">\n",
       "    <path d=\"M0 0h24v24H0V0z\" fill=\"none\"/>\n",
       "    <path d=\"M18.56 5.44l.94 2.06.94-2.06 2.06-.94-2.06-.94-.94-2.06-.94 2.06-2.06.94zm-11 1L8.5 8.5l.94-2.06 2.06-.94-2.06-.94L8.5 2.5l-.94 2.06-2.06.94zm10 10l.94 2.06.94-2.06 2.06-.94-2.06-.94-.94-2.06-.94 2.06-2.06.94z\"/><path d=\"M17.41 7.96l-1.37-1.37c-.4-.4-.92-.59-1.43-.59-.52 0-1.04.2-1.43.59L10.3 9.45l-7.72 7.72c-.78.78-.78 2.05 0 2.83L4 21.41c.39.39.9.59 1.41.59.51 0 1.02-.2 1.41-.59l7.78-7.78 2.81-2.81c.8-.78.8-2.07 0-2.86zM5.41 20L4 18.59l7.72-7.72 1.47 1.35L5.41 20z\"/>\n",
       "  </svg>\n",
       "      </button>\n",
       "      \n",
       "  <style>\n",
       "    .colab-df-container {\n",
       "      display:flex;\n",
       "      flex-wrap:wrap;\n",
       "      gap: 12px;\n",
       "    }\n",
       "\n",
       "    .colab-df-convert {\n",
       "      background-color: #E8F0FE;\n",
       "      border: none;\n",
       "      border-radius: 50%;\n",
       "      cursor: pointer;\n",
       "      display: none;\n",
       "      fill: #1967D2;\n",
       "      height: 32px;\n",
       "      padding: 0 0 0 0;\n",
       "      width: 32px;\n",
       "    }\n",
       "\n",
       "    .colab-df-convert:hover {\n",
       "      background-color: #E2EBFA;\n",
       "      box-shadow: 0px 1px 2px rgba(60, 64, 67, 0.3), 0px 1px 3px 1px rgba(60, 64, 67, 0.15);\n",
       "      fill: #174EA6;\n",
       "    }\n",
       "\n",
       "    [theme=dark] .colab-df-convert {\n",
       "      background-color: #3B4455;\n",
       "      fill: #D2E3FC;\n",
       "    }\n",
       "\n",
       "    [theme=dark] .colab-df-convert:hover {\n",
       "      background-color: #434B5C;\n",
       "      box-shadow: 0px 1px 3px 1px rgba(0, 0, 0, 0.15);\n",
       "      filter: drop-shadow(0px 1px 2px rgba(0, 0, 0, 0.3));\n",
       "      fill: #FFFFFF;\n",
       "    }\n",
       "  </style>\n",
       "\n",
       "      <script>\n",
       "        const buttonEl =\n",
       "          document.querySelector('#df-156da963-ac51-40e5-94e1-08c37a3ca92d button.colab-df-convert');\n",
       "        buttonEl.style.display =\n",
       "          google.colab.kernel.accessAllowed ? 'block' : 'none';\n",
       "\n",
       "        async function convertToInteractive(key) {\n",
       "          const element = document.querySelector('#df-156da963-ac51-40e5-94e1-08c37a3ca92d');\n",
       "          const dataTable =\n",
       "            await google.colab.kernel.invokeFunction('convertToInteractive',\n",
       "                                                     [key], {});\n",
       "          if (!dataTable) return;\n",
       "\n",
       "          const docLinkHtml = 'Like what you see? Visit the ' +\n",
       "            '<a target=\"_blank\" href=https://colab.research.google.com/notebooks/data_table.ipynb>data table notebook</a>'\n",
       "            + ' to learn more about interactive tables.';\n",
       "          element.innerHTML = '';\n",
       "          dataTable['output_type'] = 'display_data';\n",
       "          await google.colab.output.renderOutput(dataTable, element);\n",
       "          const docLink = document.createElement('div');\n",
       "          docLink.innerHTML = docLinkHtml;\n",
       "          element.appendChild(docLink);\n",
       "        }\n",
       "      </script>\n",
       "    </div>\n",
       "  </div>\n",
       "  "
      ],
      "text/plain": [
       "                           R_Squared           RMSE           MAE\n",
       "ExtraTreeRegressor          0.979969   26023.194985   1533.028226\n",
       "GradientBoostingRegressor   0.967081   33360.463283   3316.720936\n",
       "KNeighborsRegressor         0.958491   37460.993354   2718.990919\n",
       "LinearRegression            0.926511   49844.479509   6484.679655\n",
       "Lasso                       0.926492   49851.211014   6494.571259\n",
       "Ridge                       0.926113   49979.374276   6785.761570\n",
       "ElasticNet                  0.086923  175695.578958  41037.889608"
      ]
     },
     "execution_count": 27,
     "metadata": {},
     "output_type": "execute_result"
    }
   ],
   "source": [
    "regression_funct(x,y)"
   ]
  },
  {
   "cell_type": "markdown",
   "id": "5327cb6a",
   "metadata": {
    "id": "5327cb6a"
   },
   "source": [
    "### Deep Learning Model"
   ]
  },
  {
   "cell_type": "code",
   "execution_count": 28,
   "id": "0667cae3",
   "metadata": {
    "id": "0667cae3"
   },
   "outputs": [],
   "source": [
    "from tensorflow.keras.models import Sequential\n",
    "from tensorflow.keras.layers import Dense, Activation\n",
    "from tensorflow.keras.optimizers import Adam\n",
    "from sklearn.model_selection import train_test_split\n",
    "from sklearn.metrics import  r2_score, mean_squared_error, mean_absolute_error\n",
    "from sklearn.preprocessing import MinMaxScaler\n",
    "scaler=MinMaxScaler()"
   ]
  },
  {
   "cell_type": "code",
   "execution_count": 29,
   "id": "33a2802f",
   "metadata": {
    "id": "33a2802f"
   },
   "outputs": [],
   "source": [
    "x=scaler.fit_transform(x)"
   ]
  },
  {
   "cell_type": "code",
   "execution_count": 30,
   "id": "0af9d339",
   "metadata": {
    "id": "0af9d339"
   },
   "outputs": [],
   "source": [
    "x_train, x_test, y_train, y_test = train_test_split(x,y, test_size=0.20, random_state=42)"
   ]
  },
  {
   "cell_type": "code",
   "execution_count": 31,
   "id": "c52162d5",
   "metadata": {
    "id": "c52162d5"
   },
   "outputs": [],
   "source": [
    "model=Sequential()\n",
    "model.add(Dense(512, activation='relu'))\n",
    "model.add(Dense(512, activation='relu'))\n",
    "model.add(Dense(512, activation='relu'))\n",
    "model.add(Dense(512, activation='relu'))\n",
    "model.add(Dense(512, activation='relu'))\n",
    "model.add(Dense(512, activation='relu'))\n",
    "model.add(Dense(512, activation='relu'))\n",
    "model.add(Dense(512, activation='relu'))\n",
    "model.add(Dense(1))\n",
    "model.compile(optimizer='Adam', loss='mse')#mse regression"
   ]
  },
  {
   "cell_type": "code",
   "execution_count": 32,
   "id": "14229dcd",
   "metadata": {
    "colab": {
     "base_uri": "https://localhost:8080/"
    },
    "id": "14229dcd",
    "outputId": "74bedeff-53e5-424e-a034-18d158683cb4"
   },
   "outputs": [
    {
     "name": "stdout",
     "output_type": "stream",
     "text": [
      "Epoch 1/50\n",
      "406/406 [==============================] - 6s 4ms/step - loss: 9755211776.0000 - val_loss: 1691515904.0000\n",
      "Epoch 2/50\n",
      "406/406 [==============================] - 2s 4ms/step - loss: 4378228224.0000 - val_loss: 2234250496.0000\n",
      "Epoch 3/50\n",
      "406/406 [==============================] - 2s 4ms/step - loss: 4811980288.0000 - val_loss: 3800536832.0000\n",
      "Epoch 4/50\n",
      "406/406 [==============================] - 2s 4ms/step - loss: 3541800960.0000 - val_loss: 1733462016.0000\n",
      "Epoch 5/50\n",
      "406/406 [==============================] - 2s 4ms/step - loss: 3672939520.0000 - val_loss: 1993395584.0000\n",
      "Epoch 6/50\n",
      "406/406 [==============================] - 2s 4ms/step - loss: 3261803264.0000 - val_loss: 1655900672.0000\n",
      "Epoch 7/50\n",
      "406/406 [==============================] - 2s 4ms/step - loss: 5132626432.0000 - val_loss: 2479379712.0000\n",
      "Epoch 8/50\n",
      "406/406 [==============================] - 2s 4ms/step - loss: 3403585024.0000 - val_loss: 1668883840.0000\n",
      "Epoch 9/50\n",
      "406/406 [==============================] - 2s 4ms/step - loss: 3300205568.0000 - val_loss: 1745445120.0000\n",
      "Epoch 10/50\n",
      "406/406 [==============================] - 2s 4ms/step - loss: 3425465856.0000 - val_loss: 1645238144.0000\n",
      "Epoch 11/50\n",
      "406/406 [==============================] - 2s 4ms/step - loss: 3461204480.0000 - val_loss: 1569720960.0000\n",
      "Epoch 12/50\n",
      "406/406 [==============================] - 2s 4ms/step - loss: 2953294592.0000 - val_loss: 3202418944.0000\n",
      "Epoch 13/50\n",
      "406/406 [==============================] - 2s 4ms/step - loss: 3185631744.0000 - val_loss: 5254684672.0000\n",
      "Epoch 14/50\n",
      "406/406 [==============================] - 2s 4ms/step - loss: 3029609728.0000 - val_loss: 3558808832.0000\n",
      "Epoch 15/50\n",
      "406/406 [==============================] - 2s 4ms/step - loss: 2653195264.0000 - val_loss: 1792947712.0000\n",
      "Epoch 16/50\n",
      "406/406 [==============================] - 2s 4ms/step - loss: 2733742080.0000 - val_loss: 1550603648.0000\n",
      "Epoch 17/50\n",
      "406/406 [==============================] - 2s 4ms/step - loss: 2792500736.0000 - val_loss: 1832022656.0000\n",
      "Epoch 18/50\n",
      "406/406 [==============================] - 2s 4ms/step - loss: 2842638336.0000 - val_loss: 4952552960.0000\n",
      "Epoch 19/50\n",
      "406/406 [==============================] - 2s 4ms/step - loss: 2723750144.0000 - val_loss: 1814057344.0000\n",
      "Epoch 20/50\n",
      "406/406 [==============================] - 2s 4ms/step - loss: 2856047872.0000 - val_loss: 2505531136.0000\n",
      "Epoch 21/50\n",
      "406/406 [==============================] - 2s 4ms/step - loss: 3222447104.0000 - val_loss: 1821041408.0000\n",
      "Epoch 22/50\n",
      "406/406 [==============================] - 2s 4ms/step - loss: 2690846208.0000 - val_loss: 1894117760.0000\n",
      "Epoch 23/50\n",
      "406/406 [==============================] - 2s 4ms/step - loss: 2610902272.0000 - val_loss: 1776568448.0000\n",
      "Epoch 24/50\n",
      "406/406 [==============================] - 2s 4ms/step - loss: 2646826240.0000 - val_loss: 1709377536.0000\n",
      "Epoch 25/50\n",
      "406/406 [==============================] - 2s 4ms/step - loss: 2463336448.0000 - val_loss: 2353732608.0000\n",
      "Epoch 26/50\n",
      "406/406 [==============================] - 2s 4ms/step - loss: 2542447616.0000 - val_loss: 1675364992.0000\n",
      "Epoch 27/50\n",
      "406/406 [==============================] - 2s 4ms/step - loss: 2581839872.0000 - val_loss: 1485355008.0000\n",
      "Epoch 28/50\n",
      "406/406 [==============================] - 1s 4ms/step - loss: 2553829632.0000 - val_loss: 2674098432.0000\n",
      "Epoch 29/50\n",
      "406/406 [==============================] - 2s 4ms/step - loss: 2567806464.0000 - val_loss: 1890724352.0000\n",
      "Epoch 30/50\n",
      "406/406 [==============================] - 2s 4ms/step - loss: 2560558080.0000 - val_loss: 2537259520.0000\n",
      "Epoch 31/50\n",
      "406/406 [==============================] - 2s 4ms/step - loss: 2872057344.0000 - val_loss: 1689834112.0000\n",
      "Epoch 32/50\n",
      "406/406 [==============================] - 2s 4ms/step - loss: 2577859584.0000 - val_loss: 1530267136.0000\n",
      "Epoch 33/50\n",
      "406/406 [==============================] - 2s 4ms/step - loss: 2391504896.0000 - val_loss: 1760784768.0000\n",
      "Epoch 34/50\n",
      "406/406 [==============================] - 2s 4ms/step - loss: 2411568896.0000 - val_loss: 1624671488.0000\n",
      "Epoch 35/50\n",
      "406/406 [==============================] - 2s 4ms/step - loss: 2585709056.0000 - val_loss: 1632545024.0000\n",
      "Epoch 36/50\n",
      "406/406 [==============================] - 2s 4ms/step - loss: 2308343040.0000 - val_loss: 1857316224.0000\n",
      "Epoch 37/50\n",
      "406/406 [==============================] - 2s 4ms/step - loss: 2486858752.0000 - val_loss: 2011744640.0000\n",
      "Epoch 38/50\n",
      "406/406 [==============================] - 2s 4ms/step - loss: 2501628672.0000 - val_loss: 8678546432.0000\n",
      "Epoch 39/50\n",
      "406/406 [==============================] - 2s 4ms/step - loss: 2747313408.0000 - val_loss: 1567914880.0000\n",
      "Epoch 40/50\n",
      "406/406 [==============================] - 2s 4ms/step - loss: 2306158080.0000 - val_loss: 1628460928.0000\n",
      "Epoch 41/50\n",
      "406/406 [==============================] - 2s 4ms/step - loss: 2379746560.0000 - val_loss: 1856684160.0000\n",
      "Epoch 42/50\n",
      "406/406 [==============================] - 2s 4ms/step - loss: 2558945280.0000 - val_loss: 1869435776.0000\n",
      "Epoch 43/50\n",
      "406/406 [==============================] - 2s 4ms/step - loss: 2540178176.0000 - val_loss: 1713665280.0000\n",
      "Epoch 44/50\n",
      "406/406 [==============================] - 2s 4ms/step - loss: 2440333056.0000 - val_loss: 1903424768.0000\n",
      "Epoch 45/50\n",
      "406/406 [==============================] - 1s 4ms/step - loss: 2383366144.0000 - val_loss: 1538866048.0000\n",
      "Epoch 46/50\n",
      "406/406 [==============================] - 2s 4ms/step - loss: 2789344768.0000 - val_loss: 2064869760.0000\n",
      "Epoch 47/50\n",
      "406/406 [==============================] - 2s 4ms/step - loss: 2427609856.0000 - val_loss: 1571649024.0000\n",
      "Epoch 48/50\n",
      "406/406 [==============================] - 2s 4ms/step - loss: 2506738432.0000 - val_loss: 1923371264.0000\n",
      "Epoch 49/50\n",
      "406/406 [==============================] - 1s 4ms/step - loss: 2374870528.0000 - val_loss: 1496815872.0000\n",
      "Epoch 50/50\n",
      "406/406 [==============================] - 2s 4ms/step - loss: 2543226368.0000 - val_loss: 1537077888.0000\n"
     ]
    },
    {
     "data": {
      "text/plain": [
       "<keras.callbacks.History at 0x7fdf7a686100>"
      ]
     },
     "execution_count": 32,
     "metadata": {},
     "output_type": "execute_result"
    }
   ],
   "source": [
    "model.fit(x=x_train, y=y_train, validation_data=(x_test, y_test), batch_size=128, epochs=50, verbose=1)"
   ]
  },
  {
   "cell_type": "code",
   "execution_count": 33,
   "id": "238e64af",
   "metadata": {
    "colab": {
     "base_uri": "https://localhost:8080/"
    },
    "id": "238e64af",
    "outputId": "1a5ce032-0482-4c67-c36c-61c62fcdd530"
   },
   "outputs": [
    {
     "name": "stdout",
     "output_type": "stream",
     "text": [
      "Model: \"sequential\"\n",
      "_________________________________________________________________\n",
      " Layer (type)                Output Shape              Param #   \n",
      "=================================================================\n",
      " dense (Dense)               (None, 512)               299520    \n",
      "                                                                 \n",
      " dense_1 (Dense)             (None, 512)               262656    \n",
      "                                                                 \n",
      " dense_2 (Dense)             (None, 512)               262656    \n",
      "                                                                 \n",
      " dense_3 (Dense)             (None, 512)               262656    \n",
      "                                                                 \n",
      " dense_4 (Dense)             (None, 512)               262656    \n",
      "                                                                 \n",
      " dense_5 (Dense)             (None, 512)               262656    \n",
      "                                                                 \n",
      " dense_6 (Dense)             (None, 512)               262656    \n",
      "                                                                 \n",
      " dense_7 (Dense)             (None, 512)               262656    \n",
      "                                                                 \n",
      " dense_8 (Dense)             (None, 1)                 513       \n",
      "                                                                 \n",
      "=================================================================\n",
      "Total params: 2,138,625\n",
      "Trainable params: 2,138,625\n",
      "Non-trainable params: 0\n",
      "_________________________________________________________________\n"
     ]
    }
   ],
   "source": [
    "model.summary()"
   ]
  },
  {
   "cell_type": "code",
   "execution_count": 34,
   "id": "8081b694",
   "metadata": {
    "colab": {
     "base_uri": "https://localhost:8080/",
     "height": 511
    },
    "id": "8081b694",
    "outputId": "72c23ece-e444-4f4d-a049-3ead78da61d9"
   },
   "outputs": [
    {
     "data": {
      "text/plain": [
       "<matplotlib.axes._subplots.AxesSubplot at 0x7fe03d7a2b80>"
      ]
     },
     "execution_count": 34,
     "metadata": {},
     "output_type": "execute_result"
    },
    {
     "data": {
      "image/png": "[encoded data removed]",
      "text/plain": [
       "<Figure size 864x576 with 1 Axes>"
      ]
     },
     "metadata": {
      "needs_background": "light"
     },
     "output_type": "display_data"
    }
   ],
   "source": [
    "loss_df=pd.DataFrame(model.history.history)\n",
    "loss_df.plot(figsize=(12,8))"
   ]
  },
  {
   "cell_type": "code",
   "execution_count": 35,
   "id": "024c5f06",
   "metadata": {
    "colab": {
     "base_uri": "https://localhost:8080/"
    },
    "id": "024c5f06",
    "outputId": "e14d321b-244a-4ed7-99e2-7e2903b4120a"
   },
   "outputs": [
    {
     "name": "stdout",
     "output_type": "stream",
     "text": [
      "406/406 [==============================] - 1s 2ms/step\n"
     ]
    }
   ],
   "source": [
    "pred=model.predict(x_test)"
   ]
  },
  {
   "cell_type": "code",
   "execution_count": 36,
   "id": "5f124460",
   "metadata": {
    "colab": {
     "base_uri": "https://localhost:8080/"
    },
    "id": "5f124460",
    "outputId": "6d2d99bc-0997-4a8a-e033-069352dd1d13"
   },
   "outputs": [
    {
     "data": {
      "text/plain": [
       "39205.580882680304"
      ]
     },
     "execution_count": 36,
     "metadata": {},
     "output_type": "execute_result"
    }
   ],
   "source": [
    "(mean_squared_error(y_test,pred))**.5"
   ]
  },
  {
   "cell_type": "code",
   "execution_count": 37,
   "id": "bd02ceb4",
   "metadata": {
    "colab": {
     "base_uri": "https://localhost:8080/"
    },
    "id": "bd02ceb4",
    "outputId": "70412734-122d-423d-e656-aae8202ca637"
   },
   "outputs": [
    {
     "data": {
      "text/plain": [
       "0.9545345626146108"
      ]
     },
     "execution_count": 37,
     "metadata": {},
     "output_type": "execute_result"
    }
   ],
   "source": [
    "r2_score(y_test,pred)"
   ]
  }
 ],
 "metadata": {
  "accelerator": "GPU",
  "colab": {
   "machine_shape": "hm",
   "provenance": []
  },
  "gpuClass": "premium",
  "kernelspec": {
   "display_name": "Python 3 (ipykernel)",
   "language": "python",
   "name": "python3"
  },
  "language_info": {
   "codemirror_mode": {
    "name": "ipython",
    "version": 3
   },
   "file_extension": ".py",
   "mimetype": "text/x-python",
   "name": "python",
   "nbconvert_exporter": "python",
   "pygments_lexer": "ipython3",
   "version": "3.9.12"
  }
 },
 "nbformat": 4,
 "nbformat_minor": 5
}
